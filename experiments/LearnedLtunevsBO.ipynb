{
 "cells": [
  {
   "cell_type": "code",
   "execution_count": 1,
   "id": "453e6e1d-2184-421a-875b-f7e72747c3cb",
   "metadata": {},
   "outputs": [],
   "source": [
    "from copy import deepcopy\n",
    "import os\n",
    "import pathlib\n",
    "import sys\n",
    "from typing import Any, Optional, Tuple, Type"
   ]
  },
  {
   "cell_type": "code",
   "execution_count": 2,
   "id": "8e991f3c-9413-4104-98b6-84bf06a65065",
   "metadata": {},
   "outputs": [],
   "source": [
    "import torch"
   ]
  },
  {
   "cell_type": "code",
   "execution_count": 3,
   "id": "28ae0634-93d6-4dcb-b4f2-365e4b2e4acc",
   "metadata": {},
   "outputs": [],
   "source": [
    "sys.path.append(os.path.join(sys.path[0], '../../../'))\n",
    "\n",
    "from endure.data.io import Reader\n",
    "from endure.lsm.cost import EndureCost\n",
    "from endure.lsm.solver import QLSMSolver, ClassicSolver\n",
    "from endure.lsm.types import Policy, System, LSMDesign, STR_POLICY_DICT, LSMBounds, Workload\n",
    "from endure.ltune.util import LTuneEvalUtil\n",
    "from endure.ltune.model import LTuneModelBuilder\n",
    "from jobs.bayesian_pipeline import BayesianPipeline"
   ]
  },
  {
   "cell_type": "code",
   "execution_count": 4,
   "id": "6d0f6aef-58fc-4691-82b9-d287c62c62a4",
   "metadata": {},
   "outputs": [],
   "source": [
    "path = '/bo_data/models/ltune/qlsm/'\n",
    "config = Reader.read_config(os.path.join(path, 'endure.toml'))"
   ]
  },
  {
   "cell_type": "code",
   "execution_count": 5,
   "id": "ae0d6820-0c72-49db-a50c-e673186b42de",
   "metadata": {},
   "outputs": [],
   "source": [
    "hidden_length = config[\"ltune\"][\"model\"][\"hidden_length\"]\n",
    "hidden_width = config[\"ltune\"][\"model\"][\"hidden_width\"]\n",
    "norm_layer: str = config[\"ltune\"][\"model\"][\"norm_layer\"]\n",
    "dropout: float = config[\"ltune\"][\"model\"][\"dropout\"]\n",
    "categorical_mode: str = config[\"ltune\"][\"model\"][\"categorical_mode\"]\n",
    "bounds = LSMBounds()\n",
    "size_ratio_range: Tuple[int, int] = (bounds.size_ratio_range[0], bounds.size_ratio_range[1])\n",
    "max_levels: int = bounds.max_considered_levels\n",
    "\n",
    "design_type = config['lsm']['design']\n",
    "policy = STR_POLICY_DICT.get(design_type, Policy.Classic)"
   ]
  },
  {
   "cell_type": "code",
   "execution_count": 6,
   "id": "995d98c2-f07e-45ed-bbb7-d64e2e7b5652",
   "metadata": {},
   "outputs": [],
   "source": [
    "model = LTuneModelBuilder(hidden_length, hidden_width, norm_layer, dropout, categorical_mode, size_ratio_range, max_levels).build_model(policy)\n",
    "cf = EndureCost(max_levels)"
   ]
  },
  {
   "cell_type": "code",
   "execution_count": 7,
   "id": "9fcc8abc-0367-4113-91ea-09571bebc1cf",
   "metadata": {},
   "outputs": [
    {
     "data": {
      "text/plain": [
       "'/bo_data'"
      ]
     },
     "execution_count": 7,
     "metadata": {},
     "output_type": "execute_result"
    }
   ],
   "source": [
    "config[\"io\"][\"data_dir\"]"
   ]
  },
  {
   "cell_type": "code",
   "execution_count": 8,
   "id": "9da5d504-f0c4-4dec-a147-660d69464718",
   "metadata": {},
   "outputs": [
    {
     "data": {
      "text/plain": [
       "'QFixed'"
      ]
     },
     "execution_count": 8,
     "metadata": {},
     "output_type": "execute_result"
    }
   ],
   "source": [
    "design_type"
   ]
  },
  {
   "cell_type": "code",
   "execution_count": 9,
   "id": "36a99207-7f2b-4c76-830d-cc5a09ee59cf",
   "metadata": {},
   "outputs": [
    {
     "name": "stderr",
     "output_type": "stream",
     "text": [
      "/home/anwesha/endurance/venv_endurance/lib/python3.10/site-packages/torch/cuda/__init__.py:611: UserWarning: Can't initialize NVML\n",
      "  warnings.warn(\"Can't initialize NVML\")\n"
     ]
    }
   ],
   "source": [
    "ltune_util = LTuneEvalUtil(config, model, design_type)"
   ]
  },
  {
   "cell_type": "code",
   "execution_count": 10,
   "id": "a7105d21-bb3b-46c8-9d4e-d2a34a24b44d",
   "metadata": {},
   "outputs": [],
   "source": [
    "bayesian_optimizer = BayesianPipeline(config)"
   ]
  },
  {
   "cell_type": "code",
   "execution_count": 11,
   "id": "22d56e2c-342d-4bde-a985-0be7a7d26cc9",
   "metadata": {},
   "outputs": [],
   "source": [
    "# z0, z1, q, w = workload = ltune_util.gen._sample_workload(4)\n",
    "# system = ltune_util.gen._sample_system()\n",
    "# model.eval()\n",
    "# with torch.no_grad():\n",
    "#     out = ltune_util.get_ltune_out(system, z0, z1, q, w)\n",
    "# ldesign = ltune_util.convert_ltune_output(out)\n",
    "# lcost = cf.calc_cost(ldesign, system, z0, z1, q, w)"
   ]
  },
  {
   "cell_type": "code",
   "execution_count": 12,
   "id": "6c489be4-70ce-41b5-998c-e70f25907288",
   "metadata": {},
   "outputs": [],
   "source": [
    "# wl = Workload(z0=z0, z1=z1, q=q, w=w)\n",
    "# bo_design, bo_cost = bayesian_optimizer.run(system, wl)"
   ]
  },
  {
   "cell_type": "code",
   "execution_count": 17,
   "id": "105e34fe-9e35-4869-9f38-da0df28195e0",
   "metadata": {},
   "outputs": [],
   "source": [
    "import sqlite3\n",
    "import numpy as np\n",
    "import pandas as pd\n",
    "import struct\n",
    "\n",
    "import matplotlib.pyplot as plt\n"
   ]
  },
  {
   "cell_type": "code",
   "execution_count": 18,
   "id": "4f0ec594-2c26-4b52-865c-bea3750f36fc",
   "metadata": {},
   "outputs": [
    {
     "name": "stdout",
     "output_type": "stream",
     "text": [
      "\u001b[0m\u001b[01;34mclassic_databases\u001b[0m/           \u001b[01;32mendure.py\u001b[0m*          \u001b[01;34mq_ei100_200_databases\u001b[0m/\n",
      "\u001b[01;34mclassic_ei100200_databases\u001b[0m/  endure.toml         README.md\n",
      "\u001b[01;34mclassic_ei3050_databases\u001b[0m/    \u001b[01;34mexperiments\u001b[0m/        requirements_botorch.txt\n",
      "\u001b[01;34mclassic_qei2_3_databases\u001b[0m/    \u001b[01;34mjobs\u001b[0m/               requirements.txt\n",
      "\u001b[01;34mclassic_ucb_databases\u001b[0m/       \u001b[01;34mk_ei2_3_databases\u001b[0m/  \u001b[01;34mtest\u001b[0m/\n",
      "design_comparison.csv        LICENSE             \u001b[01;34mvenv_endurance\u001b[0m/\n",
      "docker-compose.yaml          \u001b[01;34mnotebook\u001b[0m/           yz_db_cost.db\n",
      "Dockerfile                   pytest.ini          \u001b[01;34myz_ei100_200_databases\u001b[0m/\n",
      "\u001b[01;34mendure\u001b[0m/                      q_db_cost.db\n"
     ]
    }
   ],
   "source": [
    "ls ../../../"
   ]
  },
  {
   "cell_type": "code",
   "execution_count": 19,
   "id": "9f2008c2-ef88-4248-80b8-0cb5fb7cfddd",
   "metadata": {},
   "outputs": [
    {
     "name": "stdout",
     "output_type": "stream",
     "text": [
      "System System(E=4096, s=2.1864852302417837e-08, B=8, N=982110623, H=18.454121875195042, phi=1.0)\n",
      "System System(E=8192, s=3.129591995063093e-08, B=16, N=137778360, H=18.7619618222079, phi=1.0)\n",
      "System System(E=2048, s=5.7386101145729965e-08, B=16, N=371854875, H=10.207221365992499, phi=1.0)\n",
      "System System(E=2048, s=9.206079568824968e-09, B=32, N=745908013, H=16.801338765410613, phi=1.0)\n",
      "System System(E=2048, s=5.147972454937298e-08, B=32, N=470724338, H=8.951967256298175, phi=1.0)\n",
      "System System(E=8192, s=8.403125266084339e-09, B=4, N=700857393, H=17.352213432315658, phi=1.0)\n",
      "System System(E=8192, s=4.902335793852868e-09, B=16, N=472977082, H=8.266894926131423, phi=1.0)\n",
      "System System(E=1024, s=8.74426500477801e-08, B=32, N=249342051, H=12.800724305384376, phi=1.0)\n",
      "System System(E=2048, s=1.9159719297896704e-08, B=64, N=835689234, H=8.170262134453614, phi=1.0)\n",
      "System System(E=2048, s=3.073832417108356e-08, B=32, N=168717852, H=14.234022361738155, phi=1.0)\n",
      "System System(E=2048, s=9.435633842983523e-08, B=16, N=546090239, H=14.048305990644824, phi=1.0)\n",
      "System System(E=1024, s=3.0873952591044477e-08, B=32, N=705049234, H=17.333442671801436, phi=1.0)\n",
      "System System(E=8192, s=1.8619644382729504e-08, B=8, N=246029721, H=5.535641651185475, phi=1.0)\n",
      "System System(E=2048, s=6.80495697509491e-08, B=32, N=619808059, H=18.451157118181182, phi=1.0)\n",
      "System System(E=2048, s=1.1192418239733584e-08, B=64, N=375749259, H=8.549445393107515, phi=1.0)\n",
      "System System(E=2048, s=1.5329822281007239e-09, B=32, N=136678695, H=16.921413321041015, phi=1.0)\n",
      "System System(E=8192, s=1.892222766929439e-08, B=16, N=761970270, H=19.566097911761943, phi=1.0)\n",
      "System System(E=8192, s=7.511711553520224e-08, B=4, N=780597825, H=10.920186552606229, phi=1.0)\n",
      "System System(E=2048, s=4.075462661871799e-08, B=32, N=831589307, H=15.41268805485439, phi=1.0)\n",
      "System System(E=8192, s=5.953461279755639e-08, B=8, N=616753104, H=14.418236253051909, phi=1.0)\n",
      "System System(E=4096, s=3.4371761065763696e-08, B=8, N=753682214, H=16.766574418901627, phi=1.0)\n",
      "System System(E=1024, s=5.797394400539187e-08, B=128, N=278044258, H=16.429349309664115, phi=1.0)\n",
      "System System(E=2048, s=3.464466046778689e-08, B=64, N=598025362, H=10.436412253889241, phi=1.0)\n",
      "System System(E=2048, s=6.107685360696992e-08, B=64, N=939874513, H=13.516925853506805, phi=1.0)\n",
      "System System(E=8192, s=2.755846216494959e-08, B=4, N=485243895, H=5.796383161215506, phi=1.0)\n",
      "System System(E=4096, s=6.692298086030076e-08, B=16, N=837623424, H=15.524384776666286, phi=1.0)\n",
      "System System(E=1024, s=3.6405852564845755e-08, B=32, N=419232800, H=16.12536771783015, phi=1.0)\n",
      "System System(E=2048, s=1.1306161362496178e-08, B=32, N=711320204, H=15.011798522136637, phi=1.0)\n",
      "System System(E=2048, s=4.713257883167488e-08, B=32, N=441101584, H=19.233664924944406, phi=1.0)\n",
      "System System(E=4096, s=1.9324962973655893e-08, B=16, N=908964501, H=9.357409926143015, phi=1.0)\n",
      "System System(E=1024, s=7.397034693293293e-08, B=32, N=610257172, H=5.741756661972345, phi=1.0)\n",
      "System System(E=1024, s=8.697050151779204e-08, B=64, N=456115047, H=16.564341813272364, phi=1.0)\n",
      "System System(E=4096, s=3.20794184253026e-08, B=16, N=136487906, H=10.00344977843912, phi=1.0)\n",
      "System System(E=8192, s=9.682107033956723e-08, B=4, N=646457702, H=6.947433326833735, phi=1.0)\n",
      "System System(E=1024, s=9.885025719223856e-08, B=32, N=132647590, H=8.974503738274674, phi=1.0)\n",
      "System System(E=2048, s=3.047919054422762e-08, B=16, N=787782746, H=5.581655113631187, phi=1.0)\n",
      "System System(E=2048, s=7.452340567122361e-08, B=32, N=744594819, H=6.665323183168558, phi=1.0)\n",
      "System System(E=2048, s=9.402465897777914e-08, B=32, N=668860480, H=8.440874092810224, phi=1.0)\n",
      "System System(E=4096, s=2.3068477306007356e-08, B=32, N=107147723, H=14.265017484164744, phi=1.0)\n",
      "System System(E=4096, s=1.4649471569572723e-08, B=8, N=555640190, H=15.006935387767944, phi=1.0)\n",
      "System System(E=1024, s=7.102255569926923e-08, B=64, N=781004963, H=18.3934162139182, phi=1.0)\n",
      "System System(E=1024, s=4.332318135141936e-08, B=64, N=127556564, H=18.000389001116687, phi=1.0)\n",
      "System System(E=8192, s=7.4011547606256e-08, B=16, N=337626810, H=9.065757176040666, phi=1.0)\n",
      "System System(E=1024, s=3.9206172310100485e-08, B=64, N=483889287, H=8.817092515121049, phi=1.0)\n",
      "System System(E=2048, s=7.981559266176837e-08, B=64, N=844794794, H=6.174410864258541, phi=1.0)\n",
      "System System(E=2048, s=5.174885973547271e-08, B=16, N=499204259, H=15.496824909184257, phi=1.0)\n",
      "System System(E=8192, s=2.6574125096292784e-08, B=8, N=985415540, H=19.85880129955875, phi=1.0)\n",
      "System System(E=2048, s=1.2797991346234604e-08, B=32, N=691207372, H=8.58077596706664, phi=1.0)\n",
      "System System(E=2048, s=6.829300367196683e-08, B=64, N=723780526, H=10.646846655827598, phi=1.0)\n",
      "System System(E=1024, s=9.216335010317441e-08, B=128, N=399532470, H=18.25991066178445, phi=1.0)\n",
      "System System(E=4096, s=8.9145138317374e-08, B=32, N=812387939, H=17.385596238328347, phi=1.0)\n",
      "System System(E=8192, s=3.587256273118832e-09, B=8, N=864088296, H=10.093818825391697, phi=1.0)\n",
      "System System(E=2048, s=9.203542593107643e-08, B=32, N=145615143, H=17.162851988566246, phi=1.0)\n",
      "System System(E=8192, s=9.165569380580854e-08, B=4, N=238949613, H=11.961519126538953, phi=1.0)\n",
      "System System(E=1024, s=7.738932423261085e-08, B=128, N=831123597, H=18.420630520147196, phi=1.0)\n",
      "System System(E=1024, s=3.968720027505549e-08, B=32, N=648674579, H=14.321613288603587, phi=1.0)\n",
      "System System(E=4096, s=4.238771389603078e-08, B=16, N=684844155, H=9.0150128744756, phi=1.0)\n",
      "System System(E=8192, s=8.431909121734023e-08, B=16, N=533830426, H=15.03553143089411, phi=1.0)\n",
      "System System(E=1024, s=4.710228232819717e-08, B=64, N=261487666, H=8.342472334981998, phi=1.0)\n",
      "System System(E=8192, s=4.711919459692993e-09, B=8, N=749540271, H=9.465708854341747, phi=1.0)\n",
      "System System(E=8192, s=8.71324060094394e-09, B=4, N=415349171, H=15.953365445062824, phi=1.0)\n",
      "System System(E=1024, s=5.0704401555517784e-08, B=128, N=260797815, H=15.090636986976035, phi=1.0)\n",
      "System System(E=8192, s=4.593171838931078e-08, B=4, N=635835952, H=18.017914097460537, phi=1.0)\n",
      "System System(E=1024, s=7.574586038024674e-08, B=64, N=744317457, H=10.345354324900402, phi=1.0)\n",
      "System System(E=4096, s=9.470911053721289e-08, B=8, N=314897899, H=10.955814669006655, phi=1.0)\n",
      "System System(E=2048, s=1.6160974562130404e-08, B=16, N=939404002, H=9.414604417035997, phi=1.0)\n",
      "System System(E=2048, s=8.465865336441212e-08, B=64, N=296970723, H=19.920665363970897, phi=1.0)\n",
      "System System(E=4096, s=3.160899930020347e-08, B=16, N=567855392, H=5.754513571587767, phi=1.0)\n",
      "System System(E=8192, s=3.7891664530818586e-08, B=16, N=395315272, H=12.669359315729334, phi=1.0)\n",
      "System System(E=2048, s=9.374306252979639e-08, B=16, N=477041328, H=9.461074749074555, phi=1.0)\n",
      "System System(E=1024, s=5.40886701518857e-08, B=128, N=279905668, H=8.920267201821783, phi=1.0)\n",
      "System System(E=4096, s=6.088630603541186e-08, B=16, N=418185318, H=14.315686650649745, phi=1.0)\n",
      "System System(E=1024, s=6.172160525324329e-08, B=128, N=802018558, H=19.637368632067275, phi=1.0)\n",
      "System System(E=8192, s=3.104462882589885e-08, B=16, N=362326688, H=5.083153011261665, phi=1.0)\n",
      "System System(E=1024, s=9.328316084424158e-08, B=32, N=396990413, H=12.123021859564938, phi=1.0)\n",
      "System System(E=8192, s=3.048439175522101e-08, B=4, N=543771565, H=12.897441745328967, phi=1.0)\n",
      "System System(E=4096, s=2.317277990146213e-08, B=32, N=168666421, H=17.99929518850979, phi=1.0)\n",
      "System System(E=8192, s=8.57707866657896e-08, B=16, N=463652736, H=19.909679049880985, phi=1.0)\n",
      "System System(E=4096, s=7.627008328380013e-08, B=8, N=683432093, H=9.196374883506063, phi=1.0)\n",
      "System System(E=1024, s=2.3810157258705104e-09, B=32, N=283173259, H=14.337876626961766, phi=1.0)\n",
      "System System(E=8192, s=3.235359257739957e-09, B=16, N=846066883, H=13.496811751599717, phi=1.0)\n",
      "System System(E=4096, s=1.9019156761693177e-08, B=8, N=187065620, H=6.822722329101493, phi=1.0)\n",
      "System System(E=2048, s=8.603148017778038e-08, B=16, N=147571778, H=19.01892696554126, phi=1.0)\n",
      "System System(E=1024, s=9.513076468128394e-08, B=64, N=317430529, H=12.318692982510983, phi=1.0)\n",
      "System System(E=8192, s=3.275145376209945e-08, B=16, N=727218546, H=15.322403717022599, phi=1.0)\n",
      "System System(E=4096, s=4.019235006157512e-08, B=8, N=897595168, H=19.904633887284156, phi=1.0)\n",
      "System System(E=4096, s=7.261928812235457e-08, B=16, N=491085250, H=10.300575612679879, phi=1.0)\n",
      "System System(E=8192, s=7.026959807186712e-08, B=8, N=653446225, H=7.756147700050278, phi=1.0)\n",
      "System System(E=8192, s=2.6966178569651536e-08, B=4, N=869753310, H=9.583819469788578, phi=1.0)\n",
      "System System(E=2048, s=6.902175050796297e-08, B=64, N=387083538, H=19.46166173929553, phi=1.0)\n",
      "System System(E=2048, s=4.651548383592178e-08, B=64, N=341220416, H=14.0151363283149, phi=1.0)\n",
      "System System(E=1024, s=1.4141574326815379e-08, B=128, N=918878618, H=15.343395083052375, phi=1.0)\n",
      "System System(E=1024, s=7.66839501973143e-08, B=128, N=881903886, H=8.564323849312082, phi=1.0)\n",
      "System System(E=1024, s=3.822356294641385e-08, B=128, N=563620111, H=8.423161982631154, phi=1.0)\n",
      "System System(E=1024, s=2.1107850284290983e-09, B=32, N=372692546, H=13.124180634027068, phi=1.0)\n",
      "System System(E=8192, s=3.935350611463693e-08, B=4, N=732730066, H=7.972470126819541, phi=1.0)\n",
      "System System(E=2048, s=1.8065524339663605e-08, B=64, N=383059532, H=15.950150464591893, phi=1.0)\n",
      "System System(E=4096, s=8.881454888092719e-08, B=16, N=958711721, H=19.058172347104055, phi=1.0)\n",
      "System System(E=8192, s=2.6796459578330903e-08, B=8, N=906104335, H=9.413286278643831, phi=1.0)\n",
      "System System(E=8192, s=5.196537680222763e-08, B=4, N=574222947, H=11.050784728233868, phi=1.0)\n"
     ]
    }
   ],
   "source": [
    "con = sqlite3.connect(\"../../../classic_qei2_3_databases/classicqei23_databases/classic_qei_23db_cost.db\")\n",
    "cur = con.cursor()\n",
    "delta_costs = []\n",
    "\n",
    "\n",
    "runs = pd.read_sql_query('Select * from runs;', con)\n",
    "run_ids = runs['run_id'].tolist()\n",
    "for run_id in run_ids:\n",
    "    cur.execute(\"\"\"\n",
    "        SELECT empty_reads, non_empty_reads, range_queries, writes FROM runs WHERE run_id = ?\n",
    "        \"\"\", (run_id,))\n",
    "    row = cur.fetchone()\n",
    "    workload = Workload(*row)\n",
    "    cur.execute(\"\"\"\n",
    "        SELECT physical_entries_per_page, range_selectivity, entries_per_page, total_elements, max_bits_per_element, read_write_asymmetry FROM runs WHERE run_id = ?\n",
    "        \"\"\", (run_id,))\n",
    "    row = cur.fetchone()\n",
    "    system = System(*row)\n",
    "    binary_data = system.E\n",
    "    unpacked_data = struct.unpack('Q', binary_data)\n",
    "    system.E = unpacked_data[0]\n",
    "\n",
    "    print(\"System\", system)\n",
    "    model.eval()\n",
    "    with torch.no_grad():\n",
    "        out = ltune_util.get_ltune_out(system, workload.z0, workload.z1, workload.q, workload.w)\n",
    "    ldesign = ltune_util.convert_ltune_output(out)\n",
    "    lcost = cf.calc_cost(ldesign, system, workload.z0, workload.z1, workload.q, workload.w)\n",
    "    cur.execute(\"\"\"\n",
    "        SELECT bayesian_cost FROM run_details WHERE run_id = ?\n",
    "        \"\"\", (run_id,))\n",
    "    bo_cost = cur.fetchone()\n",
    "    delta_cost = (lcost - bo_cost[0]) / bo_cost[0] if bo_cost != 0 else 0\n",
    "    delta_costs.append(delta_cost)\n",
    "con.close()"
   ]
  },
  {
   "cell_type": "code",
   "execution_count": 20,
   "id": "cf6d5fe5-6819-4378-bf17-58ca69da9d7d",
   "metadata": {},
   "outputs": [
    {
     "data": {
      "image/png": "[encoded data removed]",
      "text/plain": [
       "<Figure size 640x480 with 1 Axes>"
      ]
     },
     "metadata": {},
     "output_type": "display_data"
    }
   ],
   "source": [
    "fig, ax = plt.subplots()\n",
    "data = np.array(delta_costs)\n",
    "ax.hist(data, bins=100, weights=np.ones_like(data) / len(data), alpha=0.75, density=True, color='tab:blue')\n",
    "ax.set_ylabel('Probability Density')\n",
    "ax.set_xlabel('Normalized Delta Performance $(C(d_{ltune}) - C(d_{bo})) / C(d_{bo})$')\n",
    "ax.set_title('Performance Comparison - Normalized Cost Difference')\n",
    "ax.axvline(x=0, color='black', linewidth=1)\n",
    "plt.show()"
   ]
  },
  {
   "cell_type": "code",
   "execution_count": null,
   "id": "421cff2d-a4de-4193-bce1-751db9e2390c",
   "metadata": {},
   "outputs": [],
   "source": []
  }
 ],
 "metadata": {
  "kernelspec": {
   "display_name": "Python 3 (ipykernel)",
   "language": "python",
   "name": "python3"
  },
  "language_info": {
   "codemirror_mode": {
    "name": "ipython",
    "version": 3
   },
   "file_extension": ".py",
   "mimetype": "text/x-python",
   "name": "python",
   "nbconvert_exporter": "python",
   "pygments_lexer": "ipython3",
   "version": "3.10.12"
  }
 },
 "nbformat": 4,
 "nbformat_minor": 5
}
