{
 "cells": [
  {
   "cell_type": "code",
   "execution_count": 13,
   "id": "c56d15d1-882d-4952-97ba-8f35c86003fa",
   "metadata": {},
   "outputs": [],
   "source": [
    "import os\n",
    "import sys\n",
    "\n",
    "import numpy as np\n",
    "import pandas as pd\n",
    "import polars as pl\n",
    "import sqlite3\n",
    "import torch"
   ]
  },
  {
   "cell_type": "code",
   "execution_count": 22,
   "id": "ce560945-128e-403e-bba3-66f31f210285",
   "metadata": {},
   "outputs": [],
   "source": [
    "sys.path.append('../..')\n",
    "\n",
    "from endure.data.io import Reader\n",
    "from endure.lsm.cost import EndureCost\n",
    "from endure.lsm.types import Policy, System, LSMDesign, LSMBounds, Workload\n",
    "from endure.lsm.solver import ClassicSolver, KLSMSolver"
   ]
  },
  {
   "cell_type": "markdown",
   "id": "067c79a2-cac8-4cca-92cb-776b1d546ca0",
   "metadata": {},
   "source": [
    "Settings to force LaTeX style font within matplotlib plots"
   ]
  },
  {
   "cell_type": "code",
   "execution_count": 29,
   "id": "95085620-ab07-414e-a950-6f93135a52a7",
   "metadata": {},
   "outputs": [],
   "source": [
    "config = Reader.read_config('../../endure.toml')\n",
    "bounds = LSMBounds(**config[\"lsm\"][\"bounds\"])\n",
    "bounds.size_ratio_range = [2, 21]\n",
    "cf = EndureCost(max_levels=bounds.max_considered_levels)\n",
    "solver = ClassicSolver(bounds)\n",
    "ksolver = KLSMSolver(bounds)"
   ]
  },
  {
   "cell_type": "code",
   "execution_count": 30,
   "id": "e2144c34-4592-4ab4-a6c7-1a08e1fe1958",
   "metadata": {},
   "outputs": [],
   "source": [
    "WL_COLUMNS = ['empty_reads', 'non_empty_reads', 'range_queries', 'writes']\n",
    "SYS_COLUMNS = ['entry_size', 'selectivity', 'entries_per_page', 'num_elmement', 'bits_per_elem_max', 'read_write_asym']"
   ]
  },
  {
   "cell_type": "code",
   "execution_count": 31,
   "id": "45dafb7d-0591-4089-95d5-3a0a189685c1",
   "metadata": {},
   "outputs": [],
   "source": [
    "connection = sqlite3.connect(\"../../axe_data.db\")\n",
    "env_table = pl.read_database(\"SELECT * FROM environments;\", connection)\n",
    "run_table = pl.read_database(\"SELECT * FROM tunings;\", connection)"
   ]
  },
  {
   "cell_type": "code",
   "execution_count": 32,
   "id": "aad8377d-e3fe-47cc-8791-8417b23eb0c8",
   "metadata": {},
   "outputs": [],
   "source": [
    "cursor = connection.cursor()\n",
    "cursor.execute(\"DROP TABLE IF EXISTS monkey_tunings;\")\n",
    "cursor.close()\n",
    "connection.commit()"
   ]
  },
  {
   "cell_type": "markdown",
   "id": "aa685658-7501-4495-b92d-f6c62b49d9cc",
   "metadata": {},
   "source": [
    "Create the monkey tunings table, this will hold tunings and their associated cost"
   ]
  },
  {
   "cell_type": "code",
   "execution_count": 33,
   "id": "1e41c469-1add-43ee-806c-c11cf6932a9a",
   "metadata": {},
   "outputs": [],
   "source": [
    "cursor = connection.cursor()\n",
    "cursor.execute(\n",
    "    \"\"\"\n",
    "    CREATE TABLE IF NOT EXISTS monkey_tunings (\n",
    "        env_id INTEGER PRIMARY KEY AUTOINCREMENT,\n",
    "        bits_per_elem REAL,\n",
    "        size_ratio REAL,\n",
    "        is_leveling INTEGER,\n",
    "        cost REAL,\n",
    "        kcost REAL,\n",
    "        FOREIGN KEY (env_id) REFERENCES workloads(env_id)\n",
    "    );\n",
    "    \"\"\"\n",
    ")\n",
    "cursor.close()\n",
    "connection.commit()"
   ]
  },
  {
   "cell_type": "markdown",
   "id": "96b60c1e-dcb6-4395-b663-912e039a06d2",
   "metadata": {},
   "source": [
    "Finding all of the tunings, here we limit everything to be leveling or tiering"
   ]
  },
  {
   "cell_type": "code",
   "execution_count": 35,
   "id": "bba8657d-56c3-4d56-969c-341ff57028b4",
   "metadata": {},
   "outputs": [],
   "source": [
    "cursor = connection.cursor()\n",
    "environment_ids = cursor.execute(\"SELECT env_id FROM environments\").fetchall()\n",
    "for (env_id,) in environment_ids:\n",
    "    env = env_table.filter(pl.col('env_id') == env_id)\n",
    "    data = run_table.filter(pl.col('env_id') == env_id)\n",
    "    wl = Workload(*env[WL_COLUMNS].rows()[0])\n",
    "    system = System(*env[SYS_COLUMNS].rows()[0])\n",
    "    design, _ = solver.get_nominal_design(system, wl.z0, wl.z1, wl.q, wl.w)\n",
    "    design.T = np.around(design.T)\n",
    "    kdesign, _ = ksolver.get_nominal_design(system, wl.z0, wl.z1, wl.q, wl.w)\n",
    "    cost = cf.calc_cost(design, system, wl.z0, wl.z1, wl.q, wl.w)\n",
    "    kcost = cf.calc_cost(kdesign, system, wl.z0, wl.z1, wl.q, wl.w)\n",
    "    cursor.execute(\n",
    "        \"\"\"\n",
    "        INSERT OR REPLACE INTO monkey_tunings (\n",
    "            env_id,\n",
    "            bits_per_elem,\n",
    "            size_ratio,\n",
    "            is_leveling,\n",
    "            cost,\n",
    "            kcost)\n",
    "        VALUES (?, ?, ?, ?, ?, ?)\n",
    "        \"\"\",\n",
    "        (env_id, design.h, design.T, 1 if design.policy == Policy.Leveling else 0, cost, kcost)\n",
    "    )\n",
    "cursor.close()\n",
    "connection.commit()"
   ]
  },
  {
   "cell_type": "code",
   "execution_count": 36,
   "id": "7bc9cca2-d3dd-4088-9c93-3a3692be3936",
   "metadata": {},
   "outputs": [
    {
     "data": {
      "text/html": [
       "<div><style>\n",
       ".dataframe > thead > tr,\n",
       ".dataframe > tbody > tr {\n",
       "  text-align: right;\n",
       "  white-space: pre-wrap;\n",
       "}\n",
       "</style>\n",
       "<small>shape: (15, 6)</small><table border=\"1\" class=\"dataframe\"><thead><tr><th>env_id</th><th>bits_per_elem</th><th>size_ratio</th><th>is_leveling</th><th>cost</th><th>kcost</th></tr><tr><td>i64</td><td>f64</td><td>f64</td><td>i64</td><td>f64</td><td>f64</td></tr></thead><tbody><tr><td>1</td><td>3.211367</td><td>6.0</td><td>1</td><td>27.830134</td><td>27.820038</td></tr><tr><td>2</td><td>8.778876</td><td>6.0</td><td>1</td><td>1.157511</td><td>1.155549</td></tr><tr><td>3</td><td>6.72313</td><td>7.0</td><td>1</td><td>2.08895</td><td>2.08806</td></tr><tr><td>4</td><td>1.0</td><td>20.0</td><td>1</td><td>99.338312</td><td>99.338312</td></tr><tr><td>5</td><td>3.311264</td><td>20.0</td><td>0</td><td>2.682739</td><td>2.672113</td></tr><tr><td>&hellip;</td><td>&hellip;</td><td>&hellip;</td><td>&hellip;</td><td>&hellip;</td><td>&hellip;</td></tr><tr><td>11</td><td>1.0</td><td>6.0</td><td>1</td><td>53.681294</td><td>53.653926</td></tr><tr><td>12</td><td>4.526605</td><td>20.0</td><td>1</td><td>34.305867</td><td>34.305867</td></tr><tr><td>13</td><td>8.006566</td><td>9.0</td><td>0</td><td>2.378837</td><td>2.250784</td></tr><tr><td>14</td><td>3.005914</td><td>6.0</td><td>1</td><td>36.39797</td><td>36.383841</td></tr><tr><td>15</td><td>1.0</td><td>6.0</td><td>1</td><td>36.528259</td><td>36.516669</td></tr></tbody></table></div>"
      ],
      "text/plain": [
       "shape: (15, 6)\n",
       "┌────────┬───────────────┬────────────┬─────────────┬───────────┬───────────┐\n",
       "│ env_id ┆ bits_per_elem ┆ size_ratio ┆ is_leveling ┆ cost      ┆ kcost     │\n",
       "│ ---    ┆ ---           ┆ ---        ┆ ---         ┆ ---       ┆ ---       │\n",
       "│ i64    ┆ f64           ┆ f64        ┆ i64         ┆ f64       ┆ f64       │\n",
       "╞════════╪═══════════════╪════════════╪═════════════╪═══════════╪═══════════╡\n",
       "│ 1      ┆ 3.211367      ┆ 6.0        ┆ 1           ┆ 27.830134 ┆ 27.820038 │\n",
       "│ 2      ┆ 8.778876      ┆ 6.0        ┆ 1           ┆ 1.157511  ┆ 1.155549  │\n",
       "│ 3      ┆ 6.72313       ┆ 7.0        ┆ 1           ┆ 2.08895   ┆ 2.08806   │\n",
       "│ 4      ┆ 1.0           ┆ 20.0       ┆ 1           ┆ 99.338312 ┆ 99.338312 │\n",
       "│ 5      ┆ 3.311264      ┆ 20.0       ┆ 0           ┆ 2.682739  ┆ 2.672113  │\n",
       "│ …      ┆ …             ┆ …          ┆ …           ┆ …         ┆ …         │\n",
       "│ 11     ┆ 1.0           ┆ 6.0        ┆ 1           ┆ 53.681294 ┆ 53.653926 │\n",
       "│ 12     ┆ 4.526605      ┆ 20.0       ┆ 1           ┆ 34.305867 ┆ 34.305867 │\n",
       "│ 13     ┆ 8.006566      ┆ 9.0        ┆ 0           ┆ 2.378837  ┆ 2.250784  │\n",
       "│ 14     ┆ 3.005914      ┆ 6.0        ┆ 1           ┆ 36.39797  ┆ 36.383841 │\n",
       "│ 15     ┆ 1.0           ┆ 6.0        ┆ 1           ┆ 36.528259 ┆ 36.516669 │\n",
       "└────────┴───────────────┴────────────┴─────────────┴───────────┴───────────┘"
      ]
     },
     "execution_count": 36,
     "metadata": {},
     "output_type": "execute_result"
    }
   ],
   "source": [
    "monkey_table = pl.read_database(\"SELECT * FROM monkey_tunings;\", connection)\n",
    "monkey_table"
   ]
  },
  {
   "cell_type": "code",
   "execution_count": 21,
   "id": "4964d6f9-4837-430c-b323-08f91d7c4333",
   "metadata": {},
   "outputs": [],
   "source": [
    "# connection.close()"
   ]
  },
  {
   "cell_type": "code",
   "execution_count": null,
   "id": "c849ce2b-608a-474f-9a4c-fbbaf935c927",
   "metadata": {},
   "outputs": [],
   "source": []
  }
 ],
 "metadata": {
  "kernelspec": {
   "display_name": "Python 3 (ipykernel)",
   "language": "python",
   "name": "python3"
  },
  "language_info": {
   "codemirror_mode": {
    "name": "ipython",
    "version": 3
   },
   "file_extension": ".py",
   "mimetype": "text/x-python",
   "name": "python",
   "nbconvert_exporter": "python",
   "pygments_lexer": "ipython3",
   "version": "3.12.7"
  }
 },
 "nbformat": 4,
 "nbformat_minor": 5
}
