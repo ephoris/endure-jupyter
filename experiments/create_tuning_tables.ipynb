{
 "cells": [
  {
   "cell_type": "code",
   "execution_count": 1,
   "id": "d59cd23b-102b-45da-856f-ce0bc4529745",
   "metadata": {},
   "outputs": [],
   "source": [
    "import os\n",
    "import sys\n",
    "\n",
    "from ipywidgets import interactive, IntSlider\n",
    "from matplotlib.gridspec import GridSpec\n",
    "from matplotlib.ticker import PercentFormatter\n",
    "import matplotlib.pyplot as plt\n",
    "import seaborn as sns\n",
    "\n",
    "import numpy as np\n",
    "import pandas as pd\n",
    "import polars as pl\n",
    "import sqlite3\n",
    "import torch"
   ]
  },
  {
   "cell_type": "code",
   "execution_count": 2,
   "id": "887eda4f-9baa-48cf-847d-1a1e2188b9b8",
   "metadata": {},
   "outputs": [],
   "source": [
    "sys.path.append('../..')\n",
    "\n",
    "from endure.data.io import Reader\n",
    "from endure.lsm.cost import EndureCost\n",
    "from endure.lsm.types import Policy, System, LSMDesign, LSMBounds, Workload\n",
    "from endure.ltune.util import LTuneEvalUtil\n",
    "from endure.ltune.model import LTuneModelBuilder\n",
    "from endure.lsm.solver import ClassicSolver, KLSMSolver"
   ]
  },
  {
   "cell_type": "code",
   "execution_count": 3,
   "id": "d7e8e0e1-1c8a-4fdd-8716-18a0a077b267",
   "metadata": {},
   "outputs": [],
   "source": [
    "WL_COLUMNS = ['empty_reads', 'non_empty_reads', 'range_queries', 'writes']\n",
    "SYS_COLUMNS = ['entry_size', 'selectivity', 'entries_per_page', 'num_elmement', 'bits_per_elem_max', 'read_write_asym']"
   ]
  },
  {
   "cell_type": "markdown",
   "id": "5dfaf3d6-53ad-4d1f-bdc3-b06683bad477",
   "metadata": {},
   "source": [
    "# Database Connection"
   ]
  },
  {
   "cell_type": "code",
   "execution_count": 4,
   "id": "3adaa2a3-18d5-477a-b54f-d93e957d4aca",
   "metadata": {},
   "outputs": [],
   "source": [
    "connection = sqlite3.connect(\"../../axe_data.db\")\n",
    "env_table = pl.read_database(\"SELECT * FROM environments;\", connection)\n",
    "run_table = pl.read_database(\"SELECT * FROM tunings;\", connection)"
   ]
  },
  {
   "cell_type": "code",
   "execution_count": 37,
   "id": "6dc352a9-752b-4615-9a43-c1755fac4978",
   "metadata": {},
   "outputs": [
    {
     "data": {
      "text/plain": [
       "{'env_id': 1,\n",
       " 'empty_reads': 0.25,\n",
       " 'non_empty_reads': 0.25,\n",
       " 'range_queries': 0.25,\n",
       " 'writes': 0.25,\n",
       " 'entry_size': 8192,\n",
       " 'selectivity': 4e-07,\n",
       " 'entries_per_page': 4,\n",
       " 'num_elmement': 1000000000,\n",
       " 'bits_per_elem_max': 10.0,\n",
       " 'read_write_asym': 1.0}"
      ]
     },
     "execution_count": 37,
     "metadata": {},
     "output_type": "execute_result"
    }
   ],
   "source": [
    "env_table.to_dicts()[0]"
   ]
  },
  {
   "cell_type": "code",
   "execution_count": 5,
   "id": "3ccc5cf6-e3f3-4e50-a244-f502bfed4d07",
   "metadata": {},
   "outputs": [],
   "source": [
    "# env_table = env_table.with_columns(pl.lit(100000000).alias('num_elmement'))"
   ]
  },
  {
   "cell_type": "markdown",
   "id": "c53f8e55-bf35-4d93-b300-43874f6e630f",
   "metadata": {},
   "source": [
    "# Learned Tuner"
   ]
  },
  {
   "cell_type": "code",
   "execution_count": 17,
   "id": "d2e45f59-e176-4f0f-b081-84271e93ba2a",
   "metadata": {},
   "outputs": [],
   "source": [
    "path = '/scratchNVMe/ndhuynh/other_data/models/ltune/klsm_100824_1324/'\n",
    "config = Reader.read_config(os.path.join(path, 'endure.toml'))\n",
    "design_type = getattr(Policy, config[\"lsm\"][\"design\"])\n",
    "bounds = LSMBounds(**config[\"lsm\"][\"bounds\"])\n",
    "cf = EndureCost(bounds.max_considered_levels)"
   ]
  },
  {
   "cell_type": "code",
   "execution_count": 20,
   "id": "606a98c5-a0d1-416b-aaff-a71aa4dc9813",
   "metadata": {},
   "outputs": [
    {
     "data": {
      "text/plain": [
       "<All keys matched successfully>"
      ]
     },
     "execution_count": 20,
     "metadata": {},
     "output_type": "execute_result"
    }
   ],
   "source": [
    "model = LTuneModelBuilder(\n",
    "    size_ratio_range=bounds.size_ratio_range,\n",
    "    max_levels=bounds.max_considered_levels,\n",
    "    **config[\"ltune\"][\"model\"],\n",
    ").build_model(design_type)\n",
    "model_name = os.path.join(path, 'best.model')\n",
    "model_name = os.path.join(path, 'checkpoints/epoch_10.checkpoint')\n",
    "model_data = torch.load(model_name, weights_only=True)\n",
    "model_params = model_data['model_state_dict'] if model_name.endswith('checkpoint') else model_data\n",
    "status = model.load_state_dict(model_params)\n",
    "model.eval()\n",
    "status"
   ]
  },
  {
   "cell_type": "code",
   "execution_count": 21,
   "id": "5c769643-feda-4ffa-b15f-a8abffbf39fa",
   "metadata": {},
   "outputs": [],
   "source": [
    "ltune_util = LTuneEvalUtil(config, model, design_type)"
   ]
  },
  {
   "cell_type": "markdown",
   "id": "bf2d99b3-928c-4232-a254-7a661ae7e7d7",
   "metadata": {},
   "source": [
    "## Example of how to evaluate ltune"
   ]
  },
  {
   "cell_type": "code",
   "execution_count": 22,
   "id": "11ea17a9-6031-422a-8256-9262bb1b695f",
   "metadata": {
    "scrolled": true
   },
   "outputs": [],
   "source": [
    "z0, z1, q, w = workload = ltune_util.gen._sample_workload(4)\n",
    "system = ltune_util.gen._sample_system()\n",
    "out = ltune_util.get_ltune_out(system, z0, z1, q, w)\n",
    "design = ltune_util.convert_ltune_output(out)"
   ]
  },
  {
   "cell_type": "markdown",
   "id": "5154f757-175c-4bf5-a9ac-a12d70732db8",
   "metadata": {},
   "source": [
    "## Populating Learned Tuner Table"
   ]
  },
  {
   "cell_type": "code",
   "execution_count": 23,
   "id": "2d57cba4-2dd4-44e7-b1eb-f7d9da3bd545",
   "metadata": {},
   "outputs": [],
   "source": [
    "cursor = connection.cursor()\n",
    "cursor.execute(\n",
    "    \"\"\"\n",
    "    CREATE TABLE IF NOT EXISTS learned_tunings (\n",
    "        env_id INTEGER PRIMARY KEY AUTOINCREMENT,\n",
    "        bits_per_elem REAL,\n",
    "        size_ratio INTEGER,\n",
    "        kap0 REAL, kap1 REAL, kap2 REAL, kap3 REAL, kap4 REAL,\n",
    "        kap5 REAL, kap6 REAL, kap7 REAL, kap8 REAL, kap9 REAL,\n",
    "        kap10 REAL, kap11 REAL, kap12 REAL, kap13 REAL, kap14 REAL,\n",
    "        kap15 REAL, kap16 REAL, kap17 REAL, kap18 REAL, kap19 REAL,\n",
    "        cost REAL,\n",
    "        FOREIGN KEY (env_id) REFERENCES workloads(env_id)\n",
    "    );\n",
    "    \"\"\"\n",
    ")\n",
    "cursor.close()\n",
    "connection.commit()"
   ]
  },
  {
   "cell_type": "code",
   "execution_count": 24,
   "id": "b8ad58ec-6744-4d0f-bc2e-2583418f3632",
   "metadata": {},
   "outputs": [],
   "source": [
    "cursor = connection.cursor()\n",
    "environment_ids = cursor.execute(\"SELECT env_id FROM environments\").fetchall()\n",
    "for (env_id,) in environment_ids:\n",
    "    env = env_table.filter(pl.col('env_id') == env_id)\n",
    "    data = run_table.filter(pl.col('env_id') == env_id)\n",
    "    wl = Workload(*env[WL_COLUMNS].rows()[0])\n",
    "    system = System(*env[SYS_COLUMNS].rows()[0])\n",
    "    with torch.no_grad():\n",
    "        out = ltune_util.get_ltune_out(system, wl.z0, wl.z1, wl.q, wl.w, hard=True)\n",
    "    ltune_design = ltune_util.convert_ltune_output(out)\n",
    "    ltune_cost = cf.calc_cost(ltune_design, system, wl.z0, wl.z1, wl.q, wl.w)\n",
    "    cursor.execute(\n",
    "        \"\"\"\n",
    "        INSERT OR REPLACE INTO learned_tunings (\n",
    "        env_id,\n",
    "        bits_per_elem,\n",
    "        size_ratio,\n",
    "        kap0, kap1, kap2, kap3, kap4,\n",
    "        kap5, kap6, kap7, kap8, kap9,\n",
    "        kap10, kap11, kap12, kap13, kap14,\n",
    "        kap15, kap16, kap17, kap18, kap19,\n",
    "        cost\n",
    "        ) VALUES (?, ?, ?, ?, ?, ?, ?, ?, ?, ?, ?, ?, ?, ?, ?, ?, ?, ? ,? ,? ,? ,?, ?, ?)\n",
    "        \"\"\",\n",
    "        (env_id, ltune_design.h, int(ltune_design.T)) + tuple(ltune_design.K) + (ltune_cost,)\n",
    "    )\n",
    "cursor.close()\n",
    "connection.commit()"
   ]
  },
  {
   "cell_type": "code",
   "execution_count": 25,
   "id": "19774281-3316-4765-a385-a48af070fc49",
   "metadata": {
    "scrolled": true
   },
   "outputs": [
    {
     "data": {
      "text/html": [
       "<div><style>\n",
       ".dataframe > thead > tr,\n",
       ".dataframe > tbody > tr {\n",
       "  text-align: right;\n",
       "  white-space: pre-wrap;\n",
       "}\n",
       "</style>\n",
       "<small>shape: (15, 24)</small><table border=\"1\" class=\"dataframe\"><thead><tr><th>env_id</th><th>bits_per_elem</th><th>size_ratio</th><th>kap0</th><th>kap1</th><th>kap2</th><th>kap3</th><th>kap4</th><th>kap5</th><th>kap6</th><th>kap7</th><th>kap8</th><th>kap9</th><th>kap10</th><th>kap11</th><th>kap12</th><th>kap13</th><th>kap14</th><th>kap15</th><th>kap16</th><th>kap17</th><th>kap18</th><th>kap19</th><th>cost</th></tr><tr><td>i64</td><td>f64</td><td>i64</td><td>f64</td><td>f64</td><td>f64</td><td>f64</td><td>f64</td><td>f64</td><td>f64</td><td>f64</td><td>f64</td><td>f64</td><td>f64</td><td>f64</td><td>f64</td><td>f64</td><td>f64</td><td>f64</td><td>f64</td><td>f64</td><td>f64</td><td>f64</td><td>f64</td></tr></thead><tbody><tr><td>1</td><td>0.578876</td><td>10</td><td>1.0</td><td>1.0</td><td>1.0</td><td>1.0</td><td>1.0</td><td>1.0</td><td>1.0</td><td>1.0</td><td>1.0</td><td>1.0</td><td>1.0</td><td>1.0</td><td>1.0</td><td>1.0</td><td>1.0</td><td>1.0</td><td>1.0</td><td>1.0</td><td>1.0</td><td>1.0</td><td>28.118148</td></tr><tr><td>2</td><td>5.881237</td><td>10</td><td>6.0</td><td>2.0</td><td>1.0</td><td>2.0</td><td>1.0</td><td>1.0</td><td>1.0</td><td>1.0</td><td>1.0</td><td>1.0</td><td>1.0</td><td>1.0</td><td>1.0</td><td>1.0</td><td>1.0</td><td>1.0</td><td>1.0</td><td>1.0</td><td>1.0</td><td>1.0</td><td>1.313381</td></tr><tr><td>3</td><td>7.180369</td><td>10</td><td>4.0</td><td>2.0</td><td>2.0</td><td>2.0</td><td>1.0</td><td>1.0</td><td>1.0</td><td>1.0</td><td>1.0</td><td>1.0</td><td>1.0</td><td>1.0</td><td>1.0</td><td>1.0</td><td>1.0</td><td>1.0</td><td>1.0</td><td>1.0</td><td>1.0</td><td>1.0</td><td>2.128365</td></tr><tr><td>4</td><td>0.022507</td><td>30</td><td>1.0</td><td>1.0</td><td>1.0</td><td>1.0</td><td>1.0</td><td>1.0</td><td>1.0</td><td>1.0</td><td>1.0</td><td>1.0</td><td>1.0</td><td>1.0</td><td>1.0</td><td>1.0</td><td>1.0</td><td>1.0</td><td>1.0</td><td>1.0</td><td>1.0</td><td>1.0</td><td>99.084018</td></tr><tr><td>5</td><td>0.860694</td><td>11</td><td>6.0</td><td>4.0</td><td>4.0</td><td>1.0</td><td>1.0</td><td>1.0</td><td>1.0</td><td>1.0</td><td>1.0</td><td>1.0</td><td>1.0</td><td>1.0</td><td>1.0</td><td>1.0</td><td>1.0</td><td>1.0</td><td>1.0</td><td>1.0</td><td>1.0</td><td>1.0</td><td>3.399901</td></tr><tr><td>&hellip;</td><td>&hellip;</td><td>&hellip;</td><td>&hellip;</td><td>&hellip;</td><td>&hellip;</td><td>&hellip;</td><td>&hellip;</td><td>&hellip;</td><td>&hellip;</td><td>&hellip;</td><td>&hellip;</td><td>&hellip;</td><td>&hellip;</td><td>&hellip;</td><td>&hellip;</td><td>&hellip;</td><td>&hellip;</td><td>&hellip;</td><td>&hellip;</td><td>&hellip;</td><td>&hellip;</td><td>&hellip;</td><td>&hellip;</td></tr><tr><td>11</td><td>0.082107</td><td>10</td><td>1.0</td><td>1.0</td><td>1.0</td><td>1.0</td><td>1.0</td><td>1.0</td><td>1.0</td><td>1.0</td><td>1.0</td><td>1.0</td><td>1.0</td><td>1.0</td><td>1.0</td><td>1.0</td><td>1.0</td><td>1.0</td><td>1.0</td><td>1.0</td><td>1.0</td><td>1.0</td><td>54.028529</td></tr><tr><td>12</td><td>0.283133</td><td>30</td><td>1.0</td><td>1.0</td><td>1.0</td><td>1.0</td><td>1.0</td><td>1.0</td><td>1.0</td><td>1.0</td><td>1.0</td><td>1.0</td><td>1.0</td><td>1.0</td><td>1.0</td><td>1.0</td><td>1.0</td><td>1.0</td><td>1.0</td><td>1.0</td><td>1.0</td><td>1.0</td><td>34.477474</td></tr><tr><td>13</td><td>4.244865</td><td>14</td><td>6.0</td><td>4.0</td><td>4.0</td><td>1.0</td><td>1.0</td><td>1.0</td><td>1.0</td><td>1.0</td><td>1.0</td><td>1.0</td><td>1.0</td><td>1.0</td><td>1.0</td><td>1.0</td><td>1.0</td><td>1.0</td><td>1.0</td><td>1.0</td><td>1.0</td><td>1.0</td><td>2.651698</td></tr><tr><td>14</td><td>0.277557</td><td>10</td><td>1.0</td><td>1.0</td><td>1.0</td><td>1.0</td><td>1.0</td><td>1.0</td><td>1.0</td><td>1.0</td><td>1.0</td><td>1.0</td><td>1.0</td><td>1.0</td><td>1.0</td><td>1.0</td><td>1.0</td><td>1.0</td><td>1.0</td><td>1.0</td><td>1.0</td><td>1.0</td><td>36.804842</td></tr><tr><td>15</td><td>0.056386</td><td>10</td><td>1.0</td><td>1.0</td><td>1.0</td><td>1.0</td><td>1.0</td><td>1.0</td><td>1.0</td><td>1.0</td><td>1.0</td><td>1.0</td><td>1.0</td><td>1.0</td><td>1.0</td><td>1.0</td><td>1.0</td><td>1.0</td><td>1.0</td><td>1.0</td><td>1.0</td><td>1.0</td><td>36.753845</td></tr></tbody></table></div>"
      ],
      "text/plain": [
       "shape: (15, 24)\n",
       "┌────────┬───────────────┬────────────┬──────┬───┬───────┬───────┬───────┬───────────┐\n",
       "│ env_id ┆ bits_per_elem ┆ size_ratio ┆ kap0 ┆ … ┆ kap17 ┆ kap18 ┆ kap19 ┆ cost      │\n",
       "│ ---    ┆ ---           ┆ ---        ┆ ---  ┆   ┆ ---   ┆ ---   ┆ ---   ┆ ---       │\n",
       "│ i64    ┆ f64           ┆ i64        ┆ f64  ┆   ┆ f64   ┆ f64   ┆ f64   ┆ f64       │\n",
       "╞════════╪═══════════════╪════════════╪══════╪═══╪═══════╪═══════╪═══════╪═══════════╡\n",
       "│ 1      ┆ 0.578876      ┆ 10         ┆ 1.0  ┆ … ┆ 1.0   ┆ 1.0   ┆ 1.0   ┆ 28.118148 │\n",
       "│ 2      ┆ 5.881237      ┆ 10         ┆ 6.0  ┆ … ┆ 1.0   ┆ 1.0   ┆ 1.0   ┆ 1.313381  │\n",
       "│ 3      ┆ 7.180369      ┆ 10         ┆ 4.0  ┆ … ┆ 1.0   ┆ 1.0   ┆ 1.0   ┆ 2.128365  │\n",
       "│ 4      ┆ 0.022507      ┆ 30         ┆ 1.0  ┆ … ┆ 1.0   ┆ 1.0   ┆ 1.0   ┆ 99.084018 │\n",
       "│ 5      ┆ 0.860694      ┆ 11         ┆ 6.0  ┆ … ┆ 1.0   ┆ 1.0   ┆ 1.0   ┆ 3.399901  │\n",
       "│ …      ┆ …             ┆ …          ┆ …    ┆ … ┆ …     ┆ …     ┆ …     ┆ …         │\n",
       "│ 11     ┆ 0.082107      ┆ 10         ┆ 1.0  ┆ … ┆ 1.0   ┆ 1.0   ┆ 1.0   ┆ 54.028529 │\n",
       "│ 12     ┆ 0.283133      ┆ 30         ┆ 1.0  ┆ … ┆ 1.0   ┆ 1.0   ┆ 1.0   ┆ 34.477474 │\n",
       "│ 13     ┆ 4.244865      ┆ 14         ┆ 6.0  ┆ … ┆ 1.0   ┆ 1.0   ┆ 1.0   ┆ 2.651698  │\n",
       "│ 14     ┆ 0.277557      ┆ 10         ┆ 1.0  ┆ … ┆ 1.0   ┆ 1.0   ┆ 1.0   ┆ 36.804842 │\n",
       "│ 15     ┆ 0.056386      ┆ 10         ┆ 1.0  ┆ … ┆ 1.0   ┆ 1.0   ┆ 1.0   ┆ 36.753845 │\n",
       "└────────┴───────────────┴────────────┴──────┴───┴───────┴───────┴───────┴───────────┘"
      ]
     },
     "execution_count": 25,
     "metadata": {},
     "output_type": "execute_result"
    }
   ],
   "source": [
    "ltune_table = pl.read_database(\"SELECT * FROM learned_tunings;\", connection)\n",
    "ltune_table"
   ]
  },
  {
   "cell_type": "markdown",
   "id": "300eceab-a3f2-408f-8235-852c2cc539a2",
   "metadata": {},
   "source": [
    "# Optimizer"
   ]
  },
  {
   "cell_type": "code",
   "execution_count": 26,
   "id": "37c0dc7d-56b5-4d82-b103-7efcc785865b",
   "metadata": {},
   "outputs": [],
   "source": [
    "solver = ClassicSolver(bounds)\n",
    "ksolver = KLSMSolver(bounds)"
   ]
  },
  {
   "cell_type": "markdown",
   "id": "f7ffbddd-7caf-445c-aaae-d8115602ad24",
   "metadata": {},
   "source": [
    "Create the monkey tunings table, this will hold tunings and their associated cost"
   ]
  },
  {
   "cell_type": "code",
   "execution_count": 27,
   "id": "b21da730-4f27-4b6c-bae7-dad44a9ab04d",
   "metadata": {},
   "outputs": [],
   "source": [
    "cursor = connection.cursor()\n",
    "cursor.execute(\n",
    "    \"\"\"\n",
    "    CREATE TABLE IF NOT EXISTS monkey_tunings (\n",
    "        env_id INTEGER PRIMARY KEY AUTOINCREMENT,\n",
    "        bits_per_elem REAL,\n",
    "        size_ratio REAL,\n",
    "        is_leveling INTEGER,\n",
    "        cost REAL,\n",
    "        kcost REAL,\n",
    "        FOREIGN KEY (env_id) REFERENCES workloads(env_id)\n",
    "    );\n",
    "    \"\"\"\n",
    ")\n",
    "cursor.close()\n",
    "connection.commit()"
   ]
  },
  {
   "cell_type": "markdown",
   "id": "c0a74bf6-7150-4c91-8ab3-c8a43f73317a",
   "metadata": {},
   "source": [
    "Finding all of the tunings, here we limit everything to be leveling or tiering"
   ]
  },
  {
   "cell_type": "code",
   "execution_count": 28,
   "id": "24c7024c-64e2-472b-991d-3bca6b1f710f",
   "metadata": {},
   "outputs": [],
   "source": [
    "cursor = connection.cursor()\n",
    "environment_ids = cursor.execute(\"SELECT env_id FROM environments\").fetchall()\n",
    "for (env_id,) in environment_ids:\n",
    "    env = env_table.filter(pl.col('env_id') == env_id)\n",
    "    data = run_table.filter(pl.col('env_id') == env_id)\n",
    "    wl = Workload(*env[WL_COLUMNS].rows()[0])\n",
    "    system = System(*env[SYS_COLUMNS].rows()[0])\n",
    "    design, _ = solver.get_nominal_design(system, wl.z0, wl.z1, wl.q, wl.w)\n",
    "    design.T = np.ceil(design.T)\n",
    "    kdesign, _ = ksolver.get_nominal_design(system, wl.z0, wl.z1, wl.q, wl.w)\n",
    "    kdesign.T = np.ceil(design.T)\n",
    "    kdesign.K = [np.ceil(ki) for ki in kdesign.K]\n",
    "    cost = cf.calc_cost(design, system, wl.z0, wl.z1, wl.q, wl.w)\n",
    "    kcost = cf.calc_cost(kdesign, system, wl.z0, wl.z1, wl.q, wl.w)\n",
    "    cursor.execute(\n",
    "        \"\"\"\n",
    "        INSERT OR REPLACE INTO monkey_tunings (\n",
    "            env_id,\n",
    "            bits_per_elem,\n",
    "            size_ratio,\n",
    "            is_leveling,\n",
    "            cost,\n",
    "            kcost)\n",
    "        VALUES (?, ?, ?, ?, ?, ?)\n",
    "        \"\"\",\n",
    "        (env_id, design.h, design.T, 1 if design.policy == Policy.Leveling else 0, cost, kcost)\n",
    "    )\n",
    "cursor.close()\n",
    "connection.commit()"
   ]
  },
  {
   "cell_type": "code",
   "execution_count": 29,
   "id": "bd70ce93-b7f3-49a5-b5e2-2bf245b0c5c4",
   "metadata": {},
   "outputs": [
    {
     "data": {
      "text/html": [
       "<div><style>\n",
       ".dataframe > thead > tr,\n",
       ".dataframe > tbody > tr {\n",
       "  text-align: right;\n",
       "  white-space: pre-wrap;\n",
       "}\n",
       "</style>\n",
       "<small>shape: (15, 6)</small><table border=\"1\" class=\"dataframe\"><thead><tr><th>env_id</th><th>bits_per_elem</th><th>size_ratio</th><th>is_leveling</th><th>cost</th><th>kcost</th></tr><tr><td>i64</td><td>f64</td><td>f64</td><td>i64</td><td>f64</td><td>f64</td></tr></thead><tbody><tr><td>1</td><td>3.211367</td><td>6.0</td><td>1</td><td>27.830134</td><td>28.141494</td></tr><tr><td>2</td><td>8.778876</td><td>7.0</td><td>1</td><td>1.157607</td><td>1.171342</td></tr><tr><td>3</td><td>6.72313</td><td>7.0</td><td>1</td><td>2.08895</td><td>2.095246</td></tr><tr><td>4</td><td>1.0</td><td>30.0</td><td>1</td><td>99.111233</td><td>100.044999</td></tr><tr><td>5</td><td>3.311264</td><td>20.0</td><td>0</td><td>2.682739</td><td>2.670772</td></tr><tr><td>&hellip;</td><td>&hellip;</td><td>&hellip;</td><td>&hellip;</td><td>&hellip;</td><td>&hellip;</td></tr><tr><td>11</td><td>1.0</td><td>6.0</td><td>1</td><td>53.681294</td><td>54.396088</td></tr><tr><td>12</td><td>4.514403</td><td>30.0</td><td>1</td><td>34.245665</td><td>34.539509</td></tr><tr><td>13</td><td>8.006566</td><td>9.0</td><td>0</td><td>2.378837</td><td>2.424117</td></tr><tr><td>14</td><td>3.005914</td><td>6.0</td><td>1</td><td>36.39797</td><td>36.792728</td></tr><tr><td>15</td><td>1.0</td><td>6.0</td><td>1</td><td>36.528259</td><td>37.184649</td></tr></tbody></table></div>"
      ],
      "text/plain": [
       "shape: (15, 6)\n",
       "┌────────┬───────────────┬────────────┬─────────────┬───────────┬────────────┐\n",
       "│ env_id ┆ bits_per_elem ┆ size_ratio ┆ is_leveling ┆ cost      ┆ kcost      │\n",
       "│ ---    ┆ ---           ┆ ---        ┆ ---         ┆ ---       ┆ ---        │\n",
       "│ i64    ┆ f64           ┆ f64        ┆ i64         ┆ f64       ┆ f64        │\n",
       "╞════════╪═══════════════╪════════════╪═════════════╪═══════════╪════════════╡\n",
       "│ 1      ┆ 3.211367      ┆ 6.0        ┆ 1           ┆ 27.830134 ┆ 28.141494  │\n",
       "│ 2      ┆ 8.778876      ┆ 7.0        ┆ 1           ┆ 1.157607  ┆ 1.171342   │\n",
       "│ 3      ┆ 6.72313       ┆ 7.0        ┆ 1           ┆ 2.08895   ┆ 2.095246   │\n",
       "│ 4      ┆ 1.0           ┆ 30.0       ┆ 1           ┆ 99.111233 ┆ 100.044999 │\n",
       "│ 5      ┆ 3.311264      ┆ 20.0       ┆ 0           ┆ 2.682739  ┆ 2.670772   │\n",
       "│ …      ┆ …             ┆ …          ┆ …           ┆ …         ┆ …          │\n",
       "│ 11     ┆ 1.0           ┆ 6.0        ┆ 1           ┆ 53.681294 ┆ 54.396088  │\n",
       "│ 12     ┆ 4.514403      ┆ 30.0       ┆ 1           ┆ 34.245665 ┆ 34.539509  │\n",
       "│ 13     ┆ 8.006566      ┆ 9.0        ┆ 0           ┆ 2.378837  ┆ 2.424117   │\n",
       "│ 14     ┆ 3.005914      ┆ 6.0        ┆ 1           ┆ 36.39797  ┆ 36.792728  │\n",
       "│ 15     ┆ 1.0           ┆ 6.0        ┆ 1           ┆ 36.528259 ┆ 37.184649  │\n",
       "└────────┴───────────────┴────────────┴─────────────┴───────────┴────────────┘"
      ]
     },
     "execution_count": 29,
     "metadata": {},
     "output_type": "execute_result"
    }
   ],
   "source": [
    "monkey_table = pl.read_database(\"SELECT * FROM monkey_tunings;\", connection)\n",
    "monkey_table"
   ]
  },
  {
   "cell_type": "code",
   "execution_count": null,
   "id": "04b44bb4-e8df-46ea-97aa-a4cabd364f29",
   "metadata": {},
   "outputs": [],
   "source": []
  },
  {
   "cell_type": "code",
   "execution_count": null,
   "id": "00bf6549-9278-433d-882d-579e3f11c987",
   "metadata": {},
   "outputs": [],
   "source": []
  }
 ],
 "metadata": {
  "kernelspec": {
   "display_name": "Python 3 (ipykernel)",
   "language": "python",
   "name": "python3"
  },
  "language_info": {
   "codemirror_mode": {
    "name": "ipython",
    "version": 3
   },
   "file_extension": ".py",
   "mimetype": "text/x-python",
   "name": "python",
   "nbconvert_exporter": "python",
   "pygments_lexer": "ipython3",
   "version": "3.12.7"
  }
 },
 "nbformat": 4,
 "nbformat_minor": 5
}
