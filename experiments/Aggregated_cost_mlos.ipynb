{
 "cells": [
  {
   "cell_type": "code",
   "execution_count": 1,
   "id": "5849f897-6ee7-472e-ac06-a44b35772779",
   "metadata": {},
   "outputs": [],
   "source": [
    "import sys\n",
    "import os"
   ]
  },
  {
   "cell_type": "code",
   "execution_count": 2,
   "id": "363587fc-01a7-4ae5-a025-e7196e02d40b",
   "metadata": {},
   "outputs": [],
   "source": [
    "import matplotlib.pyplot as plt\n",
    "from ipywidgets import interactive, IntSlider\n",
    "\n",
    "import numpy as np\n",
    "import pandas as pd\n",
    "import sqlite3\n",
    "import torch"
   ]
  },
  {
   "cell_type": "code",
   "execution_count": 4,
   "id": "1fee4c8b-be7a-4f9e-bb7b-626165ddfb9b",
   "metadata": {},
   "outputs": [],
   "source": [
    "sys.path.append(os.path.join(sys.path[0], '../..'))\n",
    "\n",
    "from endure.data.io import Reader\n",
    "from endure.lsm.cost import EndureCost\n",
    "from endure.lsm.types import Policy, System, LSMDesign, LSMBounds, Workload\n",
    "from endure.ltune.util import LTuneEvalUtil\n",
    "from endure.ltune.model import LTuneModelBuilder"
   ]
  },
  {
   "cell_type": "code",
   "execution_count": 5,
   "id": "3c55baf1-5096-4f83-9f39-b221f0d064b7",
   "metadata": {},
   "outputs": [],
   "source": [
    "connection = sqlite3.connect(\"../../../mlos_030924.db\")\n",
    "cursor = connection.cursor()"
   ]
  },
  {
   "cell_type": "code",
   "execution_count": 6,
   "id": "f9e940f0-499a-44f3-b116-1bf30b4fccbf",
   "metadata": {},
   "outputs": [],
   "source": [
    "env_table = pd.read_sql(\"SELECT * FROM environments;\", connection, index_col=\"env_id\")\n",
    "run_table = pd.read_sql(\"SELECT * FROM tunings;\", connection, index_col=\"idx\")"
   ]
  },
  {
   "cell_type": "code",
   "execution_count": 7,
   "id": "b53107e8-33c6-4993-b54b-dd9c16d46b62",
   "metadata": {},
   "outputs": [],
   "source": [
    "path = '/scratchNVMe/ndhuynh/other_data/models/ltune/klsm_med2'\n",
    "config = Reader.read_config(os.path.join(path, 'endure.toml'))\n",
    "cf = EndureCost(config)\n",
    "design_type = getattr(Policy, config[\"lsm\"][\"design\"])\n",
    "bounds = LSMBounds(**config[\"lsm\"][\"bounds\"])"
   ]
  },
  {
   "cell_type": "code",
   "execution_count": 16,
   "id": "1d9bf091-86ba-42fa-8e94-d4ccebd858c9",
   "metadata": {},
   "outputs": [
    {
     "data": {
      "text/plain": [
       "<All keys matched successfully>"
      ]
     },
     "execution_count": 16,
     "metadata": {},
     "output_type": "execute_result"
    }
   ],
   "source": [
    "model = LTuneModelBuilder(\n",
    "    size_ratio_range=bounds.size_ratio_range,\n",
    "    max_levels=bounds.max_considered_levels,\n",
    "    **config[\"ltune\"][\"model\"],\n",
    ").build_model(design_type)\n",
    "model_name = os.path.join(path, 'best.model')\n",
    "# model_name = os.path.join(path, 'checkpoints/epoch_20.checkpoint')\n",
    "model_data = torch.load(model_name)\n",
    "model_params = model_data['model_state_dict'] if model_name.endswith('checkpoint') else model_data\n",
    "status = model.load_state_dict(model_params)\n",
    "model.eval()\n",
    "status"
   ]
  },
  {
   "cell_type": "code",
   "execution_count": 17,
   "id": "7ba2f623-03cb-4605-b1e7-cb8ce0feb397",
   "metadata": {},
   "outputs": [],
   "source": [
    "ltune_util = LTuneEvalUtil(config, model, design_type)"
   ]
  },
  {
   "cell_type": "code",
   "execution_count": 18,
   "id": "99b22b0f-cddf-4c7e-a0d8-2a265d9fcdbf",
   "metadata": {},
   "outputs": [],
   "source": [
    "def plot_env(env_id: int = 1):\n",
    "    env = env_table.query(f'env_id == {env_id}')\n",
    "    data = run_table.query(f'env_id == {env_id}')\n",
    "    wl_cols = ['empty_reads', 'non_empty_reads', 'range_queries', 'writes']\n",
    "    sys_cols = ['entry_size', 'selectivity', 'entries_per_page', 'num_elmement', 'bits_per_elem_max', 'read_write_asym']\n",
    "    wl = Workload(*env[wl_cols].values[0])\n",
    "    system = System(*env[sys_cols].values[0])\n",
    "    \n",
    "    out = ltune_util.get_ltune_out(system, wl.z0, wl.z1, wl.q, wl.w)\n",
    "    ltune_design = ltune_util.convert_ltune_output(out)\n",
    "    ltune_cost = cf.calc_cost(ltune_design, system, wl.z0, wl.z1, wl.q, wl.w)\n",
    "    \n",
    "    x, y = data['round'].values, data['cost'].values\n",
    "    aggregated_cost = []\n",
    "    tmp = []\n",
    "    for i in range(1, len(data['cost'].values)):\n",
    "        aggregated_cost.append(sum(data['cost'].values[:i]))\n",
    "    aggregated_cost.append(data['cost'].values[i]+aggregated_cost[i-1])\n",
    "\n",
    "    ltune_aggregated_cost = ltune_cost * np.arange(1, len(x) + 1)\n",
    "    fig, ax = plt.subplots()\n",
    "    ax.plot(x, aggregated_cost, label='Bayesian Optimizer (Aggregated)', color='tab:gray')\n",
    "    ax.plot(x, ltune_aggregated_cost, label='LTune (Aggregated)', color='tab:green', linestyle='--')\n",
    "    ax.legend()\n",
    "    ax.set_ylabel('Aggregated Cost (Avg I/O per Query)')\n",
    "    ax.set_xlabel('Rounds')\n",
    "    ax.set_title(f'Workload(z0={wl.z0:.2f}, z1={wl.z1:.2f}, q={wl.q:.2f}, w={wl.w:.2f})')\n",
    "    plt.show()\n",
    "\n",
    "    return env_id, ltune_design, wl, system"
   ]
  },
  {
   "cell_type": "code",
   "execution_count": 19,
   "id": "74a84f55-2208-439b-a137-390b903d6bea",
   "metadata": {},
   "outputs": [
    {
     "data": {
      "application/vnd.jupyter.widget-view+json": {
       "model_id": "8ce64c7925a04e9981f188141def3213",
       "version_major": 2,
       "version_minor": 0
      },
      "text/plain": [
       "interactive(children=(IntSlider(value=1, description='env_id', min=1), Output()), _dom_classes=('widget-intera…"
      ]
     },
     "execution_count": 19,
     "metadata": {},
     "output_type": "execute_result"
    }
   ],
   "source": [
    "id_widget = IntSlider(min=1, max=100, step=1)\n",
    "iplot = interactive(plot_env, env_id=id_widget)\n",
    "iplot"
   ]
  },
  {
   "cell_type": "code",
   "execution_count": 15,
   "id": "015336dc-a2ca-4657-900e-af3dd9538e16",
   "metadata": {},
   "outputs": [
    {
     "data": {
      "text/plain": [
       "(1,\n",
       " LSMDesign(h=0.4215482473373413, T=27, policy=<Policy.KHybrid: 3>, Q=1.0, Y=1.0, Z=1.0, K=[1, 1, 1, 1, 1, 1, 1, 1, 1, 1, 1, 1, 1, 1, 1, 1, 1, 1, 1, 1]),\n",
       " Workload(z0=0.325, z1=0.008000000000000007, q=0.603, w=0.06399999999999995),\n",
       " System(E=8192.0, s=7.273692678982164e-09, B=4.0, N=954120869.0, H=13.452259319538351, phi=1.0))"
      ]
     },
     "execution_count": 15,
     "metadata": {},
     "output_type": "execute_result"
    }
   ],
   "source": [
    "iplot.result"
   ]
  },
  {
   "cell_type": "code",
   "execution_count": null,
   "id": "70a5bfd1-32d4-4c76-af44-eb0e26c46d34",
   "metadata": {},
   "outputs": [],
   "source": []
  }
 ],
 "metadata": {
  "kernelspec": {
   "display_name": "Python 3 (ipykernel)",
   "language": "python",
   "name": "python3"
  },
  "language_info": {
   "codemirror_mode": {
    "name": "ipython",
    "version": 3
   },
   "file_extension": ".py",
   "mimetype": "text/x-python",
   "name": "python",
   "nbconvert_exporter": "python",
   "pygments_lexer": "ipython3",
   "version": "3.11.4"
  }
 },
 "nbformat": 4,
 "nbformat_minor": 5
}
