{
 "cells": [
  {
   "cell_type": "code",
   "execution_count": 26,
   "id": "4aca000e-3a03-45a6-a35e-41204dc74751",
   "metadata": {},
   "outputs": [],
   "source": [
    "from copy import deepcopy\n",
    "import os\n",
    "import sys\n",
    "import toml"
   ]
  },
  {
   "cell_type": "code",
   "execution_count": 30,
   "id": "036c722e-522f-4b7b-9ce7-6805930b58ec",
   "metadata": {},
   "outputs": [],
   "source": [
    "from matplotlib.ticker import PercentFormatter\n",
    "from scipy.special import rel_entr\n",
    "from tqdm.notebook import tqdm\n",
    "import json\n",
    "import matplotlib as mpl\n",
    "import matplotlib.patches as mpatches\n",
    "import matplotlib.pyplot as plt\n",
    "import numpy as np\n",
    "import pandas as pd\n",
    "import scipy.optimize as SciOpt\n",
    "import torch\n",
    "\n",
    "plt.rcParams.update(\n",
    "    {\n",
    "        # \"text.usetex\": True,\n",
    "        \"text.latex.preamble\": r\"\\usepackage{bm}\",\n",
    "        # Enforce default LaTeX font.\n",
    "        \"font.family\": \"serif\",\n",
    "        \"mathtext.fontset\": \"dejavuserif\",\n",
    "    }\n",
    ")\n",
    "pd.options.display.float_format = '{:,.2f}'.format"
   ]
  },
  {
   "cell_type": "code",
   "execution_count": 28,
   "id": "b0532c25-c6d5-42af-beab-c65ad524bc2d",
   "metadata": {},
   "outputs": [],
   "source": [
    "# fig, ax = plt.subplots(tight_layout=True)\n",
    "# labels = ['Workload 1', 'Workload 2']\n",
    "# width = 0.4\n",
    "# cost_nom = [1, 5]\n",
    "# cost_rob = [2, 3]\n",
    "# xtick = np.arange(len(labels))\n",
    "# xtick = [0, 0.5]\n",
    "# rects1 = ax.bar(xtick - width / 2, cost_nom, width=width, label='Nominal', color='pink', hatch='.')\n",
    "# rects1 = ax.bar(xtick, cost_nom, width=width, label='Nominal', color='pink', align='center')\n",
    "# rects2 = ax.bar(xtick + width / 2, cost_rob, width=width, label='Robust', color='tab:orange', hatch='x')\n",
    "\n",
    "# ax.set_yticks([])\n",
    "# ax.set_ylabel('Cost', fontsize=20)\n",
    "# ax.set_xticks(xtick, labels, fontsize=20)\n",
    "# ax.legend(fontsize=24)\n",
    "\n",
    "# fig.tight_layout()\n",
    "# plt.show()"
   ]
  },
  {
   "cell_type": "code",
   "execution_count": 29,
   "id": "83ec9573-6e17-4d86-afaf-1ed1800fb749",
   "metadata": {},
   "outputs": [],
   "source": [
    "# fig, ax = plt.subplots(figsize=(100, 5), tight_layout=True)\n",
    "# labels = ['Workload 1', 'Workload 2']\n",
    "# width = 0.1\n",
    "# cost_nom = np.random.rand(200)\n",
    "# xtick = list(range(len(cost_nom)))\n",
    "# cmap = plt.cm.tab10\n",
    "# colors = cmap(np.arange(len(xtick)) % cmap.N)\n",
    "# rects1 = ax.bar(xtick, cost_nom, align='center', color=colors)\n",
    "# ax.set_yticks([])\n",
    "# ax.set_xticks([])\n",
    "# ax.set_ylabel('Cost', fontsize=20)\n",
    "# fig.tight_layout()\n",
    "# plt.show()"
   ]
  },
  {
   "cell_type": "code",
   "execution_count": 32,
   "id": "b47aa99e-118c-48bc-8c1c-3dedbeef26ea",
   "metadata": {},
   "outputs": [],
   "source": [
    "import torch\n",
    "import torch.nn as nn"
   ]
  },
  {
   "cell_type": "code",
   "execution_count": 41,
   "id": "e35397d0-2b81-498c-88d1-a98d2c8ddac8",
   "metadata": {},
   "outputs": [],
   "source": [
    "class Model(nn.Module):\n",
    "    def __init__(self, num_features=16):\n",
    "        super().__init__()\n",
    "        self.num_features = num_features\n",
    "        \n",
    "        self.layers = nn.Sequential(\n",
    "            nn.Linear(num_features, num_features),\n",
    "            nn.ReLU(),\n",
    "            nn.Linear(num_features, num_features),\n",
    "        )\n",
    "        \n",
    "    def forward(self, x, temp=1e-3, hard=False) -> torch.Tensor:\n",
    "        out = self.layers(x)\n",
    "        out = nn.functional.gumbel_softmax(out, tau=temp, hard=hard)\n",
    "        \n",
    "        return out"
   ]
  },
  {
   "cell_type": "code",
   "execution_count": 88,
   "id": "98b1dc95-0de8-4c4d-910d-cb25e2742f69",
   "metadata": {},
   "outputs": [],
   "source": [
    "num_features = 6\n",
    "model = Model(num_features)"
   ]
  },
  {
   "cell_type": "code",
   "execution_count": 89,
   "id": "9f4a3b21-ad79-4919-a543-080c585cf68a",
   "metadata": {},
   "outputs": [],
   "source": [
    "x = torch.rand(num_features)"
   ]
  },
  {
   "cell_type": "code",
   "execution_count": 180,
   "id": "e8bc2af8-cadb-44e7-9fa9-16c9acfdfd36",
   "metadata": {},
   "outputs": [
    {
     "data": {
      "text/plain": [
       "tensor([0., 1., 0., 0., 0., 0.], grad_fn=<SoftmaxBackward0>)"
      ]
     },
     "execution_count": 180,
     "metadata": {},
     "output_type": "execute_result"
    }
   ],
   "source": [
    "pred = model(x, temp=1e-9)\n",
    "pred"
   ]
  },
  {
   "cell_type": "code",
   "execution_count": 181,
   "id": "e231b031-57f6-46cb-b468-4cdb4180aac0",
   "metadata": {},
   "outputs": [
    {
     "data": {
      "text/plain": [
       "1.0"
      ]
     },
     "execution_count": 181,
     "metadata": {},
     "output_type": "execute_result"
    }
   ],
   "source": [
    "pred.sum().item()"
   ]
  },
  {
   "cell_type": "code",
   "execution_count": null,
   "id": "7c27ae45-055f-42bf-ae66-4eb077ed4d46",
   "metadata": {},
   "outputs": [],
   "source": []
  }
 ],
 "metadata": {
  "kernelspec": {
   "display_name": "Python 3 (ipykernel)",
   "language": "python",
   "name": "python3"
  },
  "language_info": {
   "codemirror_mode": {
    "name": "ipython",
    "version": 3
   },
   "file_extension": ".py",
   "mimetype": "text/x-python",
   "name": "python",
   "nbconvert_exporter": "python",
   "pygments_lexer": "ipython3",
   "version": "3.9.13"
  }
 },
 "nbformat": 4,
 "nbformat_minor": 5
}
