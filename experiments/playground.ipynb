{
 "cells": [
  {
   "cell_type": "code",
   "execution_count": 11,
   "id": "4aca000e-3a03-45a6-a35e-41204dc74751",
   "metadata": {},
   "outputs": [],
   "source": [
    "from copy import deepcopy\n",
    "import os\n",
    "import sys\n",
    "import toml"
   ]
  },
  {
   "cell_type": "code",
   "execution_count": 12,
   "id": "036c722e-522f-4b7b-9ce7-6805930b58ec",
   "metadata": {},
   "outputs": [],
   "source": [
    "from matplotlib.ticker import PercentFormatter\n",
    "from tqdm.notebook import tqdm\n",
    "import matplotlib as mpl\n",
    "import matplotlib.patches as mpatches\n",
    "import matplotlib.pyplot as plt\n",
    "import numpy as np\n",
    "import pandas as pd\n",
    "import pyarrow.parquet as pa\n",
    "import scipy.optimize as Opt\n",
    "import torch\n",
    "\n",
    "pd.options.display.float_format = '{:,.2f}'.format"
   ]
  },
  {
   "cell_type": "code",
   "execution_count": 30,
   "id": "55a04635-2415-4028-9b43-0049ca554f9b",
   "metadata": {},
   "outputs": [],
   "source": [
    "sys.path.append(os.path.join(sys.path[0], '../..'))\n",
    "\n",
    "from endure.data.io import Reader\n",
    "from endure.lsm.cost import EndureCost\n",
    "from endure.lcm.data.generator import ClassicGenerator\n",
    "from endure.lsm.types import Policy, System, LSMDesign"
   ]
  },
  {
   "cell_type": "code",
   "execution_count": 32,
   "id": "12ce47e7-a7c4-4e27-acfb-2bf0b8e4217d",
   "metadata": {
    "tags": []
   },
   "outputs": [],
   "source": [
    "config = Reader.read_config('../../endure.toml')"
   ]
  },
  {
   "cell_type": "code",
   "execution_count": 33,
   "id": "b0532c25-c6d5-42af-beab-c65ad524bc2d",
   "metadata": {},
   "outputs": [],
   "source": [
    "# fig, ax = plt.subplots(tight_layout=True)\n",
    "# labels = ['Workload 1', 'Workload 2']\n",
    "# width = 0.4\n",
    "# cost_nom = [1, 5]\n",
    "# cost_rob = [2, 3]\n",
    "# xtick = np.arange(len(labels))\n",
    "# xtick = [0, 0.5]\n",
    "# rects1 = ax.bar(xtick - width / 2, cost_nom, width=width, label='Nominal', color='pink', hatch='.')\n",
    "# rects1 = ax.bar(xtick, cost_nom, width=width, label='Nominal', color='pink', align='center')\n",
    "# rects2 = ax.bar(xtick + width / 2, cost_rob, width=width, label='Robust', color='tab:orange', hatch='x')\n",
    "\n",
    "# ax.set_yticks([])\n",
    "# ax.set_ylabel('Cost', fontsize=20)\n",
    "# ax.set_xticks(xtick, labels, fontsize=20)\n",
    "# ax.legend(fontsize=24)\n",
    "\n",
    "# fig.tight_layout()\n",
    "# plt.show()"
   ]
  },
  {
   "cell_type": "code",
   "execution_count": 34,
   "id": "83ec9573-6e17-4d86-afaf-1ed1800fb749",
   "metadata": {},
   "outputs": [],
   "source": [
    "# fig, ax = plt.subplots(figsize=(100, 5), tight_layout=True)\n",
    "# labels = ['Workload 1', 'Workload 2']\n",
    "# width = 0.1\n",
    "# cost_nom = np.random.rand(200)\n",
    "# xtick = list(range(len(cost_nom)))\n",
    "# cmap = plt.cm.tab10\n",
    "# colors = cmap(np.arange(len(xtick)) % cmap.N)\n",
    "# rects1 = ax.bar(xtick, cost_nom, align='center', color=colors)\n",
    "# ax.set_yticks([])\n",
    "# ax.set_xticks([])\n",
    "# ax.set_ylabel('Cost', fontsize=20)\n",
    "# fig.tight_layout()\n",
    "# plt.show()"
   ]
  },
  {
   "cell_type": "code",
   "execution_count": 37,
   "id": "77aadbab-8064-4eee-869e-62ceaef73e6a",
   "metadata": {},
   "outputs": [],
   "source": [
    "cost_fn = EndureCost(config)\n",
    "gen = ClassicGenerator(config)"
   ]
  },
  {
   "cell_type": "code",
   "execution_count": 140,
   "id": "55ccf222-1ad3-4961-9314-d9c6e1d3c909",
   "metadata": {},
   "outputs": [],
   "source": [
    "def obj(x, policy, system, z0, z1, q, w):\n",
    "    h, T = x\n",
    "    design = LSMDesign(h=h, T=T, policy=policy)\n",
    "    cost = cost_fn.calc_cost(design, system, z0, z1, q, w)\n",
    "    \n",
    "    return cost"
   ]
  },
  {
   "cell_type": "code",
   "execution_count": 162,
   "id": "0d2fdac2-972c-4df5-bca8-13814f990f33",
   "metadata": {},
   "outputs": [
    {
     "name": "stdout",
     "output_type": "stream",
     "text": [
      "x=array([2.0078963 , 4.24207711])\n",
      "x=array([1.97571143, 4.25265447])\n",
      "x=array([1.81744949, 4.29960066])\n",
      "x=array([1.11802606, 4.48643268])\n",
      "x=array([0.75935298, 4.56109556])\n",
      "x=array([0.74329571, 4.54678747])\n",
      "x=array([0.71632988, 4.47086769])\n",
      "x=array([0.69801654, 4.42437615])\n",
      "x=array([0.69801654, 4.42437615])\n",
      "Optimization terminated successfully    (Exit mode 0)\n",
      "            Current function value: 9.103249097367497\n",
      "            Iterations: 9\n",
      "            Function evaluations: 27\n",
      "            Gradient evaluations: 9\n"
     ]
    },
    {
     "data": {
      "text/plain": [
       "     fun: 9.103249097367497\n",
       "     jac: array([-3.49283218e-05, -3.12566757e-04])\n",
       " message: 'Optimization terminated successfully'\n",
       "    nfev: 27\n",
       "     nit: 9\n",
       "    njev: 9\n",
       "  status: 0\n",
       " success: True\n",
       "       x: array([0.69801654, 4.42437615])"
      ]
     },
     "execution_count": 162,
     "metadata": {},
     "output_type": "execute_result"
    }
   ],
   "source": [
    "# z0, z1, q, w = gen._sample_workload(4)\n",
    "z0, z1, q, w = (0.024, 0.291, 0.214, 0.471)\n",
    "system = System()\n",
    "policy = Policy.Leveling\n",
    "\n",
    "minimizer_kwargs = {\n",
    "    'method': 'SLSQP',\n",
    "    'bounds': Opt.Bounds(lb=np.array((0, 2)), ub=np.array((9, 50)), keep_feasible=(True, True)),\n",
    "    # 'bounds': ((0, 9), (2, 50)),\n",
    "    'options': {'disp': True}\n",
    "}\n",
    "\n",
    "sol = Opt.minimize(fun=lambda x: obj(x, policy, system, z0, z1, q, w), x0=[2, -10000], callback=lambda x: print(f'{x=}'), **minimizer_kwargs)\n",
    "sol"
   ]
  },
  {
   "cell_type": "code",
   "execution_count": 168,
   "id": "b0623a79-0b6c-477a-8fa4-ce8b3a3d72b2",
   "metadata": {},
   "outputs": [],
   "source": [
    "a = torch.Tensor([1, 2, 3])"
   ]
  },
  {
   "cell_type": "code",
   "execution_count": 169,
   "id": "0b424d52-3576-4554-83cd-bb9bd5ce23f7",
   "metadata": {},
   "outputs": [
    {
     "data": {
      "text/plain": [
       "tensor([1., 1., 1.])"
      ]
     },
     "execution_count": 169,
     "metadata": {},
     "output_type": "execute_result"
    }
   ],
   "source": [
    "a = a.clamp(0, 1)\n",
    "a"
   ]
  },
  {
   "cell_type": "code",
   "execution_count": 175,
   "id": "4ff1ceba-9d2c-4d67-a18d-5c44386f2ae9",
   "metadata": {},
   "outputs": [
    {
     "data": {
      "text/plain": [
       "{'a': 2, 'b': 3}"
      ]
     },
     "execution_count": 175,
     "metadata": {},
     "output_type": "execute_result"
    }
   ],
   "source": [
    "a = {'a': 2, 'b': 3}\n",
    "a"
   ]
  },
  {
   "cell_type": "code",
   "execution_count": 34,
   "id": "032c6b32-e217-430d-a13c-9ed70ad13fa9",
   "metadata": {},
   "outputs": [],
   "source": [
    "import torch\n",
    "import torch.nn.functional as F\n",
    "\n",
    "\n",
    "def round_func_normal(input):\n",
    "    out = torch.round(input)\n",
    "    return out\n",
    "\n",
    "\n",
    "def round_func_BPDA(input):\n",
    "    # This is equivalent to replacing round function (non-differentiable) with\n",
    "    # an identity function (differentiable) only when backward.\n",
    "    forward_value = torch.round(input)\n",
    "    out = input.clone()\n",
    "    out.data = forward_value.data\n",
    "    return out\n",
    "\n",
    "\n",
    "def forward(x, round_func):\n",
    "    linear = torch.nn.Linear(2, 1)\n",
    "    linear.weight.data = torch.Tensor([-0.3917, 0.2402]).view(1, -1)\n",
    "    linear.bias.data = torch.Tensor([-0.3856]).view(1, -1)\n",
    "    out = linear(x)            # differentiable\n",
    "    out = out * 10             # differentiable\n",
    "    out = round_func(out)      # defended by non-differentiable operation (shattered gradients)\n",
    "    out = out * 0.01           # differentiable\n",
    "    out = torch.sigmoid(out)   # differentiable\n",
    "    return out"
   ]
  },
  {
   "cell_type": "code",
   "execution_count": 35,
   "id": "8acd7bf8-a669-4491-b840-07833ee3fbc5",
   "metadata": {},
   "outputs": [
    {
     "name": "stdout",
     "output_type": "stream",
     "text": [
      "tensor(0.8104, grad_fn=<BinaryCrossEntropyBackward0>)\n",
      "tensor([[ 0.0218, -0.0133]])\n"
     ]
    }
   ],
   "source": [
    "# scenario 1: No Defence\n",
    "x = torch.Tensor([4, -1.12]).view(1, -1).requires_grad_(True)\n",
    "out = forward(x, lambda x: x)\n",
    "loss = F.binary_cross_entropy(out, torch.tensor([1.]).view(1, -1))\n",
    "loss.backward()\n",
    "print(loss)           # tensor(0.8104, grad_fn=<BinaryCrossEntropyBackward>)\n",
    "print(x.grad)         # tensor([[[ 0.0218, -0.0133]]])"
   ]
  },
  {
   "cell_type": "code",
   "execution_count": 36,
   "id": "167ef41f-159a-4bc5-88fb-f10d2d67a603",
   "metadata": {},
   "outputs": [
    {
     "name": "stdout",
     "output_type": "stream",
     "text": [
      "tensor(0.8092, grad_fn=<BinaryCrossEntropyBackward0>)\n",
      "tensor([[0., 0.]])\n"
     ]
    }
   ],
   "source": [
    "# scenario 2: Defended by round function (shattered gradients)\n",
    "x = torch.tensor([4, -1.12]).view(1, -1).requires_grad_(True)\n",
    "out = forward(x, round_func_normal)\n",
    "loss = F.binary_cross_entropy(out, torch.tensor([1.]).view(1, -1))\n",
    "loss.backward()\n",
    "print(loss)           # tensor(0.8092, grad_fn=<BinaryCrossEntropyBackward>)\n",
    "print(x.grad)         # tensor([[[-0., 0.]]])"
   ]
  },
  {
   "cell_type": "code",
   "execution_count": 37,
   "id": "5456eb82-71fa-4dd0-b28e-b02b70d362c3",
   "metadata": {},
   "outputs": [
    {
     "name": "stdout",
     "output_type": "stream",
     "text": [
      "tensor(0.8092, grad_fn=<BinaryCrossEntropyBackward0>)\n",
      "tensor([[ 0.0217, -0.0133]])\n"
     ]
    }
   ],
   "source": [
    "# scenario 3: Defended by round function, attached by BPDA\n",
    "x = torch.tensor([4, -1.12]).view(1, -1).requires_grad_(True)\n",
    "out = forward(x, round_func_BPDA)\n",
    "loss = F.binary_cross_entropy(out, torch.tensor([1.]).view(1, -1))\n",
    "loss.backward()\n",
    "print(loss)           # tensor(0.8092, grad_fn=<BinaryCrossEntropyBackward>)\n",
    "print(x.grad)         # tensor([[[ 0.0217, -0.0133]]])"
   ]
  }
 ],
 "metadata": {
  "kernelspec": {
   "display_name": "Python 3 (ipykernel)",
   "language": "python",
   "name": "python3"
  },
  "language_info": {
   "codemirror_mode": {
    "name": "ipython",
    "version": 3
   },
   "file_extension": ".py",
   "mimetype": "text/x-python",
   "name": "python",
   "nbconvert_exporter": "python",
   "pygments_lexer": "ipython3",
   "version": "3.9.13"
  }
 },
 "nbformat": 4,
 "nbformat_minor": 5
}
