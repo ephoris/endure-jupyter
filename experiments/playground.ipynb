{
 "cells": [
  {
   "cell_type": "code",
   "execution_count": 2,
   "id": "4aca000e-3a03-45a6-a35e-41204dc74751",
   "metadata": {},
   "outputs": [],
   "source": [
    "import sys\n",
    "import os\n",
    "import toml\n",
    "\n",
    "import pandas as pd\n",
    "pd.options.display.float_format = '{:,.2f}'.format\n",
    "\n",
    "import numpy as np\n",
    "import json\n",
    "import scipy.optimize as SciOpt\n",
    "from scipy.special import rel_entr\n",
    "from tqdm.notebook import tqdm\n",
    "from copy import deepcopy\n",
    "\n",
    "import matplotlib as mpl\n",
    "import matplotlib.pyplot as plt\n",
    "from matplotlib.ticker import PercentFormatter\n",
    "import matplotlib.patches as mpatches\n",
    "plt.rcParams.update(\n",
    "    {\n",
    "        # \"text.usetex\": True,\n",
    "        \"text.latex.preamble\": r\"\\usepackage{bm}\",\n",
    "        # Enforce default LaTeX font.\n",
    "        \"font.family\": \"serif\",\n",
    "        \"mathtext.fontset\": \"dejavuserif\",\n",
    "    }\n",
    ")"
   ]
  },
  {
   "cell_type": "code",
   "execution_count": 60,
   "id": "b0532c25-c6d5-42af-beab-c65ad524bc2d",
   "metadata": {},
   "outputs": [
    {
     "data": {
      "image/png": "[encoded data removed]",
      "text/plain": [
       "<Figure size 640x480 with 1 Axes>"
      ]
     },
     "metadata": {},
     "output_type": "display_data"
    }
   ],
   "source": [
    "fig, ax = plt.subplots(tight_layout=True)\n",
    "labels = ['Workload 1', 'Workload 2']\n",
    "width = 0.4\n",
    "cost_nom = [1, 5]\n",
    "# cost_rob = [2, 3]\n",
    "# xtick = np.arange(len(labels))\n",
    "xtick = [0, 0.5]\n",
    "# rects1 = ax.bar(xtick - width / 2, cost_nom, width=width, label='Nominal', color='pink', hatch='.')\n",
    "rects1 = ax.bar(xtick, cost_nom, width=width, label='Nominal', color='pink', align='center')\n",
    "# rects2 = ax.bar(xtick + width / 2, cost_rob, width=width, label='Robust', color='tab:orange', hatch='x')\n",
    "\n",
    "ax.set_yticks([])\n",
    "ax.set_ylabel('Cost', fontsize=20)\n",
    "ax.set_xticks(xtick, labels, fontsize=20)\n",
    "# ax.legend(fontsize=24)\n",
    "\n",
    "fig.tight_layout()\n",
    "\n",
    "plt.show()"
   ]
  },
  {
   "cell_type": "code",
   "execution_count": null,
   "id": "83ec9573-6e17-4d86-afaf-1ed1800fb749",
   "metadata": {},
   "outputs": [],
   "source": []
  }
 ],
 "metadata": {
  "kernelspec": {
   "display_name": "Python 3 (ipykernel)",
   "language": "python",
   "name": "python3"
  },
  "language_info": {
   "codemirror_mode": {
    "name": "ipython",
    "version": 3
   },
   "file_extension": ".py",
   "mimetype": "text/x-python",
   "name": "python",
   "nbconvert_exporter": "python",
   "pygments_lexer": "ipython3",
   "version": "3.9.15"
  }
 },
 "nbformat": 4,
 "nbformat_minor": 5
}
