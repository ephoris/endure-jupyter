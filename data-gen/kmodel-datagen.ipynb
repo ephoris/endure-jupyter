{
 "cells": [
  {
   "cell_type": "code",
   "execution_count": 1,
   "id": "17448f69-e742-4c48-8d7e-e9d2c3891d44",
   "metadata": {},
   "outputs": [],
   "source": [
    "import sys\n",
    "import os\n",
    "import random\n",
    "import numpy as np\n",
    "import pandas as pd\n",
    "from tqdm.notebook import tqdm\n",
    "from numba import jit\n",
    "from itertools import combinations_with_replacement\n",
    "\n",
    "sys.path.append(os.path.join(sys.path[0], '../..'))\n",
    "\n",
    "from data.kcost_dataset import KCostDataSetSplit\n",
    "from data.io import Writer, Reader\n",
    "import lsm.cost as CostFunc\n",
    "from lsm.lsmtype import LSMTree, LSMSystem, Policy"
   ]
  },
  {
   "cell_type": "code",
   "execution_count": 2,
   "id": "f6a2e049",
   "metadata": {},
   "outputs": [
    {
     "data": {
      "text/plain": [
       "{'project': {'name': 'ENDURE',\n",
       "  'log_level': 'INFO',\n",
       "  'data_dir': '/Users/ndhuynh/sandbox/data',\n",
       "  'experiments': ['CostSurfaceExp']},\n",
       " 'system': {'B': 4, 'phi': 1, 's': 0.0, 'E': 1024, 'H': 10, 'N': 100000000},\n",
       " 'exp_config': {'Exp01': {'wl_ids': [0,\n",
       "    1,\n",
       "    2,\n",
       "    3,\n",
       "    4,\n",
       "    5,\n",
       "    6,\n",
       "    7,\n",
       "    8,\n",
       "    9,\n",
       "    10,\n",
       "    11,\n",
       "    12,\n",
       "    13,\n",
       "    14]}},\n",
       " 'inputs': {'workloads': [{'id': 0,\n",
       "    'z0': 0.25,\n",
       "    'z1': 0.25,\n",
       "    'q': 0.25,\n",
       "    'w': 0.25},\n",
       "   {'id': 1, 'z0': 0.97, 'z1': 0.01, 'q': 0.01, 'w': 0.01},\n",
       "   {'id': 2, 'z0': 0.01, 'z1': 0.97, 'q': 0.01, 'w': 0.01},\n",
       "   {'id': 3, 'z0': 0.01, 'z1': 0.01, 'q': 0.97, 'w': 0.01},\n",
       "   {'id': 4, 'z0': 0.01, 'z1': 0.01, 'q': 0.01, 'w': 0.97},\n",
       "   {'id': 5, 'z0': 0.49, 'z1': 0.49, 'q': 0.01, 'w': 0.01},\n",
       "   {'id': 6, 'z0': 0.49, 'z1': 0.01, 'q': 0.49, 'w': 0.01},\n",
       "   {'id': 7, 'z0': 0.49, 'z1': 0.01, 'q': 0.01, 'w': 0.49},\n",
       "   {'id': 8, 'z0': 0.01, 'z1': 0.49, 'q': 0.49, 'w': 0.01},\n",
       "   {'id': 9, 'z0': 0.01, 'z1': 0.49, 'q': 0.01, 'w': 0.49},\n",
       "   {'id': 10, 'z0': 0.01, 'z1': 0.01, 'q': 0.49, 'w': 0.49},\n",
       "   {'id': 11, 'z0': 0.33, 'z1': 0.33, 'q': 0.33, 'w': 0.01},\n",
       "   {'id': 12, 'z0': 0.33, 'z1': 0.33, 'q': 0.01, 'w': 0.33},\n",
       "   {'id': 13, 'z0': 0.33, 'z1': 0.01, 'q': 0.33, 'w': 0.33},\n",
       "   {'id': 14, 'z0': 0.01, 'z1': 0.33, 'q': 0.33, 'w': 0.33}]}}"
      ]
     },
     "execution_count": 2,
     "metadata": {},
     "output_type": "execute_result"
    }
   ],
   "source": [
    "def wl_to_array(wl_dict):\n",
    "    return (wl_dict['id'], wl_dict['z0'], wl_dict['z1'], wl_dict['q'], wl_dict['w'])\n",
    "\n",
    "config = Reader.read_config(os.path.join(sys.path[0], '../..', 'config', 'endure.toml'))\n",
    "reader = Reader(config)\n",
    "writer = Writer(config)\n",
    "config"
   ]
  },
  {
   "cell_type": "code",
   "execution_count": 3,
   "id": "b55fc986",
   "metadata": {
    "scrolled": false
   },
   "outputs": [],
   "source": [
    "def create_k_levels(levels: int, max_T: int):\n",
    "    arr = combinations_with_replacement(range(max_T,  0, -1), levels)\n",
    "    return list(arr)"
   ]
  },
  {
   "cell_type": "code",
   "execution_count": 4,
   "id": "a087af9c",
   "metadata": {
    "scrolled": false
   },
   "outputs": [],
   "source": [
    "TMAX = 50\n",
    "MAX_LEVELS = 16\n",
    "SAMPLES = 1000000\n",
    "\n",
    "def gen_file(file_id):\n",
    "    cf = CostFunc.EndureKHybridCost(**config['system'])\n",
    "    wls = np.random.rand(SAMPLES, 4)\n",
    "    wls = np.around(wls / wls.sum(axis=1).reshape(SAMPLES, 1), 3)\n",
    "    hs = np.around(9.5 * np.random.rand(SAMPLES), 2)\n",
    "    Ts = np.random.randint(low=2, high=TMAX, size=SAMPLES)\n",
    "\n",
    "    df = []\n",
    "    fname = f'train_{file_id}.feather'\n",
    "    for wl, h, T in tqdm(zip(wls, hs, Ts), total=SAMPLES, desc=fname):\n",
    "        z0, z1, q, w = wl\n",
    "        levels = int(cf.L(h, T, True))\n",
    "        arr = create_k_levels(levels, T - 1)\n",
    "        arr = random.sample(arr, min(10, len(arr)))\n",
    "        # tier, level = np.array([T - 1] * levels), np.array([1] * levels)\n",
    "        for level_assign in arr:\n",
    "            k = np.pad(level_assign, (0, MAX_LEVELS - len(level_assign)))\n",
    "            k_cost = cf.calc_cost(h, T, k, z0, z1, q, w)\n",
    "            row =  {\n",
    "                'h': h,\n",
    "                'T': T,\n",
    "                'z0': z0,\n",
    "                'z1': z1,\n",
    "                'q': q,\n",
    "                'w': w,\n",
    "                'B': config['system']['B'],\n",
    "                'phi': config['system']['phi'],\n",
    "                's': config['system']['s'],\n",
    "                'E': config['system']['E'],\n",
    "                'H': config['system']['H'],\n",
    "                'N': config['system']['N'],\n",
    "                'k_cost': k_cost,\n",
    "            }\n",
    "            for level_idx in range(MAX_LEVELS):\n",
    "                row[f'K_{level_idx}'] = k[level_idx]\n",
    "            df.append(row)\n",
    "\n",
    "    df = pd.DataFrame(df)\n",
    "    df.to_feather(fname)"
   ]
  },
  {
   "cell_type": "code",
   "execution_count": null,
   "id": "bbd7f291",
   "metadata": {},
   "outputs": [
    {
     "data": {
      "application/vnd.jupyter.widget-view+json": {
       "model_id": "82aff57ac81742b4a2515d95a0ec8b34",
       "version_major": 2,
       "version_minor": 0
      },
      "text/plain": [
       "train_0.feather:   0%|          | 0/1000000 [00:00<?, ?it/s]"
      ]
     },
     "metadata": {},
     "output_type": "display_data"
    }
   ],
   "source": [
    "NUM_FILES = 20\n",
    "for idx in range(NUM_FILES):\n",
    "    gen_file(idx)"
   ]
  },
  {
   "cell_type": "code",
   "execution_count": null,
   "id": "a6cbf8e5",
   "metadata": {},
   "outputs": [],
   "source": []
  }
 ],
 "metadata": {
  "kernelspec": {
   "display_name": "Python 3 (ipykernel)",
   "language": "python",
   "name": "python3"
  },
  "language_info": {
   "codemirror_mode": {
    "name": "ipython",
    "version": 3
   },
   "file_extension": ".py",
   "mimetype": "text/x-python",
   "name": "python",
   "nbconvert_exporter": "python",
   "pygments_lexer": "ipython3",
   "version": "3.9.12"
  }
 },
 "nbformat": 4,
 "nbformat_minor": 5
}
