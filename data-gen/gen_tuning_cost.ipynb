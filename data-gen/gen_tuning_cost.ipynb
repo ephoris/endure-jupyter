{
 "cells": [
  {
   "cell_type": "code",
   "execution_count": 1,
   "id": "8483ac8a-168f-4897-a94d-3dfd5fbce9ba",
   "metadata": {},
   "outputs": [],
   "source": [
    "import sys\n",
    "import os\n",
    "import toml\n",
    "\n",
    "import pandas as pd\n",
    "pd.options.display.float_format = '{:,.2f}'.format\n",
    "\n",
    "import numpy as np\n",
    "import scipy.optimize as SciOpt\n",
    "from scipy.special import rel_entr\n",
    "import matplotlib.pyplot as plt\n",
    "from matplotlib.ticker import PercentFormatter\n",
    "from tqdm.notebook import tqdm\n",
    "from copy import deepcopy\n",
    "\n",
    "sys.path.append(os.path.join(sys.path[0], '../..'))\n",
    "\n",
    "from data.io import Reader\n",
    "from data.data_generators import DataGenerator\n",
    "from lsm.lsmtype import Policy\n",
    "import lsm.cost as CostFunc\n",
    "import jobs.solve as Solvers"
   ]
  },
  {
   "cell_type": "code",
   "execution_count": 2,
   "id": "3c970a40-93db-4d18-8d6d-b85b792c84a6",
   "metadata": {},
   "outputs": [],
   "source": [
    "config = Reader.read_config('../../endure.toml')\n",
    "data_gen = DataGenerator(config)\n",
    "solver = Solvers.EndureQSolver(config)"
   ]
  },
  {
   "cell_type": "code",
   "execution_count": 3,
   "id": "1fb408e5-d0fa-4258-8df4-6776523ccb05",
   "metadata": {},
   "outputs": [],
   "source": [
    "ewls = [\n",
    "    {'z0': 0.25, 'z1': 0.25, 'q': 0.25, 'w': 0.25},     # 00\n",
    "    {'z0': 0.97, 'z1': 0.01, 'q': 0.01, 'w': 0.01},     # 01\n",
    "    {'z0': 0.01, 'z1': 0.97, 'q': 0.01, 'w': 0.01},     # 02\n",
    "    {'z0': 0.01, 'z1': 0.01, 'q': 0.97, 'w': 0.01},     # 03\n",
    "    {'z0': 0.01, 'z1': 0.01, 'q': 0.01, 'w': 0.97},     # 04\n",
    "    {'z0': 0.49, 'z1': 0.49, 'q': 0.01, 'w': 0.01},     # 01\n",
    "    {'z0': 0.49, 'z1': 0.01, 'q': 0.49, 'w': 0.01},     # 06\n",
    "    {'z0': 0.49, 'z1': 0.01, 'q': 0.01, 'w': 0.49},     # 07\n",
    "    {'z0': 0.01, 'z1': 0.49, 'q': 0.49, 'w': 0.01},     # 08\n",
    "    {'z0': 0.01, 'z1': 0.49, 'q': 0.01, 'w': 0.49},     # 09\n",
    "    {'z0': 0.01, 'z1': 0.01, 'q': 0.49, 'w': 0.49},     # 10\n",
    "    {'z0': 0.33, 'z1': 0.33, 'q': 0.33, 'w': 0.01},     # 11\n",
    "    {'z0': 0.33, 'z1': 0.33, 'q': 0.01, 'w': 0.33},     # 12\n",
    "    {'z0': 0.33, 'z1': 0.01, 'q': 0.33, 'w': 0.33},     # 13\n",
    "    {'z0': 0.01, 'z1': 0.33, 'q': 0.33, 'w': 0.33},     # 14\n",
    "    {'z0': 0.10, 'z1': 0.10, 'q': 0.10, 'w': 0.70},     # 15\n",
    "    {'z0': 0.70, 'z1': 0.20, 'q': 0.01, 'w': 0.01},     # 16\n",
    "    {'z0': 0.30, 'z1': 0.01, 'q': 0.01, 'w': 0.60},     # 17\n",
    "]\n",
    "rhos = np.arange(0, 4, 0.25)"
   ]
  },
  {
   "cell_type": "code",
   "execution_count": 4,
   "id": "3bfa5d35-0fd9-4d8a-b9ea-0ae31661bf92",
   "metadata": {
    "tags": []
   },
   "outputs": [],
   "source": [
    "def sample_workloads(samples=10000):\n",
    "    wls = []\n",
    "    for _ in range(samples):\n",
    "        wls.append(data_gen._sample_workload(4))\n",
    "    return wls"
   ]
  },
  {
   "cell_type": "code",
   "execution_count": 5,
   "id": "ba4be796-809c-4012-a193-c90e9c12085e",
   "metadata": {
    "tags": []
   },
   "outputs": [],
   "source": [
    "def create_tunings():\n",
    "    df = []\n",
    "    pbar = tqdm(ewls, desc='Workloads')\n",
    "\n",
    "    for idx, w in enumerate(pbar):\n",
    "        expected_workloads_pbar.set_postfix(workload=w)\n",
    "        row = {}\n",
    "        row['workload_idx'] = idx\n",
    "        z0, z1, q, w = (w['z0'], w['z1'], w['q'], w['w'])\n",
    "        row['z0'], row['z1'], row['q'], row['w'] = (z0, z1, q, w)\n",
    "\n",
    "        nominal = solver.find_nominal_design(z0, z1, q, w)\n",
    "        row['nominal_h'] = h_init = nominal.x[0]\n",
    "        row['nominal_T'] = T_init = nominal.x[1]\n",
    "        row['nominal_Q'] = Q_init = nominal.x[2]\n",
    "        row['nominal_cost'] = nominal.fun\n",
    "        for rho in rhos:\n",
    "            row['rho'] = rho\n",
    "            robust = solver.find_robust_design(rho, z0, z1, q, w, h_init, T_init, Q_init)\n",
    "            row['robust_h'] = robust.x[0]\n",
    "            row['robust_T'] = robust.x[1]\n",
    "            row['robust_Q'] = robust.x[2]\n",
    "            row['robust_cost'] = solver.nominal_objective(robust.x[0:3], z0, z1, q, w)\n",
    "\n",
    "            # Append the design to the dataframe\n",
    "            df.append(deepcopy(row))\n",
    "\n",
    "    df = pd.DataFrame(df)\n",
    "    return df"
   ]
  },
  {
   "cell_type": "code",
   "execution_count": 6,
   "id": "f8361cc2-ec62-49f4-a770-8ae8855c8a56",
   "metadata": {
    "tags": []
   },
   "outputs": [
    {
     "data": {
      "application/vnd.jupyter.widget-view+json": {
       "model_id": "0907f0c910f94de39be0a48f8173aa94",
       "version_major": 2,
       "version_minor": 0
      },
      "text/plain": [
       "Workloads:   0%|          | 0/18 [00:00<?, ?it/s]"
      ]
     },
     "metadata": {},
     "output_type": "display_data"
    },
    {
     "name": "stderr",
     "output_type": "stream",
     "text": [
      "/Users/ndhuynh/miniforge3/lib/python3.9/site-packages/scipy/optimize/_optimize.py:284: RuntimeWarning: Values in x were outside bounds during a minimize step, clipping to bounds\n",
      "  warnings.warn(\"Values in x were outside bounds during a \"\n",
      "/Users/ndhuynh/repos/endure/endure-torch/notebook/data-gen/../../jobs/solve.py:14: RuntimeWarning: overflow encountered in exp\n",
      "  return np.exp(input) - 1\n"
     ]
    }
   ],
   "source": [
    "tunings = create_tunings().to_dict('records')"
   ]
  },
  {
   "cell_type": "code",
   "execution_count": 7,
   "id": "e3da3f39-9b3c-4285-a052-904171e1965d",
   "metadata": {},
   "outputs": [],
   "source": [
    "samples = sample_workloads()\n",
    "distances = {}\n",
    "for idx, wl in enumerate(ewls):\n",
    "    key = idx\n",
    "    w0 = [wl['z0'], wl['z1'], wl['q'], wl['w']]\n",
    "    distances[key] = []\n",
    "    for sample in samples:\n",
    "        distances[key].append(np.sum(rel_entr(sample, w0)))"
   ]
  },
  {
   "cell_type": "code",
   "execution_count": 8,
   "id": "1ea4cbdf-12d2-4402-8ec1-82586b78b7a7",
   "metadata": {
    "tags": []
   },
   "outputs": [
    {
     "data": {
      "application/vnd.jupyter.widget-view+json": {
       "model_id": "74497feddec949b888e7dd17b6d50fb0",
       "version_major": 2,
       "version_minor": 0
      },
      "text/plain": [
       "Tunings:   0%|          | 0/288 [00:00<?, ?it/s]"
      ]
     },
     "metadata": {},
     "output_type": "display_data"
    }
   ],
   "source": [
    "comparisons = []\n",
    "for tuning in tqdm(tunings, desc='Tunings'):\n",
    "    row = {}\n",
    "    row['workload_idx'] = tuning['workload_idx']\n",
    "    row['z0'] = tuning['z0']\n",
    "    row['z1'] = tuning['z1']\n",
    "    row['q'] = tuning['q']\n",
    "    row['w'] = tuning['w']\n",
    "    row['robust_rho'] = tuning['rho']\n",
    "    row['robust_h'] = tuning['robust_h']\n",
    "    row['robust_T'] = tuning['robust_T']\n",
    "    row['robust_Q'] = tuning['robust_Q']\n",
    "\n",
    "    row['nominal_h'] = tuning['nominal_h']\n",
    "    row['nominal_T'] = tuning['nominal_T']\n",
    "    row['nominal_Q'] = tuning['nominal_Q']\n",
    "    nominal = [row['nominal_h'], row['nominal_T'], row['nominal_Q']]\n",
    "    robust = [row['robust_h'], row['robust_T'], row['robust_Q']]\n",
    "\n",
    "    distance = distances[row['workload_idx']]\n",
    "    for idx, w_hat in enumerate(samples):\n",
    "        row['rho_hat'] = distance[idx]\n",
    "        row['z0_hat'] = w_hat[0]\n",
    "        row['z1_hat'] = w_hat[1]\n",
    "        row['q_hat'] = w_hat[2]\n",
    "        row['w_hat'] = w_hat[3]\n",
    "        row['sample_idx'] = idx\n",
    "        row['nominal_cost'] = solver.nominal_objective(nominal, *w_hat)\n",
    "        row['robust_cost'] = solver.nominal_objective(robust, *w_hat)\n",
    "        comparisons.append(deepcopy(row))\n",
    "\n",
    "df = pd.DataFrame(comparisons)"
   ]
  },
  {
   "cell_type": "code",
   "execution_count": 9,
   "id": "14186799-2b02-485a-9129-7705a73f4e74",
   "metadata": {},
   "outputs": [],
   "source": [
    "df.to_csv('/Users/ndhuynh/sandbox/data/exp01.csv', index=False)"
   ]
  }
 ],
 "metadata": {
  "kernelspec": {
   "display_name": "Python 3 (ipykernel)",
   "language": "python",
   "name": "python3"
  },
  "language_info": {
   "codemirror_mode": {
    "name": "ipython",
    "version": 3
   },
   "file_extension": ".py",
   "mimetype": "text/x-python",
   "name": "python",
   "nbconvert_exporter": "python",
   "pygments_lexer": "ipython3",
   "version": "3.9.12"
  }
 },
 "nbformat": 4,
 "nbformat_minor": 5
}
