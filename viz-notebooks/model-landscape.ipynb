{
 "cells": [
  {
   "cell_type": "code",
   "execution_count": 1,
   "id": "f6fdc001",
   "metadata": {},
   "outputs": [],
   "source": [
    "import sys, os, toml\n",
    "import torch\n",
    "import torch.nn as nn\n",
    "import pandas as pd\n",
    "import numpy as np\n",
    "import matplotlib.pyplot as plt\n",
    "from tqdm.notebook import tqdm\n",
    "from IPython.display import display, HTML\n",
    "from itertools import combinations_with_replacement\n",
    "from torch.utils.data import Dataset, DataLoader\n",
    "\n",
    "sys.path.append(os.path.join(sys.path[0], '../..'))\n",
    "\n",
    "from data.kcost_dataset import KCostDataSetSplit\n",
    "from data.io import Writer, Reader\n",
    "from model.kcost import KCostModel\n",
    "from lsm.cost import EndureQFixedCost, EndureTierLevelCost, EndureKHybridCost\n",
    "from lsm.lsmtype import LSMTree, LSMSystem, Policy"
   ]
  },
  {
   "cell_type": "code",
   "execution_count": 2,
   "id": "0c35ced4",
   "metadata": {},
   "outputs": [],
   "source": [
    "def wl_to_array(wl_dict):\n",
    "    return (wl_dict['id'], wl_dict['z0'], wl_dict['z1'], wl_dict['q'], wl_dict['w'])\n",
    "\n",
    "# config = Reader.read_config(os.path.join(sys.path[0], '../..', 'config', 'endure.toml'))\n",
    "# reader = Reader(config)\n",
    "# writer = Writer(config)\n",
    "# system_vars = LSMSystem(**config['system'])\n",
    "\n",
    "cfg = toml.load(os.path.join(sys.path[0], '../..', 'config', 'training.toml'))\n",
    "data_path = os.path.join(cfg['io']['data_dir'], cfg['io']['train_dir'])"
   ]
  },
  {
   "cell_type": "code",
   "execution_count": 3,
   "id": "bf613b84",
   "metadata": {},
   "outputs": [
    {
     "name": "stdout",
     "output_type": "stream",
     "text": [
      "CPU times: user 11.1 s, sys: 6.8 s, total: 17.9 s\n",
      "Wall time: 10 s\n"
     ]
    }
   ],
   "source": [
    "%%time\n",
    "paths = [os.path.join(data_path, fname) for fname in cfg['io']['train_data']]\n",
    "train_data = KCostDataSetSplit(cfg, paths)"
   ]
  },
  {
   "cell_type": "code",
   "execution_count": 4,
   "id": "75369314",
   "metadata": {},
   "outputs": [
    {
     "name": "stdout",
     "output_type": "stream",
     "text": [
      "CPU times: user 1.49 s, sys: 840 ms, total: 2.33 s\n",
      "Wall time: 749 ms\n"
     ]
    }
   ],
   "source": [
    "%%time\n",
    "paths = [os.path.join(data_path, fname) for fname in cfg['io']['test_data']]\n",
    "test_data = KCostDataSetSplit(cfg, paths)\n",
    "test = DataLoader(test_data, batch_size=8192)"
   ]
  },
  {
   "cell_type": "code",
   "execution_count": 5,
   "id": "ff47ef69",
   "metadata": {
    "scrolled": true
   },
   "outputs": [
    {
     "data": {
      "text/plain": [
       "<All keys matched successfully>"
      ]
     },
     "execution_count": 5,
     "metadata": {},
     "output_type": "execute_result"
    }
   ],
   "source": [
    "model = KCostModel(cfg)\n",
    "model.state_dict()\n",
    "model_data = torch.load(os.path.join(sys.path[0], '../..', 'checkpoint.pt')) \n",
    "model.load_state_dict(model_data['model_state_dict'])"
   ]
  },
  {
   "cell_type": "code",
   "execution_count": 6,
   "id": "b462b348",
   "metadata": {},
   "outputs": [
    {
     "data": {
      "text/html": [
       "<div>\n",
       "<style scoped>\n",
       "    .dataframe tbody tr th:only-of-type {\n",
       "        vertical-align: middle;\n",
       "    }\n",
       "\n",
       "    .dataframe tbody tr th {\n",
       "        vertical-align: top;\n",
       "    }\n",
       "\n",
       "    .dataframe thead th {\n",
       "        text-align: right;\n",
       "    }\n",
       "</style>\n",
       "<table border=\"1\" class=\"dataframe\">\n",
       "  <thead>\n",
       "    <tr style=\"text-align: right;\">\n",
       "      <th></th>\n",
       "      <th>wl_id</th>\n",
       "      <th>h</th>\n",
       "      <th>T</th>\n",
       "      <th>z0</th>\n",
       "      <th>z1</th>\n",
       "      <th>q</th>\n",
       "      <th>w</th>\n",
       "      <th>B</th>\n",
       "      <th>phi</th>\n",
       "      <th>s</th>\n",
       "      <th>...</th>\n",
       "      <th>K_6</th>\n",
       "      <th>K_7</th>\n",
       "      <th>K_8</th>\n",
       "      <th>K_9</th>\n",
       "      <th>K_10</th>\n",
       "      <th>K_11</th>\n",
       "      <th>K_12</th>\n",
       "      <th>K_13</th>\n",
       "      <th>K_14</th>\n",
       "      <th>K_15</th>\n",
       "    </tr>\n",
       "  </thead>\n",
       "  <tbody>\n",
       "    <tr>\n",
       "      <th>0</th>\n",
       "      <td>3</td>\n",
       "      <td>0.0</td>\n",
       "      <td>2</td>\n",
       "      <td>0.01</td>\n",
       "      <td>0.01</td>\n",
       "      <td>0.97</td>\n",
       "      <td>0.01</td>\n",
       "      <td>4</td>\n",
       "      <td>1</td>\n",
       "      <td>0.0</td>\n",
       "      <td>...</td>\n",
       "      <td>1</td>\n",
       "      <td>1</td>\n",
       "      <td>1</td>\n",
       "      <td>1</td>\n",
       "      <td>0</td>\n",
       "      <td>0</td>\n",
       "      <td>0</td>\n",
       "      <td>0</td>\n",
       "      <td>0</td>\n",
       "      <td>0</td>\n",
       "    </tr>\n",
       "    <tr>\n",
       "      <th>1</th>\n",
       "      <td>3</td>\n",
       "      <td>0.0</td>\n",
       "      <td>4</td>\n",
       "      <td>0.01</td>\n",
       "      <td>0.01</td>\n",
       "      <td>0.97</td>\n",
       "      <td>0.01</td>\n",
       "      <td>4</td>\n",
       "      <td>1</td>\n",
       "      <td>0.0</td>\n",
       "      <td>...</td>\n",
       "      <td>0</td>\n",
       "      <td>0</td>\n",
       "      <td>0</td>\n",
       "      <td>0</td>\n",
       "      <td>0</td>\n",
       "      <td>0</td>\n",
       "      <td>0</td>\n",
       "      <td>0</td>\n",
       "      <td>0</td>\n",
       "      <td>0</td>\n",
       "    </tr>\n",
       "    <tr>\n",
       "      <th>2</th>\n",
       "      <td>3</td>\n",
       "      <td>0.0</td>\n",
       "      <td>4</td>\n",
       "      <td>0.01</td>\n",
       "      <td>0.01</td>\n",
       "      <td>0.97</td>\n",
       "      <td>0.01</td>\n",
       "      <td>4</td>\n",
       "      <td>1</td>\n",
       "      <td>0.0</td>\n",
       "      <td>...</td>\n",
       "      <td>0</td>\n",
       "      <td>0</td>\n",
       "      <td>0</td>\n",
       "      <td>0</td>\n",
       "      <td>0</td>\n",
       "      <td>0</td>\n",
       "      <td>0</td>\n",
       "      <td>0</td>\n",
       "      <td>0</td>\n",
       "      <td>0</td>\n",
       "    </tr>\n",
       "    <tr>\n",
       "      <th>3</th>\n",
       "      <td>3</td>\n",
       "      <td>0.0</td>\n",
       "      <td>4</td>\n",
       "      <td>0.01</td>\n",
       "      <td>0.01</td>\n",
       "      <td>0.97</td>\n",
       "      <td>0.01</td>\n",
       "      <td>4</td>\n",
       "      <td>1</td>\n",
       "      <td>0.0</td>\n",
       "      <td>...</td>\n",
       "      <td>0</td>\n",
       "      <td>0</td>\n",
       "      <td>0</td>\n",
       "      <td>0</td>\n",
       "      <td>0</td>\n",
       "      <td>0</td>\n",
       "      <td>0</td>\n",
       "      <td>0</td>\n",
       "      <td>0</td>\n",
       "      <td>0</td>\n",
       "    </tr>\n",
       "    <tr>\n",
       "      <th>4</th>\n",
       "      <td>3</td>\n",
       "      <td>0.0</td>\n",
       "      <td>4</td>\n",
       "      <td>0.01</td>\n",
       "      <td>0.01</td>\n",
       "      <td>0.97</td>\n",
       "      <td>0.01</td>\n",
       "      <td>4</td>\n",
       "      <td>1</td>\n",
       "      <td>0.0</td>\n",
       "      <td>...</td>\n",
       "      <td>0</td>\n",
       "      <td>0</td>\n",
       "      <td>0</td>\n",
       "      <td>0</td>\n",
       "      <td>0</td>\n",
       "      <td>0</td>\n",
       "      <td>0</td>\n",
       "      <td>0</td>\n",
       "      <td>0</td>\n",
       "      <td>0</td>\n",
       "    </tr>\n",
       "    <tr>\n",
       "      <th>...</th>\n",
       "      <td>...</td>\n",
       "      <td>...</td>\n",
       "      <td>...</td>\n",
       "      <td>...</td>\n",
       "      <td>...</td>\n",
       "      <td>...</td>\n",
       "      <td>...</td>\n",
       "      <td>...</td>\n",
       "      <td>...</td>\n",
       "      <td>...</td>\n",
       "      <td>...</td>\n",
       "      <td>...</td>\n",
       "      <td>...</td>\n",
       "      <td>...</td>\n",
       "      <td>...</td>\n",
       "      <td>...</td>\n",
       "      <td>...</td>\n",
       "      <td>...</td>\n",
       "      <td>...</td>\n",
       "      <td>...</td>\n",
       "      <td>...</td>\n",
       "    </tr>\n",
       "    <tr>\n",
       "      <th>1470411</th>\n",
       "      <td>3</td>\n",
       "      <td>9.5</td>\n",
       "      <td>48</td>\n",
       "      <td>0.01</td>\n",
       "      <td>0.01</td>\n",
       "      <td>0.97</td>\n",
       "      <td>0.01</td>\n",
       "      <td>4</td>\n",
       "      <td>1</td>\n",
       "      <td>0.0</td>\n",
       "      <td>...</td>\n",
       "      <td>0</td>\n",
       "      <td>0</td>\n",
       "      <td>0</td>\n",
       "      <td>0</td>\n",
       "      <td>0</td>\n",
       "      <td>0</td>\n",
       "      <td>0</td>\n",
       "      <td>0</td>\n",
       "      <td>0</td>\n",
       "      <td>0</td>\n",
       "    </tr>\n",
       "    <tr>\n",
       "      <th>1470412</th>\n",
       "      <td>3</td>\n",
       "      <td>9.5</td>\n",
       "      <td>48</td>\n",
       "      <td>0.01</td>\n",
       "      <td>0.01</td>\n",
       "      <td>0.97</td>\n",
       "      <td>0.01</td>\n",
       "      <td>4</td>\n",
       "      <td>1</td>\n",
       "      <td>0.0</td>\n",
       "      <td>...</td>\n",
       "      <td>0</td>\n",
       "      <td>0</td>\n",
       "      <td>0</td>\n",
       "      <td>0</td>\n",
       "      <td>0</td>\n",
       "      <td>0</td>\n",
       "      <td>0</td>\n",
       "      <td>0</td>\n",
       "      <td>0</td>\n",
       "      <td>0</td>\n",
       "    </tr>\n",
       "    <tr>\n",
       "      <th>1470413</th>\n",
       "      <td>3</td>\n",
       "      <td>9.5</td>\n",
       "      <td>48</td>\n",
       "      <td>0.01</td>\n",
       "      <td>0.01</td>\n",
       "      <td>0.97</td>\n",
       "      <td>0.01</td>\n",
       "      <td>4</td>\n",
       "      <td>1</td>\n",
       "      <td>0.0</td>\n",
       "      <td>...</td>\n",
       "      <td>0</td>\n",
       "      <td>0</td>\n",
       "      <td>0</td>\n",
       "      <td>0</td>\n",
       "      <td>0</td>\n",
       "      <td>0</td>\n",
       "      <td>0</td>\n",
       "      <td>0</td>\n",
       "      <td>0</td>\n",
       "      <td>0</td>\n",
       "    </tr>\n",
       "    <tr>\n",
       "      <th>1470414</th>\n",
       "      <td>3</td>\n",
       "      <td>9.5</td>\n",
       "      <td>48</td>\n",
       "      <td>0.01</td>\n",
       "      <td>0.01</td>\n",
       "      <td>0.97</td>\n",
       "      <td>0.01</td>\n",
       "      <td>4</td>\n",
       "      <td>1</td>\n",
       "      <td>0.0</td>\n",
       "      <td>...</td>\n",
       "      <td>0</td>\n",
       "      <td>0</td>\n",
       "      <td>0</td>\n",
       "      <td>0</td>\n",
       "      <td>0</td>\n",
       "      <td>0</td>\n",
       "      <td>0</td>\n",
       "      <td>0</td>\n",
       "      <td>0</td>\n",
       "      <td>0</td>\n",
       "    </tr>\n",
       "    <tr>\n",
       "      <th>1470415</th>\n",
       "      <td>3</td>\n",
       "      <td>9.5</td>\n",
       "      <td>48</td>\n",
       "      <td>0.01</td>\n",
       "      <td>0.01</td>\n",
       "      <td>0.97</td>\n",
       "      <td>0.01</td>\n",
       "      <td>4</td>\n",
       "      <td>1</td>\n",
       "      <td>0.0</td>\n",
       "      <td>...</td>\n",
       "      <td>0</td>\n",
       "      <td>0</td>\n",
       "      <td>0</td>\n",
       "      <td>0</td>\n",
       "      <td>0</td>\n",
       "      <td>0</td>\n",
       "      <td>0</td>\n",
       "      <td>0</td>\n",
       "      <td>0</td>\n",
       "      <td>0</td>\n",
       "    </tr>\n",
       "  </tbody>\n",
       "</table>\n",
       "<p>1470416 rows × 33 columns</p>\n",
       "</div>"
      ],
      "text/plain": [
       "         wl_id    h   T    z0    z1     q     w  B  phi    s  ...  K_6  K_7  \\\n",
       "0            3  0.0   2  0.01  0.01  0.97  0.01  4    1  0.0  ...    1    1   \n",
       "1            3  0.0   4  0.01  0.01  0.97  0.01  4    1  0.0  ...    0    0   \n",
       "2            3  0.0   4  0.01  0.01  0.97  0.01  4    1  0.0  ...    0    0   \n",
       "3            3  0.0   4  0.01  0.01  0.97  0.01  4    1  0.0  ...    0    0   \n",
       "4            3  0.0   4  0.01  0.01  0.97  0.01  4    1  0.0  ...    0    0   \n",
       "...        ...  ...  ..   ...   ...   ...   ... ..  ...  ...  ...  ...  ...   \n",
       "1470411      3  9.5  48  0.01  0.01  0.97  0.01  4    1  0.0  ...    0    0   \n",
       "1470412      3  9.5  48  0.01  0.01  0.97  0.01  4    1  0.0  ...    0    0   \n",
       "1470413      3  9.5  48  0.01  0.01  0.97  0.01  4    1  0.0  ...    0    0   \n",
       "1470414      3  9.5  48  0.01  0.01  0.97  0.01  4    1  0.0  ...    0    0   \n",
       "1470415      3  9.5  48  0.01  0.01  0.97  0.01  4    1  0.0  ...    0    0   \n",
       "\n",
       "         K_8  K_9  K_10  K_11  K_12  K_13  K_14  K_15  \n",
       "0          1    1     0     0     0     0     0     0  \n",
       "1          0    0     0     0     0     0     0     0  \n",
       "2          0    0     0     0     0     0     0     0  \n",
       "3          0    0     0     0     0     0     0     0  \n",
       "4          0    0     0     0     0     0     0     0  \n",
       "...      ...  ...   ...   ...   ...   ...   ...   ...  \n",
       "1470411    0    0     0     0     0     0     0     0  \n",
       "1470412    0    0     0     0     0     0     0     0  \n",
       "1470413    0    0     0     0     0     0     0     0  \n",
       "1470414    0    0     0     0     0     0     0     0  \n",
       "1470415    0    0     0     0     0     0     0     0  \n",
       "\n",
       "[1470416 rows x 33 columns]"
      ]
     },
     "execution_count": 6,
     "metadata": {},
     "output_type": "execute_result"
    }
   ],
   "source": [
    "test_path = paths[0]\n",
    "df = pd.read_feather(test_path)\n",
    "df"
   ]
  },
  {
   "cell_type": "code",
   "execution_count": 7,
   "id": "dfe101ea",
   "metadata": {},
   "outputs": [
    {
     "data": {
      "application/vnd.jupyter.widget-view+json": {
       "model_id": "25cadd2667bf44cb8cb59a9649fd7fc3",
       "version_major": 2,
       "version_minor": 0
      },
      "text/plain": [
       "Testing:   0%|          | 0/180 [00:00<?, ?it/s]"
      ]
     },
     "metadata": {},
     "output_type": "display_data"
    }
   ],
   "source": [
    "model_cost = []\n",
    "model.eval()\n",
    "with torch.no_grad():\n",
    "    for x, _ in tqdm(test, desc='Testing'):\n",
    "        pred = model(x)\n",
    "        model_cost.append(pred)\n",
    "df['model_cost'] = torch.flatten(torch.cat(model_cost))"
   ]
  },
  {
   "cell_type": "code",
   "execution_count": null,
   "id": "7a22c524",
   "metadata": {},
   "outputs": [],
   "source": []
  },
  {
   "cell_type": "code",
   "execution_count": 8,
   "id": "a06c98c5",
   "metadata": {},
   "outputs": [
    {
     "data": {
      "text/plain": [
       "157.1812958020101"
      ]
     },
     "execution_count": 8,
     "metadata": {},
     "output_type": "execute_result"
    }
   ],
   "source": [
    "mse = ((df['new_cost'] - df['model_cost']) ** 2).sum() / len(df)\n",
    "mse"
   ]
  },
  {
   "cell_type": "code",
   "execution_count": 9,
   "id": "5de53440",
   "metadata": {},
   "outputs": [
    {
     "data": {
      "text/plain": [
       "tensor([[5.1304]], grad_fn=<ReluBackward0>)"
      ]
     },
     "execution_count": 9,
     "metadata": {},
     "output_type": "execute_result"
    }
   ],
   "source": [
    "model(train_data[0][0].unsqueeze(0))"
   ]
  },
  {
   "cell_type": "code",
   "execution_count": 10,
   "id": "125fe0c9",
   "metadata": {},
   "outputs": [
    {
     "data": {
      "text/plain": [
       "tensor([[44.0423]], grad_fn=<ReluBackward0>)"
      ]
     },
     "execution_count": 10,
     "metadata": {},
     "output_type": "execute_result"
    }
   ],
   "source": [
    "model(test_data[100][0].unsqueeze(0))"
   ]
  },
  {
   "cell_type": "code",
   "execution_count": null,
   "id": "999033c9",
   "metadata": {},
   "outputs": [],
   "source": []
  }
 ],
 "metadata": {
  "kernelspec": {
   "display_name": "Python 3 (ipykernel)",
   "language": "python",
   "name": "python3"
  },
  "language_info": {
   "codemirror_mode": {
    "name": "ipython",
    "version": 3
   },
   "file_extension": ".py",
   "mimetype": "text/x-python",
   "name": "python",
   "nbconvert_exporter": "python",
   "pygments_lexer": "ipython3",
   "version": "3.9.12"
  }
 },
 "nbformat": 4,
 "nbformat_minor": 5
}
