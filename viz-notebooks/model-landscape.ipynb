{
 "cells": [
  {
   "cell_type": "code",
   "execution_count": 27,
   "id": "f6fdc001",
   "metadata": {},
   "outputs": [],
   "source": [
    "import sys, os, toml\n",
    "import torch\n",
    "import torch.nn as nn\n",
    "import pandas as pd\n",
    "import numpy as np\n",
    "import matplotlib.pyplot as plt\n",
    "from IPython.display import display, HTML\n",
    "from itertools import combinations_with_replacement\n",
    "from torch.utils.data import Dataset\n",
    "\n",
    "sys.path.append(os.path.join(sys.path[0], '../..'))\n",
    "\n",
    "from data.kcost_dataset import KCostDataSet\n",
    "from data.io import Writer, Reader\n",
    "from lsm.cost import EndureQFixedCost, EndureTierLevelCost, EndureKHybridCost\n",
    "from lsm.lsmtype import LSMTree, LSMSystem, Policy"
   ]
  },
  {
   "cell_type": "code",
   "execution_count": 2,
   "id": "0c35ced4",
   "metadata": {},
   "outputs": [],
   "source": [
    "def wl_to_array(wl_dict):\n",
    "    return (wl_dict['id'], wl_dict['z0'], wl_dict['z1'], wl_dict['q'], wl_dict['w'])\n",
    "\n",
    "config = Reader.read_config(os.path.join(sys.path[0], '../..', 'config', 'endure.toml'))\n",
    "reader = Reader(config)\n",
    "writer = Writer(config)\n",
    "\n",
    "system_vars = LSMSystem(**config['system'])"
   ]
  },
  {
   "cell_type": "code",
   "execution_count": 23,
   "id": "6b5fe113",
   "metadata": {},
   "outputs": [],
   "source": [
    "class KCostDataSetSplit(Dataset):\n",
    "    MAX_LEVELS = 16\n",
    "    \n",
    "    def __init__(self, paths: list[str], transform=None, target_transform=None):\n",
    "        df = []\n",
    "        for path in paths:\n",
    "            print(f'Reading in {path}')\n",
    "            df.append(pd.read_feather(path))\n",
    "        df = pd.concat(df)\n",
    "\n",
    "        cont_inputs = ['h', 'z0', 'z1', 'q', 'w']\n",
    "        cate_inputs = ['T'] + [f'K_{i}' for i in range(self.MAX_LEVELS)]\n",
    "        output_cols = ['new_cost']\n",
    "\n",
    "        mean = df[cont_inputs].mean()\n",
    "        std = df[cont_inputs].std()\n",
    "        std[std == 0] = 1\n",
    "        df[cont_inputs] = (df[cont_inputs] - mean) / std\n",
    "        self.normalize_vars = (mean ,std)\n",
    "        \n",
    "        self.cont_inputs = torch.from_numpy(df[cont_inputs].values).float()\n",
    "        print('Normalized continous vars')\n",
    "        self.cate_inputs = torch.from_numpy(df[cate_inputs].values).to(torch.int64)\n",
    "        \n",
    "        self.outputs = torch.from_numpy(df[output_cols].values).float()\n",
    "\n",
    "    def __len__(self):\n",
    "        return len(self.cont_inputs)\n",
    "\n",
    "    def __getitem__(self, idx):\n",
    "        categories = torch.flatten(nn.functional.one_hot(self.cate_inputs[idx], num_classes=50), start_dim=-2)\n",
    "        inputs = torch.cat((self.cont_inputs[idx], categories), dim=-1)\n",
    "        label = self.outputs[idx]\n",
    "\n",
    "        return inputs, label"
   ]
  },
  {
   "cell_type": "code",
   "execution_count": 24,
   "id": "bf613b84",
   "metadata": {},
   "outputs": [
    {
     "name": "stdout",
     "output_type": "stream",
     "text": [
      "Reading in /scratchNVM0/ndhuynh/data/cost_k_feather/k_wl_0.feather\n",
      "Reading in /scratchNVM0/ndhuynh/data/cost_k_feather/k_wl_1.feather\n",
      "Reading in /scratchNVM0/ndhuynh/data/cost_k_feather/k_wl_2.feather\n",
      "Reading in /scratchNVM0/ndhuynh/data/cost_k_feather/k_wl_3.feather\n",
      "Reading in /scratchNVM0/ndhuynh/data/cost_k_feather/k_wl_4.feather\n",
      "Reading in /scratchNVM0/ndhuynh/data/cost_k_feather/k_wl_5.feather\n",
      "Reading in /scratchNVM0/ndhuynh/data/cost_k_feather/k_wl_6.feather\n",
      "Reading in /scratchNVM0/ndhuynh/data/cost_k_feather/k_wl_7.feather\n",
      "Reading in /scratchNVM0/ndhuynh/data/cost_k_feather/k_wl_8.feather\n",
      "Reading in /scratchNVM0/ndhuynh/data/cost_k_feather/k_wl_9.feather\n",
      "Reading in /scratchNVM0/ndhuynh/data/cost_k_feather/k_wl_10.feather\n",
      "Reading in /scratchNVM0/ndhuynh/data/cost_k_feather/k_wl_11.feather\n",
      "Reading in /scratchNVM0/ndhuynh/data/cost_k_feather/k_wl_12.feather\n",
      "Reading in /scratchNVM0/ndhuynh/data/cost_k_feather/k_wl_13.feather\n",
      "Reading in /scratchNVM0/ndhuynh/data/cost_k_feather/k_wl_14.feather\n",
      "Normalized continous vars\n",
      "CPU times: user 21.3 s, sys: 10.5 s, total: 31.8 s\n",
      "Wall time: 15 s\n"
     ]
    }
   ],
   "source": [
    "%%time\n",
    "\n",
    "base_path = '/scratchNVM0/ndhuynh/data/cost_k_feather'\n",
    "paths = [os.path.join(base_path, f'k_wl_{i}.feather') for i in range(15)]\n",
    "paths\n",
    "\n",
    "data = KCostDataSetSplit(paths)"
   ]
  },
  {
   "cell_type": "code",
   "execution_count": 5,
   "id": "2b964274",
   "metadata": {},
   "outputs": [
    {
     "data": {
      "text/plain": [
       "array([3, 3, 3, 3, 3, 0, 0, 0, 0, 0, 0, 0, 0, 0, 0, 0])"
      ]
     },
     "execution_count": 5,
     "metadata": {},
     "output_type": "execute_result"
    }
   ],
   "source": [
    "def create_k_levels(levels, max_size_ratio):\n",
    "    arr = combinations_with_replacement(range(max_size_ratio, 0, -1), levels)\n",
    "    return arr\n",
    "\n",
    "arr = list(create_k_levels(5, 3))[0]\n",
    "arr = np.pad(arr, (0, 16 - len(arr)))\n",
    "arr"
   ]
  },
  {
   "cell_type": "code",
   "execution_count": 31,
   "id": "4a1d9951",
   "metadata": {},
   "outputs": [
    {
     "data": {
      "text/plain": [
       "22056240"
      ]
     },
     "execution_count": 31,
     "metadata": {},
     "output_type": "execute_result"
    }
   ],
   "source": [
    "len(data)"
   ]
  },
  {
   "cell_type": "code",
   "execution_count": null,
   "id": "e103cf3a",
   "metadata": {},
   "outputs": [],
   "source": []
  }
 ],
 "metadata": {
  "kernelspec": {
   "display_name": "Python 3 (ipykernel)",
   "language": "python",
   "name": "python3"
  },
  "language_info": {
   "codemirror_mode": {
    "name": "ipython",
    "version": 3
   },
   "file_extension": ".py",
   "mimetype": "text/x-python",
   "name": "python",
   "nbconvert_exporter": "python",
   "pygments_lexer": "ipython3",
   "version": "3.9.12"
  }
 },
 "nbformat": 4,
 "nbformat_minor": 5
}
