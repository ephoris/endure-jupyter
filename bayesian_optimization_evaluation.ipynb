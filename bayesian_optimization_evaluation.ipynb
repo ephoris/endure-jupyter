{
 "cells": [
  {
   "cell_type": "code",
   "execution_count": 1,
   "id": "81f32f4e-d425-42fd-b882-7c570f1a635b",
   "metadata": {},
   "outputs": [],
   "source": [
    "import sys\n",
    "import os\n",
    "import csv\n",
    "import numpy as np\n",
    "import torch"
   ]
  },
  {
   "cell_type": "code",
   "execution_count": 2,
   "id": "6be4ddfb-9e1b-42fb-9937-87c858ad91bc",
   "metadata": {},
   "outputs": [],
   "source": [
    "sys.path.append(os.path.join(sys.path[0], '../../../'))"
   ]
  },
  {
   "cell_type": "code",
   "execution_count": 3,
   "id": "535ea5e0-78b3-490d-9a65-e64bbc62bbc3",
   "metadata": {},
   "outputs": [],
   "source": [
    "from endure.lcm.data.generator import LCMDataGenerator\n",
    "from endure.data.io import Reader\n",
    "from jobs.bayesian_pipeline import BayesianPipeline\n",
    "from endure.lsm.solver.classic_solver import ClassicSolver\n",
    "from endure.lsm.cost import EndureCost\n",
    "from endure.lsm.types import LSMDesign, System, Policy, Workload\n"
   ]
  },
  {
   "cell_type": "code",
   "execution_count": 4,
   "id": "260c26ac-d168-41c8-8921-0f600bd1b154",
   "metadata": {},
   "outputs": [],
   "source": [
    "config = Reader.read_config(\"../../../endure.toml\")\n",
    "bayesian_optimizer = BayesianPipeline(config)\n",
    "generator = LCMDataGenerator(config)\n",
    "solver = ClassicSolver(config)\n",
    "cf = EndureCost(config)"
   ]
  },
  {
   "cell_type": "code",
   "execution_count": 5,
   "id": "1efd7211-8a9c-4c4e-9887-b1d53d42bf4f",
   "metadata": {},
   "outputs": [],
   "source": [
    "def find_analytical_results(system, z0, z1, q, w):\n",
    "        nominal_design, nominal_solution = solver.get_nominal_design(system, z0, z1, q, w)\n",
    "        x = np.array([[nominal_design.h, nominal_design.T]])\n",
    "        train_x = torch.tensor(x, dtype=torch.float64)\n",
    "        policy = nominal_design.policy\n",
    "        cost = solver.nominal_objective(x[0], policy, system, z0, z1, q, w)\n",
    "        train_y = torch.tensor(cost, dtype=torch.float64).unsqueeze(-1)\n",
    "        return nominal_design, cost"
   ]
  },
  {
   "cell_type": "code",
   "execution_count": 6,
   "id": "68d4dc80-c690-4baa-84e2-39322dfe798e",
   "metadata": {},
   "outputs": [],
   "source": [
    "def update_best_designs(best_designs, new_x: torch.Tensor, new_y: torch.Tensor) -> None:\n",
    "        for x, y in zip(new_x, new_y):\n",
    "            best_designs.append((LSMDesign(x[0].item(), np.ceil(x[1].item()), Policy.Leveling), y.item()))\n"
   ]
  },
  {
   "cell_type": "code",
   "execution_count": 7,
   "id": "00e7c3c7-ec45-4ca3-8302-f8a0b61c1d4f",
   "metadata": {},
   "outputs": [],
   "source": [
    "def generate_initial_data(z0, z1, q, w, system: System, n: int = 30):\n",
    "        train_x = []\n",
    "        train_y = []\n",
    "        for _ in range(n):\n",
    "            design = generator._sample_design(system)\n",
    "            x_values = np.array([design.h, design.T])\n",
    "            # cost is negated here\n",
    "            cost = cf.calc_cost(design, system, z0, z1, q, w)\n",
    "            train_x.append(x_values)\n",
    "            train_y.append(cost)\n",
    "        train_x = np.array(train_x)\n",
    "        train_x = torch.tensor(train_x, dtype=torch.float64)\n",
    "        train_y = torch.tensor(train_y, dtype=torch.float64).unsqueeze(-1)\n",
    "        best_y = train_y.min().item()\n",
    "        return train_x, train_y, best_y"
   ]
  },
  {
   "cell_type": "code",
   "execution_count": 8,
   "id": "2e7de47b-8ff4-4676-8ae8-c545e986c607",
   "metadata": {},
   "outputs": [],
   "source": [
    "acqf = \"ExpectedImprovement\""
   ]
  },
  {
   "cell_type": "code",
   "execution_count": 9,
   "id": "d86a48f5-c3b3-4a98-8507-0b7d05f4276b",
   "metadata": {},
   "outputs": [],
   "source": [
    "def run(system, z0, z1, q, w):\n",
    "    best_designs = []\n",
    "    print(system)\n",
    "    h_bounds = torch.tensor([config[\"job\"][\"BayesianOptimization\"][\"bounds\"][\"h_min\"],\n",
    "                                      system.H])\n",
    "    T_bounds = torch.tensor([config[\"job\"][\"BayesianOptimization\"][\"bounds\"][\"T_min\"],\n",
    "                                      config[\"job\"][\"BayesianOptimization\"][\"bounds\"][\"T_max\"]])\n",
    "    bounds = torch.stack([h_bounds, T_bounds])\n",
    "    train_x, train_y, best_y = generate_initial_data(z0, z1, q, w, system, 50)\n",
    "    for i in range(15):\n",
    "        \n",
    "        new_candidates = bayesian_optimizer.get_next_points(train_x, train_y,\n",
    "                                                  best_y, bounds, acqf, 1)\n",
    "        new_designs = [LSMDesign(x[0].item(), np.ceil(x[1].item()), Policy.Leveling) for x in new_candidates]\n",
    "        new_target = torch.tensor([cf.calc_cost(design, system, z0, z1, q, w) for design in new_designs])\n",
    "        new_target = new_target.unsqueeze(-1)\n",
    "        train_x = torch.cat([train_x, new_candidates])\n",
    "        train_y = torch.cat([train_y, new_target])\n",
    "        best_y = train_y.min().item()\n",
    "        update_best_designs(best_designs, new_candidates, new_target)\n",
    "    sorted_designs = sorted(best_designs, key=lambda x: x[1])\n",
    "    if sorted_designs:\n",
    "        best_design, best_cost = sorted_designs[0]\n",
    "        return best_design, best_cost\n",
    "    else:\n",
    "        return None, None"
   ]
  },
  {
   "cell_type": "code",
   "execution_count": 26,
   "id": "604a1713-2b65-42cc-8ba2-144aa97b600f",
   "metadata": {},
   "outputs": [],
   "source": [
    "def compare_designs(n_runs=10, csv_filename='design_comparison.csv'):\n",
    "        with open(csv_filename, mode='w', newline='') as file:\n",
    "            writer = csv.writer(file)\n",
    "            writer.writerow(['Entries per page(E)','Physical Entries per page(B)', 'Selectivity(s)', 'Max bits per element(H)', 'Total elements (N)', 'Empty Reads', 'Non-Empty Reads', 'Range Queries', 'Writes', 'BO Design', 'Analytical Design','BO Cost', 'Analytical Cost', 'Diff(Analytical-Bayesian)'])\n",
    "            #TODO if this works then put this in toml file\n",
    "            for i in range(n_runs):\n",
    "                print(f\"Iteration {i+1}/{n_runs} running\")\n",
    "                system = generator._sample_system()\n",
    "                z0, z1, q, w = generator._sample_workload(4)\n",
    "                print(np.floor(system.H))\n",
    "                bo_design, bo_cost = bayesian_optimizer.run(system, z0, z1, q, w)\n",
    "                analytical_design, analytical_cost = find_analytical_results(system, z0, z1, q, w)\n",
    "                writer.writerow([system.E, system.B, system.s, system.H, system.N, z0, z1, q, w, bo_design, analytical_design, bo_cost, analytical_cost, analytical_cost-bo_cost])"
   ]
  },
  {
   "cell_type": "code",
   "execution_count": 28,
   "id": "78be1983-32d1-4f8d-a1fc-a64526de4284",
   "metadata": {},
   "outputs": [
    {
     "name": "stdout",
     "output_type": "stream",
     "text": [
      "Iteration 1/10 running\n",
      "17.0\n",
      "[ 9.478 17.     0.   ]\n",
      "[16.124 24.     0.   ]\n",
      "[10.193 10.     0.   ]\n",
      "[ 5.768 27.     0.   ]\n",
      "[ 4.539 26.     0.   ]\n",
      "[11.091 13.     0.   ]\n",
      "[ 2.795 27.     1.   ]\n",
      "[ 7.527 13.     1.   ]\n",
      "[16.659 10.     1.   ]\n",
      "[15.881 18.     1.   ]\n",
      "[ 5.15 23.    1.  ]\n",
      "[9.169 8.    0.   ]\n",
      "[ 8.96 26.    0.  ]\n",
      "[15.402 29.     1.   ]\n",
      "[ 6.55 16.    0.  ]\n",
      "[ 4.367 22.     0.   ]\n",
      "[12.404 10.     1.   ]\n",
      "[ 9.912 18.     0.   ]\n",
      "[0.966 3.    1.   ]\n",
      "[5.464 3.    0.   ]\n",
      "[ 4.868 25.     1.   ]\n",
      "[13.541 17.     1.   ]\n",
      "[3.408 6.    0.   ]\n",
      "[14.088 11.     1.   ]\n",
      "[16.631  6.     1.   ]\n",
      "[ 7.699 28.     1.   ]\n",
      "[10.923 27.     1.   ]\n",
      "[12.494  6.     0.   ]\n",
      "[ 8.264 24.     1.   ]\n",
      "[9.908 8.    0.   ]\n"
     ]
    },
    {
     "name": "stderr",
     "output_type": "stream",
     "text": [
      "/Users/anweshasaha/Desktop/midas-projects/endure-torch/venv_endure_torch/lib/python3.9/site-packages/botorch/optim/initializers.py:404: BadInitialCandidatesWarning: Unable to find non-zero acquisition function values - initial conditions are being selected randomly.\n",
      "  warnings.warn(\n",
      "/Users/anweshasaha/Desktop/midas-projects/endure-torch/venv_endure_torch/lib/python3.9/site-packages/botorch/optim/initializers.py:404: BadInitialCandidatesWarning: Unable to find non-zero acquisition function values - initial conditions are being selected randomly.\n",
      "  warnings.warn(\n",
      "/Users/anweshasaha/Desktop/midas-projects/endure-torch/venv_endure_torch/lib/python3.9/site-packages/botorch/optim/initializers.py:404: BadInitialCandidatesWarning: Unable to find non-zero acquisition function values - initial conditions are being selected randomly.\n",
      "  warnings.warn(\n",
      "/Users/anweshasaha/Desktop/midas-projects/endure-torch/venv_endure_torch/lib/python3.9/site-packages/botorch/optim/initializers.py:404: BadInitialCandidatesWarning: Unable to find non-zero acquisition function values - initial conditions are being selected randomly.\n",
      "  warnings.warn(\n",
      "/Users/anweshasaha/Desktop/midas-projects/endure-torch/venv_endure_torch/lib/python3.9/site-packages/botorch/optim/initializers.py:404: BadInitialCandidatesWarning: Unable to find non-zero acquisition function values - initial conditions are being selected randomly.\n",
      "  warnings.warn(\n",
      "/Users/anweshasaha/Desktop/midas-projects/endure-torch/venv_endure_torch/lib/python3.9/site-packages/botorch/optim/initializers.py:404: BadInitialCandidatesWarning: Unable to find non-zero acquisition function values - initial conditions are being selected randomly.\n",
      "  warnings.warn(\n"
     ]
    },
    {
     "name": "stdout",
     "output_type": "stream",
     "text": [
      "new_candidates tensor([[ 5.9954, 24.0000,  0.0000]], dtype=torch.float64)\n",
      "new target tensor([[0.7940]])\n",
      "new_candidates tensor([[ 1., 11.,  0.]], dtype=torch.float64)\n",
      "new target tensor([[0.9043]])\n",
      "new_candidates tensor([[9.7226, 5.0000, 0.0000]], dtype=torch.float64)\n",
      "new target tensor([[1.1461]])\n",
      "new_candidates tensor([[ 1., 25.,  0.]], dtype=torch.float64)\n",
      "new target tensor([[0.8102]])\n",
      "new_candidates tensor([[1., 2., 0.]], dtype=torch.float64)\n",
      "new target tensor([[2.2954]])\n",
      "new_candidates tensor([[10.1456, 12.0000,  0.0000]], dtype=torch.float64)\n",
      "new target tensor([[0.9057]])\n",
      "new_candidates tensor([[10.1866, 21.0000,  0.0000]], dtype=torch.float64)\n",
      "new target tensor([[0.8430]])\n",
      "new_candidates tensor([[1., 9., 0.]], dtype=torch.float64)\n",
      "new target tensor([[0.9465]])\n",
      "new_candidates tensor([[12.4686, 24.0000,  0.0000]], dtype=torch.float64)\n",
      "new target tensor([[0.8727]])\n",
      "new_candidates tensor([[ 6.8153, 30.0000,  0.0000]], dtype=torch.float64)\n",
      "new target tensor([[0.7921]])\n",
      "new_candidates tensor([[1., 4., 0.]], dtype=torch.float64)\n",
      "new target tensor([[1.2885]])\n",
      "new_candidates tensor([[ 5.3483, 14.0000,  0.0000]], dtype=torch.float64)\n",
      "new target tensor([[0.8355]])\n",
      "new_candidates tensor([[ 5.4275, 31.0000,  0.0000]], dtype=torch.float64)\n",
      "new target tensor([[0.7827]])\n",
      "new_candidates tensor([[5.3460, 7.0000, 0.0000]], dtype=torch.float64)\n",
      "new target tensor([[0.9694]])\n",
      "new_candidates tensor([[ 1., 15.,  0.]], dtype=torch.float64)\n",
      "new target tensor([[0.8559]])\n",
      "Best Design Found:\n",
      "Design: h=5.427496422969785, T=31.0, Policy=Policy.Leveling, Cost=0.7827298045158386\n",
      "Cost for the nominal design using analytical solver:  0.7782297635405862\n",
      "Nominal Design suggested by analytical solver:  LSMDesign(h=3.7659819214763184, T=31.0, policy=<Policy.Leveling: 1>, Q=1.0, Y=1.0, Z=1.0, K=[])\n",
      "Iteration 2/10 running\n",
      "11.0\n",
      "[ 5.267 21.     0.   ]\n",
      "[7.533 3.    0.   ]\n",
      "[ 8.719 19.     1.   ]\n",
      "[5.384 6.    0.   ]\n",
      "[ 5.841 22.     1.   ]\n",
      "[ 0.699 10.     0.   ]\n",
      "[2.928 3.    0.   ]\n",
      "[10.411 21.     1.   ]\n",
      "[ 3.007 15.     1.   ]\n",
      "[ 7.291 27.     0.   ]\n",
      "[11.108  8.     1.   ]\n",
      "[ 1.307 17.     0.   ]\n",
      "[ 4.235 15.     1.   ]\n",
      "[2.406 6.    0.   ]\n",
      "[ 4.373 20.     1.   ]\n",
      "[ 5.151 20.     0.   ]\n",
      "[10.9 23.   0. ]\n",
      "[ 4.998 27.     0.   ]\n",
      "[ 3.194 13.     1.   ]\n",
      "[ 5.106 12.     1.   ]\n",
      "[11.27 23.    0.  ]\n",
      "[ 7.578 14.     0.   ]\n",
      "[ 8.412 27.     0.   ]\n",
      "[4.14 2.   0.  ]\n",
      "[ 6.796 21.     0.   ]\n",
      "[ 6.232 10.     0.   ]\n",
      "[4.01 6.   0.  ]\n",
      "[11.141 10.     1.   ]\n",
      "[ 0.49 21.    0.  ]\n",
      "[10.594 26.     0.   ]\n"
     ]
    },
    {
     "name": "stderr",
     "output_type": "stream",
     "text": [
      "/Users/anweshasaha/Desktop/midas-projects/endure-torch/venv_endure_torch/lib/python3.9/site-packages/botorch/models/utils/assorted.py:173: InputDataWarning: Input data is not contained to the unit cube. Please consider min-max scaling the input data.\n",
      "  warnings.warn(msg, InputDataWarning)\n"
     ]
    },
    {
     "name": "stdout",
     "output_type": "stream",
     "text": [
      "new_candidates tensor([[ 1., 23.,  0.]], dtype=torch.float64)\n",
      "new target tensor([[1.3992]])\n"
     ]
    },
    {
     "name": "stderr",
     "output_type": "stream",
     "text": [
      "/Users/anweshasaha/Desktop/midas-projects/endure-torch/venv_endure_torch/lib/python3.9/site-packages/botorch/models/utils/assorted.py:173: InputDataWarning: Input data is not contained to the unit cube. Please consider min-max scaling the input data.\n",
      "  warnings.warn(msg, InputDataWarning)\n"
     ]
    },
    {
     "name": "stdout",
     "output_type": "stream",
     "text": [
      "new_candidates tensor([[ 3.5879, 12.0000,  0.0000]], dtype=torch.float64)\n",
      "new target tensor([[1.4662]])\n"
     ]
    },
    {
     "name": "stderr",
     "output_type": "stream",
     "text": [
      "/Users/anweshasaha/Desktop/midas-projects/endure-torch/venv_endure_torch/lib/python3.9/site-packages/botorch/models/utils/assorted.py:173: InputDataWarning: Input data is not contained to the unit cube. Please consider min-max scaling the input data.\n",
      "  warnings.warn(msg, InputDataWarning)\n",
      "/Users/anweshasaha/Desktop/midas-projects/endure-torch/venv_endure_torch/lib/python3.9/site-packages/botorch/optim/initializers.py:404: BadInitialCandidatesWarning: Unable to find non-zero acquisition function values - initial conditions are being selected randomly.\n",
      "  warnings.warn(\n",
      "/Users/anweshasaha/Desktop/midas-projects/endure-torch/venv_endure_torch/lib/python3.9/site-packages/botorch/optim/initializers.py:404: BadInitialCandidatesWarning: Unable to find non-zero acquisition function values - initial conditions are being selected randomly.\n",
      "  warnings.warn(\n"
     ]
    },
    {
     "name": "stdout",
     "output_type": "stream",
     "text": [
      "new_candidates tensor([[ 1.7597, 29.0000,  0.0000]], dtype=torch.float64)\n",
      "new target tensor([[1.3933]])\n"
     ]
    },
    {
     "name": "stderr",
     "output_type": "stream",
     "text": [
      "/Users/anweshasaha/Desktop/midas-projects/endure-torch/venv_endure_torch/lib/python3.9/site-packages/botorch/models/utils/assorted.py:173: InputDataWarning: Input data is not contained to the unit cube. Please consider min-max scaling the input data.\n",
      "  warnings.warn(msg, InputDataWarning)\n"
     ]
    },
    {
     "name": "stdout",
     "output_type": "stream",
     "text": [
      "new_candidates tensor([[ 3.6568, 13.0000,  0.0000]], dtype=torch.float64)\n",
      "new target tensor([[1.4545]])\n"
     ]
    },
    {
     "name": "stderr",
     "output_type": "stream",
     "text": [
      "/Users/anweshasaha/Desktop/midas-projects/endure-torch/venv_endure_torch/lib/python3.9/site-packages/botorch/models/utils/assorted.py:173: InputDataWarning: Input data is not contained to the unit cube. Please consider min-max scaling the input data.\n",
      "  warnings.warn(msg, InputDataWarning)\n",
      "/Users/anweshasaha/Desktop/midas-projects/endure-torch/venv_endure_torch/lib/python3.9/site-packages/botorch/optim/initializers.py:404: BadInitialCandidatesWarning: Unable to find non-zero acquisition function values - initial conditions are being selected randomly.\n",
      "  warnings.warn(\n",
      "/Users/anweshasaha/Desktop/midas-projects/endure-torch/venv_endure_torch/lib/python3.9/site-packages/botorch/optim/initializers.py:404: BadInitialCandidatesWarning: Unable to find non-zero acquisition function values - initial conditions are being selected randomly.\n",
      "  warnings.warn(\n",
      "/Users/anweshasaha/Desktop/midas-projects/endure-torch/venv_endure_torch/lib/python3.9/site-packages/botorch/optim/initializers.py:404: BadInitialCandidatesWarning: Unable to find non-zero acquisition function values - initial conditions are being selected randomly.\n",
      "  warnings.warn(\n",
      "/Users/anweshasaha/Desktop/midas-projects/endure-torch/venv_endure_torch/lib/python3.9/site-packages/botorch/optim/initializers.py:404: BadInitialCandidatesWarning: Unable to find non-zero acquisition function values - initial conditions are being selected randomly.\n",
      "  warnings.warn(\n",
      "/Users/anweshasaha/Desktop/midas-projects/endure-torch/venv_endure_torch/lib/python3.9/site-packages/botorch/optim/initializers.py:404: BadInitialCandidatesWarning: Unable to find non-zero acquisition function values - initial conditions are being selected randomly.\n",
      "  warnings.warn(\n",
      "/Users/anweshasaha/Desktop/midas-projects/endure-torch/venv_endure_torch/lib/python3.9/site-packages/botorch/optim/initializers.py:404: BadInitialCandidatesWarning: Unable to find non-zero acquisition function values - initial conditions are being selected randomly.\n",
      "  warnings.warn(\n"
     ]
    },
    {
     "name": "stdout",
     "output_type": "stream",
     "text": [
      "new_candidates tensor([[1., 4., 0.]], dtype=torch.float64)\n",
      "new target tensor([[1.9643]])\n"
     ]
    },
    {
     "name": "stderr",
     "output_type": "stream",
     "text": [
      "/Users/anweshasaha/Desktop/midas-projects/endure-torch/venv_endure_torch/lib/python3.9/site-packages/botorch/models/utils/assorted.py:173: InputDataWarning: Input data is not contained to the unit cube. Please consider min-max scaling the input data.\n",
      "  warnings.warn(msg, InputDataWarning)\n",
      "/Users/anweshasaha/Desktop/midas-projects/endure-torch/venv_endure_torch/lib/python3.9/site-packages/botorch/optim/initializers.py:404: BadInitialCandidatesWarning: Unable to find non-zero acquisition function values - initial conditions are being selected randomly.\n",
      "  warnings.warn(\n",
      "/Users/anweshasaha/Desktop/midas-projects/endure-torch/venv_endure_torch/lib/python3.9/site-packages/botorch/optim/initializers.py:404: BadInitialCandidatesWarning: Unable to find non-zero acquisition function values - initial conditions are being selected randomly.\n",
      "  warnings.warn(\n",
      "/Users/anweshasaha/Desktop/midas-projects/endure-torch/venv_endure_torch/lib/python3.9/site-packages/botorch/optim/initializers.py:404: BadInitialCandidatesWarning: Unable to find non-zero acquisition function values - initial conditions are being selected randomly.\n",
      "  warnings.warn(\n",
      "/Users/anweshasaha/Desktop/midas-projects/endure-torch/venv_endure_torch/lib/python3.9/site-packages/botorch/optim/initializers.py:404: BadInitialCandidatesWarning: Unable to find non-zero acquisition function values - initial conditions are being selected randomly.\n",
      "  warnings.warn(\n",
      "/Users/anweshasaha/Desktop/midas-projects/endure-torch/venv_endure_torch/lib/python3.9/site-packages/botorch/optim/initializers.py:404: BadInitialCandidatesWarning: Unable to find non-zero acquisition function values - initial conditions are being selected randomly.\n",
      "  warnings.warn(\n"
     ]
    },
    {
     "name": "stdout",
     "output_type": "stream",
     "text": [
      "new_candidates tensor([[1., 5., 0.]], dtype=torch.float64)\n",
      "new target tensor([[1.7987]])\n"
     ]
    },
    {
     "name": "stderr",
     "output_type": "stream",
     "text": [
      "/Users/anweshasaha/Desktop/midas-projects/endure-torch/venv_endure_torch/lib/python3.9/site-packages/botorch/models/utils/assorted.py:173: InputDataWarning: Input data is not contained to the unit cube. Please consider min-max scaling the input data.\n",
      "  warnings.warn(msg, InputDataWarning)\n",
      "/Users/anweshasaha/Desktop/midas-projects/endure-torch/venv_endure_torch/lib/python3.9/site-packages/botorch/optim/initializers.py:404: BadInitialCandidatesWarning: Unable to find non-zero acquisition function values - initial conditions are being selected randomly.\n",
      "  warnings.warn(\n",
      "/Users/anweshasaha/Desktop/midas-projects/endure-torch/venv_endure_torch/lib/python3.9/site-packages/botorch/optim/initializers.py:404: BadInitialCandidatesWarning: Unable to find non-zero acquisition function values - initial conditions are being selected randomly.\n",
      "  warnings.warn(\n"
     ]
    },
    {
     "name": "stdout",
     "output_type": "stream",
     "text": [
      "new_candidates tensor([[ 2.0190, 30.0000,  0.0000]], dtype=torch.float64)\n",
      "new target tensor([[1.3942]])\n"
     ]
    },
    {
     "name": "stderr",
     "output_type": "stream",
     "text": [
      "/Users/anweshasaha/Desktop/midas-projects/endure-torch/venv_endure_torch/lib/python3.9/site-packages/botorch/models/utils/assorted.py:173: InputDataWarning: Input data is not contained to the unit cube. Please consider min-max scaling the input data.\n",
      "  warnings.warn(msg, InputDataWarning)\n",
      "/Users/anweshasaha/Desktop/midas-projects/endure-torch/venv_endure_torch/lib/python3.9/site-packages/botorch/optim/initializers.py:404: BadInitialCandidatesWarning: Unable to find non-zero acquisition function values - initial conditions are being selected randomly.\n",
      "  warnings.warn(\n",
      "/Users/anweshasaha/Desktop/midas-projects/endure-torch/venv_endure_torch/lib/python3.9/site-packages/botorch/optim/initializers.py:404: BadInitialCandidatesWarning: Unable to find non-zero acquisition function values - initial conditions are being selected randomly.\n",
      "  warnings.warn(\n",
      "/Users/anweshasaha/Desktop/midas-projects/endure-torch/venv_endure_torch/lib/python3.9/site-packages/botorch/optim/initializers.py:404: BadInitialCandidatesWarning: Unable to find non-zero acquisition function values - initial conditions are being selected randomly.\n",
      "  warnings.warn(\n",
      "/Users/anweshasaha/Desktop/midas-projects/endure-torch/venv_endure_torch/lib/python3.9/site-packages/botorch/optim/initializers.py:404: BadInitialCandidatesWarning: Unable to find non-zero acquisition function values - initial conditions are being selected randomly.\n",
      "  warnings.warn(\n",
      "/Users/anweshasaha/Desktop/midas-projects/endure-torch/venv_endure_torch/lib/python3.9/site-packages/botorch/optim/initializers.py:404: BadInitialCandidatesWarning: Unable to find non-zero acquisition function values - initial conditions are being selected randomly.\n",
      "  warnings.warn(\n",
      "/Users/anweshasaha/Desktop/midas-projects/endure-torch/venv_endure_torch/lib/python3.9/site-packages/botorch/optim/initializers.py:404: BadInitialCandidatesWarning: Unable to find non-zero acquisition function values - initial conditions are being selected randomly.\n",
      "  warnings.warn(\n",
      "/Users/anweshasaha/Desktop/midas-projects/endure-torch/venv_endure_torch/lib/python3.9/site-packages/botorch/optim/initializers.py:404: BadInitialCandidatesWarning: Unable to find non-zero acquisition function values - initial conditions are being selected randomly.\n",
      "  warnings.warn(\n",
      "/Users/anweshasaha/Desktop/midas-projects/endure-torch/venv_endure_torch/lib/python3.9/site-packages/botorch/optim/initializers.py:404: BadInitialCandidatesWarning: Unable to find non-zero acquisition function values - initial conditions are being selected randomly.\n",
      "  warnings.warn(\n",
      "/Users/anweshasaha/Desktop/midas-projects/endure-torch/venv_endure_torch/lib/python3.9/site-packages/botorch/optim/initializers.py:404: BadInitialCandidatesWarning: Unable to find non-zero acquisition function values - initial conditions are being selected randomly.\n",
      "  warnings.warn(\n"
     ]
    },
    {
     "name": "stdout",
     "output_type": "stream",
     "text": [
      "new_candidates tensor([[1., 7., 0.]], dtype=torch.float64)\n",
      "new target tensor([[1.6279]])\n"
     ]
    },
    {
     "name": "stderr",
     "output_type": "stream",
     "text": [
      "/Users/anweshasaha/Desktop/midas-projects/endure-torch/venv_endure_torch/lib/python3.9/site-packages/botorch/models/utils/assorted.py:173: InputDataWarning: Input data is not contained to the unit cube. Please consider min-max scaling the input data.\n",
      "  warnings.warn(msg, InputDataWarning)\n",
      "/Users/anweshasaha/Desktop/midas-projects/endure-torch/venv_endure_torch/lib/python3.9/site-packages/botorch/optim/initializers.py:404: BadInitialCandidatesWarning: Unable to find non-zero acquisition function values - initial conditions are being selected randomly.\n",
      "  warnings.warn(\n",
      "/Users/anweshasaha/Desktop/midas-projects/endure-torch/venv_endure_torch/lib/python3.9/site-packages/botorch/optim/initializers.py:404: BadInitialCandidatesWarning: Unable to find non-zero acquisition function values - initial conditions are being selected randomly.\n",
      "  warnings.warn(\n"
     ]
    },
    {
     "name": "stdout",
     "output_type": "stream",
     "text": [
      "new_candidates tensor([[ 2.1045, 16.0000,  0.0000]], dtype=torch.float64)\n",
      "new target tensor([[1.4230]])\n"
     ]
    },
    {
     "name": "stderr",
     "output_type": "stream",
     "text": [
      "/Users/anweshasaha/Desktop/midas-projects/endure-torch/venv_endure_torch/lib/python3.9/site-packages/botorch/models/utils/assorted.py:173: InputDataWarning: Input data is not contained to the unit cube. Please consider min-max scaling the input data.\n",
      "  warnings.warn(msg, InputDataWarning)\n",
      "/Users/anweshasaha/Desktop/midas-projects/endure-torch/venv_endure_torch/lib/python3.9/site-packages/botorch/optim/initializers.py:404: BadInitialCandidatesWarning: Unable to find non-zero acquisition function values - initial conditions are being selected randomly.\n",
      "  warnings.warn(\n",
      "/Users/anweshasaha/Desktop/midas-projects/endure-torch/venv_endure_torch/lib/python3.9/site-packages/botorch/optim/initializers.py:404: BadInitialCandidatesWarning: Unable to find non-zero acquisition function values - initial conditions are being selected randomly.\n",
      "  warnings.warn(\n"
     ]
    },
    {
     "name": "stdout",
     "output_type": "stream",
     "text": [
      "new_candidates tensor([[ 2.1336, 28.0000,  0.0000]], dtype=torch.float64)\n",
      "new target tensor([[1.3941]])\n"
     ]
    },
    {
     "name": "stderr",
     "output_type": "stream",
     "text": [
      "/Users/anweshasaha/Desktop/midas-projects/endure-torch/venv_endure_torch/lib/python3.9/site-packages/botorch/models/utils/assorted.py:173: InputDataWarning: Input data is not contained to the unit cube. Please consider min-max scaling the input data.\n",
      "  warnings.warn(msg, InputDataWarning)\n",
      "/Users/anweshasaha/Desktop/midas-projects/endure-torch/venv_endure_torch/lib/python3.9/site-packages/botorch/optim/initializers.py:404: BadInitialCandidatesWarning: Unable to find non-zero acquisition function values - initial conditions are being selected randomly.\n",
      "  warnings.warn(\n",
      "/Users/anweshasaha/Desktop/midas-projects/endure-torch/venv_endure_torch/lib/python3.9/site-packages/botorch/optim/initializers.py:404: BadInitialCandidatesWarning: Unable to find non-zero acquisition function values - initial conditions are being selected randomly.\n",
      "  warnings.warn(\n"
     ]
    },
    {
     "name": "stdout",
     "output_type": "stream",
     "text": [
      "new_candidates tensor([[ 2.1787, 24.0000,  0.0000]], dtype=torch.float64)\n",
      "new target tensor([[1.3964]])\n"
     ]
    },
    {
     "name": "stderr",
     "output_type": "stream",
     "text": [
      "/Users/anweshasaha/Desktop/midas-projects/endure-torch/venv_endure_torch/lib/python3.9/site-packages/botorch/models/utils/assorted.py:173: InputDataWarning: Input data is not contained to the unit cube. Please consider min-max scaling the input data.\n",
      "  warnings.warn(msg, InputDataWarning)\n"
     ]
    },
    {
     "name": "stdout",
     "output_type": "stream",
     "text": [
      "new_candidates tensor([[ 3.7229, 15.0000,  0.0000]], dtype=torch.float64)\n",
      "new target tensor([[1.4369]])\n"
     ]
    },
    {
     "name": "stderr",
     "output_type": "stream",
     "text": [
      "/Users/anweshasaha/Desktop/midas-projects/endure-torch/venv_endure_torch/lib/python3.9/site-packages/botorch/models/utils/assorted.py:173: InputDataWarning: Input data is not contained to the unit cube. Please consider min-max scaling the input data.\n",
      "  warnings.warn(msg, InputDataWarning)\n"
     ]
    },
    {
     "name": "stdout",
     "output_type": "stream",
     "text": [
      "new_candidates tensor([[3.7303, 8.0000, 0.0000]], dtype=torch.float64)\n",
      "new target tensor([[1.5547]])\n"
     ]
    },
    {
     "name": "stderr",
     "output_type": "stream",
     "text": [
      "/Users/anweshasaha/Desktop/midas-projects/endure-torch/venv_endure_torch/lib/python3.9/site-packages/botorch/models/utils/assorted.py:173: InputDataWarning: Input data is not contained to the unit cube. Please consider min-max scaling the input data.\n",
      "  warnings.warn(msg, InputDataWarning)\n",
      "/Users/anweshasaha/Desktop/midas-projects/endure-torch/venv_endure_torch/lib/python3.9/site-packages/botorch/optim/initializers.py:404: BadInitialCandidatesWarning: Unable to find non-zero acquisition function values - initial conditions are being selected randomly.\n",
      "  warnings.warn(\n",
      "/Users/anweshasaha/Desktop/midas-projects/endure-torch/venv_endure_torch/lib/python3.9/site-packages/botorch/optim/initializers.py:404: BadInitialCandidatesWarning: Unable to find non-zero acquisition function values - initial conditions are being selected randomly.\n",
      "  warnings.warn(\n"
     ]
    },
    {
     "name": "stdout",
     "output_type": "stream",
     "text": [
      "new_candidates tensor([[2.2947, 9.0000, 0.0000]], dtype=torch.float64)\n",
      "new target tensor([[1.5241]])\n"
     ]
    },
    {
     "name": "stderr",
     "output_type": "stream",
     "text": [
      "/Users/anweshasaha/Desktop/midas-projects/endure-torch/venv_endure_torch/lib/python3.9/site-packages/botorch/models/utils/assorted.py:173: InputDataWarning: Input data is not contained to the unit cube. Please consider min-max scaling the input data.\n",
      "  warnings.warn(msg, InputDataWarning)\n",
      "/Users/anweshasaha/Desktop/midas-projects/endure-torch/venv_endure_torch/lib/python3.9/site-packages/botorch/optim/initializers.py:404: BadInitialCandidatesWarning: Unable to find non-zero acquisition function values - initial conditions are being selected randomly.\n",
      "  warnings.warn(\n",
      "/Users/anweshasaha/Desktop/midas-projects/endure-torch/venv_endure_torch/lib/python3.9/site-packages/botorch/optim/initializers.py:404: BadInitialCandidatesWarning: Unable to find non-zero acquisition function values - initial conditions are being selected randomly.\n",
      "  warnings.warn(\n",
      "/Users/anweshasaha/Desktop/midas-projects/endure-torch/venv_endure_torch/lib/python3.9/site-packages/botorch/optim/initializers.py:404: BadInitialCandidatesWarning: Unable to find non-zero acquisition function values - initial conditions are being selected randomly.\n",
      "  warnings.warn(\n",
      "/Users/anweshasaha/Desktop/midas-projects/endure-torch/venv_endure_torch/lib/python3.9/site-packages/botorch/optim/initializers.py:404: BadInitialCandidatesWarning: Unable to find non-zero acquisition function values - initial conditions are being selected randomly.\n",
      "  warnings.warn(\n",
      "/Users/anweshasaha/Desktop/midas-projects/endure-torch/venv_endure_torch/lib/python3.9/site-packages/botorch/optim/initializers.py:404: BadInitialCandidatesWarning: Unable to find non-zero acquisition function values - initial conditions are being selected randomly.\n",
      "  warnings.warn(\n",
      "/Users/anweshasaha/Desktop/midas-projects/endure-torch/venv_endure_torch/lib/python3.9/site-packages/botorch/optim/initializers.py:404: BadInitialCandidatesWarning: Unable to find non-zero acquisition function values - initial conditions are being selected randomly.\n",
      "  warnings.warn(\n",
      "/Users/anweshasaha/Desktop/midas-projects/endure-torch/venv_endure_torch/lib/python3.9/site-packages/botorch/optim/initializers.py:404: BadInitialCandidatesWarning: Unable to find non-zero acquisition function values - initial conditions are being selected randomly.\n",
      "  warnings.warn(\n",
      "/Users/anweshasaha/Desktop/midas-projects/endure-torch/venv_endure_torch/lib/python3.9/site-packages/botorch/optim/initializers.py:404: BadInitialCandidatesWarning: Unable to find non-zero acquisition function values - initial conditions are being selected randomly.\n",
      "  warnings.warn(\n"
     ]
    },
    {
     "name": "stdout",
     "output_type": "stream",
     "text": [
      "new_candidates tensor([[ 1., 11.,  0.]], dtype=torch.float64)\n",
      "new target tensor([[1.4931]])\n",
      "Best Design Found:\n",
      "Design: h=1.759696931300289, T=29.0, Policy=Policy.Leveling, Cost=1.393283724784851\n",
      "Cost for the nominal design using analytical solver:  1.3930345802894744\n",
      "Nominal Design suggested by analytical solver:  LSMDesign(h=1.4914145236437306, T=28.696733626414122, policy=<Policy.Leveling: 1>, Q=1.0, Y=1.0, Z=1.0, K=[])\n",
      "Iteration 3/10 running\n",
      "12.0\n",
      "[11.978 18.     1.   ]\n",
      "[2.953 7.    1.   ]\n",
      "[ 8.981 10.     0.   ]\n",
      "[ 6.495 25.     1.   ]\n",
      "[ 0.521 27.     1.   ]\n",
      "[11.097  4.     0.   ]\n",
      "[ 5.633 21.     1.   ]\n",
      "[ 9.06 24.    0.  ]\n",
      "[11.277  8.     0.   ]\n",
      "[1.649 7.    1.   ]\n",
      "[ 6.97 24.    1.  ]\n",
      "[10.296  4.     0.   ]\n",
      "[ 3.425 11.     1.   ]\n",
      "[ 2.608 13.     1.   ]\n",
      "[11.552  2.     1.   ]\n",
      "[ 2.331 26.     1.   ]\n",
      "[ 7.537 15.     0.   ]\n",
      "[ 6.02 30.    0.  ]\n",
      "[ 6.121 18.     0.   ]\n",
      "[9.266 4.    1.   ]\n",
      "[12.2  4.   0. ]\n",
      "[12.15 26.    0.  ]\n",
      "[6.192 3.    0.   ]\n",
      "[ 9.616 26.     0.   ]\n",
      "[ 5.105 28.     1.   ]\n",
      "[ 5.547 16.     0.   ]\n",
      "[ 5.072 10.     1.   ]\n",
      "[10.568  4.     1.   ]\n",
      "[ 1.956 21.     0.   ]\n",
      "[5.47 4.   0.  ]\n"
     ]
    },
    {
     "name": "stderr",
     "output_type": "stream",
     "text": [
      "/Users/anweshasaha/Desktop/midas-projects/endure-torch/venv_endure_torch/lib/python3.9/site-packages/botorch/models/utils/assorted.py:173: InputDataWarning: Input data is not contained to the unit cube. Please consider min-max scaling the input data.\n",
      "  warnings.warn(msg, InputDataWarning)\n"
     ]
    },
    {
     "name": "stdout",
     "output_type": "stream",
     "text": [
      "new_candidates tensor([[10.1307,  2.0000,  0.0000]], dtype=torch.float64)\n",
      "new target tensor([[4.0750]])\n"
     ]
    },
    {
     "name": "stderr",
     "output_type": "stream",
     "text": [
      "/Users/anweshasaha/Desktop/midas-projects/endure-torch/venv_endure_torch/lib/python3.9/site-packages/botorch/models/utils/assorted.py:173: InputDataWarning: Input data is not contained to the unit cube. Please consider min-max scaling the input data.\n",
      "  warnings.warn(msg, InputDataWarning)\n"
     ]
    },
    {
     "name": "stdout",
     "output_type": "stream",
     "text": [
      "new_candidates tensor([[5.7039, 7.0000, 0.0000]], dtype=torch.float64)\n",
      "new target tensor([[1.6358]])\n"
     ]
    },
    {
     "name": "stderr",
     "output_type": "stream",
     "text": [
      "/Users/anweshasaha/Desktop/midas-projects/endure-torch/venv_endure_torch/lib/python3.9/site-packages/botorch/models/utils/assorted.py:173: InputDataWarning: Input data is not contained to the unit cube. Please consider min-max scaling the input data.\n",
      "  warnings.warn(msg, InputDataWarning)\n"
     ]
    },
    {
     "name": "stdout",
     "output_type": "stream",
     "text": [
      "new_candidates tensor([[ 5.5925, 11.0000,  0.0000]], dtype=torch.float64)\n",
      "new target tensor([[1.4879]])\n"
     ]
    },
    {
     "name": "stderr",
     "output_type": "stream",
     "text": [
      "/Users/anweshasaha/Desktop/midas-projects/endure-torch/venv_endure_torch/lib/python3.9/site-packages/botorch/models/utils/assorted.py:173: InputDataWarning: Input data is not contained to the unit cube. Please consider min-max scaling the input data.\n",
      "  warnings.warn(msg, InputDataWarning)\n"
     ]
    },
    {
     "name": "stdout",
     "output_type": "stream",
     "text": [
      "new_candidates tensor([[ 5.7570, 13.0000,  0.0000]], dtype=torch.float64)\n",
      "new target tensor([[1.4615]])\n"
     ]
    },
    {
     "name": "stderr",
     "output_type": "stream",
     "text": [
      "/Users/anweshasaha/Desktop/midas-projects/endure-torch/venv_endure_torch/lib/python3.9/site-packages/botorch/models/utils/assorted.py:173: InputDataWarning: Input data is not contained to the unit cube. Please consider min-max scaling the input data.\n",
      "  warnings.warn(msg, InputDataWarning)\n"
     ]
    },
    {
     "name": "stdout",
     "output_type": "stream",
     "text": [
      "new_candidates tensor([[3.9981, 9.0000, 0.0000]], dtype=torch.float64)\n",
      "new target tensor([[1.5036]])\n"
     ]
    },
    {
     "name": "stderr",
     "output_type": "stream",
     "text": [
      "/Users/anweshasaha/Desktop/midas-projects/endure-torch/venv_endure_torch/lib/python3.9/site-packages/botorch/models/utils/assorted.py:173: InputDataWarning: Input data is not contained to the unit cube. Please consider min-max scaling the input data.\n",
      "  warnings.warn(msg, InputDataWarning)\n"
     ]
    },
    {
     "name": "stdout",
     "output_type": "stream",
     "text": [
      "new_candidates tensor([[3.9020, 6.0000, 0.0000]], dtype=torch.float64)\n",
      "new target tensor([[1.6662]])\n"
     ]
    },
    {
     "name": "stderr",
     "output_type": "stream",
     "text": [
      "/Users/anweshasaha/Desktop/midas-projects/endure-torch/venv_endure_torch/lib/python3.9/site-packages/botorch/models/utils/assorted.py:173: InputDataWarning: Input data is not contained to the unit cube. Please consider min-max scaling the input data.\n",
      "  warnings.warn(msg, InputDataWarning)\n"
     ]
    },
    {
     "name": "stdout",
     "output_type": "stream",
     "text": [
      "new_candidates tensor([[ 3.8422, 32.0000,  0.0000]], dtype=torch.float64)\n",
      "new target tensor([[1.4183]])\n"
     ]
    },
    {
     "name": "stderr",
     "output_type": "stream",
     "text": [
      "/Users/anweshasaha/Desktop/midas-projects/endure-torch/venv_endure_torch/lib/python3.9/site-packages/botorch/models/utils/assorted.py:173: InputDataWarning: Input data is not contained to the unit cube. Please consider min-max scaling the input data.\n",
      "  warnings.warn(msg, InputDataWarning)\n"
     ]
    },
    {
     "name": "stdout",
     "output_type": "stream",
     "text": [
      "new_candidates tensor([[ 3.7585, 12.0000,  0.0000]], dtype=torch.float64)\n",
      "new target tensor([[1.4318]])\n"
     ]
    },
    {
     "name": "stderr",
     "output_type": "stream",
     "text": [
      "/Users/anweshasaha/Desktop/midas-projects/endure-torch/venv_endure_torch/lib/python3.9/site-packages/botorch/models/utils/assorted.py:173: InputDataWarning: Input data is not contained to the unit cube. Please consider min-max scaling the input data.\n",
      "  warnings.warn(msg, InputDataWarning)\n"
     ]
    },
    {
     "name": "stdout",
     "output_type": "stream",
     "text": [
      "new_candidates tensor([[ 4.1298, 23.0000,  0.0000]], dtype=torch.float64)\n",
      "new target tensor([[1.3938]])\n"
     ]
    },
    {
     "name": "stderr",
     "output_type": "stream",
     "text": [
      "/Users/anweshasaha/Desktop/midas-projects/endure-torch/venv_endure_torch/lib/python3.9/site-packages/botorch/models/utils/assorted.py:173: InputDataWarning: Input data is not contained to the unit cube. Please consider min-max scaling the input data.\n",
      "  warnings.warn(msg, InputDataWarning)\n"
     ]
    },
    {
     "name": "stdout",
     "output_type": "stream",
     "text": [
      "new_candidates tensor([[ 4.5105, 31.0000,  0.0000]], dtype=torch.float64)\n",
      "new target tensor([[1.4269]])\n"
     ]
    },
    {
     "name": "stderr",
     "output_type": "stream",
     "text": [
      "/Users/anweshasaha/Desktop/midas-projects/endure-torch/venv_endure_torch/lib/python3.9/site-packages/botorch/models/utils/assorted.py:173: InputDataWarning: Input data is not contained to the unit cube. Please consider min-max scaling the input data.\n",
      "  warnings.warn(msg, InputDataWarning)\n"
     ]
    },
    {
     "name": "stdout",
     "output_type": "stream",
     "text": [
      "new_candidates tensor([[8.9587, 5.0000, 0.0000]], dtype=torch.float64)\n",
      "new target tensor([[2.0001]])\n"
     ]
    },
    {
     "name": "stderr",
     "output_type": "stream",
     "text": [
      "/Users/anweshasaha/Desktop/midas-projects/endure-torch/venv_endure_torch/lib/python3.9/site-packages/botorch/models/utils/assorted.py:173: InputDataWarning: Input data is not contained to the unit cube. Please consider min-max scaling the input data.\n",
      "  warnings.warn(msg, InputDataWarning)\n"
     ]
    },
    {
     "name": "stdout",
     "output_type": "stream",
     "text": [
      "new_candidates tensor([[ 3.9996, 19.0000,  0.0000]], dtype=torch.float64)\n",
      "new target tensor([[1.3903]])\n"
     ]
    },
    {
     "name": "stderr",
     "output_type": "stream",
     "text": [
      "/Users/anweshasaha/Desktop/midas-projects/endure-torch/venv_endure_torch/lib/python3.9/site-packages/botorch/models/utils/assorted.py:173: InputDataWarning: Input data is not contained to the unit cube. Please consider min-max scaling the input data.\n",
      "  warnings.warn(msg, InputDataWarning)\n"
     ]
    },
    {
     "name": "stdout",
     "output_type": "stream",
     "text": [
      "new_candidates tensor([[ 3.4084, 17.0000,  0.0000]], dtype=torch.float64)\n",
      "new target tensor([[1.3860]])\n"
     ]
    },
    {
     "name": "stderr",
     "output_type": "stream",
     "text": [
      "/Users/anweshasaha/Desktop/midas-projects/endure-torch/venv_endure_torch/lib/python3.9/site-packages/botorch/models/utils/assorted.py:173: InputDataWarning: Input data is not contained to the unit cube. Please consider min-max scaling the input data.\n",
      "  warnings.warn(msg, InputDataWarning)\n"
     ]
    },
    {
     "name": "stdout",
     "output_type": "stream",
     "text": [
      "new_candidates tensor([[ 4.2889, 29.0000,  0.0000]], dtype=torch.float64)\n",
      "new target tensor([[1.4141]])\n"
     ]
    },
    {
     "name": "stderr",
     "output_type": "stream",
     "text": [
      "/Users/anweshasaha/Desktop/midas-projects/endure-torch/venv_endure_torch/lib/python3.9/site-packages/botorch/models/utils/assorted.py:173: InputDataWarning: Input data is not contained to the unit cube. Please consider min-max scaling the input data.\n",
      "  warnings.warn(msg, InputDataWarning)\n"
     ]
    },
    {
     "name": "stdout",
     "output_type": "stream",
     "text": [
      "new_candidates tensor([[ 4.0675, 20.0000,  0.0000]], dtype=torch.float64)\n",
      "new target tensor([[1.3907]])\n",
      "Best Design Found:\n",
      "Design: h=3.4084447797688755, T=17.0, Policy=Policy.Leveling, Cost=1.3859851360321045\n",
      "Cost for the nominal design using analytical solver:  1.3676089095702542\n",
      "Nominal Design suggested by analytical solver:  LSMDesign(h=1.690959461711369, T=21.02067092384615, policy=<Policy.Leveling: 1>, Q=1.0, Y=1.0, Z=1.0, K=[])\n",
      "Iteration 4/10 running\n",
      "10.0\n",
      "[ 0.626 22.     1.   ]\n",
      "[ 3.757 15.     0.   ]\n",
      "[ 9.376 10.     1.   ]\n",
      "[3.0e-03 1.7e+01 1.0e+00]\n",
      "[10.383 23.     1.   ]\n",
      "[2.29 9.   1.  ]\n",
      "[6.703 5.    1.   ]\n",
      "[ 4.262 14.     0.   ]\n",
      "[ 5.253 15.     0.   ]\n",
      "[6.548 9.    0.   ]\n",
      "[ 7.006 29.     0.   ]\n",
      "[ 4.791 25.     1.   ]\n",
      "[ 1.195 25.     0.   ]\n",
      "[ 7.634 22.     0.   ]\n",
      "[2.397 5.    1.   ]\n",
      "[ 4.339 29.     1.   ]\n",
      "[ 5.779 17.     0.   ]\n",
      "[ 7.042 14.     0.   ]\n",
      "[ 4.44 20.    1.  ]\n",
      "[ 1.004 25.     0.   ]\n",
      "[ 1.551 22.     1.   ]\n",
      "[6.849 6.    0.   ]\n",
      "[ 2.173 30.     1.   ]\n",
      "[1.67 2.   0.  ]\n",
      "[10.54 23.    0.  ]\n",
      "[5.048 8.    0.   ]\n",
      "[ 7.959 14.     0.   ]\n",
      "[ 3.021 20.     1.   ]\n",
      "[ 9.066 16.     1.   ]\n",
      "[2.194 8.    0.   ]\n"
     ]
    },
    {
     "name": "stderr",
     "output_type": "stream",
     "text": [
      "/Users/anweshasaha/Desktop/midas-projects/endure-torch/venv_endure_torch/lib/python3.9/site-packages/botorch/models/utils/assorted.py:173: InputDataWarning: Input data is not contained to the unit cube. Please consider min-max scaling the input data.\n",
      "  warnings.warn(msg, InputDataWarning)\n"
     ]
    },
    {
     "name": "stdout",
     "output_type": "stream",
     "text": [
      "new_candidates tensor([[ 4.5317, 11.0000,  0.0000]], dtype=torch.float64)\n",
      "new target tensor([[1.5048]])\n"
     ]
    },
    {
     "name": "stderr",
     "output_type": "stream",
     "text": [
      "/Users/anweshasaha/Desktop/midas-projects/endure-torch/venv_endure_torch/lib/python3.9/site-packages/botorch/models/utils/assorted.py:173: InputDataWarning: Input data is not contained to the unit cube. Please consider min-max scaling the input data.\n",
      "  warnings.warn(msg, InputDataWarning)\n"
     ]
    },
    {
     "name": "stdout",
     "output_type": "stream",
     "text": [
      "new_candidates tensor([[ 4.5293, 26.0000,  0.0000]], dtype=torch.float64)\n",
      "new target tensor([[1.9029]])\n"
     ]
    },
    {
     "name": "stderr",
     "output_type": "stream",
     "text": [
      "/Users/anweshasaha/Desktop/midas-projects/endure-torch/venv_endure_torch/lib/python3.9/site-packages/botorch/models/utils/assorted.py:173: InputDataWarning: Input data is not contained to the unit cube. Please consider min-max scaling the input data.\n",
      "  warnings.warn(msg, InputDataWarning)\n"
     ]
    },
    {
     "name": "stdout",
     "output_type": "stream",
     "text": [
      "new_candidates tensor([[ 4.5522, 20.0000,  0.0000]], dtype=torch.float64)\n",
      "new target tensor([[1.7393]])\n"
     ]
    },
    {
     "name": "stderr",
     "output_type": "stream",
     "text": [
      "/Users/anweshasaha/Desktop/midas-projects/endure-torch/venv_endure_torch/lib/python3.9/site-packages/botorch/models/utils/assorted.py:173: InputDataWarning: Input data is not contained to the unit cube. Please consider min-max scaling the input data.\n",
      "  warnings.warn(msg, InputDataWarning)\n"
     ]
    },
    {
     "name": "stdout",
     "output_type": "stream",
     "text": [
      "new_candidates tensor([[ 4.5534, 31.0000,  0.0000]], dtype=torch.float64)\n",
      "new target tensor([[2.0387]])\n"
     ]
    },
    {
     "name": "stderr",
     "output_type": "stream",
     "text": [
      "/Users/anweshasaha/Desktop/midas-projects/endure-torch/venv_endure_torch/lib/python3.9/site-packages/botorch/models/utils/assorted.py:173: InputDataWarning: Input data is not contained to the unit cube. Please consider min-max scaling the input data.\n",
      "  warnings.warn(msg, InputDataWarning)\n"
     ]
    },
    {
     "name": "stdout",
     "output_type": "stream",
     "text": [
      "new_candidates tensor([[ 4.5964, 32.0000,  0.0000]], dtype=torch.float64)\n",
      "new target tensor([[2.0663]])\n"
     ]
    },
    {
     "name": "stderr",
     "output_type": "stream",
     "text": [
      "/Users/anweshasaha/Desktop/midas-projects/endure-torch/venv_endure_torch/lib/python3.9/site-packages/botorch/models/utils/assorted.py:173: InputDataWarning: Input data is not contained to the unit cube. Please consider min-max scaling the input data.\n",
      "  warnings.warn(msg, InputDataWarning)\n"
     ]
    },
    {
     "name": "stdout",
     "output_type": "stream",
     "text": [
      "new_candidates tensor([[ 7.5745, 12.0000,  0.0000]], dtype=torch.float64)\n",
      "new target tensor([[1.5773]])\n"
     ]
    },
    {
     "name": "stderr",
     "output_type": "stream",
     "text": [
      "/Users/anweshasaha/Desktop/midas-projects/endure-torch/venv_endure_torch/lib/python3.9/site-packages/botorch/models/utils/assorted.py:173: InputDataWarning: Input data is not contained to the unit cube. Please consider min-max scaling the input data.\n",
      "  warnings.warn(msg, InputDataWarning)\n"
     ]
    },
    {
     "name": "stdout",
     "output_type": "stream",
     "text": [
      "new_candidates tensor([[ 7.5839, 13.0000,  0.0000]], dtype=torch.float64)\n",
      "new target tensor([[1.6056]])\n"
     ]
    },
    {
     "name": "stderr",
     "output_type": "stream",
     "text": [
      "/Users/anweshasaha/Desktop/midas-projects/endure-torch/venv_endure_torch/lib/python3.9/site-packages/botorch/models/utils/assorted.py:173: InputDataWarning: Input data is not contained to the unit cube. Please consider min-max scaling the input data.\n",
      "  warnings.warn(msg, InputDataWarning)\n"
     ]
    },
    {
     "name": "stdout",
     "output_type": "stream",
     "text": [
      "new_candidates tensor([[ 7.5875, 30.0000,  0.0000]], dtype=torch.float64)\n",
      "new target tensor([[2.1127]])\n"
     ]
    },
    {
     "name": "stderr",
     "output_type": "stream",
     "text": [
      "/Users/anweshasaha/Desktop/midas-projects/endure-torch/venv_endure_torch/lib/python3.9/site-packages/botorch/models/utils/assorted.py:173: InputDataWarning: Input data is not contained to the unit cube. Please consider min-max scaling the input data.\n",
      "  warnings.warn(msg, InputDataWarning)\n"
     ]
    },
    {
     "name": "stdout",
     "output_type": "stream",
     "text": [
      "new_candidates tensor([[ 4.6252, 16.0000,  0.0000]], dtype=torch.float64)\n",
      "new target tensor([[1.6315]])\n"
     ]
    },
    {
     "name": "stderr",
     "output_type": "stream",
     "text": [
      "/Users/anweshasaha/Desktop/midas-projects/endure-torch/venv_endure_torch/lib/python3.9/site-packages/botorch/models/utils/assorted.py:173: InputDataWarning: Input data is not contained to the unit cube. Please consider min-max scaling the input data.\n",
      "  warnings.warn(msg, InputDataWarning)\n"
     ]
    },
    {
     "name": "stdout",
     "output_type": "stream",
     "text": [
      "new_candidates tensor([[ 4.6217, 27.0000,  0.0000]], dtype=torch.float64)\n",
      "new target tensor([[1.9312]])\n"
     ]
    },
    {
     "name": "stderr",
     "output_type": "stream",
     "text": [
      "/Users/anweshasaha/Desktop/midas-projects/endure-torch/venv_endure_torch/lib/python3.9/site-packages/botorch/models/utils/assorted.py:173: InputDataWarning: Input data is not contained to the unit cube. Please consider min-max scaling the input data.\n",
      "  warnings.warn(msg, InputDataWarning)\n"
     ]
    },
    {
     "name": "stdout",
     "output_type": "stream",
     "text": [
      "new_candidates tensor([[7.4991, 3.0000, 0.0000]], dtype=torch.float64)\n",
      "new target tensor([[1.5993]])\n"
     ]
    },
    {
     "name": "stderr",
     "output_type": "stream",
     "text": [
      "/Users/anweshasaha/Desktop/midas-projects/endure-torch/venv_endure_torch/lib/python3.9/site-packages/botorch/models/utils/assorted.py:173: InputDataWarning: Input data is not contained to the unit cube. Please consider min-max scaling the input data.\n",
      "  warnings.warn(msg, InputDataWarning)\n"
     ]
    },
    {
     "name": "stdout",
     "output_type": "stream",
     "text": [
      "new_candidates tensor([[7.5101, 7.0000, 0.0000]], dtype=torch.float64)\n",
      "new target tensor([[1.4631]])\n"
     ]
    },
    {
     "name": "stderr",
     "output_type": "stream",
     "text": [
      "/Users/anweshasaha/Desktop/midas-projects/endure-torch/venv_endure_torch/lib/python3.9/site-packages/botorch/models/utils/assorted.py:173: InputDataWarning: Input data is not contained to the unit cube. Please consider min-max scaling the input data.\n",
      "  warnings.warn(msg, InputDataWarning)\n"
     ]
    },
    {
     "name": "stdout",
     "output_type": "stream",
     "text": [
      "new_candidates tensor([[ 7.5513, 28.0000,  0.0000]], dtype=torch.float64)\n",
      "new target tensor([[2.0512]])\n"
     ]
    },
    {
     "name": "stderr",
     "output_type": "stream",
     "text": [
      "/Users/anweshasaha/Desktop/midas-projects/endure-torch/venv_endure_torch/lib/python3.9/site-packages/botorch/models/utils/assorted.py:173: InputDataWarning: Input data is not contained to the unit cube. Please consider min-max scaling the input data.\n",
      "  warnings.warn(msg, InputDataWarning)\n"
     ]
    },
    {
     "name": "stdout",
     "output_type": "stream",
     "text": [
      "new_candidates tensor([[ 7.4629, 21.0000,  0.0000]], dtype=torch.float64)\n",
      "new target tensor([[1.8375]])\n"
     ]
    },
    {
     "name": "stderr",
     "output_type": "stream",
     "text": [
      "/Users/anweshasaha/Desktop/midas-projects/endure-torch/venv_endure_torch/lib/python3.9/site-packages/botorch/models/utils/assorted.py:173: InputDataWarning: Input data is not contained to the unit cube. Please consider min-max scaling the input data.\n",
      "  warnings.warn(msg, InputDataWarning)\n"
     ]
    },
    {
     "name": "stdout",
     "output_type": "stream",
     "text": [
      "new_candidates tensor([[ 4.6508, 19.0000,  0.0000]], dtype=torch.float64)\n",
      "new target tensor([[1.7127]])\n",
      "Best Design Found:\n",
      "Design: h=7.510094246482736, T=7.0, Policy=Policy.Leveling, Cost=1.463093876838684\n",
      "Cost for the nominal design using analytical solver:  1.4263236108510897\n",
      "Nominal Design suggested by analytical solver:  LSMDesign(h=5.324588014723879, T=6.023876608930091, policy=<Policy.Leveling: 1>, Q=1.0, Y=1.0, Z=1.0, K=[])\n",
      "Iteration 5/10 running\n",
      "16.0\n",
      "[ 7.166 11.     0.   ]\n",
      "[ 4.108 15.     0.   ]\n",
      "[14.924 15.     0.   ]\n",
      "[13.845  2.     1.   ]\n",
      "[14.521 15.     1.   ]\n",
      "[10.046 10.     1.   ]\n",
      "[11.613 16.     1.   ]\n",
      "[ 1.748 16.     1.   ]\n",
      "[12.013 26.     1.   ]\n",
      "[ 0.713 21.     0.   ]\n",
      "[11.046 26.     1.   ]\n",
      "[ 3.528 15.     1.   ]\n",
      "[0.323 9.    1.   ]\n",
      "[12.474 23.     0.   ]\n",
      "[ 6.818 22.     1.   ]\n",
      "[ 8.318 10.     0.   ]\n",
      "[10.666 19.     0.   ]\n",
      "[ 5.672 17.     1.   ]\n",
      "[10.324  3.     0.   ]\n",
      "[0.862 9.    0.   ]\n",
      "[13.601 12.     0.   ]\n",
      "[ 0.04 22.    0.  ]\n",
      "[ 4.022 17.     1.   ]\n",
      "[1.496 6.    1.   ]\n",
      "[13.983 13.     0.   ]\n",
      "[ 5.395 23.     1.   ]\n",
      "[ 9.162 15.     0.   ]\n",
      "[ 8.165 19.     0.   ]\n",
      "[15.417 25.     1.   ]\n",
      "[ 7.533 20.     1.   ]\n"
     ]
    },
    {
     "name": "stderr",
     "output_type": "stream",
     "text": [
      "/Users/anweshasaha/Desktop/midas-projects/endure-torch/venv_endure_torch/lib/python3.9/site-packages/botorch/models/utils/assorted.py:173: InputDataWarning: Input data is not contained to the unit cube. Please consider min-max scaling the input data.\n",
      "  warnings.warn(msg, InputDataWarning)\n"
     ]
    },
    {
     "name": "stdout",
     "output_type": "stream",
     "text": [
      "new_candidates tensor([[13.8416,  2.0000,  0.0000]], dtype=torch.float64)\n",
      "new target tensor([[5.0678]])\n"
     ]
    },
    {
     "name": "stderr",
     "output_type": "stream",
     "text": [
      "/Users/anweshasaha/Desktop/midas-projects/endure-torch/venv_endure_torch/lib/python3.9/site-packages/botorch/models/utils/assorted.py:173: InputDataWarning: Input data is not contained to the unit cube. Please consider min-max scaling the input data.\n",
      "  warnings.warn(msg, InputDataWarning)\n"
     ]
    },
    {
     "name": "stdout",
     "output_type": "stream",
     "text": [
      "new_candidates tensor([[6.6403, 6.0000, 0.0000]], dtype=torch.float64)\n",
      "new target tensor([[3.5814]])\n"
     ]
    },
    {
     "name": "stderr",
     "output_type": "stream",
     "text": [
      "/Users/anweshasaha/Desktop/midas-projects/endure-torch/venv_endure_torch/lib/python3.9/site-packages/botorch/models/utils/assorted.py:173: InputDataWarning: Input data is not contained to the unit cube. Please consider min-max scaling the input data.\n",
      "  warnings.warn(msg, InputDataWarning)\n"
     ]
    },
    {
     "name": "stdout",
     "output_type": "stream",
     "text": [
      "new_candidates tensor([[ 8.9918, 17.0000,  0.0000]], dtype=torch.float64)\n",
      "new target tensor([[4.5583]])\n"
     ]
    },
    {
     "name": "stderr",
     "output_type": "stream",
     "text": [
      "/Users/anweshasaha/Desktop/midas-projects/endure-torch/venv_endure_torch/lib/python3.9/site-packages/botorch/models/utils/assorted.py:173: InputDataWarning: Input data is not contained to the unit cube. Please consider min-max scaling the input data.\n",
      "  warnings.warn(msg, InputDataWarning)\n"
     ]
    },
    {
     "name": "stdout",
     "output_type": "stream",
     "text": [
      "new_candidates tensor([[ 9.8352, 16.0000,  0.0000]], dtype=torch.float64)\n",
      "new target tensor([[4.5186]])\n"
     ]
    },
    {
     "name": "stderr",
     "output_type": "stream",
     "text": [
      "/Users/anweshasaha/Desktop/midas-projects/endure-torch/venv_endure_torch/lib/python3.9/site-packages/botorch/models/utils/assorted.py:173: InputDataWarning: Input data is not contained to the unit cube. Please consider min-max scaling the input data.\n",
      "  warnings.warn(msg, InputDataWarning)\n"
     ]
    },
    {
     "name": "stdout",
     "output_type": "stream",
     "text": [
      "new_candidates tensor([[ 7.6324, 27.0000,  0.0000]], dtype=torch.float64)\n",
      "new target tensor([[5.3633]])\n"
     ]
    },
    {
     "name": "stderr",
     "output_type": "stream",
     "text": [
      "/Users/anweshasaha/Desktop/midas-projects/endure-torch/venv_endure_torch/lib/python3.9/site-packages/botorch/models/utils/assorted.py:173: InputDataWarning: Input data is not contained to the unit cube. Please consider min-max scaling the input data.\n",
      "  warnings.warn(msg, InputDataWarning)\n"
     ]
    },
    {
     "name": "stdout",
     "output_type": "stream",
     "text": [
      "new_candidates tensor([[ 8.1928, 30.0000,  0.0000]], dtype=torch.float64)\n",
      "new target tensor([[5.6598]])\n"
     ]
    },
    {
     "name": "stderr",
     "output_type": "stream",
     "text": [
      "/Users/anweshasaha/Desktop/midas-projects/endure-torch/venv_endure_torch/lib/python3.9/site-packages/botorch/models/utils/assorted.py:173: InputDataWarning: Input data is not contained to the unit cube. Please consider min-max scaling the input data.\n",
      "  warnings.warn(msg, InputDataWarning)\n"
     ]
    },
    {
     "name": "stdout",
     "output_type": "stream",
     "text": [
      "new_candidates tensor([[ 7.3889, 28.0000,  0.0000]], dtype=torch.float64)\n",
      "new target tensor([[5.4342]])\n"
     ]
    },
    {
     "name": "stderr",
     "output_type": "stream",
     "text": [
      "/Users/anweshasaha/Desktop/midas-projects/endure-torch/venv_endure_torch/lib/python3.9/site-packages/botorch/models/utils/assorted.py:173: InputDataWarning: Input data is not contained to the unit cube. Please consider min-max scaling the input data.\n",
      "  warnings.warn(msg, InputDataWarning)\n"
     ]
    },
    {
     "name": "stdout",
     "output_type": "stream",
     "text": [
      "new_candidates tensor([[1., 6., 0.]], dtype=torch.float64)\n",
      "new target tensor([[3.6632]])\n"
     ]
    },
    {
     "name": "stderr",
     "output_type": "stream",
     "text": [
      "/Users/anweshasaha/Desktop/midas-projects/endure-torch/venv_endure_torch/lib/python3.9/site-packages/botorch/models/utils/assorted.py:173: InputDataWarning: Input data is not contained to the unit cube. Please consider min-max scaling the input data.\n",
      "  warnings.warn(msg, InputDataWarning)\n"
     ]
    },
    {
     "name": "stdout",
     "output_type": "stream",
     "text": [
      "new_candidates tensor([[ 7.4491, 18.0000,  0.0000]], dtype=torch.float64)\n",
      "new target tensor([[4.5662]])\n"
     ]
    },
    {
     "name": "stderr",
     "output_type": "stream",
     "text": [
      "/Users/anweshasaha/Desktop/midas-projects/endure-torch/venv_endure_torch/lib/python3.9/site-packages/botorch/models/utils/assorted.py:173: InputDataWarning: Input data is not contained to the unit cube. Please consider min-max scaling the input data.\n",
      "  warnings.warn(msg, InputDataWarning)\n"
     ]
    },
    {
     "name": "stdout",
     "output_type": "stream",
     "text": [
      "new_candidates tensor([[7.3517, 8.0000, 0.0000]], dtype=torch.float64)\n",
      "new target tensor([[3.7160]])\n"
     ]
    },
    {
     "name": "stderr",
     "output_type": "stream",
     "text": [
      "/Users/anweshasaha/Desktop/midas-projects/endure-torch/venv_endure_torch/lib/python3.9/site-packages/botorch/models/utils/assorted.py:173: InputDataWarning: Input data is not contained to the unit cube. Please consider min-max scaling the input data.\n",
      "  warnings.warn(msg, InputDataWarning)\n"
     ]
    },
    {
     "name": "stdout",
     "output_type": "stream",
     "text": [
      "new_candidates tensor([[ 7.5148, 32.0000,  0.0000]], dtype=torch.float64)\n",
      "new target tensor([[5.7826]])\n"
     ]
    },
    {
     "name": "stderr",
     "output_type": "stream",
     "text": [
      "/Users/anweshasaha/Desktop/midas-projects/endure-torch/venv_endure_torch/lib/python3.9/site-packages/botorch/models/utils/assorted.py:173: InputDataWarning: Input data is not contained to the unit cube. Please consider min-max scaling the input data.\n",
      "  warnings.warn(msg, InputDataWarning)\n"
     ]
    },
    {
     "name": "stdout",
     "output_type": "stream",
     "text": [
      "new_candidates tensor([[7.5002, 4.0000, 0.0000]], dtype=torch.float64)\n",
      "new target tensor([[3.6130]])\n"
     ]
    },
    {
     "name": "stderr",
     "output_type": "stream",
     "text": [
      "/Users/anweshasaha/Desktop/midas-projects/endure-torch/venv_endure_torch/lib/python3.9/site-packages/botorch/models/utils/assorted.py:173: InputDataWarning: Input data is not contained to the unit cube. Please consider min-max scaling the input data.\n",
      "  warnings.warn(msg, InputDataWarning)\n"
     ]
    },
    {
     "name": "stdout",
     "output_type": "stream",
     "text": [
      "new_candidates tensor([[ 7.5193, 29.0000,  0.0000]], dtype=torch.float64)\n",
      "new target tensor([[5.5279]])\n"
     ]
    },
    {
     "name": "stderr",
     "output_type": "stream",
     "text": [
      "/Users/anweshasaha/Desktop/midas-projects/endure-torch/venv_endure_torch/lib/python3.9/site-packages/botorch/models/utils/assorted.py:173: InputDataWarning: Input data is not contained to the unit cube. Please consider min-max scaling the input data.\n",
      "  warnings.warn(msg, InputDataWarning)\n"
     ]
    },
    {
     "name": "stdout",
     "output_type": "stream",
     "text": [
      "new_candidates tensor([[ 7.5790, 14.0000,  0.0000]], dtype=torch.float64)\n",
      "new target tensor([[4.2190]])\n"
     ]
    },
    {
     "name": "stderr",
     "output_type": "stream",
     "text": [
      "/Users/anweshasaha/Desktop/midas-projects/endure-torch/venv_endure_torch/lib/python3.9/site-packages/botorch/models/utils/assorted.py:173: InputDataWarning: Input data is not contained to the unit cube. Please consider min-max scaling the input data.\n",
      "  warnings.warn(msg, InputDataWarning)\n"
     ]
    },
    {
     "name": "stdout",
     "output_type": "stream",
     "text": [
      "new_candidates tensor([[7.5332, 5.0000, 0.0000]], dtype=torch.float64)\n",
      "new target tensor([[3.5824]])\n",
      "Best Design Found:\n",
      "Design: h=6.64031153540007, T=6.0, Policy=Policy.Leveling, Cost=3.581430673599243\n",
      "Cost for the nominal design using analytical solver:  3.5285373047139057\n",
      "Nominal Design suggested by analytical solver:  LSMDesign(h=4.327047111425941, T=5.035253898983742, policy=<Policy.Leveling: 1>, Q=1.0, Y=1.0, Z=1.0, K=[])\n",
      "Iteration 6/10 running\n",
      "5.0\n",
      "[ 5.587 18.     0.   ]\n",
      "[ 0.538 22.     0.   ]\n",
      "[ 0.787 24.     0.   ]\n",
      "[1.692 5.    0.   ]\n",
      "[ 2.413 24.     0.   ]\n",
      "[5.247 9.    0.   ]\n",
      "[2.66 4.   1.  ]\n",
      "[ 5.494 21.     0.   ]\n",
      "[3.839 9.    1.   ]\n",
      "[1.945 8.    1.   ]\n",
      "[2.815 8.    0.   ]\n",
      "[1.074 5.    0.   ]\n",
      "[3.476 5.    1.   ]\n",
      "[ 2.731 17.     1.   ]\n",
      "[ 1.467 24.     0.   ]\n",
      "[ 0.365 12.     1.   ]\n",
      "[2.661 3.    0.   ]\n",
      "[4.39 5.   1.  ]\n",
      "[4.586 4.    0.   ]\n",
      "[ 0.026 19.     0.   ]\n",
      "[ 0.543 26.     1.   ]\n",
      "[5.041 9.    0.   ]\n",
      "[4.698 6.    1.   ]\n",
      "[2.818 5.    1.   ]\n",
      "[ 1.52 23.    0.  ]\n",
      "[ 2.184 24.     0.   ]\n",
      "[1.979 7.    0.   ]\n",
      "[ 3.798 11.     0.   ]\n",
      "[ 5.283 23.     0.   ]\n",
      "[5.495 2.    0.   ]\n"
     ]
    },
    {
     "name": "stderr",
     "output_type": "stream",
     "text": [
      "/Users/anweshasaha/Desktop/midas-projects/endure-torch/venv_endure_torch/lib/python3.9/site-packages/botorch/models/utils/assorted.py:173: InputDataWarning: Input data is not contained to the unit cube. Please consider min-max scaling the input data.\n",
      "  warnings.warn(msg, InputDataWarning)\n",
      "/Users/anweshasaha/Desktop/midas-projects/endure-torch/venv_endure_torch/lib/python3.9/site-packages/botorch/optim/initializers.py:404: BadInitialCandidatesWarning: Unable to find non-zero acquisition function values - initial conditions are being selected randomly.\n",
      "  warnings.warn(\n"
     ]
    },
    {
     "name": "stdout",
     "output_type": "stream",
     "text": [
      "new_candidates tensor([[2.8683, 6.0000, 0.0000]], dtype=torch.float64)\n",
      "new target tensor([[5.1415]])\n"
     ]
    },
    {
     "name": "stderr",
     "output_type": "stream",
     "text": [
      "/Users/anweshasaha/Desktop/midas-projects/endure-torch/venv_endure_torch/lib/python3.9/site-packages/botorch/models/utils/assorted.py:173: InputDataWarning: Input data is not contained to the unit cube. Please consider min-max scaling the input data.\n",
      "  warnings.warn(msg, InputDataWarning)\n"
     ]
    },
    {
     "name": "stdout",
     "output_type": "stream",
     "text": [
      "new_candidates tensor([[ 2.8204, 28.0000,  0.0000]], dtype=torch.float64)\n",
      "new target tensor([[4.2304]])\n"
     ]
    },
    {
     "name": "stderr",
     "output_type": "stream",
     "text": [
      "/Users/anweshasaha/Desktop/midas-projects/endure-torch/venv_endure_torch/lib/python3.9/site-packages/botorch/models/utils/assorted.py:173: InputDataWarning: Input data is not contained to the unit cube. Please consider min-max scaling the input data.\n",
      "  warnings.warn(msg, InputDataWarning)\n",
      "/Users/anweshasaha/Desktop/midas-projects/endure-torch/venv_endure_torch/lib/python3.9/site-packages/botorch/optim/initializers.py:404: BadInitialCandidatesWarning: Unable to find non-zero acquisition function values - initial conditions are being selected randomly.\n",
      "  warnings.warn(\n"
     ]
    },
    {
     "name": "stdout",
     "output_type": "stream",
     "text": [
      "new_candidates tensor([[ 2.8394, 14.0000,  0.0000]], dtype=torch.float64)\n",
      "new target tensor([[4.4233]])\n"
     ]
    },
    {
     "name": "stderr",
     "output_type": "stream",
     "text": [
      "/Users/anweshasaha/Desktop/midas-projects/endure-torch/venv_endure_torch/lib/python3.9/site-packages/botorch/models/utils/assorted.py:173: InputDataWarning: Input data is not contained to the unit cube. Please consider min-max scaling the input data.\n",
      "  warnings.warn(msg, InputDataWarning)\n",
      "/Users/anweshasaha/Desktop/midas-projects/endure-torch/venv_endure_torch/lib/python3.9/site-packages/botorch/optim/initializers.py:404: BadInitialCandidatesWarning: Unable to find non-zero acquisition function values - initial conditions are being selected randomly.\n",
      "  warnings.warn(\n",
      "/Users/anweshasaha/Desktop/midas-projects/endure-torch/venv_endure_torch/lib/python3.9/site-packages/botorch/optim/initializers.py:404: BadInitialCandidatesWarning: Unable to find non-zero acquisition function values - initial conditions are being selected randomly.\n",
      "  warnings.warn(\n",
      "/Users/anweshasaha/Desktop/midas-projects/endure-torch/venv_endure_torch/lib/python3.9/site-packages/botorch/optim/initializers.py:404: BadInitialCandidatesWarning: Unable to find non-zero acquisition function values - initial conditions are being selected randomly.\n",
      "  warnings.warn(\n"
     ]
    },
    {
     "name": "stdout",
     "output_type": "stream",
     "text": [
      "new_candidates tensor([[ 2.9859, 31.0000,  0.0000]], dtype=torch.float64)\n",
      "new target tensor([[4.2276]])\n"
     ]
    },
    {
     "name": "stderr",
     "output_type": "stream",
     "text": [
      "/Users/anweshasaha/Desktop/midas-projects/endure-torch/venv_endure_torch/lib/python3.9/site-packages/botorch/models/utils/assorted.py:173: InputDataWarning: Input data is not contained to the unit cube. Please consider min-max scaling the input data.\n",
      "  warnings.warn(msg, InputDataWarning)\n",
      "/Users/anweshasaha/Desktop/midas-projects/endure-torch/venv_endure_torch/lib/python3.9/site-packages/botorch/optim/initializers.py:404: BadInitialCandidatesWarning: Unable to find non-zero acquisition function values - initial conditions are being selected randomly.\n",
      "  warnings.warn(\n"
     ]
    },
    {
     "name": "stdout",
     "output_type": "stream",
     "text": [
      "new_candidates tensor([[ 2.8128, 10.0000,  0.0000]], dtype=torch.float64)\n",
      "new target tensor([[4.6245]])\n"
     ]
    },
    {
     "name": "stderr",
     "output_type": "stream",
     "text": [
      "/Users/anweshasaha/Desktop/midas-projects/endure-torch/venv_endure_torch/lib/python3.9/site-packages/botorch/models/utils/assorted.py:173: InputDataWarning: Input data is not contained to the unit cube. Please consider min-max scaling the input data.\n",
      "  warnings.warn(msg, InputDataWarning)\n",
      "/Users/anweshasaha/Desktop/midas-projects/endure-torch/venv_endure_torch/lib/python3.9/site-packages/botorch/optim/initializers.py:404: BadInitialCandidatesWarning: Unable to find non-zero acquisition function values - initial conditions are being selected randomly.\n",
      "  warnings.warn(\n"
     ]
    },
    {
     "name": "stdout",
     "output_type": "stream",
     "text": [
      "new_candidates tensor([[ 2.7983, 32.0000,  0.0000]], dtype=torch.float64)\n",
      "new target tensor([[4.2222]])\n"
     ]
    },
    {
     "name": "stderr",
     "output_type": "stream",
     "text": [
      "/Users/anweshasaha/Desktop/midas-projects/endure-torch/venv_endure_torch/lib/python3.9/site-packages/botorch/models/utils/assorted.py:173: InputDataWarning: Input data is not contained to the unit cube. Please consider min-max scaling the input data.\n",
      "  warnings.warn(msg, InputDataWarning)\n",
      "/Users/anweshasaha/Desktop/midas-projects/endure-torch/venv_endure_torch/lib/python3.9/site-packages/botorch/optim/initializers.py:404: BadInitialCandidatesWarning: Unable to find non-zero acquisition function values - initial conditions are being selected randomly.\n",
      "  warnings.warn(\n"
     ]
    },
    {
     "name": "stdout",
     "output_type": "stream",
     "text": [
      "new_candidates tensor([[ 2.7823, 20.0000,  0.0000]], dtype=torch.float64)\n",
      "new target tensor([[4.2902]])\n"
     ]
    },
    {
     "name": "stderr",
     "output_type": "stream",
     "text": [
      "/Users/anweshasaha/Desktop/midas-projects/endure-torch/venv_endure_torch/lib/python3.9/site-packages/botorch/models/utils/assorted.py:173: InputDataWarning: Input data is not contained to the unit cube. Please consider min-max scaling the input data.\n",
      "  warnings.warn(msg, InputDataWarning)\n",
      "/Users/anweshasaha/Desktop/midas-projects/endure-torch/venv_endure_torch/lib/python3.9/site-packages/botorch/optim/initializers.py:404: BadInitialCandidatesWarning: Unable to find non-zero acquisition function values - initial conditions are being selected randomly.\n",
      "  warnings.warn(\n"
     ]
    },
    {
     "name": "stdout",
     "output_type": "stream",
     "text": [
      "new_candidates tensor([[ 2.7657, 15.0000,  0.0000]], dtype=torch.float64)\n",
      "new target tensor([[4.3904]])\n"
     ]
    },
    {
     "name": "stderr",
     "output_type": "stream",
     "text": [
      "/Users/anweshasaha/Desktop/midas-projects/endure-torch/venv_endure_torch/lib/python3.9/site-packages/botorch/models/utils/assorted.py:173: InputDataWarning: Input data is not contained to the unit cube. Please consider min-max scaling the input data.\n",
      "  warnings.warn(msg, InputDataWarning)\n",
      "/Users/anweshasaha/Desktop/midas-projects/endure-torch/venv_endure_torch/lib/python3.9/site-packages/botorch/optim/initializers.py:404: BadInitialCandidatesWarning: Unable to find non-zero acquisition function values - initial conditions are being selected randomly.\n",
      "  warnings.warn(\n"
     ]
    },
    {
     "name": "stdout",
     "output_type": "stream",
     "text": [
      "new_candidates tensor([[ 2.7484, 13.0000,  0.0000]], dtype=torch.float64)\n",
      "new target tensor([[4.4590]])\n"
     ]
    },
    {
     "name": "stderr",
     "output_type": "stream",
     "text": [
      "/Users/anweshasaha/Desktop/midas-projects/endure-torch/venv_endure_torch/lib/python3.9/site-packages/botorch/models/utils/assorted.py:173: InputDataWarning: Input data is not contained to the unit cube. Please consider min-max scaling the input data.\n",
      "  warnings.warn(msg, InputDataWarning)\n",
      "/Users/anweshasaha/Desktop/midas-projects/endure-torch/venv_endure_torch/lib/python3.9/site-packages/botorch/optim/initializers.py:404: BadInitialCandidatesWarning: Unable to find non-zero acquisition function values - initial conditions are being selected randomly.\n",
      "  warnings.warn(\n"
     ]
    },
    {
     "name": "stdout",
     "output_type": "stream",
     "text": [
      "new_candidates tensor([[ 2.7306, 16.0000,  0.0000]], dtype=torch.float64)\n",
      "new target tensor([[4.3632]])\n"
     ]
    },
    {
     "name": "stderr",
     "output_type": "stream",
     "text": [
      "/Users/anweshasaha/Desktop/midas-projects/endure-torch/venv_endure_torch/lib/python3.9/site-packages/botorch/models/utils/assorted.py:173: InputDataWarning: Input data is not contained to the unit cube. Please consider min-max scaling the input data.\n",
      "  warnings.warn(msg, InputDataWarning)\n",
      "/Users/anweshasaha/Desktop/midas-projects/endure-torch/venv_endure_torch/lib/python3.9/site-packages/botorch/optim/initializers.py:404: BadInitialCandidatesWarning: Unable to find non-zero acquisition function values - initial conditions are being selected randomly.\n",
      "  warnings.warn(\n",
      "/Users/anweshasaha/Desktop/midas-projects/endure-torch/venv_endure_torch/lib/python3.9/site-packages/botorch/optim/initializers.py:404: BadInitialCandidatesWarning: Unable to find non-zero acquisition function values - initial conditions are being selected randomly.\n",
      "  warnings.warn(\n",
      "/Users/anweshasaha/Desktop/midas-projects/endure-torch/venv_endure_torch/lib/python3.9/site-packages/botorch/optim/initializers.py:404: BadInitialCandidatesWarning: Unable to find non-zero acquisition function values - initial conditions are being selected randomly.\n",
      "  warnings.warn(\n"
     ]
    },
    {
     "name": "stdout",
     "output_type": "stream",
     "text": [
      "new_candidates tensor([[ 2.8869, 27.0000,  0.0000]], dtype=torch.float64)\n",
      "new target tensor([[4.2355]])\n"
     ]
    },
    {
     "name": "stderr",
     "output_type": "stream",
     "text": [
      "/Users/anweshasaha/Desktop/midas-projects/endure-torch/venv_endure_torch/lib/python3.9/site-packages/botorch/models/utils/assorted.py:173: InputDataWarning: Input data is not contained to the unit cube. Please consider min-max scaling the input data.\n",
      "  warnings.warn(msg, InputDataWarning)\n",
      "/Users/anweshasaha/Desktop/midas-projects/endure-torch/venv_endure_torch/lib/python3.9/site-packages/botorch/optim/initializers.py:404: BadInitialCandidatesWarning: Unable to find non-zero acquisition function values - initial conditions are being selected randomly.\n",
      "  warnings.warn(\n",
      "/Users/anweshasaha/Desktop/midas-projects/endure-torch/venv_endure_torch/lib/python3.9/site-packages/botorch/optim/initializers.py:404: BadInitialCandidatesWarning: Unable to find non-zero acquisition function values - initial conditions are being selected randomly.\n",
      "  warnings.warn(\n",
      "/Users/anweshasaha/Desktop/midas-projects/endure-torch/venv_endure_torch/lib/python3.9/site-packages/botorch/optim/initializers.py:404: BadInitialCandidatesWarning: Unable to find non-zero acquisition function values - initial conditions are being selected randomly.\n",
      "  warnings.warn(\n"
     ]
    },
    {
     "name": "stdout",
     "output_type": "stream",
     "text": [
      "new_candidates tensor([[ 2.9162, 30.0000,  0.0000]], dtype=torch.float64)\n",
      "new target tensor([[4.2274]])\n"
     ]
    },
    {
     "name": "stderr",
     "output_type": "stream",
     "text": [
      "/Users/anweshasaha/Desktop/midas-projects/endure-torch/venv_endure_torch/lib/python3.9/site-packages/botorch/models/utils/assorted.py:173: InputDataWarning: Input data is not contained to the unit cube. Please consider min-max scaling the input data.\n",
      "  warnings.warn(msg, InputDataWarning)\n",
      "/Users/anweshasaha/Desktop/midas-projects/endure-torch/venv_endure_torch/lib/python3.9/site-packages/botorch/optim/initializers.py:404: BadInitialCandidatesWarning: Unable to find non-zero acquisition function values - initial conditions are being selected randomly.\n",
      "  warnings.warn(\n",
      "/Users/anweshasaha/Desktop/midas-projects/endure-torch/venv_endure_torch/lib/python3.9/site-packages/botorch/optim/initializers.py:404: BadInitialCandidatesWarning: Unable to find non-zero acquisition function values - initial conditions are being selected randomly.\n",
      "  warnings.warn(\n",
      "/Users/anweshasaha/Desktop/midas-projects/endure-torch/venv_endure_torch/lib/python3.9/site-packages/botorch/optim/initializers.py:404: BadInitialCandidatesWarning: Unable to find non-zero acquisition function values - initial conditions are being selected randomly.\n",
      "  warnings.warn(\n"
     ]
    },
    {
     "name": "stdout",
     "output_type": "stream",
     "text": [
      "new_candidates tensor([[ 2.8548, 29.0000,  0.0000]], dtype=torch.float64)\n",
      "new target tensor([[4.2282]])\n"
     ]
    },
    {
     "name": "stderr",
     "output_type": "stream",
     "text": [
      "/Users/anweshasaha/Desktop/midas-projects/endure-torch/venv_endure_torch/lib/python3.9/site-packages/botorch/models/utils/assorted.py:173: InputDataWarning: Input data is not contained to the unit cube. Please consider min-max scaling the input data.\n",
      "  warnings.warn(msg, InputDataWarning)\n",
      "/Users/anweshasaha/Desktop/midas-projects/endure-torch/venv_endure_torch/lib/python3.9/site-packages/botorch/optim/initializers.py:404: BadInitialCandidatesWarning: Unable to find non-zero acquisition function values - initial conditions are being selected randomly.\n",
      "  warnings.warn(\n"
     ]
    },
    {
     "name": "stdout",
     "output_type": "stream",
     "text": [
      "new_candidates tensor([[ 2.6552, 25.0000,  0.0000]], dtype=torch.float64)\n",
      "new target tensor([[4.2419]])\n"
     ]
    },
    {
     "name": "stderr",
     "output_type": "stream",
     "text": [
      "/Users/anweshasaha/Desktop/midas-projects/endure-torch/venv_endure_torch/lib/python3.9/site-packages/botorch/models/utils/assorted.py:173: InputDataWarning: Input data is not contained to the unit cube. Please consider min-max scaling the input data.\n",
      "  warnings.warn(msg, InputDataWarning)\n",
      "/Users/anweshasaha/Desktop/midas-projects/endure-torch/venv_endure_torch/lib/python3.9/site-packages/botorch/optim/initializers.py:404: BadInitialCandidatesWarning: Unable to find non-zero acquisition function values - initial conditions are being selected randomly.\n",
      "  warnings.warn(\n",
      "/Users/anweshasaha/Desktop/midas-projects/endure-torch/venv_endure_torch/lib/python3.9/site-packages/botorch/optim/initializers.py:404: BadInitialCandidatesWarning: Unable to find non-zero acquisition function values - initial conditions are being selected randomly.\n",
      "  warnings.warn(\n",
      "/Users/anweshasaha/Desktop/midas-projects/endure-torch/venv_endure_torch/lib/python3.9/site-packages/botorch/optim/initializers.py:404: BadInitialCandidatesWarning: Unable to find non-zero acquisition function values - initial conditions are being selected randomly.\n",
      "  warnings.warn(\n"
     ]
    },
    {
     "name": "stdout",
     "output_type": "stream",
     "text": [
      "new_candidates tensor([[ 2.8350, 12.0000,  0.0000]], dtype=torch.float64)\n",
      "new target tensor([[4.5052]])\n",
      "Best Design Found:\n",
      "Design: h=2.7983242103252506, T=32.0, Policy=Policy.Leveling, Cost=4.222207546234131\n",
      "Cost for the nominal design using analytical solver:  4.220075642971915\n",
      "Nominal Design suggested by analytical solver:  LSMDesign(h=2.451777574627559, T=31.0, policy=<Policy.Leveling: 1>, Q=1.0, Y=1.0, Z=1.0, K=[])\n",
      "Iteration 7/10 running\n",
      "7.0\n",
      "[ 2.96 24.    1.  ]\n",
      "[ 0.592 17.     0.   ]\n",
      "[2.9 5.  0. ]\n",
      "[6.709 6.    1.   ]\n",
      "[ 5.805 15.     0.   ]\n",
      "[ 7.467 26.     0.   ]\n",
      "[ 7.378 17.     0.   ]\n",
      "[6.452 3.    1.   ]\n",
      "[7.35 5.   1.  ]\n",
      "[2.651 6.    1.   ]\n",
      "[5.884 5.    0.   ]\n",
      "[ 5.952 15.     0.   ]\n",
      "[ 7.651 14.     0.   ]\n",
      "[ 3.431 30.     1.   ]\n",
      "[6.112 6.    0.   ]\n",
      "[ 4.404 19.     1.   ]\n",
      "[ 7.409 29.     0.   ]\n",
      "[ 3.278 25.     1.   ]\n",
      "[ 3.631 16.     1.   ]\n",
      "[ 4.595 13.     0.   ]\n",
      "[ 5.516 28.     0.   ]\n",
      "[0.409 8.    0.   ]\n",
      "[0.276 3.    1.   ]\n",
      "[2.993 9.    0.   ]\n",
      "[ 3.193 27.     0.   ]\n",
      "[0.899 2.    1.   ]\n",
      "[ 2.249 14.     1.   ]\n",
      "[ 4.907 20.     1.   ]\n",
      "[ 5.386 24.     1.   ]\n",
      "[6.554 6.    0.   ]\n"
     ]
    },
    {
     "name": "stderr",
     "output_type": "stream",
     "text": [
      "/Users/anweshasaha/Desktop/midas-projects/endure-torch/venv_endure_torch/lib/python3.9/site-packages/botorch/models/utils/assorted.py:173: InputDataWarning: Input data is not contained to the unit cube. Please consider min-max scaling the input data.\n",
      "  warnings.warn(msg, InputDataWarning)\n",
      "/Users/anweshasaha/Desktop/midas-projects/endure-torch/venv_endure_torch/lib/python3.9/site-packages/botorch/optim/initializers.py:404: BadInitialCandidatesWarning: Unable to find non-zero acquisition function values - initial conditions are being selected randomly.\n",
      "  warnings.warn(\n"
     ]
    },
    {
     "name": "stdout",
     "output_type": "stream",
     "text": [
      "new_candidates tensor([[1., 2., 0.]], dtype=torch.float64)\n",
      "new target tensor([[4.2872]])\n"
     ]
    },
    {
     "name": "stderr",
     "output_type": "stream",
     "text": [
      "/Users/anweshasaha/Desktop/midas-projects/endure-torch/venv_endure_torch/lib/python3.9/site-packages/botorch/models/utils/assorted.py:173: InputDataWarning: Input data is not contained to the unit cube. Please consider min-max scaling the input data.\n",
      "  warnings.warn(msg, InputDataWarning)\n",
      "/Users/anweshasaha/Desktop/midas-projects/endure-torch/venv_endure_torch/lib/python3.9/site-packages/botorch/optim/initializers.py:404: BadInitialCandidatesWarning: Unable to find non-zero acquisition function values - initial conditions are being selected randomly.\n",
      "  warnings.warn(\n"
     ]
    },
    {
     "name": "stdout",
     "output_type": "stream",
     "text": [
      "new_candidates tensor([[1., 3., 0.]], dtype=torch.float64)\n",
      "new target tensor([[2.8985]])\n"
     ]
    },
    {
     "name": "stderr",
     "output_type": "stream",
     "text": [
      "/Users/anweshasaha/Desktop/midas-projects/endure-torch/venv_endure_torch/lib/python3.9/site-packages/botorch/models/utils/assorted.py:173: InputDataWarning: Input data is not contained to the unit cube. Please consider min-max scaling the input data.\n",
      "  warnings.warn(msg, InputDataWarning)\n",
      "/Users/anweshasaha/Desktop/midas-projects/endure-torch/venv_endure_torch/lib/python3.9/site-packages/botorch/optim/initializers.py:404: BadInitialCandidatesWarning: Unable to find non-zero acquisition function values - initial conditions are being selected randomly.\n",
      "  warnings.warn(\n"
     ]
    },
    {
     "name": "stdout",
     "output_type": "stream",
     "text": [
      "new_candidates tensor([[1., 4., 0.]], dtype=torch.float64)\n",
      "new target tensor([[2.4146]])\n"
     ]
    },
    {
     "name": "stderr",
     "output_type": "stream",
     "text": [
      "/Users/anweshasaha/Desktop/midas-projects/endure-torch/venv_endure_torch/lib/python3.9/site-packages/botorch/models/utils/assorted.py:173: InputDataWarning: Input data is not contained to the unit cube. Please consider min-max scaling the input data.\n",
      "  warnings.warn(msg, InputDataWarning)\n",
      "/Users/anweshasaha/Desktop/midas-projects/endure-torch/venv_endure_torch/lib/python3.9/site-packages/botorch/optim/initializers.py:404: BadInitialCandidatesWarning: Unable to find non-zero acquisition function values - initial conditions are being selected randomly.\n",
      "  warnings.warn(\n",
      "/Users/anweshasaha/Desktop/midas-projects/endure-torch/venv_endure_torch/lib/python3.9/site-packages/botorch/optim/initializers.py:404: BadInitialCandidatesWarning: Unable to find non-zero acquisition function values - initial conditions are being selected randomly.\n",
      "  warnings.warn(\n"
     ]
    },
    {
     "name": "stdout",
     "output_type": "stream",
     "text": [
      "new_candidates tensor([[2.0772, 7.0000, 0.0000]], dtype=torch.float64)\n",
      "new target tensor([[1.9183]])\n"
     ]
    },
    {
     "name": "stderr",
     "output_type": "stream",
     "text": [
      "/Users/anweshasaha/Desktop/midas-projects/endure-torch/venv_endure_torch/lib/python3.9/site-packages/botorch/models/utils/assorted.py:173: InputDataWarning: Input data is not contained to the unit cube. Please consider min-max scaling the input data.\n",
      "  warnings.warn(msg, InputDataWarning)\n"
     ]
    },
    {
     "name": "stdout",
     "output_type": "stream",
     "text": [
      "new_candidates tensor([[3.9280, 8.0000, 0.0000]], dtype=torch.float64)\n",
      "new target tensor([[1.9077]])\n"
     ]
    },
    {
     "name": "stderr",
     "output_type": "stream",
     "text": [
      "/Users/anweshasaha/Desktop/midas-projects/endure-torch/venv_endure_torch/lib/python3.9/site-packages/botorch/models/utils/assorted.py:173: InputDataWarning: Input data is not contained to the unit cube. Please consider min-max scaling the input data.\n",
      "  warnings.warn(msg, InputDataWarning)\n",
      "/Users/anweshasaha/Desktop/midas-projects/endure-torch/venv_endure_torch/lib/python3.9/site-packages/botorch/optim/initializers.py:404: BadInitialCandidatesWarning: Unable to find non-zero acquisition function values - initial conditions are being selected randomly.\n",
      "  warnings.warn(\n"
     ]
    },
    {
     "name": "stdout",
     "output_type": "stream",
     "text": [
      "new_candidates tensor([[ 1., 10.,  0.]], dtype=torch.float64)\n",
      "new target tensor([[1.7230]])\n"
     ]
    },
    {
     "name": "stderr",
     "output_type": "stream",
     "text": [
      "/Users/anweshasaha/Desktop/midas-projects/endure-torch/venv_endure_torch/lib/python3.9/site-packages/botorch/models/utils/assorted.py:173: InputDataWarning: Input data is not contained to the unit cube. Please consider min-max scaling the input data.\n",
      "  warnings.warn(msg, InputDataWarning)\n",
      "/Users/anweshasaha/Desktop/midas-projects/endure-torch/venv_endure_torch/lib/python3.9/site-packages/botorch/optim/initializers.py:404: BadInitialCandidatesWarning: Unable to find non-zero acquisition function values - initial conditions are being selected randomly.\n",
      "  warnings.warn(\n",
      "/Users/anweshasaha/Desktop/midas-projects/endure-torch/venv_endure_torch/lib/python3.9/site-packages/botorch/optim/initializers.py:404: BadInitialCandidatesWarning: Unable to find non-zero acquisition function values - initial conditions are being selected randomly.\n",
      "  warnings.warn(\n"
     ]
    },
    {
     "name": "stdout",
     "output_type": "stream",
     "text": [
      "new_candidates tensor([[ 1.8697, 11.0000,  0.0000]], dtype=torch.float64)\n",
      "new target tensor([[1.6981]])\n"
     ]
    },
    {
     "name": "stderr",
     "output_type": "stream",
     "text": [
      "/Users/anweshasaha/Desktop/midas-projects/endure-torch/venv_endure_torch/lib/python3.9/site-packages/botorch/models/utils/assorted.py:173: InputDataWarning: Input data is not contained to the unit cube. Please consider min-max scaling the input data.\n",
      "  warnings.warn(msg, InputDataWarning)\n"
     ]
    },
    {
     "name": "stdout",
     "output_type": "stream",
     "text": [
      "new_candidates tensor([[ 4.5111, 10.0000,  0.0000]], dtype=torch.float64)\n",
      "new target tensor([[1.8306]])\n"
     ]
    },
    {
     "name": "stderr",
     "output_type": "stream",
     "text": [
      "/Users/anweshasaha/Desktop/midas-projects/endure-torch/venv_endure_torch/lib/python3.9/site-packages/botorch/models/utils/assorted.py:173: InputDataWarning: Input data is not contained to the unit cube. Please consider min-max scaling the input data.\n",
      "  warnings.warn(msg, InputDataWarning)\n",
      "/Users/anweshasaha/Desktop/midas-projects/endure-torch/venv_endure_torch/lib/python3.9/site-packages/botorch/optim/initializers.py:404: BadInitialCandidatesWarning: Unable to find non-zero acquisition function values - initial conditions are being selected randomly.\n",
      "  warnings.warn(\n"
     ]
    },
    {
     "name": "stdout",
     "output_type": "stream",
     "text": [
      "new_candidates tensor([[ 1.5574, 25.0000,  0.0000]], dtype=torch.float64)\n",
      "new target tensor([[1.5212]])\n"
     ]
    },
    {
     "name": "stderr",
     "output_type": "stream",
     "text": [
      "/Users/anweshasaha/Desktop/midas-projects/endure-torch/venv_endure_torch/lib/python3.9/site-packages/botorch/models/utils/assorted.py:173: InputDataWarning: Input data is not contained to the unit cube. Please consider min-max scaling the input data.\n",
      "  warnings.warn(msg, InputDataWarning)\n"
     ]
    },
    {
     "name": "stdout",
     "output_type": "stream",
     "text": [
      "new_candidates tensor([[ 3.0584, 17.0000,  0.0000]], dtype=torch.float64)\n",
      "new target tensor([[1.6085]])\n"
     ]
    },
    {
     "name": "stderr",
     "output_type": "stream",
     "text": [
      "/Users/anweshasaha/Desktop/midas-projects/endure-torch/venv_endure_torch/lib/python3.9/site-packages/botorch/models/utils/assorted.py:173: InputDataWarning: Input data is not contained to the unit cube. Please consider min-max scaling the input data.\n",
      "  warnings.warn(msg, InputDataWarning)\n",
      "/Users/anweshasaha/Desktop/midas-projects/endure-torch/venv_endure_torch/lib/python3.9/site-packages/botorch/optim/initializers.py:404: BadInitialCandidatesWarning: Unable to find non-zero acquisition function values - initial conditions are being selected randomly.\n",
      "  warnings.warn(\n",
      "/Users/anweshasaha/Desktop/midas-projects/endure-torch/venv_endure_torch/lib/python3.9/site-packages/botorch/optim/initializers.py:404: BadInitialCandidatesWarning: Unable to find non-zero acquisition function values - initial conditions are being selected randomly.\n",
      "  warnings.warn(\n",
      "/Users/anweshasaha/Desktop/midas-projects/endure-torch/venv_endure_torch/lib/python3.9/site-packages/botorch/optim/initializers.py:404: BadInitialCandidatesWarning: Unable to find non-zero acquisition function values - initial conditions are being selected randomly.\n",
      "  warnings.warn(\n"
     ]
    },
    {
     "name": "stdout",
     "output_type": "stream",
     "text": [
      "new_candidates tensor([[ 1.0004, 24.0000,  0.0000]], dtype=torch.float64)\n",
      "new target tensor([[1.5177]])\n"
     ]
    },
    {
     "name": "stderr",
     "output_type": "stream",
     "text": [
      "/Users/anweshasaha/Desktop/midas-projects/endure-torch/venv_endure_torch/lib/python3.9/site-packages/botorch/models/utils/assorted.py:173: InputDataWarning: Input data is not contained to the unit cube. Please consider min-max scaling the input data.\n",
      "  warnings.warn(msg, InputDataWarning)\n",
      "/Users/anweshasaha/Desktop/midas-projects/endure-torch/venv_endure_torch/lib/python3.9/site-packages/botorch/optim/initializers.py:404: BadInitialCandidatesWarning: Unable to find non-zero acquisition function values - initial conditions are being selected randomly.\n",
      "  warnings.warn(\n",
      "/Users/anweshasaha/Desktop/midas-projects/endure-torch/venv_endure_torch/lib/python3.9/site-packages/botorch/optim/initializers.py:404: BadInitialCandidatesWarning: Unable to find non-zero acquisition function values - initial conditions are being selected randomly.\n",
      "  warnings.warn(\n"
     ]
    },
    {
     "name": "stdout",
     "output_type": "stream",
     "text": [
      "new_candidates tensor([[ 1., 12.,  0.]], dtype=torch.float64)\n",
      "new target tensor([[1.6571]])\n"
     ]
    },
    {
     "name": "stderr",
     "output_type": "stream",
     "text": [
      "/Users/anweshasaha/Desktop/midas-projects/endure-torch/venv_endure_torch/lib/python3.9/site-packages/botorch/models/utils/assorted.py:173: InputDataWarning: Input data is not contained to the unit cube. Please consider min-max scaling the input data.\n",
      "  warnings.warn(msg, InputDataWarning)\n",
      "/Users/anweshasaha/Desktop/midas-projects/endure-torch/venv_endure_torch/lib/python3.9/site-packages/botorch/optim/initializers.py:404: BadInitialCandidatesWarning: Unable to find non-zero acquisition function values - initial conditions are being selected randomly.\n",
      "  warnings.warn(\n",
      "/Users/anweshasaha/Desktop/midas-projects/endure-torch/venv_endure_torch/lib/python3.9/site-packages/botorch/optim/initializers.py:404: BadInitialCandidatesWarning: Unable to find non-zero acquisition function values - initial conditions are being selected randomly.\n",
      "  warnings.warn(\n"
     ]
    },
    {
     "name": "stdout",
     "output_type": "stream",
     "text": [
      "new_candidates tensor([[ 1.0059, 22.0000,  0.0000]], dtype=torch.float64)\n",
      "new target tensor([[1.5268]])\n"
     ]
    },
    {
     "name": "stderr",
     "output_type": "stream",
     "text": [
      "/Users/anweshasaha/Desktop/midas-projects/endure-torch/venv_endure_torch/lib/python3.9/site-packages/botorch/models/utils/assorted.py:173: InputDataWarning: Input data is not contained to the unit cube. Please consider min-max scaling the input data.\n",
      "  warnings.warn(msg, InputDataWarning)\n",
      "/Users/anweshasaha/Desktop/midas-projects/endure-torch/venv_endure_torch/lib/python3.9/site-packages/botorch/optim/initializers.py:404: BadInitialCandidatesWarning: Unable to find non-zero acquisition function values - initial conditions are being selected randomly.\n",
      "  warnings.warn(\n",
      "/Users/anweshasaha/Desktop/midas-projects/endure-torch/venv_endure_torch/lib/python3.9/site-packages/botorch/optim/initializers.py:404: BadInitialCandidatesWarning: Unable to find non-zero acquisition function values - initial conditions are being selected randomly.\n",
      "  warnings.warn(\n",
      "/Users/anweshasaha/Desktop/midas-projects/endure-torch/venv_endure_torch/lib/python3.9/site-packages/botorch/optim/initializers.py:404: BadInitialCandidatesWarning: Unable to find non-zero acquisition function values - initial conditions are being selected randomly.\n",
      "  warnings.warn(\n"
     ]
    },
    {
     "name": "stdout",
     "output_type": "stream",
     "text": [
      "new_candidates tensor([[ 1.0708, 30.0000,  0.0000]], dtype=torch.float64)\n",
      "new target tensor([[1.5048]])\n"
     ]
    },
    {
     "name": "stderr",
     "output_type": "stream",
     "text": [
      "/Users/anweshasaha/Desktop/midas-projects/endure-torch/venv_endure_torch/lib/python3.9/site-packages/botorch/models/utils/assorted.py:173: InputDataWarning: Input data is not contained to the unit cube. Please consider min-max scaling the input data.\n",
      "  warnings.warn(msg, InputDataWarning)\n"
     ]
    },
    {
     "name": "stdout",
     "output_type": "stream",
     "text": [
      "new_candidates tensor([[ 3.8848, 20.0000,  0.0000]], dtype=torch.float64)\n",
      "new target tensor([[1.6094]])\n",
      "Best Design Found:\n",
      "Design: h=1.07076925579929, T=30.0, Policy=Policy.Leveling, Cost=1.5048149824142456\n",
      "Cost for the nominal design using analytical solver:  1.4982855584977457\n",
      "Nominal Design suggested by analytical solver:  LSMDesign(h=0.10179836095874555, T=31.0, policy=<Policy.Leveling: 1>, Q=1.0, Y=1.0, Z=1.0, K=[])\n",
      "Iteration 8/10 running\n",
      "5.0\n",
      "[ 3.932 30.     0.   ]\n",
      "[ 0.302 22.     1.   ]\n",
      "[2.619 5.    0.   ]\n",
      "[ 4.736 19.     1.   ]\n",
      "[ 3.876 25.     0.   ]\n",
      "[ 2.159 20.     0.   ]\n",
      "[ 0.609 11.     1.   ]\n",
      "[ 1.925 24.     1.   ]\n",
      "[2.889 2.    1.   ]\n",
      "[0.939 3.    1.   ]\n",
      "[ 4.211 10.     0.   ]\n",
      "[ 4.788 30.     0.   ]\n",
      "[ 4.253 11.     1.   ]\n",
      "[3.814 4.    1.   ]\n",
      "[3.167 2.    0.   ]\n",
      "[ 3.07 23.    1.  ]\n",
      "[0.389 8.    1.   ]\n",
      "[ 1.846 22.     1.   ]\n",
      "[ 3.879 22.     0.   ]\n",
      "[0.874 6.    1.   ]\n",
      "[ 0.681 26.     0.   ]\n",
      "[ 1.101 27.     0.   ]\n",
      "[ 1.855 23.     0.   ]\n",
      "[ 0.967 22.     1.   ]\n",
      "[ 3.866 23.     1.   ]\n",
      "[ 1.821 27.     0.   ]\n",
      "[ 0.626 26.     1.   ]\n",
      "[ 1.342 29.     0.   ]\n",
      "[2.388 8.    0.   ]\n",
      "[ 3.153 11.     0.   ]\n"
     ]
    },
    {
     "name": "stderr",
     "output_type": "stream",
     "text": [
      "/Users/anweshasaha/Desktop/midas-projects/endure-torch/venv_endure_torch/lib/python3.9/site-packages/botorch/models/utils/assorted.py:173: InputDataWarning: Input data is not contained to the unit cube. Please consider min-max scaling the input data.\n",
      "  warnings.warn(msg, InputDataWarning)\n"
     ]
    },
    {
     "name": "stdout",
     "output_type": "stream",
     "text": [
      "new_candidates tensor([[3.8073, 3.0000, 1.0000]], dtype=torch.float64)\n",
      "new target tensor([[1.2000]])\n"
     ]
    },
    {
     "name": "stderr",
     "output_type": "stream",
     "text": [
      "/Users/anweshasaha/Desktop/midas-projects/endure-torch/venv_endure_torch/lib/python3.9/site-packages/botorch/models/utils/assorted.py:173: InputDataWarning: Input data is not contained to the unit cube. Please consider min-max scaling the input data.\n",
      "  warnings.warn(msg, InputDataWarning)\n"
     ]
    },
    {
     "name": "stdout",
     "output_type": "stream",
     "text": [
      "new_candidates tensor([[ 1., 10.,  0.]], dtype=torch.float64)\n",
      "new target tensor([[1.2328]])\n"
     ]
    },
    {
     "name": "stderr",
     "output_type": "stream",
     "text": [
      "/Users/anweshasaha/Desktop/midas-projects/endure-torch/venv_endure_torch/lib/python3.9/site-packages/botorch/models/utils/assorted.py:173: InputDataWarning: Input data is not contained to the unit cube. Please consider min-max scaling the input data.\n",
      "  warnings.warn(msg, InputDataWarning)\n"
     ]
    },
    {
     "name": "stdout",
     "output_type": "stream",
     "text": [
      "new_candidates tensor([[ 2.8633, 16.0000,  0.0000]], dtype=torch.float64)\n",
      "new target tensor([[1.1329]])\n"
     ]
    },
    {
     "name": "stderr",
     "output_type": "stream",
     "text": [
      "/Users/anweshasaha/Desktop/midas-projects/endure-torch/venv_endure_torch/lib/python3.9/site-packages/botorch/models/utils/assorted.py:173: InputDataWarning: Input data is not contained to the unit cube. Please consider min-max scaling the input data.\n",
      "  warnings.warn(msg, InputDataWarning)\n"
     ]
    },
    {
     "name": "stdout",
     "output_type": "stream",
     "text": [
      "new_candidates tensor([[ 2.8668, 28.0000,  0.0000]], dtype=torch.float64)\n",
      "new target tensor([[1.3993]])\n"
     ]
    },
    {
     "name": "stderr",
     "output_type": "stream",
     "text": [
      "/Users/anweshasaha/Desktop/midas-projects/endure-torch/venv_endure_torch/lib/python3.9/site-packages/botorch/models/utils/assorted.py:173: InputDataWarning: Input data is not contained to the unit cube. Please consider min-max scaling the input data.\n",
      "  warnings.warn(msg, InputDataWarning)\n"
     ]
    },
    {
     "name": "stdout",
     "output_type": "stream",
     "text": [
      "new_candidates tensor([[2.8713, 3.0000, 0.0000]], dtype=torch.float64)\n",
      "new target tensor([[1.0536]])\n"
     ]
    },
    {
     "name": "stderr",
     "output_type": "stream",
     "text": [
      "/Users/anweshasaha/Desktop/midas-projects/endure-torch/venv_endure_torch/lib/python3.9/site-packages/botorch/models/utils/assorted.py:173: InputDataWarning: Input data is not contained to the unit cube. Please consider min-max scaling the input data.\n",
      "  warnings.warn(msg, InputDataWarning)\n"
     ]
    },
    {
     "name": "stdout",
     "output_type": "stream",
     "text": [
      "new_candidates tensor([[ 2.8760, 17.0000,  0.0000]], dtype=torch.float64)\n",
      "new target tensor([[1.1547]])\n"
     ]
    },
    {
     "name": "stderr",
     "output_type": "stream",
     "text": [
      "/Users/anweshasaha/Desktop/midas-projects/endure-torch/venv_endure_torch/lib/python3.9/site-packages/botorch/models/utils/assorted.py:173: InputDataWarning: Input data is not contained to the unit cube. Please consider min-max scaling the input data.\n",
      "  warnings.warn(msg, InputDataWarning)\n"
     ]
    },
    {
     "name": "stdout",
     "output_type": "stream",
     "text": [
      "new_candidates tensor([[ 2.8801, 19.0000,  0.0000]], dtype=torch.float64)\n",
      "new target tensor([[1.1992]])\n"
     ]
    },
    {
     "name": "stderr",
     "output_type": "stream",
     "text": [
      "/Users/anweshasaha/Desktop/midas-projects/endure-torch/venv_endure_torch/lib/python3.9/site-packages/botorch/models/utils/assorted.py:173: InputDataWarning: Input data is not contained to the unit cube. Please consider min-max scaling the input data.\n",
      "  warnings.warn(msg, InputDataWarning)\n"
     ]
    },
    {
     "name": "stdout",
     "output_type": "stream",
     "text": [
      "new_candidates tensor([[ 3.8319, 26.0000,  0.0000]], dtype=torch.float64)\n",
      "new target tensor([[1.3715]])\n"
     ]
    },
    {
     "name": "stderr",
     "output_type": "stream",
     "text": [
      "/Users/anweshasaha/Desktop/midas-projects/endure-torch/venv_endure_torch/lib/python3.9/site-packages/botorch/models/utils/assorted.py:173: InputDataWarning: Input data is not contained to the unit cube. Please consider min-max scaling the input data.\n",
      "  warnings.warn(msg, InputDataWarning)\n"
     ]
    },
    {
     "name": "stdout",
     "output_type": "stream",
     "text": [
      "new_candidates tensor([[ 1., 12.,  0.]], dtype=torch.float64)\n",
      "new target tensor([[1.2539]])\n"
     ]
    },
    {
     "name": "stderr",
     "output_type": "stream",
     "text": [
      "/Users/anweshasaha/Desktop/midas-projects/endure-torch/venv_endure_torch/lib/python3.9/site-packages/botorch/models/utils/assorted.py:173: InputDataWarning: Input data is not contained to the unit cube. Please consider min-max scaling the input data.\n",
      "  warnings.warn(msg, InputDataWarning)\n"
     ]
    },
    {
     "name": "stdout",
     "output_type": "stream",
     "text": [
      "new_candidates tensor([[ 2.8845, 18.0000,  0.0000]], dtype=torch.float64)\n",
      "new target tensor([[1.1767]])\n"
     ]
    },
    {
     "name": "stderr",
     "output_type": "stream",
     "text": [
      "/Users/anweshasaha/Desktop/midas-projects/endure-torch/venv_endure_torch/lib/python3.9/site-packages/botorch/models/utils/assorted.py:173: InputDataWarning: Input data is not contained to the unit cube. Please consider min-max scaling the input data.\n",
      "  warnings.warn(msg, InputDataWarning)\n"
     ]
    },
    {
     "name": "stdout",
     "output_type": "stream",
     "text": [
      "new_candidates tensor([[2.8870, 4.0000, 0.0000]], dtype=torch.float64)\n",
      "new target tensor([[0.9759]])\n"
     ]
    },
    {
     "name": "stderr",
     "output_type": "stream",
     "text": [
      "/Users/anweshasaha/Desktop/midas-projects/endure-torch/venv_endure_torch/lib/python3.9/site-packages/botorch/models/utils/assorted.py:173: InputDataWarning: Input data is not contained to the unit cube. Please consider min-max scaling the input data.\n",
      "  warnings.warn(msg, InputDataWarning)\n"
     ]
    },
    {
     "name": "stdout",
     "output_type": "stream",
     "text": [
      "new_candidates tensor([[ 2.8900, 32.0000,  0.0000]], dtype=torch.float64)\n",
      "new target tensor([[1.4863]])\n"
     ]
    },
    {
     "name": "stderr",
     "output_type": "stream",
     "text": [
      "/Users/anweshasaha/Desktop/midas-projects/endure-torch/venv_endure_torch/lib/python3.9/site-packages/botorch/models/utils/assorted.py:173: InputDataWarning: Input data is not contained to the unit cube. Please consider min-max scaling the input data.\n",
      "  warnings.warn(msg, InputDataWarning)\n"
     ]
    },
    {
     "name": "stdout",
     "output_type": "stream",
     "text": [
      "new_candidates tensor([[3.8635, 6.0000, 1.0000]], dtype=torch.float64)\n",
      "new target tensor([[1.5399]])\n"
     ]
    },
    {
     "name": "stderr",
     "output_type": "stream",
     "text": [
      "/Users/anweshasaha/Desktop/midas-projects/endure-torch/venv_endure_torch/lib/python3.9/site-packages/botorch/models/utils/assorted.py:173: InputDataWarning: Input data is not contained to the unit cube. Please consider min-max scaling the input data.\n",
      "  warnings.warn(msg, InputDataWarning)\n"
     ]
    },
    {
     "name": "stdout",
     "output_type": "stream",
     "text": [
      "new_candidates tensor([[ 2.8895, 31.0000,  0.0000]], dtype=torch.float64)\n",
      "new target tensor([[1.4646]])\n"
     ]
    },
    {
     "name": "stderr",
     "output_type": "stream",
     "text": [
      "/Users/anweshasaha/Desktop/midas-projects/endure-torch/venv_endure_torch/lib/python3.9/site-packages/botorch/models/utils/assorted.py:173: InputDataWarning: Input data is not contained to the unit cube. Please consider min-max scaling the input data.\n",
      "  warnings.warn(msg, InputDataWarning)\n"
     ]
    },
    {
     "name": "stdout",
     "output_type": "stream",
     "text": [
      "new_candidates tensor([[1., 9., 0.]], dtype=torch.float64)\n",
      "new target tensor([[1.2265]])\n",
      "Best Design Found:\n",
      "Design: h=2.8870419886982273, T=4.0, Policy=Policy.Leveling, Cost=0.9758960604667664\n",
      "Cost for the nominal design using analytical solver:  0.8863242722601359\n",
      "Nominal Design suggested by analytical solver:  LSMDesign(h=4.2189854369144895, T=4.642751190626846, policy=<Policy.Leveling: 1>, Q=1.0, Y=1.0, Z=1.0, K=[])\n",
      "Iteration 9/10 running\n",
      "8.0\n",
      "[ 0.145 18.     0.   ]\n",
      "[ 7.034 14.     1.   ]\n",
      "[ 2.408 13.     0.   ]\n",
      "[3.307 7.    1.   ]\n",
      "[ 3.972 18.     0.   ]\n",
      "[ 0.231 24.     0.   ]\n",
      "[3.431 8.    1.   ]\n",
      "[ 2.909 14.     1.   ]\n",
      "[ 2.12 28.    0.  ]\n",
      "[0.512 2.    0.   ]\n",
      "[ 6.155 12.     1.   ]\n",
      "[ 1.854 26.     0.   ]\n",
      "[ 1.267 30.     0.   ]\n",
      "[ 3.002 24.     1.   ]\n",
      "[ 5.367 13.     0.   ]\n",
      "[3.089 3.    0.   ]\n",
      "[ 6.966 10.     1.   ]\n",
      "[ 3.912 29.     1.   ]\n",
      "[2.561 7.    0.   ]\n",
      "[ 0.601 19.     1.   ]\n",
      "[ 3.884 29.     0.   ]\n",
      "[ 4.998 21.     0.   ]\n",
      "[ 8.265 24.     1.   ]\n",
      "[ 1.121 15.     0.   ]\n",
      "[ 8.343 25.     1.   ]\n",
      "[ 8.414 10.     0.   ]\n",
      "[ 1.728 11.     1.   ]\n",
      "[6.773 6.    1.   ]\n",
      "[ 5.7 20.   1. ]\n",
      "[ 7.093 21.     0.   ]\n"
     ]
    },
    {
     "name": "stderr",
     "output_type": "stream",
     "text": [
      "/Users/anweshasaha/Desktop/midas-projects/endure-torch/venv_endure_torch/lib/python3.9/site-packages/botorch/models/utils/assorted.py:173: InputDataWarning: Input data is not contained to the unit cube. Please consider min-max scaling the input data.\n",
      "  warnings.warn(msg, InputDataWarning)\n",
      "/Users/anweshasaha/Desktop/midas-projects/endure-torch/venv_endure_torch/lib/python3.9/site-packages/botorch/optim/initializers.py:404: BadInitialCandidatesWarning: Unable to find non-zero acquisition function values - initial conditions are being selected randomly.\n",
      "  warnings.warn(\n",
      "/Users/anweshasaha/Desktop/midas-projects/endure-torch/venv_endure_torch/lib/python3.9/site-packages/botorch/optim/initializers.py:404: BadInitialCandidatesWarning: Unable to find non-zero acquisition function values - initial conditions are being selected randomly.\n",
      "  warnings.warn(\n"
     ]
    },
    {
     "name": "stdout",
     "output_type": "stream",
     "text": [
      "new_candidates tensor([[5.5588, 6.0000, 0.0000]], dtype=torch.float64)\n",
      "new target tensor([[1.6598]])\n"
     ]
    },
    {
     "name": "stderr",
     "output_type": "stream",
     "text": [
      "/Users/anweshasaha/Desktop/midas-projects/endure-torch/venv_endure_torch/lib/python3.9/site-packages/botorch/models/utils/assorted.py:173: InputDataWarning: Input data is not contained to the unit cube. Please consider min-max scaling the input data.\n",
      "  warnings.warn(msg, InputDataWarning)\n",
      "/Users/anweshasaha/Desktop/midas-projects/endure-torch/venv_endure_torch/lib/python3.9/site-packages/botorch/optim/initializers.py:404: BadInitialCandidatesWarning: Unable to find non-zero acquisition function values - initial conditions are being selected randomly.\n",
      "  warnings.warn(\n",
      "/Users/anweshasaha/Desktop/midas-projects/endure-torch/venv_endure_torch/lib/python3.9/site-packages/botorch/optim/initializers.py:404: BadInitialCandidatesWarning: Unable to find non-zero acquisition function values - initial conditions are being selected randomly.\n",
      "  warnings.warn(\n"
     ]
    },
    {
     "name": "stdout",
     "output_type": "stream",
     "text": [
      "new_candidates tensor([[ 1.0005, 22.0000,  0.0000]], dtype=torch.float64)\n",
      "new target tensor([[1.5674]])\n"
     ]
    },
    {
     "name": "stderr",
     "output_type": "stream",
     "text": [
      "/Users/anweshasaha/Desktop/midas-projects/endure-torch/venv_endure_torch/lib/python3.9/site-packages/botorch/models/utils/assorted.py:173: InputDataWarning: Input data is not contained to the unit cube. Please consider min-max scaling the input data.\n",
      "  warnings.warn(msg, InputDataWarning)\n",
      "/Users/anweshasaha/Desktop/midas-projects/endure-torch/venv_endure_torch/lib/python3.9/site-packages/botorch/optim/initializers.py:404: BadInitialCandidatesWarning: Unable to find non-zero acquisition function values - initial conditions are being selected randomly.\n",
      "  warnings.warn(\n",
      "/Users/anweshasaha/Desktop/midas-projects/endure-torch/venv_endure_torch/lib/python3.9/site-packages/botorch/optim/initializers.py:404: BadInitialCandidatesWarning: Unable to find non-zero acquisition function values - initial conditions are being selected randomly.\n",
      "  warnings.warn(\n"
     ]
    },
    {
     "name": "stdout",
     "output_type": "stream",
     "text": [
      "new_candidates tensor([[ 1.0003, 12.0000,  0.0000]], dtype=torch.float64)\n",
      "new target tensor([[1.6155]])\n"
     ]
    },
    {
     "name": "stderr",
     "output_type": "stream",
     "text": [
      "/Users/anweshasaha/Desktop/midas-projects/endure-torch/venv_endure_torch/lib/python3.9/site-packages/botorch/models/utils/assorted.py:173: InputDataWarning: Input data is not contained to the unit cube. Please consider min-max scaling the input data.\n",
      "  warnings.warn(msg, InputDataWarning)\n",
      "/Users/anweshasaha/Desktop/midas-projects/endure-torch/venv_endure_torch/lib/python3.9/site-packages/botorch/optim/initializers.py:404: BadInitialCandidatesWarning: Unable to find non-zero acquisition function values - initial conditions are being selected randomly.\n",
      "  warnings.warn(\n",
      "/Users/anweshasaha/Desktop/midas-projects/endure-torch/venv_endure_torch/lib/python3.9/site-packages/botorch/optim/initializers.py:404: BadInitialCandidatesWarning: Unable to find non-zero acquisition function values - initial conditions are being selected randomly.\n",
      "  warnings.warn(\n"
     ]
    },
    {
     "name": "stdout",
     "output_type": "stream",
     "text": [
      "new_candidates tensor([[ 1.0007, 11.0000,  0.0000]], dtype=torch.float64)\n",
      "new target tensor([[1.6339]])\n"
     ]
    },
    {
     "name": "stderr",
     "output_type": "stream",
     "text": [
      "/Users/anweshasaha/Desktop/midas-projects/endure-torch/venv_endure_torch/lib/python3.9/site-packages/botorch/models/utils/assorted.py:173: InputDataWarning: Input data is not contained to the unit cube. Please consider min-max scaling the input data.\n",
      "  warnings.warn(msg, InputDataWarning)\n",
      "/Users/anweshasaha/Desktop/midas-projects/endure-torch/venv_endure_torch/lib/python3.9/site-packages/botorch/optim/initializers.py:404: BadInitialCandidatesWarning: Unable to find non-zero acquisition function values - initial conditions are being selected randomly.\n",
      "  warnings.warn(\n",
      "/Users/anweshasaha/Desktop/midas-projects/endure-torch/venv_endure_torch/lib/python3.9/site-packages/botorch/optim/initializers.py:404: BadInitialCandidatesWarning: Unable to find non-zero acquisition function values - initial conditions are being selected randomly.\n",
      "  warnings.warn(\n"
     ]
    },
    {
     "name": "stdout",
     "output_type": "stream",
     "text": [
      "new_candidates tensor([[1.0011, 5.0000, 0.0000]], dtype=torch.float64)\n",
      "new target tensor([[1.9231]])\n"
     ]
    },
    {
     "name": "stderr",
     "output_type": "stream",
     "text": [
      "/Users/anweshasaha/Desktop/midas-projects/endure-torch/venv_endure_torch/lib/python3.9/site-packages/botorch/models/utils/assorted.py:173: InputDataWarning: Input data is not contained to the unit cube. Please consider min-max scaling the input data.\n",
      "  warnings.warn(msg, InputDataWarning)\n",
      "/Users/anweshasaha/Desktop/midas-projects/endure-torch/venv_endure_torch/lib/python3.9/site-packages/botorch/optim/initializers.py:404: BadInitialCandidatesWarning: Unable to find non-zero acquisition function values - initial conditions are being selected randomly.\n",
      "  warnings.warn(\n",
      "/Users/anweshasaha/Desktop/midas-projects/endure-torch/venv_endure_torch/lib/python3.9/site-packages/botorch/optim/initializers.py:404: BadInitialCandidatesWarning: Unable to find non-zero acquisition function values - initial conditions are being selected randomly.\n",
      "  warnings.warn(\n"
     ]
    },
    {
     "name": "stdout",
     "output_type": "stream",
     "text": [
      "new_candidates tensor([[5.2880, 4.0000, 0.0000]], dtype=torch.float64)\n",
      "new target tensor([[1.8545]])\n"
     ]
    },
    {
     "name": "stderr",
     "output_type": "stream",
     "text": [
      "/Users/anweshasaha/Desktop/midas-projects/endure-torch/venv_endure_torch/lib/python3.9/site-packages/botorch/models/utils/assorted.py:173: InputDataWarning: Input data is not contained to the unit cube. Please consider min-max scaling the input data.\n",
      "  warnings.warn(msg, InputDataWarning)\n",
      "/Users/anweshasaha/Desktop/midas-projects/endure-torch/venv_endure_torch/lib/python3.9/site-packages/botorch/optim/initializers.py:404: BadInitialCandidatesWarning: Unable to find non-zero acquisition function values - initial conditions are being selected randomly.\n",
      "  warnings.warn(\n",
      "/Users/anweshasaha/Desktop/midas-projects/endure-torch/venv_endure_torch/lib/python3.9/site-packages/botorch/optim/initializers.py:404: BadInitialCandidatesWarning: Unable to find non-zero acquisition function values - initial conditions are being selected randomly.\n",
      "  warnings.warn(\n"
     ]
    },
    {
     "name": "stdout",
     "output_type": "stream",
     "text": [
      "new_candidates tensor([[ 1.0004, 25.0000,  0.0000]], dtype=torch.float64)\n",
      "new target tensor([[1.5686]])\n"
     ]
    },
    {
     "name": "stderr",
     "output_type": "stream",
     "text": [
      "/Users/anweshasaha/Desktop/midas-projects/endure-torch/venv_endure_torch/lib/python3.9/site-packages/botorch/models/utils/assorted.py:173: InputDataWarning: Input data is not contained to the unit cube. Please consider min-max scaling the input data.\n",
      "  warnings.warn(msg, InputDataWarning)\n",
      "/Users/anweshasaha/Desktop/midas-projects/endure-torch/venv_endure_torch/lib/python3.9/site-packages/botorch/optim/initializers.py:404: BadInitialCandidatesWarning: Unable to find non-zero acquisition function values - initial conditions are being selected randomly.\n",
      "  warnings.warn(\n",
      "/Users/anweshasaha/Desktop/midas-projects/endure-torch/venv_endure_torch/lib/python3.9/site-packages/botorch/optim/initializers.py:404: BadInitialCandidatesWarning: Unable to find non-zero acquisition function values - initial conditions are being selected randomly.\n",
      "  warnings.warn(\n"
     ]
    },
    {
     "name": "stdout",
     "output_type": "stream",
     "text": [
      "new_candidates tensor([[ 1.0003, 16.0000,  0.0000]], dtype=torch.float64)\n",
      "new target tensor([[1.5812]])\n"
     ]
    },
    {
     "name": "stderr",
     "output_type": "stream",
     "text": [
      "/Users/anweshasaha/Desktop/midas-projects/endure-torch/venv_endure_torch/lib/python3.9/site-packages/botorch/models/utils/assorted.py:173: InputDataWarning: Input data is not contained to the unit cube. Please consider min-max scaling the input data.\n",
      "  warnings.warn(msg, InputDataWarning)\n",
      "/Users/anweshasaha/Desktop/midas-projects/endure-torch/venv_endure_torch/lib/python3.9/site-packages/botorch/optim/initializers.py:404: BadInitialCandidatesWarning: Unable to find non-zero acquisition function values - initial conditions are being selected randomly.\n",
      "  warnings.warn(\n",
      "/Users/anweshasaha/Desktop/midas-projects/endure-torch/venv_endure_torch/lib/python3.9/site-packages/botorch/optim/initializers.py:404: BadInitialCandidatesWarning: Unable to find non-zero acquisition function values - initial conditions are being selected randomly.\n",
      "  warnings.warn(\n"
     ]
    },
    {
     "name": "stdout",
     "output_type": "stream",
     "text": [
      "new_candidates tensor([[ 1.0054, 23.0000,  0.0000]], dtype=torch.float64)\n",
      "new target tensor([[1.5670]])\n"
     ]
    },
    {
     "name": "stderr",
     "output_type": "stream",
     "text": [
      "/Users/anweshasaha/Desktop/midas-projects/endure-torch/venv_endure_torch/lib/python3.9/site-packages/botorch/models/utils/assorted.py:173: InputDataWarning: Input data is not contained to the unit cube. Please consider min-max scaling the input data.\n",
      "  warnings.warn(msg, InputDataWarning)\n",
      "/Users/anweshasaha/Desktop/midas-projects/endure-torch/venv_endure_torch/lib/python3.9/site-packages/botorch/optim/initializers.py:404: BadInitialCandidatesWarning: Unable to find non-zero acquisition function values - initial conditions are being selected randomly.\n",
      "  warnings.warn(\n",
      "/Users/anweshasaha/Desktop/midas-projects/endure-torch/venv_endure_torch/lib/python3.9/site-packages/botorch/optim/initializers.py:404: BadInitialCandidatesWarning: Unable to find non-zero acquisition function values - initial conditions are being selected randomly.\n",
      "  warnings.warn(\n"
     ]
    },
    {
     "name": "stdout",
     "output_type": "stream",
     "text": [
      "new_candidates tensor([[ 5.0871, 14.0000,  0.0000]], dtype=torch.float64)\n",
      "new target tensor([[1.4830]])\n"
     ]
    },
    {
     "name": "stderr",
     "output_type": "stream",
     "text": [
      "/Users/anweshasaha/Desktop/midas-projects/endure-torch/venv_endure_torch/lib/python3.9/site-packages/botorch/models/utils/assorted.py:173: InputDataWarning: Input data is not contained to the unit cube. Please consider min-max scaling the input data.\n",
      "  warnings.warn(msg, InputDataWarning)\n",
      "/Users/anweshasaha/Desktop/midas-projects/endure-torch/venv_endure_torch/lib/python3.9/site-packages/botorch/optim/initializers.py:404: BadInitialCandidatesWarning: Unable to find non-zero acquisition function values - initial conditions are being selected randomly.\n",
      "  warnings.warn(\n",
      "/Users/anweshasaha/Desktop/midas-projects/endure-torch/venv_endure_torch/lib/python3.9/site-packages/botorch/optim/initializers.py:404: BadInitialCandidatesWarning: Unable to find non-zero acquisition function values - initial conditions are being selected randomly.\n",
      "  warnings.warn(\n"
     ]
    },
    {
     "name": "stdout",
     "output_type": "stream",
     "text": [
      "new_candidates tensor([[5.0871, 8.0000, 0.0000]], dtype=torch.float64)\n",
      "new target tensor([[1.5655]])\n"
     ]
    },
    {
     "name": "stderr",
     "output_type": "stream",
     "text": [
      "/Users/anweshasaha/Desktop/midas-projects/endure-torch/venv_endure_torch/lib/python3.9/site-packages/botorch/models/utils/assorted.py:173: InputDataWarning: Input data is not contained to the unit cube. Please consider min-max scaling the input data.\n",
      "  warnings.warn(msg, InputDataWarning)\n",
      "/Users/anweshasaha/Desktop/midas-projects/endure-torch/venv_endure_torch/lib/python3.9/site-packages/botorch/optim/initializers.py:404: BadInitialCandidatesWarning: Unable to find non-zero acquisition function values - initial conditions are being selected randomly.\n",
      "  warnings.warn(\n",
      "/Users/anweshasaha/Desktop/midas-projects/endure-torch/venv_endure_torch/lib/python3.9/site-packages/botorch/optim/initializers.py:404: BadInitialCandidatesWarning: Unable to find non-zero acquisition function values - initial conditions are being selected randomly.\n",
      "  warnings.warn(\n"
     ]
    },
    {
     "name": "stdout",
     "output_type": "stream",
     "text": [
      "new_candidates tensor([[ 5.0755, 17.0000,  0.0000]], dtype=torch.float64)\n",
      "new target tensor([[1.4732]])\n"
     ]
    },
    {
     "name": "stderr",
     "output_type": "stream",
     "text": [
      "/Users/anweshasaha/Desktop/midas-projects/endure-torch/venv_endure_torch/lib/python3.9/site-packages/botorch/models/utils/assorted.py:173: InputDataWarning: Input data is not contained to the unit cube. Please consider min-max scaling the input data.\n",
      "  warnings.warn(msg, InputDataWarning)\n",
      "/Users/anweshasaha/Desktop/midas-projects/endure-torch/venv_endure_torch/lib/python3.9/site-packages/botorch/optim/initializers.py:404: BadInitialCandidatesWarning: Unable to find non-zero acquisition function values - initial conditions are being selected randomly.\n",
      "  warnings.warn(\n",
      "/Users/anweshasaha/Desktop/midas-projects/endure-torch/venv_endure_torch/lib/python3.9/site-packages/botorch/optim/initializers.py:404: BadInitialCandidatesWarning: Unable to find non-zero acquisition function values - initial conditions are being selected randomly.\n",
      "  warnings.warn(\n"
     ]
    },
    {
     "name": "stdout",
     "output_type": "stream",
     "text": [
      "new_candidates tensor([[ 5.0745, 32.0000,  0.0000]], dtype=torch.float64)\n",
      "new target tensor([[1.5033]])\n"
     ]
    },
    {
     "name": "stderr",
     "output_type": "stream",
     "text": [
      "/Users/anweshasaha/Desktop/midas-projects/endure-torch/venv_endure_torch/lib/python3.9/site-packages/botorch/models/utils/assorted.py:173: InputDataWarning: Input data is not contained to the unit cube. Please consider min-max scaling the input data.\n",
      "  warnings.warn(msg, InputDataWarning)\n",
      "/Users/anweshasaha/Desktop/midas-projects/endure-torch/venv_endure_torch/lib/python3.9/site-packages/botorch/optim/initializers.py:404: BadInitialCandidatesWarning: Unable to find non-zero acquisition function values - initial conditions are being selected randomly.\n",
      "  warnings.warn(\n",
      "/Users/anweshasaha/Desktop/midas-projects/endure-torch/venv_endure_torch/lib/python3.9/site-packages/botorch/optim/initializers.py:404: BadInitialCandidatesWarning: Unable to find non-zero acquisition function values - initial conditions are being selected randomly.\n",
      "  warnings.warn(\n"
     ]
    },
    {
     "name": "stdout",
     "output_type": "stream",
     "text": [
      "new_candidates tensor([[ 5.0648, 19.0000,  0.0000]], dtype=torch.float64)\n",
      "new target tensor([[1.4716]])\n"
     ]
    },
    {
     "name": "stderr",
     "output_type": "stream",
     "text": [
      "/Users/anweshasaha/Desktop/midas-projects/endure-torch/venv_endure_torch/lib/python3.9/site-packages/botorch/models/utils/assorted.py:173: InputDataWarning: Input data is not contained to the unit cube. Please consider min-max scaling the input data.\n",
      "  warnings.warn(msg, InputDataWarning)\n",
      "/Users/anweshasaha/Desktop/midas-projects/endure-torch/venv_endure_torch/lib/python3.9/site-packages/botorch/optim/initializers.py:404: BadInitialCandidatesWarning: Unable to find non-zero acquisition function values - initial conditions are being selected randomly.\n",
      "  warnings.warn(\n",
      "/Users/anweshasaha/Desktop/midas-projects/endure-torch/venv_endure_torch/lib/python3.9/site-packages/botorch/optim/initializers.py:404: BadInitialCandidatesWarning: Unable to find non-zero acquisition function values - initial conditions are being selected randomly.\n",
      "  warnings.warn(\n"
     ]
    },
    {
     "name": "stdout",
     "output_type": "stream",
     "text": [
      "new_candidates tensor([[1.0014, 9.0000, 0.0000]], dtype=torch.float64)\n",
      "new target tensor([[1.6792]])\n",
      "Best Design Found:\n",
      "Design: h=5.064832873748285, T=19.0, Policy=Policy.Leveling, Cost=1.471623420715332\n",
      "Cost for the nominal design using analytical solver:  1.4635139281966993\n",
      "Nominal Design suggested by analytical solver:  LSMDesign(h=4.037920889188412, T=19.394919633123656, policy=<Policy.Leveling: 1>, Q=1.0, Y=1.0, Z=1.0, K=[])\n",
      "Iteration 10/10 running\n",
      "19.0\n",
      "[12.444 21.     0.   ]\n",
      "[18.128 26.     1.   ]\n",
      "[10.616 11.     1.   ]\n",
      "[ 3.081 10.     1.   ]\n",
      "[14.39 14.    0.  ]\n",
      "[5.742 8.    1.   ]\n",
      "[16.614 23.     1.   ]\n",
      "[ 4.778 11.     0.   ]\n",
      "[16.916 21.     1.   ]\n",
      "[6.313 3.    1.   ]\n",
      "[ 6.055 18.     1.   ]\n",
      "[ 3.548 28.     1.   ]\n",
      "[15.621  6.     0.   ]\n",
      "[15.618 29.     1.   ]\n",
      "[13.676 14.     0.   ]\n",
      "[13.115  9.     1.   ]\n",
      "[ 7.016 21.     1.   ]\n",
      "[ 6.115 11.     0.   ]\n",
      "[ 6.36 29.    1.  ]\n",
      "[ 7.815 14.     1.   ]\n",
      "[ 9.409 10.     1.   ]\n",
      "[1.367 7.    1.   ]\n",
      "[9.984 5.    1.   ]\n",
      "[15.337 30.     1.   ]\n",
      "[ 4.318 26.     0.   ]\n",
      "[ 4.584 19.     1.   ]\n",
      "[ 6.655 14.     0.   ]\n",
      "[ 5.267 27.     1.   ]\n",
      "[18.148 13.     0.   ]\n",
      "[ 3.73 19.    1.  ]\n",
      "new_candidates tensor([[10.3924, 20.0000,  0.0000]], dtype=torch.float64)\n",
      "new target tensor([[0.2467]])\n",
      "new_candidates tensor([[10.4138, 16.0000,  0.0000]], dtype=torch.float64)\n",
      "new target tensor([[0.2551]])\n",
      "new_candidates tensor([[10.4269,  5.0000,  0.0000]], dtype=torch.float64)\n",
      "new target tensor([[0.3539]])\n",
      "new_candidates tensor([[10.4514, 17.0000,  0.0000]], dtype=torch.float64)\n",
      "new target tensor([[0.2526]])\n",
      "new_candidates tensor([[10.4613, 27.0000,  0.0000]], dtype=torch.float64)\n",
      "new target tensor([[0.2384]])\n",
      "new_candidates tensor([[10.4662,  4.0000,  0.0000]], dtype=torch.float64)\n",
      "new target tensor([[0.3941]])\n",
      "new_candidates tensor([[10.4994, 12.0000,  0.0000]], dtype=torch.float64)\n",
      "new target tensor([[0.2696]])\n",
      "new_candidates tensor([[10.5101, 18.0000,  0.0000]], dtype=torch.float64)\n",
      "new target tensor([[0.2504]])\n",
      "new_candidates tensor([[10.5161, 30.0000,  0.0000]], dtype=torch.float64)\n",
      "new target tensor([[0.2363]])\n",
      "new_candidates tensor([[10.5181,  3.0000,  0.0000]], dtype=torch.float64)\n",
      "new target tensor([[0.4707]])\n",
      "new_candidates tensor([[10.6150, 22.0000,  0.0000]], dtype=torch.float64)\n",
      "new target tensor([[0.2437]])\n",
      "new_candidates tensor([[ 1., 30.,  0.]], dtype=torch.float64)\n",
      "new target tensor([[0.8239]])\n",
      "new_candidates tensor([[13.6118, 13.0000,  0.0000]], dtype=torch.float64)\n",
      "new target tensor([[0.2729]])\n",
      "new_candidates tensor([[ 9.8423, 31.0000,  0.0000]], dtype=torch.float64)\n",
      "new target tensor([[0.2363]])\n",
      "new_candidates tensor([[ 8.1672, 24.0000,  0.0000]], dtype=torch.float64)\n",
      "new target tensor([[0.2486]])\n",
      "Best Design Found:\n",
      "Design: h=9.842291613456121, T=31.0, Policy=Policy.Leveling, Cost=0.23625069856643677\n",
      "Cost for the nominal design using analytical solver:  0.23572237190163273\n",
      "Nominal Design suggested by analytical solver:  LSMDesign(h=10.578689484093863, T=31.0, policy=<Policy.Leveling: 1>, Q=1.0, Y=1.0, Z=1.0, K=[])\n"
     ]
    }
   ],
   "source": [
    "compare_designs()"
   ]
  },
  {
   "cell_type": "code",
   "execution_count": null,
   "id": "606b475c-7ede-408d-b481-ca40c8d1d2d3",
   "metadata": {},
   "outputs": [],
   "source": [
    "cf.calc_cost(LSMDesign(h=15.83, T=31.0, policy=Policy.Leveling, Q=1.0, Y=1.0, Z=1.0, K=[]), System(E=1024, s=2.9102648491798314e-8, B=32.0, N=526728795, H=15.847837338766473, phi=1.0), 0.09, 0.205, 0.605, 0.09999999999999998)"
   ]
  },
  {
   "cell_type": "code",
   "execution_count": 17,
   "id": "fcdcb92c-7319-4512-b4e4-6914d1bdd116",
   "metadata": {},
   "outputs": [
    {
     "data": {
      "text/plain": [
       "1.0"
      ]
     },
     "execution_count": 17,
     "metadata": {},
     "output_type": "execute_result"
    }
   ],
   "source": [
    "df[df['Diff(Analytical-Bayesian)'] > -0.2].shape[0] / df.shape[0]"
   ]
  },
  {
   "cell_type": "code",
   "execution_count": 18,
   "id": "3957ffec-1e6f-417d-9ea1-cc94ac57344c",
   "metadata": {},
   "outputs": [
    {
     "data": {
      "text/plain": [
       "Index(['Entries per page(E)', 'Physical Entries per page(B)', 'Selectivity(s)',\n",
       "       'Max bits per element(H)', 'Total elements (N)', 'Empty Reads',\n",
       "       'Non-Empty Reads', 'Range Queries', 'Writes', 'BO Design',\n",
       "       'Analytical Design', 'BO Cost', 'Analytical Cost',\n",
       "       'Diff(Analytical-Bayesian)', 'norm_delta'],\n",
       "      dtype='object')"
      ]
     },
     "execution_count": 18,
     "metadata": {},
     "output_type": "execute_result"
    }
   ],
   "source": [
    "df.columns"
   ]
  },
  {
   "cell_type": "code",
   "execution_count": 19,
   "id": "3e9e2439-0f4c-443b-8f55-cb36a6fad5ff",
   "metadata": {},
   "outputs": [
    {
     "data": {
      "text/html": [
       "<div>\n",
       "<style scoped>\n",
       "    .dataframe tbody tr th:only-of-type {\n",
       "        vertical-align: middle;\n",
       "    }\n",
       "\n",
       "    .dataframe tbody tr th {\n",
       "        vertical-align: top;\n",
       "    }\n",
       "\n",
       "    .dataframe thead th {\n",
       "        text-align: right;\n",
       "    }\n",
       "</style>\n",
       "<table border=\"1\" class=\"dataframe\">\n",
       "  <thead>\n",
       "    <tr style=\"text-align: right;\">\n",
       "      <th></th>\n",
       "      <th>Entries per page(E)</th>\n",
       "      <th>Physical Entries per page(B)</th>\n",
       "      <th>Selectivity(s)</th>\n",
       "      <th>Max bits per element(H)</th>\n",
       "      <th>Total elements (N)</th>\n",
       "      <th>Empty Reads</th>\n",
       "      <th>Non-Empty Reads</th>\n",
       "      <th>Range Queries</th>\n",
       "      <th>Writes</th>\n",
       "      <th>BO Design</th>\n",
       "      <th>Analytical Design</th>\n",
       "      <th>BO Cost</th>\n",
       "      <th>Analytical Cost</th>\n",
       "      <th>Diff(Analytical-Bayesian)</th>\n",
       "      <th>norm_delta</th>\n",
       "    </tr>\n",
       "  </thead>\n",
       "  <tbody>\n",
       "    <tr>\n",
       "      <th>2</th>\n",
       "      <td>1024</td>\n",
       "      <td>64.0</td>\n",
       "      <td>1.578232e-08</td>\n",
       "      <td>15.183822</td>\n",
       "      <td>371473242</td>\n",
       "      <td>0.724</td>\n",
       "      <td>0.116</td>\n",
       "      <td>0.067</td>\n",
       "      <td>0.093</td>\n",
       "      <td>LSMDesign(h=7.0208520822663765, T=25.0, policy...</td>\n",
       "      <td>LSMDesign(h=9.122361650949996, T=22.7374994481...</td>\n",
       "      <td>0.307190</td>\n",
       "      <td>0.297559</td>\n",
       "      <td>-0.009631</td>\n",
       "      <td>-0.032366</td>\n",
       "    </tr>\n",
       "    <tr>\n",
       "      <th>5</th>\n",
       "      <td>2048</td>\n",
       "      <td>64.0</td>\n",
       "      <td>2.690755e-08</td>\n",
       "      <td>11.492196</td>\n",
       "      <td>985130846</td>\n",
       "      <td>0.298</td>\n",
       "      <td>0.014</td>\n",
       "      <td>0.080</td>\n",
       "      <td>0.608</td>\n",
       "      <td>LSMDesign(h=7.686885772440743, T=9.0, policy=&lt;...</td>\n",
       "      <td>LSMDesign(h=5.837562636760175, T=8.23091799545...</td>\n",
       "      <td>0.531936</td>\n",
       "      <td>0.517104</td>\n",
       "      <td>-0.014832</td>\n",
       "      <td>-0.028683</td>\n",
       "    </tr>\n",
       "    <tr>\n",
       "      <th>9</th>\n",
       "      <td>4096</td>\n",
       "      <td>8.0</td>\n",
       "      <td>8.861546e-09</td>\n",
       "      <td>19.049582</td>\n",
       "      <td>117027274</td>\n",
       "      <td>0.402</td>\n",
       "      <td>0.042</td>\n",
       "      <td>0.536</td>\n",
       "      <td>0.020</td>\n",
       "      <td>LSMDesign(h=8.730164831599005, T=32.0, policy=...</td>\n",
       "      <td>LSMDesign(h=5.850761350758528, T=31.0, policy=...</td>\n",
       "      <td>1.182491</td>\n",
       "      <td>1.165189</td>\n",
       "      <td>-0.017302</td>\n",
       "      <td>-0.014849</td>\n",
       "    </tr>\n",
       "    <tr>\n",
       "      <th>8</th>\n",
       "      <td>4096</td>\n",
       "      <td>32.0</td>\n",
       "      <td>7.840913e-08</td>\n",
       "      <td>6.699340</td>\n",
       "      <td>838139016</td>\n",
       "      <td>0.007</td>\n",
       "      <td>0.371</td>\n",
       "      <td>0.539</td>\n",
       "      <td>0.083</td>\n",
       "      <td>LSMDesign(h=1.3249983487381576, T=31.0, policy...</td>\n",
       "      <td>LSMDesign(h=0.0, T=31.0, policy=&lt;Policy.Leveli...</td>\n",
       "      <td>2.686328</td>\n",
       "      <td>2.656574</td>\n",
       "      <td>-0.029754</td>\n",
       "      <td>-0.011200</td>\n",
       "    </tr>\n",
       "    <tr>\n",
       "      <th>3</th>\n",
       "      <td>1024</td>\n",
       "      <td>128.0</td>\n",
       "      <td>4.006619e-08</td>\n",
       "      <td>18.649666</td>\n",
       "      <td>618309997</td>\n",
       "      <td>0.254</td>\n",
       "      <td>0.419</td>\n",
       "      <td>0.301</td>\n",
       "      <td>0.026</td>\n",
       "      <td>LSMDesign(h=9.100760402407493, T=32.0, policy=...</td>\n",
       "      <td>LSMDesign(h=6.305051127539037, T=31.0, policy=...</td>\n",
       "      <td>0.896752</td>\n",
       "      <td>0.888628</td>\n",
       "      <td>-0.008124</td>\n",
       "      <td>-0.009142</td>\n",
       "    </tr>\n",
       "    <tr>\n",
       "      <th>0</th>\n",
       "      <td>8192</td>\n",
       "      <td>16.0</td>\n",
       "      <td>3.101181e-09</td>\n",
       "      <td>5.971071</td>\n",
       "      <td>361670612</td>\n",
       "      <td>0.328</td>\n",
       "      <td>0.127</td>\n",
       "      <td>0.183</td>\n",
       "      <td>0.362</td>\n",
       "      <td>LSMDesign(h=2.667716675677109, T=8.0, policy=&lt;...</td>\n",
       "      <td>LSMDesign(h=3.0023291538887427, T=8.2692225457...</td>\n",
       "      <td>1.654076</td>\n",
       "      <td>1.650681</td>\n",
       "      <td>-0.003395</td>\n",
       "      <td>-0.002057</td>\n",
       "    </tr>\n",
       "    <tr>\n",
       "      <th>6</th>\n",
       "      <td>1024</td>\n",
       "      <td>64.0</td>\n",
       "      <td>8.181968e-08</td>\n",
       "      <td>11.096073</td>\n",
       "      <td>810591713</td>\n",
       "      <td>0.703</td>\n",
       "      <td>0.115</td>\n",
       "      <td>0.162</td>\n",
       "      <td>0.020</td>\n",
       "      <td>LSMDesign(h=7.660157495080137, T=31.0, policy=...</td>\n",
       "      <td>LSMDesign(h=7.156997604714947, T=31.0, policy=...</td>\n",
       "      <td>0.588504</td>\n",
       "      <td>0.587334</td>\n",
       "      <td>-0.001170</td>\n",
       "      <td>-0.001992</td>\n",
       "    </tr>\n",
       "    <tr>\n",
       "      <th>4</th>\n",
       "      <td>1024</td>\n",
       "      <td>64.0</td>\n",
       "      <td>4.197560e-08</td>\n",
       "      <td>6.229658</td>\n",
       "      <td>876405779</td>\n",
       "      <td>0.187</td>\n",
       "      <td>0.307</td>\n",
       "      <td>0.455</td>\n",
       "      <td>0.051</td>\n",
       "      <td>LSMDesign(h=2.755166082010438, T=31.0, policy=...</td>\n",
       "      <td>LSMDesign(h=2.3268195382363333, T=30.999999999...</td>\n",
       "      <td>1.423774</td>\n",
       "      <td>1.421409</td>\n",
       "      <td>-0.002365</td>\n",
       "      <td>-0.001664</td>\n",
       "    </tr>\n",
       "    <tr>\n",
       "      <th>7</th>\n",
       "      <td>8192</td>\n",
       "      <td>8.0</td>\n",
       "      <td>7.793652e-08</td>\n",
       "      <td>7.352159</td>\n",
       "      <td>126275060</td>\n",
       "      <td>0.172</td>\n",
       "      <td>0.194</td>\n",
       "      <td>0.619</td>\n",
       "      <td>0.015</td>\n",
       "      <td>LSMDesign(h=3.1054661799798233, T=32.0, policy...</td>\n",
       "      <td>LSMDesign(h=2.043814481339874, T=31.0, policy=...</td>\n",
       "      <td>2.483838</td>\n",
       "      <td>2.480531</td>\n",
       "      <td>-0.003307</td>\n",
       "      <td>-0.001333</td>\n",
       "    </tr>\n",
       "    <tr>\n",
       "      <th>1</th>\n",
       "      <td>2048</td>\n",
       "      <td>64.0</td>\n",
       "      <td>4.375817e-08</td>\n",
       "      <td>8.834162</td>\n",
       "      <td>233438177</td>\n",
       "      <td>0.288</td>\n",
       "      <td>0.617</td>\n",
       "      <td>0.022</td>\n",
       "      <td>0.073</td>\n",
       "      <td>LSMDesign(h=7.188063386900873, T=16.0, policy=...</td>\n",
       "      <td>LSMDesign(h=6.908008315273583, T=14.3590380161...</td>\n",
       "      <td>0.737131</td>\n",
       "      <td>0.736479</td>\n",
       "      <td>-0.000652</td>\n",
       "      <td>-0.000885</td>\n",
       "    </tr>\n",
       "  </tbody>\n",
       "</table>\n",
       "</div>"
      ],
      "text/plain": [
       "   Entries per page(E)  Physical Entries per page(B)  Selectivity(s)  \\\n",
       "2                 1024                          64.0    1.578232e-08   \n",
       "5                 2048                          64.0    2.690755e-08   \n",
       "9                 4096                           8.0    8.861546e-09   \n",
       "8                 4096                          32.0    7.840913e-08   \n",
       "3                 1024                         128.0    4.006619e-08   \n",
       "0                 8192                          16.0    3.101181e-09   \n",
       "6                 1024                          64.0    8.181968e-08   \n",
       "4                 1024                          64.0    4.197560e-08   \n",
       "7                 8192                           8.0    7.793652e-08   \n",
       "1                 2048                          64.0    4.375817e-08   \n",
       "\n",
       "   Max bits per element(H)  Total elements (N)  Empty Reads  Non-Empty Reads  \\\n",
       "2                15.183822           371473242        0.724            0.116   \n",
       "5                11.492196           985130846        0.298            0.014   \n",
       "9                19.049582           117027274        0.402            0.042   \n",
       "8                 6.699340           838139016        0.007            0.371   \n",
       "3                18.649666           618309997        0.254            0.419   \n",
       "0                 5.971071           361670612        0.328            0.127   \n",
       "6                11.096073           810591713        0.703            0.115   \n",
       "4                 6.229658           876405779        0.187            0.307   \n",
       "7                 7.352159           126275060        0.172            0.194   \n",
       "1                 8.834162           233438177        0.288            0.617   \n",
       "\n",
       "   Range Queries  Writes                                          BO Design  \\\n",
       "2          0.067   0.093  LSMDesign(h=7.0208520822663765, T=25.0, policy...   \n",
       "5          0.080   0.608  LSMDesign(h=7.686885772440743, T=9.0, policy=<...   \n",
       "9          0.536   0.020  LSMDesign(h=8.730164831599005, T=32.0, policy=...   \n",
       "8          0.539   0.083  LSMDesign(h=1.3249983487381576, T=31.0, policy...   \n",
       "3          0.301   0.026  LSMDesign(h=9.100760402407493, T=32.0, policy=...   \n",
       "0          0.183   0.362  LSMDesign(h=2.667716675677109, T=8.0, policy=<...   \n",
       "6          0.162   0.020  LSMDesign(h=7.660157495080137, T=31.0, policy=...   \n",
       "4          0.455   0.051  LSMDesign(h=2.755166082010438, T=31.0, policy=...   \n",
       "7          0.619   0.015  LSMDesign(h=3.1054661799798233, T=32.0, policy...   \n",
       "1          0.022   0.073  LSMDesign(h=7.188063386900873, T=16.0, policy=...   \n",
       "\n",
       "                                   Analytical Design   BO Cost  \\\n",
       "2  LSMDesign(h=9.122361650949996, T=22.7374994481...  0.307190   \n",
       "5  LSMDesign(h=5.837562636760175, T=8.23091799545...  0.531936   \n",
       "9  LSMDesign(h=5.850761350758528, T=31.0, policy=...  1.182491   \n",
       "8  LSMDesign(h=0.0, T=31.0, policy=<Policy.Leveli...  2.686328   \n",
       "3  LSMDesign(h=6.305051127539037, T=31.0, policy=...  0.896752   \n",
       "0  LSMDesign(h=3.0023291538887427, T=8.2692225457...  1.654076   \n",
       "6  LSMDesign(h=7.156997604714947, T=31.0, policy=...  0.588504   \n",
       "4  LSMDesign(h=2.3268195382363333, T=30.999999999...  1.423774   \n",
       "7  LSMDesign(h=2.043814481339874, T=31.0, policy=...  2.483838   \n",
       "1  LSMDesign(h=6.908008315273583, T=14.3590380161...  0.737131   \n",
       "\n",
       "   Analytical Cost  Diff(Analytical-Bayesian)  norm_delta  \n",
       "2         0.297559                  -0.009631   -0.032366  \n",
       "5         0.517104                  -0.014832   -0.028683  \n",
       "9         1.165189                  -0.017302   -0.014849  \n",
       "8         2.656574                  -0.029754   -0.011200  \n",
       "3         0.888628                  -0.008124   -0.009142  \n",
       "0         1.650681                  -0.003395   -0.002057  \n",
       "6         0.587334                  -0.001170   -0.001992  \n",
       "4         1.421409                  -0.002365   -0.001664  \n",
       "7         2.480531                  -0.003307   -0.001333  \n",
       "1         0.736479                  -0.000652   -0.000885  "
      ]
     },
     "execution_count": 19,
     "metadata": {},
     "output_type": "execute_result"
    }
   ],
   "source": [
    "df.sort_values(by='norm_delta')"
   ]
  },
  {
   "cell_type": "code",
   "execution_count": 22,
   "id": "8ea81cde-fcbd-4027-a927-be028e611c41",
   "metadata": {},
   "outputs": [
    {
     "data": {
      "text/plain": [
       "'LSMDesign(h=7.0208520822663765, T=25.0, policy=<Policy.Leveling: 1>, Q=1.0, Y=1.0, Z=1.0, K=[])'"
      ]
     },
     "execution_count": 22,
     "metadata": {},
     "output_type": "execute_result"
    }
   ],
   "source": [
    "df.iloc[2]['BO Design']"
   ]
  },
  {
   "cell_type": "code",
   "execution_count": 23,
   "id": "3a21eab2-132b-4594-8f2c-709731b0295a",
   "metadata": {},
   "outputs": [
    {
     "data": {
      "text/plain": [
       "'LSMDesign(h=9.122361650949996, T=22.737499448126428, policy=<Policy.Leveling: 1>, Q=1.0, Y=1.0, Z=1.0, K=[])'"
      ]
     },
     "execution_count": 23,
     "metadata": {},
     "output_type": "execute_result"
    }
   ],
   "source": [
    "df.iloc[2]['Analytical Design']"
   ]
  },
  {
   "cell_type": "code",
   "execution_count": null,
   "id": "0ca12566-80d2-42c3-8a90-526d7a27d2f7",
   "metadata": {},
   "outputs": [],
   "source": [
    "df.iloc[36]['Max bits per element(H)']"
   ]
  },
  {
   "cell_type": "code",
   "execution_count": null,
   "id": "74739df4-d276-4899-ba2a-2a61d7723ef1",
   "metadata": {},
   "outputs": [],
   "source": [
    "K=2\n",
    "bounds=torch.tensor([[0.0] * 3, [1.0] * 2 + [K-1]]),\n"
   ]
  },
  {
   "cell_type": "code",
   "execution_count": null,
   "id": "0e69eb80-4045-4ace-bd91-a966706bfdce",
   "metadata": {},
   "outputs": [],
   "source": [
    "bounds"
   ]
  },
  {
   "cell_type": "code",
   "execution_count": null,
   "id": "e219a463-edaf-4c4b-9d5e-f3de0bfbe3c5",
   "metadata": {},
   "outputs": [],
   "source": [
    "k = 2\n",
    "lower_bounds = torch.tensor([0.0, 2.0, 0])\n",
    "upper_bounds = torch.tensor([10, 32, 1])\n",
    "bounds = torch.stack([lower_bounds, upper_bounds])\n",
    "bounds"
   ]
  },
  {
   "cell_type": "code",
   "execution_count": null,
   "id": "a29e8e8e-6ad2-4e4d-ac33-a1604bb811e2",
   "metadata": {},
   "outputs": [],
   "source": [
    "h_bounds = torch.tensor([0, 10])\n",
    "t_bounds = torch.tensor([2, 32])\n",
    "policy_bounds = torch.tensor([0.0, 1.0])\n",
    "bounds = torch.stack([h_bounds, t_bounds, policy_bounds], dim=-1)\n",
    "bounds"
   ]
  },
  {
   "cell_type": "code",
   "execution_count": null,
   "id": "f551431d-1500-4b6d-934f-8fcbb626e23d",
   "metadata": {},
   "outputs": [],
   "source": [
    "x=torch.tensor([[0.7158, 2.0000, 0.0000]])\n",
    "continuous_data = x[:, :2]\n",
    "categorical_data = x[:, 2:]\n",
    "scaled_continuous_data = (continuous_data - bounds[:, :2][0]) / (bounds[:, :2][1] - bounds[:, :2][0])\n",
    "scaled_data = torch.cat([scaled_continuous_data, categorical_data], dim=-1)\n",
    "scaled_data"
   ]
  },
  {
   "cell_type": "code",
   "execution_count": null,
   "id": "980ee7f0-5837-4b07-9ac9-3fa391c6c2e1",
   "metadata": {},
   "outputs": [],
   "source": []
  }
 ],
 "metadata": {
  "kernelspec": {
   "display_name": "Python 3 (ipykernel)",
   "language": "python",
   "name": "python3"
  },
  "language_info": {
   "codemirror_mode": {
    "name": "ipython",
    "version": 3
   },
   "file_extension": ".py",
   "mimetype": "text/x-python",
   "name": "python",
   "nbconvert_exporter": "python",
   "pygments_lexer": "ipython3",
   "version": "3.9.6"
  }
 },
 "nbformat": 4,
 "nbformat_minor": 5
}
