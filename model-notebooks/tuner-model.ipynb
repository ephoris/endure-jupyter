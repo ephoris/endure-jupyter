{
 "cells": [
  {
   "cell_type": "code",
   "execution_count": 1,
   "id": "771bd0ef-99ae-453d-9f1e-17a006be05ce",
   "metadata": {},
   "outputs": [],
   "source": [
    "import sys\n",
    "import os\n",
    "import torch\n",
    "import toml"
   ]
  },
  {
   "cell_type": "code",
   "execution_count": 2,
   "id": "d439333a-245d-4a43-9df3-eff06ff2ba55",
   "metadata": {},
   "outputs": [],
   "source": [
    "sys.path.append(os.path.join(sys.path[0], '../..'))\n",
    "\n",
    "from endure.lsm.cost import EndureCost\n",
    "from endure.lsm.types import Policy, System, LSMDesign, LSMBounds\n",
    "from endure.ltune.util import LTuneEvalUtil\n",
    "from endure.ltune.data.generator import LTuneDataGenerator\n",
    "from endure.ltune.model import LTuneModelBuilder"
   ]
  },
  {
   "cell_type": "code",
   "execution_count": 3,
   "id": "ce6c7594-a1bf-49f1-9ec9-b59f8293dbc4",
   "metadata": {},
   "outputs": [],
   "source": [
    "config = toml.load('../../endure.toml')"
   ]
  },
  {
   "cell_type": "code",
   "execution_count": 4,
   "id": "fd6a0989-9a01-470d-8031-3417909b506a",
   "metadata": {},
   "outputs": [],
   "source": [
    "config['lsm']['bounds']['size_ratio_range'] = [2, 10]\n",
    "config['lsm']['bounds']['max_considered_levels'] = 10"
   ]
  },
  {
   "cell_type": "code",
   "execution_count": 5,
   "id": "721e9e49-fc85-42dd-b320-0fa5738645f6",
   "metadata": {},
   "outputs": [
    {
     "data": {
      "text/plain": [
       "(<Policy.KHybrid: 3>,\n",
       " LSMBounds(max_considered_levels=10, bits_per_elem_range=(1, 10), size_ratio_range=[2, 10], page_sizes=[4, 8, 16], entry_sizes=[1024, 2048, 4096, 8192], memory_budget_range=[5, 20], selectivity_range=[1e-07, 1e-09], elements_range=[100000000, 1000000000]))"
      ]
     },
     "execution_count": 5,
     "metadata": {},
     "output_type": "execute_result"
    }
   ],
   "source": [
    "cf = EndureCost(config)\n",
    "design_type = getattr(Policy, config[\"lsm\"][\"design\"])\n",
    "bounds = LSMBounds(**config[\"lsm\"][\"bounds\"])\n",
    "gen = LTuneDataGenerator(bounds)\n",
    "design_type, bounds"
   ]
  },
  {
   "cell_type": "code",
   "execution_count": 6,
   "id": "513d4240-3a26-4e49-a0fa-d8d1880e92a1",
   "metadata": {},
   "outputs": [
    {
     "data": {
      "text/plain": [
       "KapLSMTuner(\n",
       "  (in_norm): BatchNorm1d(9, eps=1e-05, momentum=0.1, affine=True, track_running_stats=True)\n",
       "  (in_layer): Linear(in_features=9, out_features=64, bias=True)\n",
       "  (relu): ReLU(inplace=True)\n",
       "  (dropout): Dropout(p=0, inplace=False)\n",
       "  (hidden): Sequential(\n",
       "    (0): Linear(in_features=64, out_features=64, bias=True)\n",
       "  )\n",
       "  (k_path): Linear(in_features=64, out_features=64, bias=True)\n",
       "  (t_path): Linear(in_features=64, out_features=64, bias=True)\n",
       "  (bits_path): Linear(in_features=64, out_features=64, bias=True)\n",
       "  (k_decision): KapDecision(\n",
       "    (decision_layers): ModuleList(\n",
       "      (0-9): 10 x Linear(in_features=64, out_features=8, bias=True)\n",
       "    )\n",
       "  )\n",
       "  (t_decision): Linear(in_features=64, out_features=8, bias=True)\n",
       "  (bits_decision): Linear(in_features=64, out_features=1, bias=True)\n",
       ")"
      ]
     },
     "execution_count": 6,
     "metadata": {},
     "output_type": "execute_result"
    }
   ],
   "source": [
    "model = LTuneModelBuilder(\n",
    "    size_ratio_range=bounds.size_ratio_range,\n",
    "    max_levels=bounds.max_considered_levels,\n",
    "    **config[\"ltune\"][\"model\"],\n",
    ").build_model(design_type)\n",
    "model"
   ]
  },
  {
   "cell_type": "code",
   "execution_count": 21,
   "id": "fd5ead9a-c368-49b0-8071-2e2b0a667617",
   "metadata": {},
   "outputs": [
    {
     "data": {
      "text/plain": [
       "tensor([[2.1700e-01, 1.8700e-01, 3.1100e-01, 2.8500e-01, 6.4000e+01, 6.7556e-08,\n",
       "         2.0480e+03, 1.0666e+01, 3.7697e+08],\n",
       "        [3.2700e-01, 3.2000e-02, 2.3100e-01, 4.1000e-01, 6.4000e+01, 9.3230e-08,\n",
       "         2.0480e+03, 1.0824e+01, 4.3409e+08]])"
      ]
     },
     "execution_count": 21,
     "metadata": {},
     "output_type": "execute_result"
    }
   ],
   "source": [
    "batch = [gen.generate_row_csv() for _ in range(2)]\n",
    "x = torch.Tensor(batch)\n",
    "x"
   ]
  },
  {
   "cell_type": "code",
   "execution_count": 22,
   "id": "605eb54c-2734-4c4e-9ae4-56e9a9553be6",
   "metadata": {},
   "outputs": [
    {
     "data": {
      "text/plain": [
       "tensor([[-0.0121,  0.0274,  0.0618,  0.7062,  0.0358,  0.0604,  0.0706,  0.0146,\n",
       "          0.0231,  0.2362,  0.2335,  0.0576,  0.0611,  0.0700,  0.0586,  0.1042,\n",
       "          0.1786,  0.0514,  0.1569,  0.0623,  0.0199,  0.1548,  0.3299,  0.0292,\n",
       "          0.1957,  0.1307,  0.1213,  0.0362,  0.1206,  0.1541,  0.1705,  0.0231,\n",
       "          0.2434,  0.0829,  0.0214,  0.0260,  0.3989,  0.1421,  0.0600,  0.2338,\n",
       "          0.0350,  1.0000,  0.0000,  0.0000,  0.0000,  0.0000,  0.0000,  0.0000,\n",
       "          0.0000,  1.0000,  0.0000,  0.0000,  0.0000,  0.0000,  0.0000,  0.0000,\n",
       "          0.0000,  1.0000,  0.0000,  0.0000,  0.0000,  0.0000,  0.0000,  0.0000,\n",
       "          0.0000,  1.0000,  0.0000,  0.0000,  0.0000,  0.0000,  0.0000,  0.0000,\n",
       "          0.0000,  1.0000,  0.0000,  0.0000,  0.0000,  0.0000,  0.0000,  0.0000,\n",
       "          0.0000,  1.0000,  0.0000,  0.0000,  0.0000,  0.0000,  0.0000,  0.0000,\n",
       "          0.0000],\n",
       "        [ 0.1076,  0.0234,  0.0235,  0.0481,  0.0273,  0.0844,  0.5703,  0.0538,\n",
       "          0.1692,  0.0468,  0.2323,  0.3552,  0.1189,  0.1343,  0.0226,  0.0627,\n",
       "          0.0273,  0.0161,  0.0344,  0.1348,  0.0984,  0.1518,  0.3232,  0.0817,\n",
       "          0.1595,  0.0256,  0.0135,  0.0142,  0.7736,  0.0224,  0.1229,  0.0246,\n",
       "          0.0032,  1.0000,  0.0000,  0.0000,  0.0000,  0.0000,  0.0000,  0.0000,\n",
       "          0.0000,  1.0000,  0.0000,  0.0000,  0.0000,  0.0000,  0.0000,  0.0000,\n",
       "          0.0000,  1.0000,  0.0000,  0.0000,  0.0000,  0.0000,  0.0000,  0.0000,\n",
       "          0.0000,  1.0000,  0.0000,  0.0000,  0.0000,  0.0000,  0.0000,  0.0000,\n",
       "          0.0000,  1.0000,  0.0000,  0.0000,  0.0000,  0.0000,  0.0000,  0.0000,\n",
       "          0.0000,  1.0000,  0.0000,  0.0000,  0.0000,  0.0000,  0.0000,  0.0000,\n",
       "          0.0000,  1.0000,  0.0000,  0.0000,  0.0000,  0.0000,  0.0000,  0.0000,\n",
       "          0.0000]], grad_fn=<CatBackward0>)"
      ]
     },
     "execution_count": 22,
     "metadata": {},
     "output_type": "execute_result"
    }
   ],
   "source": [
    "model(x, temp=1, hard=False)"
   ]
  },
  {
   "cell_type": "code",
   "execution_count": 23,
   "id": "0b6dd5a7-fb41-42d0-b939-56013268cd1c",
   "metadata": {},
   "outputs": [
    {
     "data": {
      "text/plain": [
       "tensor([[-4.3348e-02, -6.3075e-03,  1.0505e-03,  4.6666e-01,  1.8032e-03,\n",
       "         -2.3303e-01,  1.3103e-01, -5.7893e-01,  4.5307e-01,  7.0589e-02,\n",
       "         -1.6229e-01, -1.2630e-01,  3.0667e-01, -4.0167e-01, -4.0689e-02,\n",
       "         -6.1250e-02,  1.0734e-01,  1.3212e-02, -1.1114e-01, -1.9225e-01,\n",
       "          1.6383e-01, -1.9113e-02, -1.4412e-02, -4.1255e-02,  2.3014e-02,\n",
       "         -3.4731e-01,  2.3220e-01, -1.8513e-01,  1.7293e-01, -1.5584e-01,\n",
       "         -6.1889e-02, -1.3527e-01,  4.0011e-01, -2.8953e-01, -2.5096e-01,\n",
       "          2.6681e-02, -3.3066e-01,  3.8333e-02,  9.1707e-02, -1.5441e-01,\n",
       "         -2.6939e-01,  2.8793e-01, -3.1192e-01, -2.2801e-02,  2.7427e-01,\n",
       "          3.6499e-01, -3.6190e-01,  1.2182e-02,  2.7682e-01,  1.2048e-01,\n",
       "          8.5851e-02,  4.5942e-02, -1.4887e-01, -3.6888e-02, -5.4908e-02,\n",
       "          2.6361e-01, -3.5416e-01,  4.2265e-01, -3.8471e-01, -5.0420e-02,\n",
       "          1.7632e-01, -5.4793e-01,  6.8953e-02, -1.1594e-01],\n",
       "        [-6.3974e-02,  2.7086e-01, -1.9346e-01, -1.6931e-01,  4.9180e-01,\n",
       "         -3.2739e-01,  9.2641e-02, -2.5365e-01,  5.3481e-01,  1.2944e-01,\n",
       "          4.7734e-01, -9.9504e-02,  2.0860e-01, -5.0767e-01, -1.1114e-01,\n",
       "          3.8231e-02,  4.1402e-01, -1.7951e-01, -4.5011e-01,  1.4290e-01,\n",
       "         -2.3613e-04,  1.9293e-01, -5.5293e-01,  2.4097e-01, -2.0027e-01,\n",
       "         -1.2981e-01, -2.5070e-01, -2.8204e-01, -5.5817e-01, -3.6370e-02,\n",
       "         -3.2924e-01, -2.7562e-01, -4.7608e-02, -6.0469e-01, -2.3251e-01,\n",
       "         -2.7811e-01, -1.0586e-01, -2.3030e-01, -2.6553e-02,  6.9463e-02,\n",
       "         -1.3462e-01, -2.7878e-01,  1.1005e-01, -6.7584e-02, -8.7512e-02,\n",
       "          1.7405e-01,  4.3524e-01,  1.6709e-01, -2.9569e-01, -2.4519e-01,\n",
       "          3.4422e-01, -1.2755e-01, -2.4797e-01, -2.0730e-01, -8.2789e-02,\n",
       "          1.7833e-01,  2.1057e-03, -7.2603e-01,  1.3689e-01, -3.6362e-02,\n",
       "         -6.6443e-02,  2.1215e-01, -2.9030e-01,  1.6370e-01]],\n",
       "       grad_fn=<AddmmBackward0>)"
      ]
     },
     "execution_count": 23,
     "metadata": {},
     "output_type": "execute_result"
    }
   ],
   "source": [
    "out = model.in_norm(x)\n",
    "out = model.in_layer(out)\n",
    "out = model.relu(out)\n",
    "out = model.dropout(out)\n",
    "out = model.hidden(out)\n",
    "\n",
    "bits_out = model.bits_path(out)\n",
    "bits = model.bits_decision(bits_out)\n",
    "\n",
    "t_out = model.t_path(out)\n",
    "t = model.t_decision(t_out)\n",
    "t = torch.nn.functional.gumbel_softmax(t, tau=1, hard=False)\n",
    "\n",
    "k_out = model.k_path(out)\n",
    "k = model.k_decision(k_out, temp=1, hard=False)\n",
    "\n",
    "max_levels = model.calc_max_level(x, bits, t)\n",
    "max_levels = max_levels - 1\n",
    "max_levels = max_levels.to(torch.long)\n",
    "\n",
    "mask = torch.nn.functional.one_hot(max_levels, num_classes=model.num_kap)\n",
    "cum_sum = torch.cumsum(mask, dim=1)\n",
    "mask = 1 - cum_sum + mask\n",
    "default = torch.zeros(model.capacity_range)\n",
    "default[0] = 1\n",
    "k = mask.unsqueeze(-1) * k\n",
    "k[mask == 0] += default\n",
    "k = torch.flatten(k, start_dim=1)\n",
    "out = torch.concat([bits, t, k], dim=-1"
   ]
  },
  {
   "cell_type": "code",
   "execution_count": null,
   "id": "2fe7f301-681a-47f2-a18a-26db4ce57a40",
   "metadata": {},
   "outputs": [],
   "source": []
  }
 ],
 "metadata": {
  "kernelspec": {
   "display_name": "Python 3 (ipykernel)",
   "language": "python",
   "name": "python3"
  },
  "language_info": {
   "codemirror_mode": {
    "name": "ipython",
    "version": 3
   },
   "file_extension": ".py",
   "mimetype": "text/x-python",
   "name": "python",
   "nbconvert_exporter": "python",
   "pygments_lexer": "ipython3",
   "version": "3.11.4"
  }
 },
 "nbformat": 4,
 "nbformat_minor": 5
}
