{
 "cells": [
  {
   "cell_type": "code",
   "execution_count": 30,
   "id": "03efe705",
   "metadata": {
    "tags": []
   },
   "outputs": [],
   "source": [
    "import sys\n",
    "import os\n",
    "import toml\n",
    "\n",
    "import torch\n",
    "from torch import nn\n",
    "from torch.utils.data import Dataset, DataLoader, random_split\n",
    "from torchdata import datapipes as DataPipe\n",
    "\n",
    "import pandas as pd\n",
    "import numpy as np\n",
    "import scipy.optimize as SciOpt\n",
    "import matplotlib.pyplot as plt\n",
    "from matplotlib.ticker import PercentFormatter\n",
    "from tqdm.notebook import tqdm\n",
    "plt.rcParams.update({\n",
    "    \"text.usetex\": False,\n",
    "    \"font.family\": \"sans-serif\",\n",
    "    \"font.sans-serif\": \"Helvetica\",\n",
    "})\n",
    "\n",
    "sys.path.append(os.path.join(sys.path[0], '../..'))\n",
    "\n",
    "from data.io import Reader\n",
    "from model.kcost import KCostModel\n",
    "from data.kcost_dataset import EndureDataPipeGenerator\n",
    "from model.tierlevelcost import TierLevelCost\n",
    "from lsm.lsmtype import Policy\n",
    "from jobs.train import TrainJob\n",
    "import lsm.cost as CostFunc"
   ]
  },
  {
   "cell_type": "code",
   "execution_count": 2,
   "id": "ac0fee0d",
   "metadata": {},
   "outputs": [],
   "source": [
    "config = Reader.read_config('../../endure.toml')"
   ]
  },
  {
   "cell_type": "code",
   "execution_count": 3,
   "id": "19a88f1e",
   "metadata": {
    "tags": []
   },
   "outputs": [],
   "source": [
    "model_path = '/data/qcost-11-18'\n",
    "config_model = Reader.read_config(os.path.join(model_path, 'config.toml'))\n",
    "ONE_MIB_BITS = 1024 * 1024 * 8\n",
    "T_UPPER_LIM = config_model['lsm']['size_ratio']['max'] - 1\n",
    "T_LOWER_LIM = config_model['lsm']['size_ratio']['min']\n",
    "H_UPPER_LIM = config_model['lsm']['bits_per_elem']['max']\n",
    "MAX_LEVELS = config_model['lsm']['max_levels']\n",
    "\n",
    "dpg = EndureDataPipeGenerator(config_model)"
   ]
  },
  {
   "cell_type": "code",
   "execution_count": 4,
   "id": "1186c0be-1e6b-4771-84c4-8482e814739b",
   "metadata": {},
   "outputs": [
    {
     "data": {
      "text/plain": [
       "'MSLE'"
      ]
     },
     "execution_count": 4,
     "metadata": {},
     "output_type": "execute_result"
    }
   ],
   "source": [
    "config_model['train']['loss_fn']"
   ]
  },
  {
   "cell_type": "code",
   "execution_count": 5,
   "id": "0df13f71",
   "metadata": {},
   "outputs": [
    {
     "data": {
      "text/plain": [
       "<All keys matched successfully>"
      ]
     },
     "execution_count": 5,
     "metadata": {},
     "output_type": "execute_result"
    }
   ],
   "source": [
    "tj = TrainJob(config_model)\n",
    "model = tj._build_model()\n",
    "model_data = torch.load(os.path.join(model_path, 'kcost_min.model'), map_location=torch.device('cpu'))\n",
    "load_status = model.load_state_dict(model_data)\n",
    "model.eval()\n",
    "load_status"
   ]
  },
  {
   "cell_type": "code",
   "execution_count": 6,
   "id": "f823242a",
   "metadata": {},
   "outputs": [],
   "source": [
    "cf = CostFunc.EndureQFixedCost(**config_model['system'])\n",
    "def cost_func_objective(args, wl):\n",
    "    h, T, Q = args[0], args[1], args[2]\n",
    "    z0, z1, q, w = wl['z0'], wl['z1'], wl['q'], wl['w']\n",
    "    return cf.calc_cost(h, T, Q, z0, z1, q, w)\n",
    "\n",
    "def l2_norm(a, b):\n",
    "    return np.linalg.norm((a, b), 2)\n",
    "\n",
    "def create_pairs(T, Q):\n",
    "    t_frac = T - np.floor(T)\n",
    "    q_frac = Q - np.floor(Q)\n",
    "    norms = (l2_norm(1 - t_frac, 1 - q_frac),\n",
    "             l2_norm(1 - t_frac, q_frac),\n",
    "             l2_norm(t_frac, 1 - q_frac),\n",
    "             l2_norm(t_frac, q_frac))\n",
    "    normalizer = sum(norms)\n",
    "    pairs = [[np.floor(T), np.floor(Q), norms[0] / normalizer],\n",
    "             [np.floor(T), np.ceil(Q), norms[1] / normalizer],\n",
    "             [np.ceil(T), np.floor(Q), norms[2] / normalizer],\n",
    "             [np.ceil(T), np.ceil(Q), norms[3] / normalizer]]\n",
    "    for idx, (t, q, norm) in enumerate(pairs):\n",
    "        if t <= T_LOWER_LIM:\n",
    "            pairs[idx][0] = T_LOWER_LIM\n",
    "        if t >= T_UPPER_LIM:\n",
    "            pairs[idx][0] = T_UPPER_LIM\n",
    "        if q >= T_UPPER_LIM - 1:\n",
    "            pairs[idx][1] = T_UPPER_LIM - 1\n",
    "        if t <= T_UPPER_LIM - 1:\n",
    "            pairs[idx][1] = T_LOWER_LIM - 1\n",
    "    return pairs\n",
    "\n",
    "def cost_func_learned_eval(args, wl):\n",
    "    h, T, Q = args[0], args[1], args[2]\n",
    "    z0, z1, q, w = wl['z0'], wl['z1'], wl['q'], wl['w']\n",
    "    row = [0, 0, 0, 0, h, z0, z1, q, w, T, Q]\n",
    "    _, inputs = dpg._process_row(row)\n",
    "    inputs = torch.from_numpy(inputs.reshape(1, -1))\n",
    "    with torch.no_grad():\n",
    "        pred = model(inputs)\n",
    "        pred = pred.sum().item() \n",
    "    return pred\n",
    "\n",
    "def cost_func_learned(args, wl):\n",
    "    h, T, Q = args[0], args[1], args[2]\n",
    "    pairs = create_pairs(T, Q)\n",
    "    val = 0\n",
    "    for (t_prime, q_prime, frac) in pairs:\n",
    "        val += frac * cost_func_learned_eval([h, t_prime, q_prime], wl)\n",
    "    return val"
   ]
  },
  {
   "cell_type": "code",
   "execution_count": 7,
   "id": "4396d52d-2dba-43f0-a097-13aadd3f1cec",
   "metadata": {},
   "outputs": [],
   "source": [
    "def optimize(func=None, h_initial=9., T_initial=5., Q_initial=3., eps=1e-6, display=False):\n",
    "    h_bounds = (0, H_UPPER_LIM)\n",
    "    T_bounds = (T_LOWER_LIM, T_UPPER_LIM)\n",
    "    Q_bounds = (T_LOWER_LIM - 1, T_UPPER_LIM - 1)\n",
    "\n",
    "    bounds = [h_bounds, T_bounds, Q_bounds]\n",
    "    min_cost = np.inf\n",
    "    design = {}\n",
    "    minimizer_kwargs = {\n",
    "        'method' : 'SLSQP',\n",
    "        'bounds' : bounds,\n",
    "        'options': {'ftol': 1e-9, 'eps': eps, 'disp': display}}\n",
    "    x0 = np.array([h_initial, T_initial, Q_initial])\n",
    "    \n",
    "    sol = SciOpt.minimize(\n",
    "        fun=func,\n",
    "        x0=x0,\n",
    "        **minimizer_kwargs\n",
    "    )\n",
    "    return sol"
   ]
  },
  {
   "cell_type": "code",
   "execution_count": 8,
   "id": "9c8cc791",
   "metadata": {},
   "outputs": [
    {
     "data": {
      "text/plain": [
       "     fun: 2.827294195864879\n",
       "     jac: array([-1.32671651e-07, -1.54599622e-07,  1.07174896e-06])\n",
       " message: 'Optimization terminated successfully'\n",
       "    nfev: 72\n",
       "     nit: 18\n",
       "    njev: 18\n",
       "  status: 0\n",
       " success: True\n",
       "       x: array([3.27812567, 6.10318895, 1.05539409])"
      ]
     },
     "execution_count": 8,
     "metadata": {},
     "output_type": "execute_result"
    }
   ],
   "source": [
    "analytical_sol = optimize(func=lambda x: cost_func_objective(x, config_model['workloads'][0]), eps=1e-2)\n",
    "analytical_sol"
   ]
  },
  {
   "cell_type": "code",
   "execution_count": 9,
   "id": "2b771105",
   "metadata": {},
   "outputs": [
    {
     "data": {
      "text/plain": [
       "     fun: 2.822616936197211\n",
       "     jac: array([-0.0048897 ,  0.11874129, -0.00030868])\n",
       " message: 'Iteration limit reached'\n",
       "    nfev: 1245\n",
       "     nit: 100\n",
       "    njev: 100\n",
       "  status: 9\n",
       " success: False\n",
       "       x: array([3.17179442, 5.90969241, 2.78507635])"
      ]
     },
     "execution_count": 9,
     "metadata": {},
     "output_type": "execute_result"
    }
   ],
   "source": [
    "learned_sol = optimize(func=lambda x: cost_func_learned(x, config_model['workloads'][0]), eps=1e-1)\n",
    "learned_sol"
   ]
  },
  {
   "cell_type": "code",
   "execution_count": 10,
   "id": "ddfe702d",
   "metadata": {},
   "outputs": [
    {
     "name": "stdout",
     "output_type": "stream",
     "text": [
      "Analytical Output: [3.27812567 6.10318895 1.05539409]-> 2.827294195864879\n",
      "Analytical Rounded: [3.2781256701489667, 6.0, 1.0]-> 2.830272435522601\n",
      "Analytical Rounded: [3.2781256701489667, 6.0, 2.0]-> 3.3352966647852185\n",
      "Analytical Rounded: [3.2781256701489667, 7.0, 1.0]-> 2.8545970966757404\n",
      "Analytical Rounded: [3.2781256701489667, 7.0, 2.0]-> 3.208054069994117\n",
      "Learned Output: [3.17179442 5.90969241 2.78507635]-> 4.077607397548276\n",
      "Learned Rounded: [3.17179442 6.         2.78507635]-> 4.053766763769598\n"
     ]
    }
   ],
   "source": [
    "p_args = [[analytical_sol.x[0], np.floor(analytical_sol.x[1]), np.floor(analytical_sol.x[2])],\n",
    "          [analytical_sol.x[0], np.floor(analytical_sol.x[1]), np.ceil(analytical_sol.x[2])],\n",
    "          [analytical_sol.x[0], np.ceil(analytical_sol.x[1]), np.floor(analytical_sol.x[2])],\n",
    "          [analytical_sol.x[0], np.ceil(analytical_sol.x[1]), np.ceil(analytical_sol.x[2])],]\n",
    "print(f'Analytical Output: {analytical_sol.x}-> {cost_func_objective(analytical_sol.x, config_model[\"workloads\"][0])}')\n",
    "for arg in p_args:\n",
    "    print(f'Analytical Rounded: {arg}-> {cost_func_objective(arg, config_model[\"workloads\"][0])}')\n",
    "print(f'Learned Output: {learned_sol.x}-> {cost_func_objective(learned_sol.x, config_model[\"workloads\"][0])}')\n",
    "lsol = learned_sol.x\n",
    "lsol[1] = np.ceil(lsol[1])\n",
    "print(f'Learned Rounded: {lsol}-> {cost_func_objective(lsol, config_model[\"workloads\"][0])}')"
   ]
  },
  {
   "cell_type": "code",
   "execution_count": 11,
   "id": "77691e3d",
   "metadata": {},
   "outputs": [
    {
     "data": {
      "application/json": {
       "ascii": false,
       "bar_format": null,
       "colour": null,
       "elapsed": 0.014002561569213867,
       "initial": 0,
       "n": 0,
       "ncols": null,
       "nrows": 64,
       "postfix": null,
       "prefix": "",
       "rate": null,
       "total": 47,
       "unit": "it",
       "unit_divisor": 1000,
       "unit_scale": false
      },
      "application/vnd.jupyter.widget-view+json": {
       "model_id": "7a6f1696dd59474793f23c9c42f5b731",
       "version_major": 2,
       "version_minor": 0
      },
      "text/plain": [
       "  0%|          | 0/47 [00:00<?, ?it/s]"
      ]
     },
     "metadata": {},
     "output_type": "display_data"
    }
   ],
   "source": [
    "def gen_single_data(idx=0):\n",
    "    workload = config_model['workloads'][idx]\n",
    "    df = []\n",
    "    h_fixed = 2\n",
    "    t_fixed = 30\n",
    "    q_fixed = 1\n",
    "    for val in tqdm(np.arange(2, 49, 1)):\n",
    "        x = [h_fixed, val, q_fixed]\n",
    "        df.append({\n",
    "            'x': val,\n",
    "            'learned': cost_func_learned_eval(x, workload),\n",
    "            'analytical': cost_func_objective(x, workload),\n",
    "        })\n",
    "    return pd.DataFrame(df)\n",
    "\n",
    "idx = 4\n",
    "df = gen_single_data(idx)"
   ]
  },
  {
   "cell_type": "code",
   "execution_count": 12,
   "id": "709d3b9d",
   "metadata": {},
   "outputs": [
    {
     "data": {
      "text/plain": [
       "{'id': 4, 'z0': 0.01, 'z1': 0.01, 'q': 0.01, 'w': 0.97}"
      ]
     },
     "execution_count": 12,
     "metadata": {},
     "output_type": "execute_result"
    },
    {
     "data": {
      "image/png": "[encoded data removed]",
      "text/plain": [
       "<Figure size 640x480 with 1 Axes>"
      ]
     },
     "metadata": {},
     "output_type": "display_data"
    }
   ],
   "source": [
    "x = df['x']\n",
    "y_learned = df['learned']\n",
    "y_analytical = df['analytical']\n",
    "\n",
    "\n",
    "fig, ax = plt.subplots()\n",
    "ax.plot(x, y_learned, label='Surrogate (Learned) Function')\n",
    "ax.plot(x, y_analytical, label='Analytical Function')\n",
    "ax.set_xlabel('Size Ratio (T)')\n",
    "ax.set_ylabel('Average I/O per Query')\n",
    "ax.set_title('Single Variable Estimation')\n",
    "ax.legend()\n",
    "workload = config_model['workloads'][idx]\n",
    "workload"
   ]
  },
  {
   "cell_type": "code",
   "execution_count": 13,
   "id": "2cc275e7-3801-43df-9d9a-672420c50bf9",
   "metadata": {
    "tags": []
   },
   "outputs": [],
   "source": [
    "def gen_hist_data(workload):\n",
    "    df = []\n",
    "    for h_p in tqdm(np.arange(0, H_UPPER_LIM, 0.5), leave=False):\n",
    "        for T_p in np.arange(T_LOWER_LIM, T_UPPER_LIM, 1):\n",
    "            for Q_p in range(T_LOWER_LIM - 1, T_p, 1):\n",
    "                x = [h_p, T_p, Q_p]\n",
    "                df.append({\n",
    "                    'workload': workload,\n",
    "                    'h': h_p,\n",
    "                    'T': T_p,\n",
    "                    'Q': Q_p,\n",
    "                    'learned': cost_func_learned_eval(x, workload),\n",
    "                    'analytical': cost_func_objective(x, workload),\n",
    "                })\n",
    "    return pd.DataFrame(df)"
   ]
  },
  {
   "cell_type": "code",
   "execution_count": 31,
   "id": "495707dd-777a-431b-99fe-a2873ad4257b",
   "metadata": {
    "tags": []
   },
   "outputs": [
    {
     "data": {
      "application/json": {
       "ascii": false,
       "bar_format": null,
       "colour": null,
       "elapsed": 0.014993906021118164,
       "initial": 0,
       "n": 0,
       "ncols": null,
       "nrows": 64,
       "postfix": null,
       "prefix": "",
       "rate": null,
       "total": 19,
       "unit": "it",
       "unit_divisor": 1000,
       "unit_scale": false
      },
      "application/vnd.jupyter.widget-view+json": {
       "model_id": "",
       "version_major": 2,
       "version_minor": 0
      },
      "text/plain": [
       "  0%|          | 0/19 [00:00<?, ?it/s]"
      ]
     },
     "metadata": {},
     "output_type": "display_data"
    },
    {
     "data": {
      "text/plain": [
       "{'id': 0, 'z0': 0.25, 'z1': 0.25, 'q': 0.25, 'w': 0.25}"
      ]
     },
     "execution_count": 31,
     "metadata": {},
     "output_type": "execute_result"
    },
    {
     "name": "stderr",
     "output_type": "stream",
     "text": [
      "findfont: Font family ['sans-serif'] not found. Falling back to DejaVu Sans.\n",
      "findfont: Generic family 'sans-serif' not found because none of the following families were found: Helvetica\n"
     ]
    },
    {
     "data": {
      "image/png": "[encoded data removed]",
      "text/plain": [
       "<Figure size 640x480 with 1 Axes>"
      ]
     },
     "metadata": {},
     "output_type": "display_data"
    }
   ],
   "source": [
    "idx = 0\n",
    "df = gen_hist_data(config_model['workloads'][idx])\n",
    "\n",
    "df['delta'] = abs((df['analytical'] - df['learned']) / df['analytical'])\n",
    "n, bins, patches = plt.hist(x=df['delta'], bins='auto', density=True)\n",
    "plt.xlabel('($C_{Analytical}$ - $C_{Learned}$) / $C_{Analytical}$', fontsize=14)\n",
    "plt.title('Normalized Histogram of $L_1$ Error\\nBetween Learned and Analytical', fontsize=14)\n",
    "plt.xticks(fontsize=14)\n",
    "plt.yticks(fontsize=14)\n",
    "plt.gca().xaxis.set_major_formatter(PercentFormatter(1))\n",
    "config_model['workloads'][idx]"
   ]
  },
  {
   "cell_type": "code",
   "execution_count": 15,
   "id": "7479e8ee-10eb-4207-9db9-797cdfa319b3",
   "metadata": {},
   "outputs": [
    {
     "data": {
      "text/html": [
       "<div>\n",
       "<style scoped>\n",
       "    .dataframe tbody tr th:only-of-type {\n",
       "        vertical-align: middle;\n",
       "    }\n",
       "\n",
       "    .dataframe tbody tr th {\n",
       "        vertical-align: top;\n",
       "    }\n",
       "\n",
       "    .dataframe thead th {\n",
       "        text-align: right;\n",
       "    }\n",
       "</style>\n",
       "<table border=\"1\" class=\"dataframe\">\n",
       "  <thead>\n",
       "    <tr style=\"text-align: right;\">\n",
       "      <th></th>\n",
       "      <th>workload</th>\n",
       "      <th>h</th>\n",
       "      <th>T</th>\n",
       "      <th>Q</th>\n",
       "      <th>learned</th>\n",
       "      <th>analytical</th>\n",
       "      <th>delta</th>\n",
       "    </tr>\n",
       "  </thead>\n",
       "  <tbody>\n",
       "    <tr>\n",
       "      <th>0</th>\n",
       "      <td>{'id': 0, 'z0': 0.25, 'z1': 0.25, 'q': 0.25, '...</td>\n",
       "      <td>0.0</td>\n",
       "      <td>2</td>\n",
       "      <td>1</td>\n",
       "      <td>5.345865</td>\n",
       "      <td>5.211643</td>\n",
       "      <td>0.025754</td>\n",
       "    </tr>\n",
       "    <tr>\n",
       "      <th>1</th>\n",
       "      <td>{'id': 0, 'z0': 0.25, 'z1': 0.25, 'q': 0.25, '...</td>\n",
       "      <td>0.0</td>\n",
       "      <td>3</td>\n",
       "      <td>1</td>\n",
       "      <td>3.752689</td>\n",
       "      <td>3.733320</td>\n",
       "      <td>0.005188</td>\n",
       "    </tr>\n",
       "    <tr>\n",
       "      <th>2</th>\n",
       "      <td>{'id': 0, 'z0': 0.25, 'z1': 0.25, 'q': 0.25, '...</td>\n",
       "      <td>0.0</td>\n",
       "      <td>3</td>\n",
       "      <td>2</td>\n",
       "      <td>5.832992</td>\n",
       "      <td>5.852271</td>\n",
       "      <td>0.003294</td>\n",
       "    </tr>\n",
       "    <tr>\n",
       "      <th>3</th>\n",
       "      <td>{'id': 0, 'z0': 0.25, 'z1': 0.25, 'q': 0.25, '...</td>\n",
       "      <td>0.0</td>\n",
       "      <td>4</td>\n",
       "      <td>1</td>\n",
       "      <td>3.291880</td>\n",
       "      <td>3.303988</td>\n",
       "      <td>0.003665</td>\n",
       "    </tr>\n",
       "    <tr>\n",
       "      <th>4</th>\n",
       "      <td>{'id': 0, 'z0': 0.25, 'z1': 0.25, 'q': 0.25, '...</td>\n",
       "      <td>0.0</td>\n",
       "      <td>4</td>\n",
       "      <td>2</td>\n",
       "      <td>4.831085</td>\n",
       "      <td>4.853151</td>\n",
       "      <td>0.004547</td>\n",
       "    </tr>\n",
       "    <tr>\n",
       "      <th>...</th>\n",
       "      <td>...</td>\n",
       "      <td>...</td>\n",
       "      <td>...</td>\n",
       "      <td>...</td>\n",
       "      <td>...</td>\n",
       "      <td>...</td>\n",
       "      <td>...</td>\n",
       "    </tr>\n",
       "    <tr>\n",
       "      <th>21427</th>\n",
       "      <td>{'id': 0, 'z0': 0.25, 'z1': 0.25, 'q': 0.25, '...</td>\n",
       "      <td>9.0</td>\n",
       "      <td>48</td>\n",
       "      <td>43</td>\n",
       "      <td>25.962715</td>\n",
       "      <td>25.812482</td>\n",
       "      <td>0.005820</td>\n",
       "    </tr>\n",
       "    <tr>\n",
       "      <th>21428</th>\n",
       "      <td>{'id': 0, 'z0': 0.25, 'z1': 0.25, 'q': 0.25, '...</td>\n",
       "      <td>9.0</td>\n",
       "      <td>48</td>\n",
       "      <td>44</td>\n",
       "      <td>26.546806</td>\n",
       "      <td>26.396304</td>\n",
       "      <td>0.005702</td>\n",
       "    </tr>\n",
       "    <tr>\n",
       "      <th>21429</th>\n",
       "      <td>{'id': 0, 'z0': 0.25, 'z1': 0.25, 'q': 0.25, '...</td>\n",
       "      <td>9.0</td>\n",
       "      <td>48</td>\n",
       "      <td>45</td>\n",
       "      <td>27.125813</td>\n",
       "      <td>26.980286</td>\n",
       "      <td>0.005394</td>\n",
       "    </tr>\n",
       "    <tr>\n",
       "      <th>21430</th>\n",
       "      <td>{'id': 0, 'z0': 0.25, 'z1': 0.25, 'q': 0.25, '...</td>\n",
       "      <td>9.0</td>\n",
       "      <td>48</td>\n",
       "      <td>46</td>\n",
       "      <td>27.696644</td>\n",
       "      <td>27.564419</td>\n",
       "      <td>0.004797</td>\n",
       "    </tr>\n",
       "    <tr>\n",
       "      <th>21431</th>\n",
       "      <td>{'id': 0, 'z0': 0.25, 'z1': 0.25, 'q': 0.25, '...</td>\n",
       "      <td>9.0</td>\n",
       "      <td>48</td>\n",
       "      <td>47</td>\n",
       "      <td>28.313847</td>\n",
       "      <td>28.148692</td>\n",
       "      <td>0.005867</td>\n",
       "    </tr>\n",
       "  </tbody>\n",
       "</table>\n",
       "<p>21432 rows × 7 columns</p>\n",
       "</div>"
      ],
      "text/plain": [
       "                                                workload    h   T   Q  \\\n",
       "0      {'id': 0, 'z0': 0.25, 'z1': 0.25, 'q': 0.25, '...  0.0   2   1   \n",
       "1      {'id': 0, 'z0': 0.25, 'z1': 0.25, 'q': 0.25, '...  0.0   3   1   \n",
       "2      {'id': 0, 'z0': 0.25, 'z1': 0.25, 'q': 0.25, '...  0.0   3   2   \n",
       "3      {'id': 0, 'z0': 0.25, 'z1': 0.25, 'q': 0.25, '...  0.0   4   1   \n",
       "4      {'id': 0, 'z0': 0.25, 'z1': 0.25, 'q': 0.25, '...  0.0   4   2   \n",
       "...                                                  ...  ...  ..  ..   \n",
       "21427  {'id': 0, 'z0': 0.25, 'z1': 0.25, 'q': 0.25, '...  9.0  48  43   \n",
       "21428  {'id': 0, 'z0': 0.25, 'z1': 0.25, 'q': 0.25, '...  9.0  48  44   \n",
       "21429  {'id': 0, 'z0': 0.25, 'z1': 0.25, 'q': 0.25, '...  9.0  48  45   \n",
       "21430  {'id': 0, 'z0': 0.25, 'z1': 0.25, 'q': 0.25, '...  9.0  48  46   \n",
       "21431  {'id': 0, 'z0': 0.25, 'z1': 0.25, 'q': 0.25, '...  9.0  48  47   \n",
       "\n",
       "         learned  analytical     delta  \n",
       "0       5.345865    5.211643  0.025754  \n",
       "1       3.752689    3.733320  0.005188  \n",
       "2       5.832992    5.852271  0.003294  \n",
       "3       3.291880    3.303988  0.003665  \n",
       "4       4.831085    4.853151  0.004547  \n",
       "...          ...         ...       ...  \n",
       "21427  25.962715   25.812482  0.005820  \n",
       "21428  26.546806   26.396304  0.005702  \n",
       "21429  27.125813   26.980286  0.005394  \n",
       "21430  27.696644   27.564419  0.004797  \n",
       "21431  28.313847   28.148692  0.005867  \n",
       "\n",
       "[21432 rows x 7 columns]"
      ]
     },
     "execution_count": 15,
     "metadata": {},
     "output_type": "execute_result"
    }
   ],
   "source": [
    "df"
   ]
  },
  {
   "cell_type": "code",
   "execution_count": 17,
   "id": "e77d6471-c5f8-44cf-aab7-569e4f2afa94",
   "metadata": {
    "tags": []
   },
   "outputs": [
    {
     "data": {
      "application/json": {
       "ascii": false,
       "bar_format": null,
       "colour": null,
       "elapsed": 0.014081001281738281,
       "initial": 0,
       "n": 0,
       "ncols": null,
       "nrows": 64,
       "postfix": null,
       "prefix": "",
       "rate": null,
       "total": 15,
       "unit": "it",
       "unit_divisor": 1000,
       "unit_scale": false
      },
      "application/vnd.jupyter.widget-view+json": {
       "model_id": "ec15135e11b04c3ab548945009d06b3b",
       "version_major": 2,
       "version_minor": 0
      },
      "text/plain": [
       "  0%|          | 0/15 [00:00<?, ?it/s]"
      ]
     },
     "metadata": {},
     "output_type": "display_data"
    },
    {
     "data": {
      "application/json": {
       "ascii": false,
       "bar_format": null,
       "colour": null,
       "elapsed": 0.01302337646484375,
       "initial": 0,
       "n": 0,
       "ncols": null,
       "nrows": 64,
       "postfix": null,
       "prefix": "",
       "rate": null,
       "total": 19,
       "unit": "it",
       "unit_divisor": 1000,
       "unit_scale": false
      },
      "application/vnd.jupyter.widget-view+json": {
       "model_id": "",
       "version_major": 2,
       "version_minor": 0
      },
      "text/plain": [
       "  0%|          | 0/19 [00:00<?, ?it/s]"
      ]
     },
     "metadata": {},
     "output_type": "display_data"
    },
    {
     "data": {
      "application/json": {
       "ascii": false,
       "bar_format": null,
       "colour": null,
       "elapsed": 0.017106294631958008,
       "initial": 0,
       "n": 0,
       "ncols": null,
       "nrows": 64,
       "postfix": null,
       "prefix": "",
       "rate": null,
       "total": 19,
       "unit": "it",
       "unit_divisor": 1000,
       "unit_scale": false
      },
      "application/vnd.jupyter.widget-view+json": {
       "model_id": "",
       "version_major": 2,
       "version_minor": 0
      },
      "text/plain": [
       "  0%|          | 0/19 [00:00<?, ?it/s]"
      ]
     },
     "metadata": {},
     "output_type": "display_data"
    },
    {
     "data": {
      "application/json": {
       "ascii": false,
       "bar_format": null,
       "colour": null,
       "elapsed": 0.01194620132446289,
       "initial": 0,
       "n": 0,
       "ncols": null,
       "nrows": 64,
       "postfix": null,
       "prefix": "",
       "rate": null,
       "total": 19,
       "unit": "it",
       "unit_divisor": 1000,
       "unit_scale": false
      },
      "application/vnd.jupyter.widget-view+json": {
       "model_id": "7ab76c5fd8ef4721a4966cb2206ec674",
       "version_major": 2,
       "version_minor": 0
      },
      "text/plain": [
       "  0%|          | 0/19 [00:00<?, ?it/s]"
      ]
     },
     "metadata": {},
     "output_type": "display_data"
    },
    {
     "ename": "KeyboardInterrupt",
     "evalue": "",
     "output_type": "error",
     "traceback": [
      "\u001b[0;31m---------------------------------------------------------------------------\u001b[0m",
      "\u001b[0;31mKeyboardInterrupt\u001b[0m                         Traceback (most recent call last)",
      "Cell \u001b[0;32mIn [17], line 3\u001b[0m\n\u001b[1;32m      1\u001b[0m dfs \u001b[38;5;241m=\u001b[39m []\n\u001b[1;32m      2\u001b[0m \u001b[38;5;28;01mfor\u001b[39;00m wl \u001b[38;5;129;01min\u001b[39;00m tqdm(config_model[\u001b[38;5;124m'\u001b[39m\u001b[38;5;124mworkloads\u001b[39m\u001b[38;5;124m'\u001b[39m]):\n\u001b[0;32m----> 3\u001b[0m     dfs\u001b[38;5;241m.\u001b[39mappend(gen_hist_data(wl))\n",
      "Cell \u001b[0;32mIn [13], line 12\u001b[0m, in \u001b[0;36mgen_hist_data\u001b[0;34m(workload)\u001b[0m\n\u001b[1;32m      5\u001b[0m         \u001b[38;5;28;01mfor\u001b[39;00m Q_p \u001b[38;5;129;01min\u001b[39;00m \u001b[38;5;28mrange\u001b[39m(T_LOWER_LIM \u001b[38;5;241m-\u001b[39m \u001b[38;5;241m1\u001b[39m, T_p, \u001b[38;5;241m1\u001b[39m):\n\u001b[1;32m      6\u001b[0m             x \u001b[38;5;241m=\u001b[39m [h_p, T_p, Q_p]\n\u001b[1;32m      7\u001b[0m             df\u001b[38;5;241m.\u001b[39mappend({\n\u001b[1;32m      8\u001b[0m                 \u001b[38;5;124m'\u001b[39m\u001b[38;5;124mworkload\u001b[39m\u001b[38;5;124m'\u001b[39m: workload,\n\u001b[1;32m      9\u001b[0m                 \u001b[38;5;124m'\u001b[39m\u001b[38;5;124mh\u001b[39m\u001b[38;5;124m'\u001b[39m: h_p,\n\u001b[1;32m     10\u001b[0m                 \u001b[38;5;124m'\u001b[39m\u001b[38;5;124mT\u001b[39m\u001b[38;5;124m'\u001b[39m: T_p,\n\u001b[1;32m     11\u001b[0m                 \u001b[38;5;124m'\u001b[39m\u001b[38;5;124mQ\u001b[39m\u001b[38;5;124m'\u001b[39m: Q_p,\n\u001b[0;32m---> 12\u001b[0m                 \u001b[38;5;124m'\u001b[39m\u001b[38;5;124mlearned\u001b[39m\u001b[38;5;124m'\u001b[39m: \u001b[43mcost_func_learned_eval\u001b[49m\u001b[43m(\u001b[49m\u001b[43mx\u001b[49m\u001b[43m,\u001b[49m\u001b[43m \u001b[49m\u001b[43mworkload\u001b[49m\u001b[43m)\u001b[49m,\n\u001b[1;32m     13\u001b[0m                 \u001b[38;5;124m'\u001b[39m\u001b[38;5;124manalytical\u001b[39m\u001b[38;5;124m'\u001b[39m: cost_func_objective(x, workload),\n\u001b[1;32m     14\u001b[0m             })\n\u001b[1;32m     15\u001b[0m \u001b[38;5;28;01mreturn\u001b[39;00m pd\u001b[38;5;241m.\u001b[39mDataFrame(df)\n",
      "Cell \u001b[0;32mIn [6], line 40\u001b[0m, in \u001b[0;36mcost_func_learned_eval\u001b[0;34m(args, wl)\u001b[0m\n\u001b[1;32m     38\u001b[0m inputs \u001b[38;5;241m=\u001b[39m torch\u001b[38;5;241m.\u001b[39mfrom_numpy(inputs\u001b[38;5;241m.\u001b[39mreshape(\u001b[38;5;241m1\u001b[39m, \u001b[38;5;241m-\u001b[39m\u001b[38;5;241m1\u001b[39m))\n\u001b[1;32m     39\u001b[0m \u001b[38;5;28;01mwith\u001b[39;00m torch\u001b[38;5;241m.\u001b[39mno_grad():\n\u001b[0;32m---> 40\u001b[0m     pred \u001b[38;5;241m=\u001b[39m \u001b[43mmodel\u001b[49m\u001b[43m(\u001b[49m\u001b[43minputs\u001b[49m\u001b[43m)\u001b[49m\n\u001b[1;32m     41\u001b[0m     pred \u001b[38;5;241m=\u001b[39m pred\u001b[38;5;241m.\u001b[39msum()\u001b[38;5;241m.\u001b[39mitem() \n\u001b[1;32m     42\u001b[0m \u001b[38;5;28;01mreturn\u001b[39;00m pred\n",
      "File \u001b[0;32m/opt/conda/envs/pytorch/lib/python3.9/site-packages/torch/nn/modules/module.py:1130\u001b[0m, in \u001b[0;36mModule._call_impl\u001b[0;34m(self, *input, **kwargs)\u001b[0m\n\u001b[1;32m   1126\u001b[0m \u001b[38;5;66;03m# If we don't have any hooks, we want to skip the rest of the logic in\u001b[39;00m\n\u001b[1;32m   1127\u001b[0m \u001b[38;5;66;03m# this function, and just call forward.\u001b[39;00m\n\u001b[1;32m   1128\u001b[0m \u001b[38;5;28;01mif\u001b[39;00m \u001b[38;5;129;01mnot\u001b[39;00m (\u001b[38;5;28mself\u001b[39m\u001b[38;5;241m.\u001b[39m_backward_hooks \u001b[38;5;129;01mor\u001b[39;00m \u001b[38;5;28mself\u001b[39m\u001b[38;5;241m.\u001b[39m_forward_hooks \u001b[38;5;129;01mor\u001b[39;00m \u001b[38;5;28mself\u001b[39m\u001b[38;5;241m.\u001b[39m_forward_pre_hooks \u001b[38;5;129;01mor\u001b[39;00m _global_backward_hooks\n\u001b[1;32m   1129\u001b[0m         \u001b[38;5;129;01mor\u001b[39;00m _global_forward_hooks \u001b[38;5;129;01mor\u001b[39;00m _global_forward_pre_hooks):\n\u001b[0;32m-> 1130\u001b[0m     \u001b[38;5;28;01mreturn\u001b[39;00m \u001b[43mforward_call\u001b[49m\u001b[43m(\u001b[49m\u001b[38;5;241;43m*\u001b[39;49m\u001b[38;5;28;43minput\u001b[39;49m\u001b[43m,\u001b[49m\u001b[43m \u001b[49m\u001b[38;5;241;43m*\u001b[39;49m\u001b[38;5;241;43m*\u001b[39;49m\u001b[43mkwargs\u001b[49m\u001b[43m)\u001b[49m\n\u001b[1;32m   1131\u001b[0m \u001b[38;5;66;03m# Do not call functions when jit is used\u001b[39;00m\n\u001b[1;32m   1132\u001b[0m full_backward_hooks, non_full_backward_hooks \u001b[38;5;241m=\u001b[39m [], []\n",
      "File \u001b[0;32m~/repos/endure-torch/notebook/model-notebooks/../../model/kcost.py:33\u001b[0m, in \u001b[0;36mKCostModel.forward\u001b[0;34m(self, x)\u001b[0m\n\u001b[1;32m     32\u001b[0m \u001b[38;5;28;01mdef\u001b[39;00m \u001b[38;5;21mforward\u001b[39m(\u001b[38;5;28mself\u001b[39m, x) \u001b[38;5;241m-\u001b[39m\u001b[38;5;241m>\u001b[39m torch\u001b[38;5;241m.\u001b[39mTensor:\n\u001b[0;32m---> 33\u001b[0m     cate_inputs \u001b[38;5;241m=\u001b[39m \u001b[43mx\u001b[49m\u001b[43m[\u001b[49m\u001b[43m:\u001b[49m\u001b[43m,\u001b[49m\u001b[43m \u001b[49m\u001b[38;5;28;43mself\u001b[39;49m\u001b[38;5;241;43m.\u001b[39;49m\u001b[43mparams\u001b[49m\u001b[43m[\u001b[49m\u001b[38;5;124;43m'\u001b[39;49m\u001b[38;5;124;43mnum_cont_vars\u001b[39;49m\u001b[38;5;124;43m'\u001b[39;49m\u001b[43m]\u001b[49m\u001b[43m:\u001b[49m\u001b[43m]\u001b[49m\n\u001b[1;32m     34\u001b[0m     out \u001b[38;5;241m=\u001b[39m \u001b[38;5;28mself\u001b[39m\u001b[38;5;241m.\u001b[39membedding(cate_inputs\u001b[38;5;241m.\u001b[39mto(torch\u001b[38;5;241m.\u001b[39mint32))\n\u001b[1;32m     35\u001b[0m     out \u001b[38;5;241m=\u001b[39m torch\u001b[38;5;241m.\u001b[39mflatten(out, start_dim\u001b[38;5;241m=\u001b[39m\u001b[38;5;241m1\u001b[39m)\n",
      "\u001b[0;31mKeyboardInterrupt\u001b[0m: "
     ]
    }
   ],
   "source": [
    "dfs = []\n",
    "for wl in tqdm(config_model['workloads']):\n",
    "    dfs.append(gen_hist_data(wl))"
   ]
  },
  {
   "cell_type": "code",
   "execution_count": null,
   "id": "a78090d0-d298-4278-a784-c08db01205fe",
   "metadata": {
    "tags": []
   },
   "outputs": [],
   "source": [
    "df = pd.concat(dfs)\n",
    "\n",
    "df['delta'] = abs((df['analytical'] - df['learned']) / df['analytical'])\n",
    "n, bins, patches = plt.hist(x=df['delta'], bins='auto', density=True)\n",
    "plt.xlabel('Delta (Analytical - Learned)')\n",
    "plt.title('All $w \\in \\mathcal{B}$ of Absolute Error ($L_1$ Error)')\n",
    "None"
   ]
  },
  {
   "cell_type": "code",
   "execution_count": null,
   "id": "68ac4151-fce2-4ffd-8610-012b80045403",
   "metadata": {
    "tags": []
   },
   "outputs": [],
   "source": [
    "df.sort_values(by='delta')"
   ]
  },
  {
   "cell_type": "code",
   "execution_count": null,
   "id": "138330ee-bbdf-4047-85a7-4fcf43e566e4",
   "metadata": {},
   "outputs": [],
   "source": [
    "def generate_configurations():\n",
    "    df = []\n",
    "    for wl in tqdm(config_model['workloads']):\n",
    "        z0, z1, q, w = (wl['z0'], wl['z1'], wl['q'], wl['w'])\n",
    "        learn = optimize(func=lambda x: cost_func_learned(x, wl), eps=1e-3)\n",
    "        hand = optimize(func=lambda x: cost_func_objective(x, wl), eps=1e-3)\n",
    "        df.append({\n",
    "            'id': wl['id'],\n",
    "            'wl': wl,\n",
    "            'learn': learn,\n",
    "            'hand': hand,\n",
    "            'delta': cost_func_objective(hand.x, wl) - cost_func_objective(learn.x, wl)\n",
    "        })\n",
    "    return pd.DataFrame(df)\n",
    "\n",
    "df = generate_configurations()"
   ]
  },
  {
   "cell_type": "code",
   "execution_count": null,
   "id": "32da8abd-2cf1-409a-9a98-add2049d4d3b",
   "metadata": {},
   "outputs": [],
   "source": [
    "def sample_workload(dimensions: int=4) -> list:\n",
    "    # See stackoverflow thread for why the simple solution is not uniform\n",
    "    # https://stackoverflow.com/questions/8064629/random-numbers-that-add-to-100-matlab\n",
    "    workload = list(np.random.rand(dimensions - 1)) + [0, 1]\n",
    "    workload.sort()\n",
    "    return [b - a for a, b in zip(workload, workload[1:])]\n",
    "\n",
    "def gen_workload_heat(samples=10):\n",
    "    df = []\n",
    "    for _ in tqdm(range(samples)):\n",
    "        z0, z1, q, w = sample_workload(dimensions=4)\n",
    "        wl = {'z0': z0, 'z1': z1, 'q': q, 'w': w}\n",
    "        learn = optimize(func=lambda x: cost_func_learned(x, wl), eps=1e-3, display=False)\n",
    "        hand = optimize(func=lambda x: cost_func_objective(x, wl), eps=1e-3, display=False)\n",
    "        cost_learn = cost_func_objective(learn.x, wl)\n",
    "        cost_hand = cost_func_objective(hand.x, wl)\n",
    "        df.append({\n",
    "            'wl': wl,\n",
    "            'learn': learn,\n",
    "            'hand': hand,\n",
    "            'cost_learn': cost_learn,\n",
    "            'cost_hand': cost_hand,\n",
    "        })\n",
    "    return pd.DataFrame(df)"
   ]
  },
  {
   "cell_type": "code",
   "execution_count": null,
   "id": "8a388f91-6ce9-44cd-8624-52f192d6e18d",
   "metadata": {},
   "outputs": [],
   "source": [
    "df = gen_workload_heat(500)"
   ]
  },
  {
   "cell_type": "code",
   "execution_count": null,
   "id": "f79b293d-2269-43a5-a0ce-7a1fbf4aded5",
   "metadata": {},
   "outputs": [],
   "source": [
    "df['delta'] = (df['cost_hand'] - df['cost_learn'])\n",
    "n, bins, patches = plt.hist(x=df['delta'], bins='auto', density=True)\n",
    "plt.xlabel('Delta (Analytical - Learned)')\n",
    "plt.title('Frequency of Error: Positive is Better')"
   ]
  },
  {
   "cell_type": "code",
   "execution_count": null,
   "id": "ead567cd-cc6e-450f-9358-f2da4a22976a",
   "metadata": {
    "tags": []
   },
   "outputs": [],
   "source": [
    "df.sort_values(by='delta')"
   ]
  },
  {
   "cell_type": "code",
   "execution_count": null,
   "id": "0971677b-5555-4483-823e-5e0268daa495",
   "metadata": {},
   "outputs": [],
   "source": [
    "df.iloc[320].wl"
   ]
  },
  {
   "cell_type": "code",
   "execution_count": null,
   "id": "c783e260-af1f-477b-85ff-0c7185c6f730",
   "metadata": {
    "tags": []
   },
   "outputs": [],
   "source": [
    "df_tmp = gen_hist_data(df.iloc[320].wl)\n",
    "\n",
    "df_tmp['delta'] = abs((df_tmp['analytical'] - df_tmp['learned']) / df_tmp['analytical'])\n",
    "n, bins, patches = plt.hist(x=df_tmp['delta'], bins='auto', density=True)\n",
    "plt.xlabel('Delta (Analytical - Learned) / Analytical')\n",
    "plt.title('Frequency of Absolute Error ($L_1$ Error)')\n",
    "df.iloc[320].wl"
   ]
  },
  {
   "cell_type": "code",
   "execution_count": null,
   "id": "f3cd99e6-229d-4f91-b1ec-0b4d61f6861b",
   "metadata": {},
   "outputs": [],
   "source": [
    "df_tmp"
   ]
  },
  {
   "cell_type": "code",
   "execution_count": null,
   "id": "bcbff03c-8ca1-4f84-b1ee-e874331c7053",
   "metadata": {},
   "outputs": [],
   "source": []
  }
 ],
 "metadata": {
  "kernelspec": {
   "display_name": "Python 3 (ipykernel)",
   "language": "python",
   "name": "python3"
  },
  "language_info": {
   "codemirror_mode": {
    "name": "ipython",
    "version": 3
   },
   "file_extension": ".py",
   "mimetype": "text/x-python",
   "name": "python",
   "nbconvert_exporter": "python",
   "pygments_lexer": "ipython3",
   "version": "3.9.13"
  }
 },
 "nbformat": 4,
 "nbformat_minor": 5
}
