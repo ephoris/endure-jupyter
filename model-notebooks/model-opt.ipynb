{
 "cells": [
  {
   "cell_type": "code",
   "execution_count": 1,
   "id": "03efe705",
   "metadata": {},
   "outputs": [],
   "source": [
    "import sys\n",
    "import os\n",
    "import toml\n",
    "\n",
    "import torch\n",
    "import torcharrow\n",
    "from torch import nn\n",
    "from torch.utils.data import Dataset, DataLoader, random_split\n",
    "from torchdata import datapipes as DataPipe\n",
    "\n",
    "import pandas as pd\n",
    "import numpy as np\n",
    "import scipy.optimize as SciOpt\n",
    "import matplotlib.pyplot as plt\n",
    "from tqdm.notebook import tqdm\n",
    "\n",
    "sys.path.append(os.path.join(sys.path[0], '../..'))\n",
    "\n",
    "from data.io import Reader\n",
    "from data.kcost_dataset import KCostDataSet\n",
    "from model.kcost import KCostModel\n",
    "from model.tierlevelcost import TierLevelCost\n",
    "from lsm.lsmtype import Policy\n",
    "from jobs.train import TrainJob\n",
    "import lsm.cost as CostFunc"
   ]
  },
  {
   "cell_type": "code",
   "execution_count": 2,
   "id": "ac0fee0d",
   "metadata": {},
   "outputs": [],
   "source": [
    "config = Reader.read_config('../../endure.toml')"
   ]
  },
  {
   "cell_type": "code",
   "execution_count": 3,
   "id": "19a88f1e",
   "metadata": {
    "tags": []
   },
   "outputs": [],
   "source": [
    "model_path = '/data/qcost-10-31'\n",
    "config_model = Reader.read_config(os.path.join(model_path, 'config.toml'))\n",
    "ONE_MIB_BITS = 1024 * 1024 * 8\n",
    "T_UPPER_LIM = config_model['lsm']['size_ratio']['max']\n",
    "T_LOWER_LIM = config_model['lsm']['size_ratio']['min']\n",
    "H_UPPER_LIM = config_model['lsm']['bits_per_elem']['max']\n",
    "MAX_LEVELS = config_model['lsm']['max_levels']"
   ]
  },
  {
   "cell_type": "code",
   "execution_count": 4,
   "id": "0df13f71",
   "metadata": {},
   "outputs": [
    {
     "data": {
      "text/plain": [
       "<All keys matched successfully>"
      ]
     },
     "execution_count": 4,
     "metadata": {},
     "output_type": "execute_result"
    }
   ],
   "source": [
    "tj = TrainJob(config_model)\n",
    "model = tj._build_model()\n",
    "model_data = torch.load(os.path.join(model_path, 'kcost_min.model'), map_location=torch.device('cpu'))\n",
    "load_status = model.load_state_dict(model_data)\n",
    "model.eval()\n",
    "load_status"
   ]
  },
  {
   "cell_type": "code",
   "execution_count": 5,
   "id": "f823242a",
   "metadata": {},
   "outputs": [],
   "source": [
    "cf = CostFunc.EndureQFixedCost(**config_model['system'])\n",
    "def cost_func_objective(args, wl):\n",
    "    h, T, Q = args[0], args[1], args[2]\n",
    "    z0, z1, q, w = wl['z0'], wl['z1'], wl['q'], wl['w']\n",
    "    return cf.calc_cost(h, T, Q, z0, z1, q, w)\n",
    "\n",
    "def l2_norm(a, b):\n",
    "    return np.linalg.norm((a, b), 2)\n",
    "\n",
    "def create_pairs(T, Q):\n",
    "    t_frac = T - np.floor(T)\n",
    "    q_frac = Q - np.floor(Q)\n",
    "    norms = (l2_norm(1 - t_frac, 1 - q_frac),\n",
    "             l2_norm(1 - t_frac, q_frac),\n",
    "             l2_norm(t_frac, 1 - q_frac),\n",
    "             l2_norm(t_frac, q_frac))\n",
    "    normalizer = sum(norms)\n",
    "    pairs = [(np.floor(T), np.floor(Q), norms[0] / normalizer),\n",
    "             (np.floor(T), np.ceil(Q), norms[1] / normalizer),\n",
    "             (np.ceil(T), np.floor(Q), norms[2] / normalizer),\n",
    "             (np.ceil(T), np.ceil(Q), norms[3] / normalizer)]\n",
    "    \n",
    "    return pairs\n",
    "\n",
    "def cost_func_learned_eval(args, wl):\n",
    "    h, T, Q = args[0], args[1], args[2]\n",
    "    z0, z1, q, w = wl['z0'], wl['z1'], wl['q'], wl['w']\n",
    "    row = [0, 0, 0, 0, h, z0, z1, q, w, T, Q]\n",
    "    _, inputs = tj._process_row(row)\n",
    "    inputs = torch.from_numpy(inputs.reshape(1, -1))\n",
    "    with torch.no_grad():\n",
    "        pred = model(inputs)\n",
    "        pred = pred.sum().item() \n",
    "    return pred\n",
    "\n",
    "def cost_func_learned(args, wl):\n",
    "    h, T, Q = args[0], args[1], args[2]\n",
    "    pairs = create_pairs(T, Q)\n",
    "    val = 0\n",
    "    for (t_prime, q_prime, frac) in pairs:\n",
    "        val += frac * cost_func_learned_eval([h, t_prime, q_prime], wl)\n",
    "\n",
    "    return val"
   ]
  },
  {
   "cell_type": "code",
   "execution_count": 6,
   "id": "4396d52d-2dba-43f0-a097-13aadd3f1cec",
   "metadata": {},
   "outputs": [],
   "source": [
    "def optimize(func=None, h_initial=9., T_initial=5., Q_initial=3., eps=1e-6, display=False):\n",
    "    h_bounds = (0, H_UPPER_LIM)\n",
    "    T_bounds = (T_LOWER_LIM, T_UPPER_LIM)\n",
    "    Q_bounds = (T_LOWER_LIM - 1, T_UPPER_LIM - 1)\n",
    "\n",
    "    bounds = [h_bounds, T_bounds, Q_bounds]\n",
    "    min_cost = np.inf\n",
    "    design = {}\n",
    "    minimizer_kwargs = {\n",
    "        'method' : 'SLSQP',\n",
    "        'bounds' : bounds,\n",
    "        'options': {'ftol': 1e-9, 'eps': eps, 'disp': display}}\n",
    "    x0 = np.array([h_initial, T_initial, Q_initial])\n",
    "    \n",
    "    sol = SciOpt.minimize(\n",
    "        fun=func,\n",
    "        x0=x0,\n",
    "        **minimizer_kwargs\n",
    "    )\n",
    "    return sol"
   ]
  },
  {
   "cell_type": "code",
   "execution_count": 7,
   "id": "9c8cc791",
   "metadata": {},
   "outputs": [
    {
     "data": {
      "text/plain": [
       "     fun: 2.827294195864879\n",
       "     jac: array([-1.32671651e-07, -1.54599622e-07,  1.07174896e-06])\n",
       " message: 'Optimization terminated successfully'\n",
       "    nfev: 72\n",
       "     nit: 18\n",
       "    njev: 18\n",
       "  status: 0\n",
       " success: True\n",
       "       x: array([3.27812567, 6.10318895, 1.05539409])"
      ]
     },
     "execution_count": 7,
     "metadata": {},
     "output_type": "execute_result"
    }
   ],
   "source": [
    "analytical_sol = optimize(func=lambda x: cost_func_objective(x, config_model['workloads'][0]), eps=1e-2)\n",
    "analytical_sol"
   ]
  },
  {
   "cell_type": "code",
   "execution_count": 8,
   "id": "2b771105",
   "metadata": {},
   "outputs": [
    {
     "data": {
      "text/plain": [
       "     fun: 3.194126506718253\n",
       "     jac: array([-4.40603309e-05, -8.40890917e-06,  7.01191626e-03])\n",
       " message: 'Optimization terminated successfully'\n",
       "    nfev: 206\n",
       "     nit: 34\n",
       "    njev: 34\n",
       "  status: 0\n",
       " success: True\n",
       "       x: array([ 5.56983057, 11.54787206,  2.98761966])"
      ]
     },
     "execution_count": 8,
     "metadata": {},
     "output_type": "execute_result"
    }
   ],
   "source": [
    "learned_sol = optimize(func=lambda x: cost_func_learned(x, config_model['workloads'][0]), eps=1e-2)\n",
    "learned_sol"
   ]
  },
  {
   "cell_type": "code",
   "execution_count": 9,
   "id": "ddfe702d",
   "metadata": {},
   "outputs": [
    {
     "name": "stdout",
     "output_type": "stream",
     "text": [
      "Analytical Output: [3.27812567 6.10318895 1.05539409]\n",
      "Analytical Rounded: [3.2781256701489667, 6.0, 1.0]-> 2.830272435522601\n",
      "Analytical Rounded: [3.2781256701489667, 6.0, 2.0]-> 3.3352966647852185\n",
      "Analytical Rounded: [3.2781256701489667, 7.0, 1.0]-> 2.8545970966757404\n",
      "Analytical Rounded: [3.2781256701489667, 7.0, 2.0]-> 3.208054069994117\n",
      "Learned Rounded: [ 5.56983057 11.54787206  2.98761966]-> 3.513933334236397\n"
     ]
    }
   ],
   "source": [
    "p_args = [[analytical_sol.x[0], np.floor(analytical_sol.x[1]), np.floor(analytical_sol.x[2])],\n",
    "          [analytical_sol.x[0], np.floor(analytical_sol.x[1]), np.ceil(analytical_sol.x[2])],\n",
    "          [analytical_sol.x[0], np.ceil(analytical_sol.x[1]), np.floor(analytical_sol.x[2])],\n",
    "          [analytical_sol.x[0], np.ceil(analytical_sol.x[1]), np.ceil(analytical_sol.x[2])],]\n",
    "print(f'Analytical Output: {analytical_sol.x}')\n",
    "for arg in p_args:\n",
    "    print(f'Analytical Rounded: {arg}-> {cost_func_objective(arg, config_model[\"workloads\"][0])}')\n",
    "print(f'Learned Rounded: {learned_sol.x}-> {cost_func_objective(learned_sol.x, config_model[\"workloads\"][0])}')"
   ]
  },
  {
   "cell_type": "code",
   "execution_count": 60,
   "id": "77691e3d",
   "metadata": {},
   "outputs": [
    {
     "data": {
      "application/vnd.jupyter.widget-view+json": {
       "model_id": "4f43ee26b1134bb6a9be0de8ae147940",
       "version_major": 2,
       "version_minor": 0
      },
      "text/plain": [
       "  0%|          | 0/47 [00:00<?, ?it/s]"
      ]
     },
     "metadata": {},
     "output_type": "display_data"
    }
   ],
   "source": [
    "def gen_single_data(idx=0):\n",
    "    workload = config_model['workloads'][idx]\n",
    "    df = []\n",
    "    h_fixed = 2\n",
    "    t_fixed = 30\n",
    "    q_fixed = 1\n",
    "    for val in tqdm(np.arange(2, 49, 1)):\n",
    "        x = [h_fixed, val, q_fixed]\n",
    "        df.append({\n",
    "            'x': val,\n",
    "            'learned': cost_func_learned_eval(x, workload),\n",
    "            'analytical': cost_func_objective(x, workload),\n",
    "        })\n",
    "    return pd.DataFrame(df)\n",
    "\n",
    "idx = 1\n",
    "df = gen_single_data(idx)"
   ]
  },
  {
   "cell_type": "code",
   "execution_count": 61,
   "id": "709d3b9d",
   "metadata": {},
   "outputs": [
    {
     "data": {
      "text/plain": [
       "{'id': 1, 'z0': 0.97, 'z1': 0.01, 'q': 0.01, 'w': 0.01}"
      ]
     },
     "execution_count": 61,
     "metadata": {},
     "output_type": "execute_result"
    },
    {
     "data": {
      "image/png": "[encoded data removed]",
      "text/plain": [
       "<Figure size 640x480 with 1 Axes>"
      ]
     },
     "metadata": {},
     "output_type": "display_data"
    }
   ],
   "source": [
    "x = df['x']\n",
    "y_learned = df['learned']\n",
    "y_analytical = df['analytical']\n",
    "\n",
    "\n",
    "fig, ax = plt.subplots()\n",
    "ax.plot(x, y_learned, label='Surrogate (Learned) Function')\n",
    "ax.plot(x, y_analytical, label='Analytical Function')\n",
    "ax.set_xlabel('Size Ratio (T)')\n",
    "ax.set_ylabel('Average I/O per Query')\n",
    "ax.set_title('Single Variable Estimation')\n",
    "ax.legend()\n",
    "workload = config_model['workloads'][idx]\n",
    "workload"
   ]
  },
  {
   "cell_type": "code",
   "execution_count": 49,
   "id": "2cc275e7-3801-43df-9d9a-672420c50bf9",
   "metadata": {
    "tags": []
   },
   "outputs": [],
   "source": [
    "def gen_hist_data(workload):\n",
    "    df = []\n",
    "    for h_p in tqdm(np.arange(0, H_UPPER_LIM, 0.5), leave=False):\n",
    "        for T_p in np.arange(T_LOWER_LIM, T_UPPER_LIM, 1):\n",
    "            for Q_p in range(T_LOWER_LIM - 1, T_p, 1):\n",
    "                x = [h_p, T_p, Q_p]\n",
    "                df.append({\n",
    "                    'workload': workload,\n",
    "                    'h': h_p,\n",
    "                    'T': T_p,\n",
    "                    'Q': Q_p,\n",
    "                    'learned': cost_func_learned_eval(x, workload),\n",
    "                    'analytical': cost_func_objective(x, workload),\n",
    "                })\n",
    "    return pd.DataFrame(df)"
   ]
  },
  {
   "cell_type": "code",
   "execution_count": 55,
   "id": "495707dd-777a-431b-99fe-a2873ad4257b",
   "metadata": {
    "tags": []
   },
   "outputs": [
    {
     "data": {
      "application/vnd.jupyter.widget-view+json": {
       "model_id": "",
       "version_major": 2,
       "version_minor": 0
      },
      "text/plain": [
       "  0%|          | 0/19 [00:00<?, ?it/s]"
      ]
     },
     "metadata": {},
     "output_type": "display_data"
    },
    {
     "data": {
      "text/plain": [
       "{'id': 1, 'z0': 0.97, 'z1': 0.01, 'q': 0.01, 'w': 0.01}"
      ]
     },
     "execution_count": 55,
     "metadata": {},
     "output_type": "execute_result"
    },
    {
     "data": {
      "image/png": "[encoded data removed]",
      "text/plain": [
       "<Figure size 640x480 with 1 Axes>"
      ]
     },
     "metadata": {},
     "output_type": "display_data"
    }
   ],
   "source": [
    "df = gen_hist_data(config_model['workloads'][1])\n",
    "\n",
    "df['delta'] = abs((df['analytical'] - df['learned']) / df['analytical'])\n",
    "n, bins, patches = plt.hist(x=df['delta'], bins='auto', density=True)\n",
    "plt.xlabel('Delta (Analytical - Learned)')\n",
    "plt.title('Frequency of Absolute Error ($L_1$ Error)')\n",
    "config_model['workloads'][1]"
   ]
  },
  {
   "cell_type": "code",
   "execution_count": 14,
   "id": "e77d6471-c5f8-44cf-aab7-569e4f2afa94",
   "metadata": {
    "tags": []
   },
   "outputs": [
    {
     "data": {
      "application/vnd.jupyter.widget-view+json": {
       "model_id": "b32edbf20e504fe887d0e21e9efdb161",
       "version_major": 2,
       "version_minor": 0
      },
      "text/plain": [
       "  0%|          | 0/15 [00:00<?, ?it/s]"
      ]
     },
     "metadata": {},
     "output_type": "display_data"
    },
    {
     "data": {
      "application/vnd.jupyter.widget-view+json": {
       "model_id": "",
       "version_major": 2,
       "version_minor": 0
      },
      "text/plain": [
       "  0%|          | 0/19 [00:00<?, ?it/s]"
      ]
     },
     "metadata": {},
     "output_type": "display_data"
    },
    {
     "data": {
      "application/vnd.jupyter.widget-view+json": {
       "model_id": "",
       "version_major": 2,
       "version_minor": 0
      },
      "text/plain": [
       "  0%|          | 0/19 [00:00<?, ?it/s]"
      ]
     },
     "metadata": {},
     "output_type": "display_data"
    },
    {
     "data": {
      "application/vnd.jupyter.widget-view+json": {
       "model_id": "",
       "version_major": 2,
       "version_minor": 0
      },
      "text/plain": [
       "  0%|          | 0/19 [00:00<?, ?it/s]"
      ]
     },
     "metadata": {},
     "output_type": "display_data"
    },
    {
     "data": {
      "application/vnd.jupyter.widget-view+json": {
       "model_id": "",
       "version_major": 2,
       "version_minor": 0
      },
      "text/plain": [
       "  0%|          | 0/19 [00:00<?, ?it/s]"
      ]
     },
     "metadata": {},
     "output_type": "display_data"
    },
    {
     "data": {
      "application/vnd.jupyter.widget-view+json": {
       "model_id": "",
       "version_major": 2,
       "version_minor": 0
      },
      "text/plain": [
       "  0%|          | 0/19 [00:00<?, ?it/s]"
      ]
     },
     "metadata": {},
     "output_type": "display_data"
    },
    {
     "data": {
      "application/vnd.jupyter.widget-view+json": {
       "model_id": "",
       "version_major": 2,
       "version_minor": 0
      },
      "text/plain": [
       "  0%|          | 0/19 [00:00<?, ?it/s]"
      ]
     },
     "metadata": {},
     "output_type": "display_data"
    },
    {
     "data": {
      "application/vnd.jupyter.widget-view+json": {
       "model_id": "",
       "version_major": 2,
       "version_minor": 0
      },
      "text/plain": [
       "  0%|          | 0/19 [00:00<?, ?it/s]"
      ]
     },
     "metadata": {},
     "output_type": "display_data"
    },
    {
     "data": {
      "application/vnd.jupyter.widget-view+json": {
       "model_id": "",
       "version_major": 2,
       "version_minor": 0
      },
      "text/plain": [
       "  0%|          | 0/19 [00:00<?, ?it/s]"
      ]
     },
     "metadata": {},
     "output_type": "display_data"
    },
    {
     "data": {
      "application/vnd.jupyter.widget-view+json": {
       "model_id": "",
       "version_major": 2,
       "version_minor": 0
      },
      "text/plain": [
       "  0%|          | 0/19 [00:00<?, ?it/s]"
      ]
     },
     "metadata": {},
     "output_type": "display_data"
    },
    {
     "data": {
      "application/vnd.jupyter.widget-view+json": {
       "model_id": "",
       "version_major": 2,
       "version_minor": 0
      },
      "text/plain": [
       "  0%|          | 0/19 [00:00<?, ?it/s]"
      ]
     },
     "metadata": {},
     "output_type": "display_data"
    },
    {
     "data": {
      "application/vnd.jupyter.widget-view+json": {
       "model_id": "",
       "version_major": 2,
       "version_minor": 0
      },
      "text/plain": [
       "  0%|          | 0/19 [00:00<?, ?it/s]"
      ]
     },
     "metadata": {},
     "output_type": "display_data"
    },
    {
     "data": {
      "application/vnd.jupyter.widget-view+json": {
       "model_id": "",
       "version_major": 2,
       "version_minor": 0
      },
      "text/plain": [
       "  0%|          | 0/19 [00:00<?, ?it/s]"
      ]
     },
     "metadata": {},
     "output_type": "display_data"
    },
    {
     "data": {
      "application/vnd.jupyter.widget-view+json": {
       "model_id": "",
       "version_major": 2,
       "version_minor": 0
      },
      "text/plain": [
       "  0%|          | 0/19 [00:00<?, ?it/s]"
      ]
     },
     "metadata": {},
     "output_type": "display_data"
    },
    {
     "data": {
      "application/vnd.jupyter.widget-view+json": {
       "model_id": "",
       "version_major": 2,
       "version_minor": 0
      },
      "text/plain": [
       "  0%|          | 0/19 [00:00<?, ?it/s]"
      ]
     },
     "metadata": {},
     "output_type": "display_data"
    },
    {
     "data": {
      "application/vnd.jupyter.widget-view+json": {
       "model_id": "",
       "version_major": 2,
       "version_minor": 0
      },
      "text/plain": [
       "  0%|          | 0/19 [00:00<?, ?it/s]"
      ]
     },
     "metadata": {},
     "output_type": "display_data"
    }
   ],
   "source": [
    "dfs = []\n",
    "for wl in tqdm(config_model['workloads']):\n",
    "    dfs.append(gen_hist_data(wl))"
   ]
  },
  {
   "cell_type": "code",
   "execution_count": 62,
   "id": "a78090d0-d298-4278-a784-c08db01205fe",
   "metadata": {},
   "outputs": [
    {
     "data": {
      "image/png": "[encoded data removed]",
      "text/plain": [
       "<Figure size 640x480 with 1 Axes>"
      ]
     },
     "metadata": {},
     "output_type": "display_data"
    }
   ],
   "source": [
    "df = pd.concat(dfs)\n",
    "\n",
    "df['delta'] = abs((df['analytical'] - df['learned']) / df['analytical'])\n",
    "n, bins, patches = plt.hist(x=df['delta'], bins='auto', density=True)\n",
    "plt.xlabel('Delta (Analytical - Learned)')\n",
    "plt.title('All $w \\in \\mathcal{B}$ of Absolute Error ($L_1$ Error)')\n",
    "None"
   ]
  },
  {
   "cell_type": "code",
   "execution_count": 63,
   "id": "68ac4151-fce2-4ffd-8610-012b80045403",
   "metadata": {
    "tags": []
   },
   "outputs": [
    {
     "data": {
      "text/html": [
       "<div>\n",
       "<style scoped>\n",
       "    .dataframe tbody tr th:only-of-type {\n",
       "        vertical-align: middle;\n",
       "    }\n",
       "\n",
       "    .dataframe tbody tr th {\n",
       "        vertical-align: top;\n",
       "    }\n",
       "\n",
       "    .dataframe thead th {\n",
       "        text-align: right;\n",
       "    }\n",
       "</style>\n",
       "<table border=\"1\" class=\"dataframe\">\n",
       "  <thead>\n",
       "    <tr style=\"text-align: right;\">\n",
       "      <th></th>\n",
       "      <th>workload</th>\n",
       "      <th>h</th>\n",
       "      <th>T</th>\n",
       "      <th>Q</th>\n",
       "      <th>learned</th>\n",
       "      <th>analytical</th>\n",
       "      <th>delta</th>\n",
       "    </tr>\n",
       "  </thead>\n",
       "  <tbody>\n",
       "    <tr>\n",
       "      <th>12318</th>\n",
       "      <td>{'id': 10, 'z0': 0.01, 'z1': 0.01, 'q': 0.49, ...</td>\n",
       "      <td>5.0</td>\n",
       "      <td>34</td>\n",
       "      <td>31</td>\n",
       "      <td>32.473534</td>\n",
       "      <td>32.473534</td>\n",
       "      <td>5.329558e-09</td>\n",
       "    </tr>\n",
       "    <tr>\n",
       "      <th>6527</th>\n",
       "      <td>{'id': 13, 'z0': 0.33, 'z1': 0.01, 'q': 0.33, ...</td>\n",
       "      <td>2.5</td>\n",
       "      <td>37</td>\n",
       "      <td>18</td>\n",
       "      <td>14.057737</td>\n",
       "      <td>14.057737</td>\n",
       "      <td>5.844938e-08</td>\n",
       "    </tr>\n",
       "    <tr>\n",
       "      <th>10170</th>\n",
       "      <td>{'id': 13, 'z0': 0.33, 'z1': 0.01, 'q': 0.33, ...</td>\n",
       "      <td>4.0</td>\n",
       "      <td>40</td>\n",
       "      <td>22</td>\n",
       "      <td>15.881392</td>\n",
       "      <td>15.881390</td>\n",
       "      <td>8.810460e-08</td>\n",
       "    </tr>\n",
       "    <tr>\n",
       "      <th>15250</th>\n",
       "      <td>{'id': 14, 'z0': 0.01, 'z1': 0.33, 'q': 0.33, ...</td>\n",
       "      <td>6.0</td>\n",
       "      <td>49</td>\n",
       "      <td>11</td>\n",
       "      <td>8.418536</td>\n",
       "      <td>8.418538</td>\n",
       "      <td>2.584465e-07</td>\n",
       "    </tr>\n",
       "    <tr>\n",
       "      <th>6820</th>\n",
       "      <td>{'id': 8, 'z0': 0.01, 'z1': 0.49, 'q': 0.49, '...</td>\n",
       "      <td>2.5</td>\n",
       "      <td>44</td>\n",
       "      <td>38</td>\n",
       "      <td>38.105103</td>\n",
       "      <td>38.105092</td>\n",
       "      <td>2.662986e-07</td>\n",
       "    </tr>\n",
       "    <tr>\n",
       "      <th>...</th>\n",
       "      <td>...</td>\n",
       "      <td>...</td>\n",
       "      <td>...</td>\n",
       "      <td>...</td>\n",
       "      <td>...</td>\n",
       "      <td>...</td>\n",
       "      <td>...</td>\n",
       "    </tr>\n",
       "    <tr>\n",
       "      <th>17646</th>\n",
       "      <td>{'id': 1, 'z0': 0.97, 'z1': 0.01, 'q': 0.01, '...</td>\n",
       "      <td>7.5</td>\n",
       "      <td>5</td>\n",
       "      <td>1</td>\n",
       "      <td>0.879455</td>\n",
       "      <td>0.172622</td>\n",
       "      <td>4.094687e+00</td>\n",
       "    </tr>\n",
       "    <tr>\n",
       "      <th>18822</th>\n",
       "      <td>{'id': 1, 'z0': 0.97, 'z1': 0.01, 'q': 0.01, '...</td>\n",
       "      <td>8.0</td>\n",
       "      <td>5</td>\n",
       "      <td>1</td>\n",
       "      <td>0.861315</td>\n",
       "      <td>0.165180</td>\n",
       "      <td>4.214413e+00</td>\n",
       "    </tr>\n",
       "    <tr>\n",
       "      <th>21171</th>\n",
       "      <td>{'id': 1, 'z0': 0.97, 'z1': 0.01, 'q': 0.01, '...</td>\n",
       "      <td>9.0</td>\n",
       "      <td>4</td>\n",
       "      <td>1</td>\n",
       "      <td>0.873884</td>\n",
       "      <td>0.167250</td>\n",
       "      <td>4.225012e+00</td>\n",
       "    </tr>\n",
       "    <tr>\n",
       "      <th>19998</th>\n",
       "      <td>{'id': 1, 'z0': 0.97, 'z1': 0.01, 'q': 0.01, '...</td>\n",
       "      <td>8.5</td>\n",
       "      <td>5</td>\n",
       "      <td>1</td>\n",
       "      <td>0.857085</td>\n",
       "      <td>0.160895</td>\n",
       "      <td>4.326990e+00</td>\n",
       "    </tr>\n",
       "    <tr>\n",
       "      <th>21174</th>\n",
       "      <td>{'id': 1, 'z0': 0.97, 'z1': 0.01, 'q': 0.01, '...</td>\n",
       "      <td>9.0</td>\n",
       "      <td>5</td>\n",
       "      <td>1</td>\n",
       "      <td>0.852856</td>\n",
       "      <td>0.160030</td>\n",
       "      <td>4.329340e+00</td>\n",
       "    </tr>\n",
       "  </tbody>\n",
       "</table>\n",
       "<p>335160 rows × 7 columns</p>\n",
       "</div>"
      ],
      "text/plain": [
       "                                                workload    h   T   Q  \\\n",
       "12318  {'id': 10, 'z0': 0.01, 'z1': 0.01, 'q': 0.49, ...  5.0  34  31   \n",
       "6527   {'id': 13, 'z0': 0.33, 'z1': 0.01, 'q': 0.33, ...  2.5  37  18   \n",
       "10170  {'id': 13, 'z0': 0.33, 'z1': 0.01, 'q': 0.33, ...  4.0  40  22   \n",
       "15250  {'id': 14, 'z0': 0.01, 'z1': 0.33, 'q': 0.33, ...  6.0  49  11   \n",
       "6820   {'id': 8, 'z0': 0.01, 'z1': 0.49, 'q': 0.49, '...  2.5  44  38   \n",
       "...                                                  ...  ...  ..  ..   \n",
       "17646  {'id': 1, 'z0': 0.97, 'z1': 0.01, 'q': 0.01, '...  7.5   5   1   \n",
       "18822  {'id': 1, 'z0': 0.97, 'z1': 0.01, 'q': 0.01, '...  8.0   5   1   \n",
       "21171  {'id': 1, 'z0': 0.97, 'z1': 0.01, 'q': 0.01, '...  9.0   4   1   \n",
       "19998  {'id': 1, 'z0': 0.97, 'z1': 0.01, 'q': 0.01, '...  8.5   5   1   \n",
       "21174  {'id': 1, 'z0': 0.97, 'z1': 0.01, 'q': 0.01, '...  9.0   5   1   \n",
       "\n",
       "         learned  analytical         delta  \n",
       "12318  32.473534   32.473534  5.329558e-09  \n",
       "6527   14.057737   14.057737  5.844938e-08  \n",
       "10170  15.881392   15.881390  8.810460e-08  \n",
       "15250   8.418536    8.418538  2.584465e-07  \n",
       "6820   38.105103   38.105092  2.662986e-07  \n",
       "...          ...         ...           ...  \n",
       "17646   0.879455    0.172622  4.094687e+00  \n",
       "18822   0.861315    0.165180  4.214413e+00  \n",
       "21171   0.873884    0.167250  4.225012e+00  \n",
       "19998   0.857085    0.160895  4.326990e+00  \n",
       "21174   0.852856    0.160030  4.329340e+00  \n",
       "\n",
       "[335160 rows x 7 columns]"
      ]
     },
     "execution_count": 63,
     "metadata": {},
     "output_type": "execute_result"
    }
   ],
   "source": [
    "df.sort_values(by='delta')"
   ]
  },
  {
   "cell_type": "code",
   "execution_count": 17,
   "id": "138330ee-bbdf-4047-85a7-4fcf43e566e4",
   "metadata": {},
   "outputs": [
    {
     "data": {
      "application/vnd.jupyter.widget-view+json": {
       "model_id": "7fdcf65102074435b958eeceea318db7",
       "version_major": 2,
       "version_minor": 0
      },
      "text/plain": [
       "  0%|          | 0/15 [00:00<?, ?it/s]"
      ]
     },
     "metadata": {},
     "output_type": "display_data"
    }
   ],
   "source": [
    "def generate_configurations():\n",
    "    df = []\n",
    "    for wl in tqdm(config_model['workloads']):\n",
    "        z0, z1, q, w = (wl['z0'], wl['z1'], wl['q'], wl['w'])\n",
    "        learn = optimize(func=lambda x: cost_func_learned(x, wl), eps=1e-3)\n",
    "        hand = optimize(func=lambda x: cost_func_objective(x, wl), eps=1e-3)\n",
    "        df.append({\n",
    "            'id': wl['id'],\n",
    "            'wl': wl,\n",
    "            'learn': learn,\n",
    "            'hand': hand,\n",
    "            'delta': cost_func_objective(hand.x, wl) - cost_func_objective(learn.x, wl)\n",
    "        })\n",
    "    return pd.DataFrame(df)\n",
    "\n",
    "df = generate_configurations()"
   ]
  },
  {
   "cell_type": "code",
   "execution_count": 18,
   "id": "32da8abd-2cf1-409a-9a98-add2049d4d3b",
   "metadata": {},
   "outputs": [],
   "source": [
    "def sample_workload(dimensions: int=4) -> list:\n",
    "    # See stackoverflow thread for why the simple solution is not uniform\n",
    "    # https://stackoverflow.com/questions/8064629/random-numbers-that-add-to-100-matlab\n",
    "    workload = list(np.random.rand(dimensions - 1)) + [0, 1]\n",
    "    workload.sort()\n",
    "    return [b - a for a, b in zip(workload, workload[1:])]\n",
    "\n",
    "def gen_workload_heat(samples=10):\n",
    "    df = []\n",
    "    for _ in tqdm(range(samples)):\n",
    "        z0, z1, q, w = sample_workload(dimensions=4)\n",
    "        wl = {'z0': z0, 'z1': z1, 'q': q, 'w': w}\n",
    "        learn = optimize(func=lambda x: cost_func_learned(x, wl), eps=1e-6, display=False)\n",
    "        hand = optimize(func=lambda x: cost_func_objective(x, wl), eps=1e-6, display=False)\n",
    "        cost_learn = cost_func_objective(learn.x, wl)\n",
    "        cost_hand = cost_func_objective(hand.x, wl)\n",
    "        df.append({\n",
    "            'wl': wl,\n",
    "            'learn': learn,\n",
    "            'hand': hand,\n",
    "            'cost_learn': cost_learn,\n",
    "            'cost_hand': cost_hand,\n",
    "        })\n",
    "    return pd.DataFrame(df)"
   ]
  },
  {
   "cell_type": "code",
   "execution_count": 22,
   "id": "8a388f91-6ce9-44cd-8624-52f192d6e18d",
   "metadata": {},
   "outputs": [
    {
     "data": {
      "application/vnd.jupyter.widget-view+json": {
       "model_id": "3cfba776b7474b5898502662aa89368f",
       "version_major": 2,
       "version_minor": 0
      },
      "text/plain": [
       "  0%|          | 0/500 [00:00<?, ?it/s]"
      ]
     },
     "metadata": {},
     "output_type": "display_data"
    }
   ],
   "source": [
    "df = gen_workload_heat(500)"
   ]
  },
  {
   "cell_type": "code",
   "execution_count": 24,
   "id": "f79b293d-2269-43a5-a0ce-7a1fbf4aded5",
   "metadata": {},
   "outputs": [
    {
     "data": {
      "text/plain": [
       "Text(0.5, 1.0, 'Frequency of Error: Positive is Better')"
      ]
     },
     "execution_count": 24,
     "metadata": {},
     "output_type": "execute_result"
    },
    {
     "data": {
      "image/png": "[encoded data removed]",
      "text/plain": [
       "<Figure size 640x480 with 1 Axes>"
      ]
     },
     "metadata": {},
     "output_type": "display_data"
    }
   ],
   "source": [
    "df['delta'] = (df['cost_hand'] - df['cost_learn'])\n",
    "n, bins, patches = plt.hist(x=df['delta'], bins='auto', density=True)\n",
    "plt.xlabel('Delta (Analytical - Learned)')\n",
    "plt.title('Frequency of Error: Positive is Better')"
   ]
  },
  {
   "cell_type": "code",
   "execution_count": null,
   "id": "ead567cd-cc6e-450f-9358-f2da4a22976a",
   "metadata": {},
   "outputs": [],
   "source": []
  }
 ],
 "metadata": {
  "kernelspec": {
   "display_name": "Python 3 (ipykernel)",
   "language": "python",
   "name": "python3"
  },
  "language_info": {
   "codemirror_mode": {
    "name": "ipython",
    "version": 3
   },
   "file_extension": ".py",
   "mimetype": "text/x-python",
   "name": "python",
   "nbconvert_exporter": "python",
   "pygments_lexer": "ipython3",
   "version": "3.9.13"
  }
 },
 "nbformat": 4,
 "nbformat_minor": 5
}
