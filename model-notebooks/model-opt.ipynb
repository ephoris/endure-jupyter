{
 "cells": [
  {
   "cell_type": "code",
   "execution_count": 11,
   "id": "03efe705",
   "metadata": {},
   "outputs": [],
   "source": [
    "import sys\n",
    "import os\n",
    "import toml\n",
    "\n",
    "import torch\n",
    "import torcharrow\n",
    "from torch import nn\n",
    "from torch.utils.data import Dataset, DataLoader, random_split\n",
    "from torchdata import datapipes as DataPipe\n",
    "\n",
    "import pandas as pd\n",
    "import numpy as np\n",
    "import scipy.optimize as SciOpt\n",
    "from tqdm.notebook import tqdm\n",
    "\n",
    "sys.path.append(os.path.join(sys.path[0], '../..'))\n",
    "\n",
    "from data.io import Reader\n",
    "from data.kcost_dataset import KCostDataSet\n",
    "from model.kcost import KCostModel\n",
    "from model.tierlevelcost import TierLevelCost\n",
    "from jobs.train import TrainJob\n",
    "import lsm.cost as CostFunc"
   ]
  },
  {
   "cell_type": "code",
   "execution_count": 2,
   "id": "ac0fee0d",
   "metadata": {
    "collapsed": true
   },
   "outputs": [
    {
     "data": {
      "text/plain": [
       "{'app': {'name': 'ENDURE', 'jobs': ['Train']},\n",
       " 'log': {'name': 'endure-logger',\n",
       "  'format': '[%(levelname)s][%(asctime)-15s][%(filename)s] %(message)s',\n",
       "  'datefmt': '%d-%m-%y:%H:%M:%S',\n",
       "  'level': 'INFO'},\n",
       " 'io': {'data_dir': '/data'},\n",
       " 'lsm': {'max_levels': 16,\n",
       "  'size_ratio': {'max': 50, 'min': 2},\n",
       "  'bits_per_elem': {'max': 9.5, 'min': 0}},\n",
       " 'data_gen': {'format': 'parquet',\n",
       "  'generator': 'LevelCost',\n",
       "  'dir': 'train-data/level-parquet',\n",
       "  'file_prefix': 'train-level',\n",
       "  'num_workers': -1,\n",
       "  'num_files': 3,\n",
       "  'precision': 3,\n",
       "  'samples': 1024},\n",
       " 'model': {'arch': 'TierLevelCost',\n",
       "  'dir': '27-10-tierlevel',\n",
       "  'out_dims': 4,\n",
       "  'num_cont_vars': 5,\n",
       "  'num_cate_vars': 1,\n",
       "  'hidden_layers': 2,\n",
       "  'embedding_size': 3},\n",
       " 'train': {'dir': 'train-data/level',\n",
       "  'file_format': 'csv',\n",
       "  'mean_bias': [4.75, 0.5, 0.5, 0.5, 0.5],\n",
       "  'std_bias': [2.74, 0.3, 0.3, 0.3, 0.3],\n",
       "  'early_stop_num': 3,\n",
       "  'epsilon': 0.0001,\n",
       "  'max_epochs': 128,\n",
       "  'learning_rate_decay': 0.99,\n",
       "  'learning_rate': 0.001,\n",
       "  'batch_size': 64,\n",
       "  'drop_last': True,\n",
       "  'shuffle': True},\n",
       " 'test': {'dir': 'test-data/level',\n",
       "  'file_format': 'csv',\n",
       "  'batch_size': 1048576,\n",
       "  'drop_last': True,\n",
       "  'shuffle': False},\n",
       " 'system': {'B': 4, 'phi': 1, 's': 0.0, 'E': 1024, 'H': 10, 'N': 100000000},\n",
       " 'workloads': [{'id': 0, 'z0': 0.25, 'z1': 0.25, 'q': 0.25, 'w': 0.25},\n",
       "  {'id': 1, 'z0': 0.97, 'z1': 0.01, 'q': 0.01, 'w': 0.01},\n",
       "  {'id': 2, 'z0': 0.01, 'z1': 0.97, 'q': 0.01, 'w': 0.01},\n",
       "  {'id': 3, 'z0': 0.01, 'z1': 0.01, 'q': 0.97, 'w': 0.01},\n",
       "  {'id': 4, 'z0': 0.01, 'z1': 0.01, 'q': 0.01, 'w': 0.97},\n",
       "  {'id': 5, 'z0': 0.49, 'z1': 0.49, 'q': 0.01, 'w': 0.01},\n",
       "  {'id': 6, 'z0': 0.49, 'z1': 0.01, 'q': 0.49, 'w': 0.01},\n",
       "  {'id': 7, 'z0': 0.49, 'z1': 0.01, 'q': 0.01, 'w': 0.49},\n",
       "  {'id': 8, 'z0': 0.01, 'z1': 0.49, 'q': 0.49, 'w': 0.01},\n",
       "  {'id': 9, 'z0': 0.01, 'z1': 0.49, 'q': 0.01, 'w': 0.49},\n",
       "  {'id': 10, 'z0': 0.01, 'z1': 0.01, 'q': 0.49, 'w': 0.49},\n",
       "  {'id': 11, 'z0': 0.33, 'z1': 0.33, 'q': 0.33, 'w': 0.01},\n",
       "  {'id': 12, 'z0': 0.33, 'z1': 0.33, 'q': 0.01, 'w': 0.33},\n",
       "  {'id': 13, 'z0': 0.33, 'z1': 0.01, 'q': 0.33, 'w': 0.33},\n",
       "  {'id': 14, 'z0': 0.01, 'z1': 0.33, 'q': 0.33, 'w': 0.33}]}"
      ]
     },
     "execution_count": 2,
     "metadata": {},
     "output_type": "execute_result"
    }
   ],
   "source": [
    "config = Reader.read_config('../../endure.toml')\n",
    "config"
   ]
  },
  {
   "cell_type": "code",
   "execution_count": 16,
   "id": "19a88f1e",
   "metadata": {
    "scrolled": true
   },
   "outputs": [
    {
     "data": {
      "text/plain": [
       "{'workloads': [{'id': 0, 'z0': 0.25, 'z1': 0.25, 'q': 0.25, 'w': 0.25},\n",
       "  {'id': 1, 'z0': 0.97, 'z1': 0.01, 'q': 0.01, 'w': 0.01},\n",
       "  {'id': 2, 'z0': 0.01, 'z1': 0.97, 'q': 0.01, 'w': 0.01},\n",
       "  {'id': 3, 'z0': 0.01, 'z1': 0.01, 'q': 0.97, 'w': 0.01},\n",
       "  {'id': 4, 'z0': 0.01, 'z1': 0.01, 'q': 0.01, 'w': 0.97},\n",
       "  {'id': 5, 'z0': 0.49, 'z1': 0.49, 'q': 0.01, 'w': 0.01},\n",
       "  {'id': 6, 'z0': 0.49, 'z1': 0.01, 'q': 0.49, 'w': 0.01},\n",
       "  {'id': 7, 'z0': 0.49, 'z1': 0.01, 'q': 0.01, 'w': 0.49},\n",
       "  {'id': 8, 'z0': 0.01, 'z1': 0.49, 'q': 0.49, 'w': 0.01},\n",
       "  {'id': 9, 'z0': 0.01, 'z1': 0.49, 'q': 0.01, 'w': 0.49},\n",
       "  {'id': 10, 'z0': 0.01, 'z1': 0.01, 'q': 0.49, 'w': 0.49},\n",
       "  {'id': 11, 'z0': 0.33, 'z1': 0.33, 'q': 0.33, 'w': 0.01},\n",
       "  {'id': 12, 'z0': 0.33, 'z1': 0.33, 'q': 0.01, 'w': 0.33},\n",
       "  {'id': 13, 'z0': 0.33, 'z1': 0.01, 'q': 0.33, 'w': 0.33},\n",
       "  {'id': 14, 'z0': 0.01, 'z1': 0.33, 'q': 0.33, 'w': 0.33}],\n",
       " 'project': {'name': 'ENDURE',\n",
       "  'log_level': 'INFO',\n",
       "  'experiments': ['CostSurfaceEp']},\n",
       " 'log': {'name': 'endure-logger',\n",
       "  'format': '[%(levelname)s][%(asctime)-15s][%(filename)s] %(message)s',\n",
       "  'datefmt': '%d-%m-%y:%H:%M:%S',\n",
       "  'level': 'INFO'},\n",
       " 'io': {'data_dir': '/data', 'cold_data_dir': '/data'},\n",
       " 'lsm': {'max_levels': 16,\n",
       "  'size_ratio': {'max': 50, 'min': 2},\n",
       "  'bits_per_elem': {'max': 9.5, 'min': 0}},\n",
       " 'data_gen': {'cost_function': 'EndureKHybridCost',\n",
       "  'dir': 'test_data',\n",
       "  'file_prefix': 'test-k',\n",
       "  'num_workers': -1,\n",
       "  'num_files': 10,\n",
       "  'precision': 3,\n",
       "  'samples': 1048576},\n",
       " 'model': {'arch': 'KCostModel',\n",
       "  'dir': 'kcostmodel-10-25',\n",
       "  'out_dims': 4,\n",
       "  'num_cont_vars': 5,\n",
       "  'num_cate_vars': 17,\n",
       "  'hidden_layers': 2,\n",
       "  'embedding_size': 2},\n",
       " 'train': {'dir': 'train_data',\n",
       "  'mean_bias': [4.75, 0.5, 0.5, 0.5, 0.5],\n",
       "  'std_bias': [2.74, 0.3, 0.3, 0.3, 0.3],\n",
       "  'early_stop_num': 3,\n",
       "  'epsilon': 0.0001,\n",
       "  'max_epochs': 128,\n",
       "  'learning_rate_decay': 0.99,\n",
       "  'learning_rate': 0.001,\n",
       "  'batch_size': 4096,\n",
       "  'drop_last': True,\n",
       "  'shuffle': True},\n",
       " 'test': {'dir': 'test_data',\n",
       "  'batch_size': 1048576,\n",
       "  'drop_last': True,\n",
       "  'shuffle': False},\n",
       " 'system': {'B': 4, 'phi': 1, 's': 0.0, 'E': 1024, 'H': 10, 'N': 100000000}}"
      ]
     },
     "execution_count": 16,
     "metadata": {},
     "output_type": "execute_result"
    }
   ],
   "source": [
    "model_path = '/data/kcostmodel-10-25'\n",
    "config_model = Reader.read_config(os.path.join(model_path, 'config.toml'))\n",
    "cf = CostFunc.EndureKHybridCost(**config_model['system'])\n",
    "config_model"
   ]
  },
  {
   "cell_type": "code",
   "execution_count": 25,
   "id": "0df13f71",
   "metadata": {},
   "outputs": [
    {
     "data": {
      "text/plain": [
       "<All keys matched successfully>"
      ]
     },
     "execution_count": 25,
     "metadata": {},
     "output_type": "execute_result"
    }
   ],
   "source": [
    "tj = TrainJob(config_model)\n",
    "model = tj._build_model()\n",
    "model_data = torch.load(os.path.join(model_path, 'kcost_min.model'), map_location=torch.device('cpu'))\n",
    "load_status = model.load_state_dict(model_data)\n",
    "model.eval()\n",
    "load_status"
   ]
  },
  {
   "cell_type": "code",
   "execution_count": 42,
   "id": "f823242a",
   "metadata": {},
   "outputs": [],
   "source": [
    "z0, z1, q, w = (0.33, 0.33, 0.33, 0.01)\n",
    "analytical_cf = lambda h, T, K: cf.calc_cost(h, T, K, z0, z1, q, w)\n",
    "def cost_func_objective(args):\n",
    "    h, T, K = args[0], args[1], args[2:-4]\n",
    "    return analytical_cf(h, T, K)\n",
    "\n",
    "def cost_func_learned(args):\n",
    "    h, T, K = args[0], args[1], args[2:]\n",
    "    row = [0, 0, 0, 0, h, z0, z1, q, w] + [T]\n",
    "    row = np.concatenate([row, K])\n",
    "    _, inputs = tj._process_row(row)\n",
    "    inputs = torch.from_numpy(inputs.reshape(1, -1))\n",
    "    with torch.no_grad():\n",
    "        pred = model(inputs)\n",
    "        pred = pred.sum().item()\n",
    "    return pred"
   ]
  },
  {
   "cell_type": "code",
   "execution_count": 31,
   "id": "7d736a9d",
   "metadata": {},
   "outputs": [],
   "source": [
    "one_mib_in_bits = 1024 * 1024 * 8\n",
    "T_UPPER_LIM = config_model['lsm']['size_ratio']['max']\n",
    "T_LOWER_LIM = config_model['lsm']['size_ratio']['min']\n",
    "H_UPPER_LIM = config_model['lsm']['bits_per_elem']['max']\n",
    "max_levels = config_model['lsm']['max_levels']\n",
    "\n",
    "h_initial = 1.\n",
    "T_initial = 2.\n",
    "K_initial = [1.] * max_levels\n",
    "\n",
    "h_bounds = (0, H_UPPER_LIM)\n",
    "T_bounds = (T_LOWER_LIM, T_UPPER_LIM)\n",
    "K_bounds = [(T_LOWER_LIM - 1, T_UPPER_LIM - 1)] * max_levels\n",
    "\n",
    "bounds = [h_bounds, T_bounds] + K_bounds\n",
    "min_cost = np.inf\n",
    "design = {}\n",
    "minimizer_kwargs = {\n",
    "    'method' : 'SLSQP',\n",
    "    'bounds' : bounds,\n",
    "    'options': {'ftol': 1e-2, 'eps': 1e-6, 'disp': True}}\n",
    "#     'options': {'ftol': 1e-9, 'disp': True}}\n",
    "x0 = np.array([h_initial, T_initial] + K_initial)"
   ]
  },
  {
   "cell_type": "code",
   "execution_count": 44,
   "id": "55376c69",
   "metadata": {},
   "outputs": [
    {
     "data": {
      "text/plain": [
       "(17.052112579345703, 4.767236707195653)"
      ]
     },
     "execution_count": 44,
     "metadata": {},
     "output_type": "execute_result"
    }
   ],
   "source": [
    "cost_func_learned(x0), cost_func_objective(x0)"
   ]
  },
  {
   "cell_type": "code",
   "execution_count": 45,
   "id": "9c8cc791",
   "metadata": {},
   "outputs": [
    {
     "name": "stdout",
     "output_type": "stream",
     "text": [
      "Optimization terminated successfully    (Exit mode 0)\n",
      "            Current function value: 1.757976345103807\n",
      "            Iterations: 5\n",
      "            Function evaluations: 96\n",
      "            Gradient evaluations: 5\n"
     ]
    }
   ],
   "source": [
    "analytical_sol = SciOpt.minimize(\n",
    "    fun=cost_func_objective,\n",
    "    x0=x0,\n",
    "    **minimizer_kwargs\n",
    ")"
   ]
  },
  {
   "cell_type": "code",
   "execution_count": 46,
   "id": "2b771105",
   "metadata": {},
   "outputs": [
    {
     "name": "stdout",
     "output_type": "stream",
     "text": [
      "Optimization terminated successfully    (Exit mode 0)\n",
      "            Current function value: 17.052112579345703\n",
      "            Iterations: 1\n",
      "            Function evaluations: 19\n",
      "            Gradient evaluations: 1\n"
     ]
    }
   ],
   "source": [
    "learned_sol = SciOpt.minimize(\n",
    "    fun=cost_func_learned,\n",
    "    x0=x0,\n",
    "    **minimizer_kwargs\n",
    ")"
   ]
  },
  {
   "cell_type": "code",
   "execution_count": 11,
   "id": "f969784d",
   "metadata": {},
   "outputs": [],
   "source": [
    "# learned_sol"
   ]
  },
  {
   "cell_type": "code",
   "execution_count": 12,
   "id": "82fc5139",
   "metadata": {},
   "outputs": [],
   "source": [
    "# analytical_sol"
   ]
  },
  {
   "cell_type": "code",
   "execution_count": null,
   "id": "ddfe702d",
   "metadata": {},
   "outputs": [],
   "source": []
  }
 ],
 "metadata": {
  "kernelspec": {
   "display_name": "Python 3 (ipykernel)",
   "language": "python",
   "name": "python3"
  },
  "language_info": {
   "codemirror_mode": {
    "name": "ipython",
    "version": 3
   },
   "file_extension": ".py",
   "mimetype": "text/x-python",
   "name": "python",
   "nbconvert_exporter": "python",
   "pygments_lexer": "ipython3",
   "version": "3.9.13"
  }
 },
 "nbformat": 4,
 "nbformat_minor": 5
}
