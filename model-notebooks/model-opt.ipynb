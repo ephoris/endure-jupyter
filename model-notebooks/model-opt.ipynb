{
 "cells": [
  {
   "cell_type": "code",
   "execution_count": 1,
   "id": "03efe705",
   "metadata": {
    "tags": []
   },
   "outputs": [],
   "source": [
    "import sys\n",
    "import os\n",
    "import toml\n",
    "\n",
    "import torch\n",
    "from torch import nn\n",
    "from torch.utils.data import Dataset, DataLoader, random_split\n",
    "from torchdata import datapipes as DataPipe\n",
    "\n",
    "import pandas as pd\n",
    "pd.options.display.float_format = '{:,.2f}'.format\n",
    "\n",
    "import numpy as np\n",
    "import scipy.optimize as SciOpt\n",
    "import matplotlib.pyplot as plt\n",
    "from matplotlib.ticker import PercentFormatter\n",
    "from tqdm.notebook import tqdm\n",
    "plt.rcParams.update({\n",
    "    \"text.usetex\": False,\n",
    "    \"font.family\": \"sans-serif\",\n",
    "    \"font.sans-serif\": \"Helvetica\",\n",
    "})\n",
    "\n",
    "sys.path.append(os.path.join(sys.path[0], '../..'))\n",
    "\n",
    "from data.io import Reader\n",
    "from model.kcost import KCostModel\n",
    "from data.kcost_dataset import EndureDataPipeGenerator\n",
    "from model.tierlevelcost import TierLevelCost\n",
    "from lsm.lsmtype import Policy\n",
    "from jobs.train import TrainJob\n",
    "import lsm.cost as CostFunc"
   ]
  },
  {
   "cell_type": "code",
   "execution_count": 2,
   "id": "ac0fee0d",
   "metadata": {},
   "outputs": [],
   "source": [
    "config = Reader.read_config('../../endure.toml')"
   ]
  },
  {
   "cell_type": "code",
   "execution_count": 3,
   "id": "19a88f1e",
   "metadata": {
    "tags": []
   },
   "outputs": [],
   "source": [
    "model_path = '/data/models/qcost-12-01/'\n",
    "config_model = Reader.read_config(os.path.join(model_path, 'config.toml'))\n",
    "ONE_MIB_BITS = 1024 * 1024 * 8\n",
    "T_UPPER_LIM = config_model['lsm']['size_ratio']['max']\n",
    "T_LOWER_LIM = config_model['lsm']['size_ratio']['min']\n",
    "H_UPPER_LIM = config_model['lsm']['bits_per_elem']['max']\n",
    "MAX_LEVELS = config_model['lsm']['max_levels']\n",
    "\n",
    "dpg = EndureDataPipeGenerator(config_model)"
   ]
  },
  {
   "cell_type": "code",
   "execution_count": 4,
   "id": "195d4022-1121-4728-83d7-57fccd5c9304",
   "metadata": {},
   "outputs": [
    {
     "name": "stderr",
     "output_type": "stream",
     "text": [
      "findfont: Font family ['sans-serif'] not found. Falling back to DejaVu Sans.\n",
      "findfont: Generic family 'sans-serif' not found because none of the following families were found: Helvetica\n"
     ]
    },
    {
     "data": {
      "image/png": "[encoded data removed]",
      "text/plain": [
       "<Figure size 640x480 with 1 Axes>"
      ]
     },
     "metadata": {},
     "output_type": "display_data"
    }
   ],
   "source": [
    "losses = pd.read_csv(os.path.join(model_path, 'losses.csv'))\n",
    "fig, ax = plt.subplots()\n",
    "ax.plot(losses['epoch'], losses['train_loss'], label='Training Loss')\n",
    "ax.plot(losses['epoch'], losses['test_loss'], label='Testing Loss')\n",
    "ax.set_xlabel('Epoch')\n",
    "ax.set_ylabel(f'Training Loss ({config_model[\"train\"][\"loss_fn\"]})')\n",
    "_ = ax.legend()"
   ]
  },
  {
   "cell_type": "code",
   "execution_count": 5,
   "id": "0df13f71",
   "metadata": {},
   "outputs": [
    {
     "data": {
      "text/plain": [
       "<All keys matched successfully>"
      ]
     },
     "execution_count": 5,
     "metadata": {},
     "output_type": "execute_result"
    }
   ],
   "source": [
    "tj = TrainJob(config_model)\n",
    "model = tj._build_model()\n",
    "# fname = os.path.join(model_path, 'checkpoints/epoch_20.checkpoint')\n",
    "fname = os.path.join(model_path, 'best.model')\n",
    "model_data = torch.load(fname, map_location=torch.device('cpu'))\n",
    "model_params = model_data['model_state_dict'] if fname.endswith('checkpoint') else model_data\n",
    "load_status = model.load_state_dict(model_params)\n",
    "model.eval()\n",
    "load_status"
   ]
  },
  {
   "cell_type": "code",
   "execution_count": 6,
   "id": "f823242a",
   "metadata": {},
   "outputs": [],
   "source": [
    "cf = CostFunc.EndureQFixedCost(**config_model['system'])\n",
    "def cost_func_objective(args, wl):\n",
    "    h, T, Q = args[0], args[1], args[2]\n",
    "    z0, z1, q, w = wl['z0'], wl['z1'], wl['q'], wl['w']\n",
    "    return cf.calc_cost(h, T, Q, z0, z1, q, w)\n",
    "\n",
    "def l2_norm(a, b):\n",
    "    return np.linalg.norm((a, b), 2)\n",
    "\n",
    "def create_pairs(T, Q):\n",
    "    t_frac = T - np.floor(T)\n",
    "    q_frac = Q - np.floor(Q)\n",
    "    norms = (l2_norm(1 - t_frac, 1 - q_frac),\n",
    "             l2_norm(1 - t_frac, q_frac),\n",
    "             l2_norm(t_frac, 1 - q_frac),\n",
    "             l2_norm(t_frac, q_frac))\n",
    "    normalizer = sum(norms)\n",
    "    pairs = [[np.floor(T), np.floor(Q), norms[0] / normalizer],\n",
    "             [np.floor(T), np.ceil(Q), norms[1] / normalizer],\n",
    "             [np.ceil(T), np.floor(Q), norms[2] / normalizer],\n",
    "             [np.ceil(T), np.ceil(Q), norms[3] / normalizer]]\n",
    "    # for idx, (t, q, norm) in enumerate(pairs):\n",
    "    #     if t <= T_LOWER_LIM:\n",
    "    #         pairs[idx][0] = T_LOWER_LIM\n",
    "    #     if t >= T_UPPER_LIM:\n",
    "    #         pairs[idx][0] = T_UPPER_LIM\n",
    "    #     if q >= T_UPPER_LIM - 1:\n",
    "    #         pairs[idx][1] = T_UPPER_LIM - 1\n",
    "    #     if t <= T_UPPER_LIM - 1:\n",
    "    #         pairs[idx][1] = T_LOWER_LIM - 1\n",
    "    return pairs\n",
    "\n",
    "def cost_func_learned_eval(args, wl):\n",
    "    h, T, Q = args[0], args[1], args[2]\n",
    "    z0, z1, q, w = wl['z0'], wl['z1'], wl['q'], wl['w']\n",
    "    row = [0, 0, 0, 0, h, z0, z1, q, w, T, Q]\n",
    "    _, inputs = dpg._process_row(row)\n",
    "    inputs = torch.from_numpy(inputs.reshape(1, -1))\n",
    "    with torch.no_grad():\n",
    "        pred = model(inputs)\n",
    "        pred = pred.sum().item() \n",
    "    return pred\n",
    "\n",
    "def cost_func_learned(args, wl):\n",
    "    h, T, Q = args[0], args[1], args[2]\n",
    "    pairs = create_pairs(T, Q)\n",
    "    val = 0\n",
    "    for (t_prime, q_prime, frac) in pairs:\n",
    "        val += frac * cost_func_learned_eval([h, t_prime, q_prime], wl)\n",
    "    return val"
   ]
  },
  {
   "cell_type": "code",
   "execution_count": 7,
   "id": "4396d52d-2dba-43f0-a097-13aadd3f1cec",
   "metadata": {},
   "outputs": [],
   "source": [
    "def optimize(func=None, h_initial=9., T_initial=5., Q_initial=3., eps=1e-6, display=False):\n",
    "    h_bounds = (0, H_UPPER_LIM)\n",
    "    T_bounds = (T_LOWER_LIM, T_UPPER_LIM)\n",
    "    Q_bounds = (T_LOWER_LIM - 1, T_UPPER_LIM - 1)\n",
    "\n",
    "    bounds = [h_bounds, T_bounds, Q_bounds]\n",
    "    min_cost = np.inf\n",
    "    design = {}\n",
    "    minimizer_kwargs = {\n",
    "        'method' : 'SLSQP',\n",
    "        'bounds' : bounds,\n",
    "        'options': {'ftol': 1e-9, 'eps': eps, 'disp': display}}\n",
    "    x0 = np.array([h_initial, T_initial, Q_initial])\n",
    "    \n",
    "    sol = SciOpt.minimize(\n",
    "        fun=func,\n",
    "        x0=x0,\n",
    "        **minimizer_kwargs\n",
    "    )\n",
    "    return sol"
   ]
  },
  {
   "cell_type": "code",
   "execution_count": 8,
   "id": "9c8cc791",
   "metadata": {},
   "outputs": [
    {
     "data": {
      "text/plain": [
       "     fun: 2.8272110972604314\n",
       "     jac: array([-2.10591544e-07, -3.21631610e-07,  1.76478832e-06])\n",
       " message: 'Optimization terminated successfully'\n",
       "    nfev: 72\n",
       "     nit: 18\n",
       "    njev: 18\n",
       "  status: 0\n",
       " success: True\n",
       "       x: array([3.2998929 , 6.184048  , 1.06928004])"
      ]
     },
     "execution_count": 8,
     "metadata": {},
     "output_type": "execute_result"
    }
   ],
   "source": [
    "analytical_sol = optimize(\n",
    "    func=lambda x: cost_func_objective(x, config_model['workloads'][0]),\n",
    "    eps=1e-4)\n",
    "analytical_sol"
   ]
  },
  {
   "cell_type": "code",
   "execution_count": 9,
   "id": "2b771105",
   "metadata": {},
   "outputs": [
    {
     "data": {
      "text/plain": [
       "     fun: 3.391979435822768\n",
       "     jac: array([ 1.76211346e-02, -9.00843844e-06,  8.06259480e-02])\n",
       " message: 'Optimization terminated successfully'\n",
       "    nfev: 368\n",
       "     nit: 62\n",
       "    njev: 62\n",
       "  status: 0\n",
       " success: True\n",
       "       x: array([ 4.60463575, 12.6438398 ,  2.997627  ])"
      ]
     },
     "execution_count": 9,
     "metadata": {},
     "output_type": "execute_result"
    }
   ],
   "source": [
    "learned_sol = optimize(\n",
    "    func=lambda x: cost_func_learned(x, config_model['workloads'][0]),\n",
    "    eps=1e-4)\n",
    "learned_sol"
   ]
  },
  {
   "cell_type": "code",
   "execution_count": 10,
   "id": "ddfe702d",
   "metadata": {},
   "outputs": [
    {
     "name": "stdout",
     "output_type": "stream",
     "text": [
      "Analytical Output: [3.2998929  6.184048   1.06928004]-> 2.8272110972604314\n",
      "Analytical Rounded: [3.2998929034371765, 6.0, 1.0]-> 2.830347611445995\n",
      "Analytical Rounded: [3.2998929034371765, 6.0, 2.0]-> 3.3341556610411462\n",
      "Analytical Rounded: [3.2998929034371765, 7.0, 1.0]-> 2.854765402987561\n",
      "Analytical Rounded: [3.2998929034371765, 7.0, 2.0]-> 3.2070238282069132\n",
      "Learned Output: [ 4.60463575 12.6438398   2.997627  ]-> 3.44563327850141\n",
      "Learned Rounded: [ 4.60463575 13.          2.997627  ]-> 3.4328255838459754\n"
     ]
    }
   ],
   "source": [
    "p_args = [[analytical_sol.x[0], np.floor(analytical_sol.x[1]), np.floor(analytical_sol.x[2])],\n",
    "          [analytical_sol.x[0], np.floor(analytical_sol.x[1]), np.ceil(analytical_sol.x[2])],\n",
    "          [analytical_sol.x[0], np.ceil(analytical_sol.x[1]), np.floor(analytical_sol.x[2])],\n",
    "          [analytical_sol.x[0], np.ceil(analytical_sol.x[1]), np.ceil(analytical_sol.x[2])],]\n",
    "print(f'Analytical Output: {analytical_sol.x}-> {cost_func_objective(analytical_sol.x, config_model[\"workloads\"][0])}')\n",
    "for arg in p_args:\n",
    "    print(f'Analytical Rounded: {arg}-> {cost_func_objective(arg, config_model[\"workloads\"][0])}')\n",
    "print(f'Learned Output: {learned_sol.x}-> {cost_func_objective(learned_sol.x, config_model[\"workloads\"][0])}')\n",
    "lsol = learned_sol.x\n",
    "lsol[1] = np.ceil(lsol[1])\n",
    "print(f'Learned Rounded: {lsol}-> {cost_func_objective(lsol, config_model[\"workloads\"][0])}')"
   ]
  },
  {
   "cell_type": "code",
   "execution_count": 52,
   "id": "77691e3d",
   "metadata": {},
   "outputs": [
    {
     "data": {
      "application/json": {
       "ascii": false,
       "bar_format": null,
       "colour": null,
       "elapsed": 0.012563228607177734,
       "initial": 0,
       "n": 0,
       "ncols": null,
       "nrows": 71,
       "postfix": null,
       "prefix": "",
       "rate": null,
       "total": 48,
       "unit": "it",
       "unit_divisor": 1000,
       "unit_scale": false
      },
      "application/vnd.jupyter.widget-view+json": {
       "model_id": "8b1aa2080a9b43038b80eff514001326",
       "version_major": 2,
       "version_minor": 0
      },
      "text/plain": [
       "  0%|          | 0/48 [00:00<?, ?it/s]"
      ]
     },
     "metadata": {},
     "output_type": "display_data"
    }
   ],
   "source": [
    "def gen_single_data(idx=0):\n",
    "    workload = config_model['workloads'][idx]\n",
    "    df = []\n",
    "    h_fixed = 2\n",
    "    t_fixed = 30\n",
    "    q_fixed = 1\n",
    "    for val in tqdm(np.arange(2, 50, 1)):\n",
    "        x = [h_fixed, val, q_fixed]\n",
    "        df.append({\n",
    "            'x': val,\n",
    "            'learned': cost_func_learned_eval(x, workload),\n",
    "            'analytical': cost_func_objective(x, workload),\n",
    "        })\n",
    "    return pd.DataFrame(df)\n",
    "\n",
    "idx = 2\n",
    "df = gen_single_data(idx)"
   ]
  },
  {
   "cell_type": "code",
   "execution_count": 53,
   "id": "709d3b9d",
   "metadata": {},
   "outputs": [
    {
     "data": {
      "text/plain": [
       "{'id': 2, 'z0': 0.01, 'z1': 0.97, 'q': 0.01, 'w': 0.01}"
      ]
     },
     "execution_count": 53,
     "metadata": {},
     "output_type": "execute_result"
    },
    {
     "data": {
      "image/png": "[encoded data removed]",
      "text/plain": [
       "<Figure size 640x480 with 1 Axes>"
      ]
     },
     "metadata": {},
     "output_type": "display_data"
    }
   ],
   "source": [
    "x = df['x']\n",
    "y_learned = df['learned']\n",
    "y_analytical = df['analytical']\n",
    "\n",
    "fig, ax = plt.subplots()\n",
    "ax.plot(x, y_learned, label='Surrogate (Learned) Function')\n",
    "ax.plot(x, y_analytical, label='Analytical Function')\n",
    "ax.set_xlabel('Size Ratio (T)')\n",
    "ax.set_ylabel('Average I/O per Query')\n",
    "ax.set_title('Single Variable Estimation')\n",
    "ax.legend()\n",
    "workload = config_model['workloads'][idx]\n",
    "workload"
   ]
  },
  {
   "cell_type": "code",
   "execution_count": 13,
   "id": "2cc275e7-3801-43df-9d9a-672420c50bf9",
   "metadata": {
    "tags": []
   },
   "outputs": [],
   "source": [
    "def gen_hist_data(workload):\n",
    "    df = []\n",
    "    for h_p in tqdm(np.arange(0, H_UPPER_LIM, 0.5), leave=False):\n",
    "        for T_p in np.arange(T_LOWER_LIM, T_UPPER_LIM, 1):\n",
    "            for Q_p in range(T_LOWER_LIM - 1, T_p, 1):\n",
    "                x = [h_p, T_p, Q_p]\n",
    "                df.append({\n",
    "                    'workload': workload,\n",
    "                    'h': h_p,\n",
    "                    'T': T_p,\n",
    "                    'Q': Q_p,\n",
    "                    'learned': cost_func_learned_eval(x, workload),\n",
    "                    'analytical': cost_func_objective(x, workload),})\n",
    "    return pd.DataFrame(df)"
   ]
  },
  {
   "cell_type": "code",
   "execution_count": 14,
   "id": "495707dd-777a-431b-99fe-a2873ad4257b",
   "metadata": {
    "tags": []
   },
   "outputs": [
    {
     "data": {
      "application/json": {
       "ascii": false,
       "bar_format": null,
       "colour": null,
       "elapsed": 0.012385845184326172,
       "initial": 0,
       "n": 0,
       "ncols": null,
       "nrows": 71,
       "postfix": null,
       "prefix": "",
       "rate": null,
       "total": 19,
       "unit": "it",
       "unit_divisor": 1000,
       "unit_scale": false
      },
      "application/vnd.jupyter.widget-view+json": {
       "model_id": "",
       "version_major": 2,
       "version_minor": 0
      },
      "text/plain": [
       "  0%|          | 0/19 [00:00<?, ?it/s]"
      ]
     },
     "metadata": {},
     "output_type": "display_data"
    },
    {
     "data": {
      "text/plain": [
       "{'id': 0, 'z0': 0.25, 'z1': 0.25, 'q': 0.25, 'w': 0.25}"
      ]
     },
     "execution_count": 14,
     "metadata": {},
     "output_type": "execute_result"
    },
    {
     "name": "stderr",
     "output_type": "stream",
     "text": [
      "findfont: Font family ['sans-serif'] not found. Falling back to DejaVu Sans.\n",
      "findfont: Generic family 'sans-serif' not found because none of the following families were found: Helvetica\n"
     ]
    },
    {
     "data": {
      "image/png": "[encoded data removed]",
      "text/plain": [
       "<Figure size 640x480 with 1 Axes>"
      ]
     },
     "metadata": {},
     "output_type": "display_data"
    }
   ],
   "source": [
    "idx = 0\n",
    "df = gen_hist_data(config_model['workloads'][idx])\n",
    "\n",
    "df['delta'] = abs((df['analytical'] - df['learned']) / df['analytical'])\n",
    "n, bins, patches = plt.hist(x=df['delta'], bins='auto', density=True)\n",
    "plt.xlabel('($C_{Analytical}$ - $C_{Learned}$) / $C_{Analytical}$',\n",
    "           fontsize=14)\n",
    "plt.title('Normalized Histogram of $L_1$ Error\\nBetween Learned and Analytical',\n",
    "          fontsize=14)\n",
    "plt.xticks(fontsize=14)\n",
    "plt.yticks(fontsize=14)\n",
    "plt.gca().xaxis.set_major_formatter(PercentFormatter(1))\n",
    "config_model['workloads'][idx]"
   ]
  },
  {
   "cell_type": "code",
   "execution_count": 15,
   "id": "7479e8ee-10eb-4207-9db9-797cdfa319b3",
   "metadata": {
    "tags": []
   },
   "outputs": [
    {
     "data": {
      "text/html": [
       "<div>\n",
       "<style scoped>\n",
       "    .dataframe tbody tr th:only-of-type {\n",
       "        vertical-align: middle;\n",
       "    }\n",
       "\n",
       "    .dataframe tbody tr th {\n",
       "        vertical-align: top;\n",
       "    }\n",
       "\n",
       "    .dataframe thead th {\n",
       "        text-align: right;\n",
       "    }\n",
       "</style>\n",
       "<table border=\"1\" class=\"dataframe\">\n",
       "  <thead>\n",
       "    <tr style=\"text-align: right;\">\n",
       "      <th></th>\n",
       "      <th>workload</th>\n",
       "      <th>h</th>\n",
       "      <th>T</th>\n",
       "      <th>Q</th>\n",
       "      <th>learned</th>\n",
       "      <th>analytical</th>\n",
       "      <th>delta</th>\n",
       "    </tr>\n",
       "  </thead>\n",
       "  <tbody>\n",
       "    <tr>\n",
       "      <th>22183</th>\n",
       "      <td>{'id': 0, 'z0': 0.25, 'z1': 0.25, 'q': 0.25, '...</td>\n",
       "      <td>9.00</td>\n",
       "      <td>46</td>\n",
       "      <td>26</td>\n",
       "      <td>16.09</td>\n",
       "      <td>16.09</td>\n",
       "      <td>0.00</td>\n",
       "    </tr>\n",
       "    <tr>\n",
       "      <th>5122</th>\n",
       "      <td>{'id': 0, 'z0': 0.25, 'z1': 0.25, 'q': 0.25, '...</td>\n",
       "      <td>2.00</td>\n",
       "      <td>30</td>\n",
       "      <td>13</td>\n",
       "      <td>9.40</td>\n",
       "      <td>9.40</td>\n",
       "      <td>0.00</td>\n",
       "    </tr>\n",
       "    <tr>\n",
       "      <th>2049</th>\n",
       "      <td>{'id': 0, 'z0': 0.25, 'z1': 0.25, 'q': 0.25, '...</td>\n",
       "      <td>0.50</td>\n",
       "      <td>43</td>\n",
       "      <td>13</td>\n",
       "      <td>10.75</td>\n",
       "      <td>10.75</td>\n",
       "      <td>0.00</td>\n",
       "    </tr>\n",
       "    <tr>\n",
       "      <th>6909</th>\n",
       "      <td>{'id': 0, 'z0': 0.25, 'z1': 0.25, 'q': 0.25, '...</td>\n",
       "      <td>2.50</td>\n",
       "      <td>46</td>\n",
       "      <td>40</td>\n",
       "      <td>23.75</td>\n",
       "      <td>23.75</td>\n",
       "      <td>0.00</td>\n",
       "    </tr>\n",
       "    <tr>\n",
       "      <th>823</th>\n",
       "      <td>{'id': 0, 'z0': 0.25, 'z1': 0.25, 'q': 0.25, '...</td>\n",
       "      <td>0.00</td>\n",
       "      <td>42</td>\n",
       "      <td>4</td>\n",
       "      <td>4.86</td>\n",
       "      <td>4.86</td>\n",
       "      <td>0.00</td>\n",
       "    </tr>\n",
       "    <tr>\n",
       "      <th>...</th>\n",
       "      <td>...</td>\n",
       "      <td>...</td>\n",
       "      <td>...</td>\n",
       "      <td>...</td>\n",
       "      <td>...</td>\n",
       "      <td>...</td>\n",
       "      <td>...</td>\n",
       "    </tr>\n",
       "    <tr>\n",
       "      <th>67</th>\n",
       "      <td>{'id': 0, 'z0': 0.25, 'z1': 0.25, 'q': 0.25, '...</td>\n",
       "      <td>0.00</td>\n",
       "      <td>13</td>\n",
       "      <td>2</td>\n",
       "      <td>3.76</td>\n",
       "      <td>3.56</td>\n",
       "      <td>0.05</td>\n",
       "    </tr>\n",
       "    <tr>\n",
       "      <th>1255</th>\n",
       "      <td>{'id': 0, 'z0': 0.25, 'z1': 0.25, 'q': 0.25, '...</td>\n",
       "      <td>0.50</td>\n",
       "      <td>14</td>\n",
       "      <td>2</td>\n",
       "      <td>3.58</td>\n",
       "      <td>3.40</td>\n",
       "      <td>0.05</td>\n",
       "    </tr>\n",
       "    <tr>\n",
       "      <th>1243</th>\n",
       "      <td>{'id': 0, 'z0': 0.25, 'z1': 0.25, 'q': 0.25, '...</td>\n",
       "      <td>0.50</td>\n",
       "      <td>13</td>\n",
       "      <td>2</td>\n",
       "      <td>3.59</td>\n",
       "      <td>3.40</td>\n",
       "      <td>0.06</td>\n",
       "    </tr>\n",
       "    <tr>\n",
       "      <th>92</th>\n",
       "      <td>{'id': 0, 'z0': 0.25, 'z1': 0.25, 'q': 0.25, '...</td>\n",
       "      <td>0.00</td>\n",
       "      <td>15</td>\n",
       "      <td>2</td>\n",
       "      <td>3.76</td>\n",
       "      <td>3.56</td>\n",
       "      <td>0.06</td>\n",
       "    </tr>\n",
       "    <tr>\n",
       "      <th>1268</th>\n",
       "      <td>{'id': 0, 'z0': 0.25, 'z1': 0.25, 'q': 0.25, '...</td>\n",
       "      <td>0.50</td>\n",
       "      <td>15</td>\n",
       "      <td>2</td>\n",
       "      <td>3.60</td>\n",
       "      <td>3.40</td>\n",
       "      <td>0.06</td>\n",
       "    </tr>\n",
       "  </tbody>\n",
       "</table>\n",
       "<p>22344 rows × 7 columns</p>\n",
       "</div>"
      ],
      "text/plain": [
       "                                                workload    h   T   Q  \\\n",
       "22183  {'id': 0, 'z0': 0.25, 'z1': 0.25, 'q': 0.25, '... 9.00  46  26   \n",
       "5122   {'id': 0, 'z0': 0.25, 'z1': 0.25, 'q': 0.25, '... 2.00  30  13   \n",
       "2049   {'id': 0, 'z0': 0.25, 'z1': 0.25, 'q': 0.25, '... 0.50  43  13   \n",
       "6909   {'id': 0, 'z0': 0.25, 'z1': 0.25, 'q': 0.25, '... 2.50  46  40   \n",
       "823    {'id': 0, 'z0': 0.25, 'z1': 0.25, 'q': 0.25, '... 0.00  42   4   \n",
       "...                                                  ...  ...  ..  ..   \n",
       "67     {'id': 0, 'z0': 0.25, 'z1': 0.25, 'q': 0.25, '... 0.00  13   2   \n",
       "1255   {'id': 0, 'z0': 0.25, 'z1': 0.25, 'q': 0.25, '... 0.50  14   2   \n",
       "1243   {'id': 0, 'z0': 0.25, 'z1': 0.25, 'q': 0.25, '... 0.50  13   2   \n",
       "92     {'id': 0, 'z0': 0.25, 'z1': 0.25, 'q': 0.25, '... 0.00  15   2   \n",
       "1268   {'id': 0, 'z0': 0.25, 'z1': 0.25, 'q': 0.25, '... 0.50  15   2   \n",
       "\n",
       "       learned  analytical  delta  \n",
       "22183    16.09       16.09   0.00  \n",
       "5122      9.40        9.40   0.00  \n",
       "2049     10.75       10.75   0.00  \n",
       "6909     23.75       23.75   0.00  \n",
       "823       4.86        4.86   0.00  \n",
       "...        ...         ...    ...  \n",
       "67        3.76        3.56   0.05  \n",
       "1255      3.58        3.40   0.05  \n",
       "1243      3.59        3.40   0.06  \n",
       "92        3.76        3.56   0.06  \n",
       "1268      3.60        3.40   0.06  \n",
       "\n",
       "[22344 rows x 7 columns]"
      ]
     },
     "execution_count": 15,
     "metadata": {},
     "output_type": "execute_result"
    }
   ],
   "source": [
    "df.sort_values(by='delta')"
   ]
  },
  {
   "cell_type": "code",
   "execution_count": 16,
   "id": "e77d6471-c5f8-44cf-aab7-569e4f2afa94",
   "metadata": {
    "scrolled": true,
    "tags": []
   },
   "outputs": [
    {
     "data": {
      "application/json": {
       "ascii": false,
       "bar_format": null,
       "colour": null,
       "elapsed": 0.014966487884521484,
       "initial": 0,
       "n": 0,
       "ncols": null,
       "nrows": 71,
       "postfix": null,
       "prefix": "",
       "rate": null,
       "total": 15,
       "unit": "it",
       "unit_divisor": 1000,
       "unit_scale": false
      },
      "application/vnd.jupyter.widget-view+json": {
       "model_id": "17fc11ded3f64c5f933b3a83c7d51dc6",
       "version_major": 2,
       "version_minor": 0
      },
      "text/plain": [
       "  0%|          | 0/15 [00:00<?, ?it/s]"
      ]
     },
     "metadata": {},
     "output_type": "display_data"
    },
    {
     "data": {
      "application/json": {
       "ascii": false,
       "bar_format": null,
       "colour": null,
       "elapsed": 0.012119770050048828,
       "initial": 0,
       "n": 0,
       "ncols": null,
       "nrows": 71,
       "postfix": null,
       "prefix": "",
       "rate": null,
       "total": 19,
       "unit": "it",
       "unit_divisor": 1000,
       "unit_scale": false
      },
      "application/vnd.jupyter.widget-view+json": {
       "model_id": "",
       "version_major": 2,
       "version_minor": 0
      },
      "text/plain": [
       "  0%|          | 0/19 [00:00<?, ?it/s]"
      ]
     },
     "metadata": {},
     "output_type": "display_data"
    },
    {
     "data": {
      "application/json": {
       "ascii": false,
       "bar_format": null,
       "colour": null,
       "elapsed": 0.011958122253417969,
       "initial": 0,
       "n": 0,
       "ncols": null,
       "nrows": 71,
       "postfix": null,
       "prefix": "",
       "rate": null,
       "total": 19,
       "unit": "it",
       "unit_divisor": 1000,
       "unit_scale": false
      },
      "application/vnd.jupyter.widget-view+json": {
       "model_id": "",
       "version_major": 2,
       "version_minor": 0
      },
      "text/plain": [
       "  0%|          | 0/19 [00:00<?, ?it/s]"
      ]
     },
     "metadata": {},
     "output_type": "display_data"
    },
    {
     "data": {
      "application/json": {
       "ascii": false,
       "bar_format": null,
       "colour": null,
       "elapsed": 0.01189875602722168,
       "initial": 0,
       "n": 0,
       "ncols": null,
       "nrows": 71,
       "postfix": null,
       "prefix": "",
       "rate": null,
       "total": 19,
       "unit": "it",
       "unit_divisor": 1000,
       "unit_scale": false
      },
      "application/vnd.jupyter.widget-view+json": {
       "model_id": "",
       "version_major": 2,
       "version_minor": 0
      },
      "text/plain": [
       "  0%|          | 0/19 [00:00<?, ?it/s]"
      ]
     },
     "metadata": {},
     "output_type": "display_data"
    },
    {
     "data": {
      "application/json": {
       "ascii": false,
       "bar_format": null,
       "colour": null,
       "elapsed": 0.011812448501586914,
       "initial": 0,
       "n": 0,
       "ncols": null,
       "nrows": 71,
       "postfix": null,
       "prefix": "",
       "rate": null,
       "total": 19,
       "unit": "it",
       "unit_divisor": 1000,
       "unit_scale": false
      },
      "application/vnd.jupyter.widget-view+json": {
       "model_id": "",
       "version_major": 2,
       "version_minor": 0
      },
      "text/plain": [
       "  0%|          | 0/19 [00:00<?, ?it/s]"
      ]
     },
     "metadata": {},
     "output_type": "display_data"
    },
    {
     "data": {
      "application/json": {
       "ascii": false,
       "bar_format": null,
       "colour": null,
       "elapsed": 0.011937856674194336,
       "initial": 0,
       "n": 0,
       "ncols": null,
       "nrows": 71,
       "postfix": null,
       "prefix": "",
       "rate": null,
       "total": 19,
       "unit": "it",
       "unit_divisor": 1000,
       "unit_scale": false
      },
      "application/vnd.jupyter.widget-view+json": {
       "model_id": "",
       "version_major": 2,
       "version_minor": 0
      },
      "text/plain": [
       "  0%|          | 0/19 [00:00<?, ?it/s]"
      ]
     },
     "metadata": {},
     "output_type": "display_data"
    },
    {
     "data": {
      "application/json": {
       "ascii": false,
       "bar_format": null,
       "colour": null,
       "elapsed": 0.011681556701660156,
       "initial": 0,
       "n": 0,
       "ncols": null,
       "nrows": 71,
       "postfix": null,
       "prefix": "",
       "rate": null,
       "total": 19,
       "unit": "it",
       "unit_divisor": 1000,
       "unit_scale": false
      },
      "application/vnd.jupyter.widget-view+json": {
       "model_id": "",
       "version_major": 2,
       "version_minor": 0
      },
      "text/plain": [
       "  0%|          | 0/19 [00:00<?, ?it/s]"
      ]
     },
     "metadata": {},
     "output_type": "display_data"
    },
    {
     "data": {
      "application/json": {
       "ascii": false,
       "bar_format": null,
       "colour": null,
       "elapsed": 0.011749744415283203,
       "initial": 0,
       "n": 0,
       "ncols": null,
       "nrows": 71,
       "postfix": null,
       "prefix": "",
       "rate": null,
       "total": 19,
       "unit": "it",
       "unit_divisor": 1000,
       "unit_scale": false
      },
      "application/vnd.jupyter.widget-view+json": {
       "model_id": "",
       "version_major": 2,
       "version_minor": 0
      },
      "text/plain": [
       "  0%|          | 0/19 [00:00<?, ?it/s]"
      ]
     },
     "metadata": {},
     "output_type": "display_data"
    },
    {
     "data": {
      "application/json": {
       "ascii": false,
       "bar_format": null,
       "colour": null,
       "elapsed": 0.011698484420776367,
       "initial": 0,
       "n": 0,
       "ncols": null,
       "nrows": 71,
       "postfix": null,
       "prefix": "",
       "rate": null,
       "total": 19,
       "unit": "it",
       "unit_divisor": 1000,
       "unit_scale": false
      },
      "application/vnd.jupyter.widget-view+json": {
       "model_id": "",
       "version_major": 2,
       "version_minor": 0
      },
      "text/plain": [
       "  0%|          | 0/19 [00:00<?, ?it/s]"
      ]
     },
     "metadata": {},
     "output_type": "display_data"
    },
    {
     "data": {
      "application/json": {
       "ascii": false,
       "bar_format": null,
       "colour": null,
       "elapsed": 0.011749982833862305,
       "initial": 0,
       "n": 0,
       "ncols": null,
       "nrows": 71,
       "postfix": null,
       "prefix": "",
       "rate": null,
       "total": 19,
       "unit": "it",
       "unit_divisor": 1000,
       "unit_scale": false
      },
      "application/vnd.jupyter.widget-view+json": {
       "model_id": "",
       "version_major": 2,
       "version_minor": 0
      },
      "text/plain": [
       "  0%|          | 0/19 [00:00<?, ?it/s]"
      ]
     },
     "metadata": {},
     "output_type": "display_data"
    },
    {
     "data": {
      "application/json": {
       "ascii": false,
       "bar_format": null,
       "colour": null,
       "elapsed": 0.011552810668945312,
       "initial": 0,
       "n": 0,
       "ncols": null,
       "nrows": 71,
       "postfix": null,
       "prefix": "",
       "rate": null,
       "total": 19,
       "unit": "it",
       "unit_divisor": 1000,
       "unit_scale": false
      },
      "application/vnd.jupyter.widget-view+json": {
       "model_id": "",
       "version_major": 2,
       "version_minor": 0
      },
      "text/plain": [
       "  0%|          | 0/19 [00:00<?, ?it/s]"
      ]
     },
     "metadata": {},
     "output_type": "display_data"
    },
    {
     "data": {
      "application/json": {
       "ascii": false,
       "bar_format": null,
       "colour": null,
       "elapsed": 0.011613607406616211,
       "initial": 0,
       "n": 0,
       "ncols": null,
       "nrows": 71,
       "postfix": null,
       "prefix": "",
       "rate": null,
       "total": 19,
       "unit": "it",
       "unit_divisor": 1000,
       "unit_scale": false
      },
      "application/vnd.jupyter.widget-view+json": {
       "model_id": "",
       "version_major": 2,
       "version_minor": 0
      },
      "text/plain": [
       "  0%|          | 0/19 [00:00<?, ?it/s]"
      ]
     },
     "metadata": {},
     "output_type": "display_data"
    },
    {
     "data": {
      "application/json": {
       "ascii": false,
       "bar_format": null,
       "colour": null,
       "elapsed": 0.01162099838256836,
       "initial": 0,
       "n": 0,
       "ncols": null,
       "nrows": 71,
       "postfix": null,
       "prefix": "",
       "rate": null,
       "total": 19,
       "unit": "it",
       "unit_divisor": 1000,
       "unit_scale": false
      },
      "application/vnd.jupyter.widget-view+json": {
       "model_id": "",
       "version_major": 2,
       "version_minor": 0
      },
      "text/plain": [
       "  0%|          | 0/19 [00:00<?, ?it/s]"
      ]
     },
     "metadata": {},
     "output_type": "display_data"
    },
    {
     "data": {
      "application/json": {
       "ascii": false,
       "bar_format": null,
       "colour": null,
       "elapsed": 0.011711359024047852,
       "initial": 0,
       "n": 0,
       "ncols": null,
       "nrows": 71,
       "postfix": null,
       "prefix": "",
       "rate": null,
       "total": 19,
       "unit": "it",
       "unit_divisor": 1000,
       "unit_scale": false
      },
      "application/vnd.jupyter.widget-view+json": {
       "model_id": "",
       "version_major": 2,
       "version_minor": 0
      },
      "text/plain": [
       "  0%|          | 0/19 [00:00<?, ?it/s]"
      ]
     },
     "metadata": {},
     "output_type": "display_data"
    },
    {
     "data": {
      "application/json": {
       "ascii": false,
       "bar_format": null,
       "colour": null,
       "elapsed": 0.011546134948730469,
       "initial": 0,
       "n": 0,
       "ncols": null,
       "nrows": 71,
       "postfix": null,
       "prefix": "",
       "rate": null,
       "total": 19,
       "unit": "it",
       "unit_divisor": 1000,
       "unit_scale": false
      },
      "application/vnd.jupyter.widget-view+json": {
       "model_id": "",
       "version_major": 2,
       "version_minor": 0
      },
      "text/plain": [
       "  0%|          | 0/19 [00:00<?, ?it/s]"
      ]
     },
     "metadata": {},
     "output_type": "display_data"
    },
    {
     "data": {
      "application/json": {
       "ascii": false,
       "bar_format": null,
       "colour": null,
       "elapsed": 0.01154184341430664,
       "initial": 0,
       "n": 0,
       "ncols": null,
       "nrows": 71,
       "postfix": null,
       "prefix": "",
       "rate": null,
       "total": 19,
       "unit": "it",
       "unit_divisor": 1000,
       "unit_scale": false
      },
      "application/vnd.jupyter.widget-view+json": {
       "model_id": "",
       "version_major": 2,
       "version_minor": 0
      },
      "text/plain": [
       "  0%|          | 0/19 [00:00<?, ?it/s]"
      ]
     },
     "metadata": {},
     "output_type": "display_data"
    }
   ],
   "source": [
    "dfs = []\n",
    "for wl in tqdm(config_model['workloads']):\n",
    "    dfs.append(gen_hist_data(wl))"
   ]
  },
  {
   "cell_type": "code",
   "execution_count": 17,
   "id": "a78090d0-d298-4278-a784-c08db01205fe",
   "metadata": {
    "tags": []
   },
   "outputs": [
    {
     "data": {
      "image/png": "[encoded data removed]",
      "text/plain": [
       "<Figure size 640x480 with 1 Axes>"
      ]
     },
     "metadata": {},
     "output_type": "display_data"
    }
   ],
   "source": [
    "df = pd.concat(dfs)\n",
    "\n",
    "df['delta'] = abs((df['analytical'] - df['learned']) / df['analytical'])\n",
    "n, bins, patches = plt.hist(x=df['delta'], bins='auto', density=True)\n",
    "plt.xlabel('Delta (Analytical - Learned)')\n",
    "plt.title('All $w \\in \\mathcal{B}$ of Absolute Error ($L_1$ Error)')\n",
    "None"
   ]
  },
  {
   "cell_type": "code",
   "execution_count": 18,
   "id": "68ac4151-fce2-4ffd-8610-012b80045403",
   "metadata": {
    "tags": []
   },
   "outputs": [
    {
     "data": {
      "text/html": [
       "<div>\n",
       "<style scoped>\n",
       "    .dataframe tbody tr th:only-of-type {\n",
       "        vertical-align: middle;\n",
       "    }\n",
       "\n",
       "    .dataframe tbody tr th {\n",
       "        vertical-align: top;\n",
       "    }\n",
       "\n",
       "    .dataframe thead th {\n",
       "        text-align: right;\n",
       "    }\n",
       "</style>\n",
       "<table border=\"1\" class=\"dataframe\">\n",
       "  <thead>\n",
       "    <tr style=\"text-align: right;\">\n",
       "      <th></th>\n",
       "      <th>workload</th>\n",
       "      <th>h</th>\n",
       "      <th>T</th>\n",
       "      <th>Q</th>\n",
       "      <th>learned</th>\n",
       "      <th>analytical</th>\n",
       "      <th>delta</th>\n",
       "    </tr>\n",
       "  </thead>\n",
       "  <tbody>\n",
       "    <tr>\n",
       "      <th>16466</th>\n",
       "      <td>{'id': 14, 'z0': 0.01, 'z1': 0.33, 'q': 0.33, ...</td>\n",
       "      <td>7.00</td>\n",
       "      <td>3</td>\n",
       "      <td>2</td>\n",
       "      <td>6.30</td>\n",
       "      <td>6.30</td>\n",
       "      <td>0.00</td>\n",
       "    </tr>\n",
       "    <tr>\n",
       "      <th>13428</th>\n",
       "      <td>{'id': 8, 'z0': 0.01, 'z1': 0.49, 'q': 0.49, '...</td>\n",
       "      <td>5.50</td>\n",
       "      <td>32</td>\n",
       "      <td>28</td>\n",
       "      <td>30.79</td>\n",
       "      <td>30.79</td>\n",
       "      <td>0.00</td>\n",
       "    </tr>\n",
       "    <tr>\n",
       "      <th>16148</th>\n",
       "      <td>{'id': 2, 'z0': 0.01, 'z1': 0.97, 'q': 0.01, '...</td>\n",
       "      <td>6.50</td>\n",
       "      <td>42</td>\n",
       "      <td>41</td>\n",
       "      <td>2.81</td>\n",
       "      <td>2.81</td>\n",
       "      <td>0.00</td>\n",
       "    </tr>\n",
       "    <tr>\n",
       "      <th>11554</th>\n",
       "      <td>{'id': 8, 'z0': 0.01, 'z1': 0.49, 'q': 0.49, '...</td>\n",
       "      <td>4.50</td>\n",
       "      <td>45</td>\n",
       "      <td>25</td>\n",
       "      <td>24.80</td>\n",
       "      <td>24.80</td>\n",
       "      <td>0.00</td>\n",
       "    </tr>\n",
       "    <tr>\n",
       "      <th>13123</th>\n",
       "      <td>{'id': 14, 'z0': 0.01, 'z1': 0.33, 'q': 0.33, ...</td>\n",
       "      <td>5.50</td>\n",
       "      <td>20</td>\n",
       "      <td>17</td>\n",
       "      <td>15.07</td>\n",
       "      <td>15.07</td>\n",
       "      <td>0.00</td>\n",
       "    </tr>\n",
       "    <tr>\n",
       "      <th>...</th>\n",
       "      <td>...</td>\n",
       "      <td>...</td>\n",
       "      <td>...</td>\n",
       "      <td>...</td>\n",
       "      <td>...</td>\n",
       "      <td>...</td>\n",
       "      <td>...</td>\n",
       "    </tr>\n",
       "    <tr>\n",
       "      <th>21259</th>\n",
       "      <td>{'id': 1, 'z0': 0.97, 'z1': 0.01, 'q': 0.01, '...</td>\n",
       "      <td>9.00</td>\n",
       "      <td>15</td>\n",
       "      <td>1</td>\n",
       "      <td>0.42</td>\n",
       "      <td>0.18</td>\n",
       "      <td>1.28</td>\n",
       "    </tr>\n",
       "    <tr>\n",
       "      <th>20047</th>\n",
       "      <td>{'id': 1, 'z0': 0.97, 'z1': 0.01, 'q': 0.01, '...</td>\n",
       "      <td>8.50</td>\n",
       "      <td>12</td>\n",
       "      <td>1</td>\n",
       "      <td>0.39</td>\n",
       "      <td>0.17</td>\n",
       "      <td>1.30</td>\n",
       "    </tr>\n",
       "    <tr>\n",
       "      <th>21223</th>\n",
       "      <td>{'id': 1, 'z0': 0.97, 'z1': 0.01, 'q': 0.01, '...</td>\n",
       "      <td>9.00</td>\n",
       "      <td>12</td>\n",
       "      <td>1</td>\n",
       "      <td>0.40</td>\n",
       "      <td>0.17</td>\n",
       "      <td>1.33</td>\n",
       "    </tr>\n",
       "    <tr>\n",
       "      <th>21234</th>\n",
       "      <td>{'id': 1, 'z0': 0.97, 'z1': 0.01, 'q': 0.01, '...</td>\n",
       "      <td>9.00</td>\n",
       "      <td>13</td>\n",
       "      <td>1</td>\n",
       "      <td>0.42</td>\n",
       "      <td>0.18</td>\n",
       "      <td>1.37</td>\n",
       "    </tr>\n",
       "    <tr>\n",
       "      <th>21246</th>\n",
       "      <td>{'id': 1, 'z0': 0.97, 'z1': 0.01, 'q': 0.01, '...</td>\n",
       "      <td>9.00</td>\n",
       "      <td>14</td>\n",
       "      <td>1</td>\n",
       "      <td>0.43</td>\n",
       "      <td>0.18</td>\n",
       "      <td>1.39</td>\n",
       "    </tr>\n",
       "  </tbody>\n",
       "</table>\n",
       "<p>335160 rows × 7 columns</p>\n",
       "</div>"
      ],
      "text/plain": [
       "                                                workload    h   T   Q  \\\n",
       "16466  {'id': 14, 'z0': 0.01, 'z1': 0.33, 'q': 0.33, ... 7.00   3   2   \n",
       "13428  {'id': 8, 'z0': 0.01, 'z1': 0.49, 'q': 0.49, '... 5.50  32  28   \n",
       "16148  {'id': 2, 'z0': 0.01, 'z1': 0.97, 'q': 0.01, '... 6.50  42  41   \n",
       "11554  {'id': 8, 'z0': 0.01, 'z1': 0.49, 'q': 0.49, '... 4.50  45  25   \n",
       "13123  {'id': 14, 'z0': 0.01, 'z1': 0.33, 'q': 0.33, ... 5.50  20  17   \n",
       "...                                                  ...  ...  ..  ..   \n",
       "21259  {'id': 1, 'z0': 0.97, 'z1': 0.01, 'q': 0.01, '... 9.00  15   1   \n",
       "20047  {'id': 1, 'z0': 0.97, 'z1': 0.01, 'q': 0.01, '... 8.50  12   1   \n",
       "21223  {'id': 1, 'z0': 0.97, 'z1': 0.01, 'q': 0.01, '... 9.00  12   1   \n",
       "21234  {'id': 1, 'z0': 0.97, 'z1': 0.01, 'q': 0.01, '... 9.00  13   1   \n",
       "21246  {'id': 1, 'z0': 0.97, 'z1': 0.01, 'q': 0.01, '... 9.00  14   1   \n",
       "\n",
       "       learned  analytical  delta  \n",
       "16466     6.30        6.30   0.00  \n",
       "13428    30.79       30.79   0.00  \n",
       "16148     2.81        2.81   0.00  \n",
       "11554    24.80       24.80   0.00  \n",
       "13123    15.07       15.07   0.00  \n",
       "...        ...         ...    ...  \n",
       "21259     0.42        0.18   1.28  \n",
       "20047     0.39        0.17   1.30  \n",
       "21223     0.40        0.17   1.33  \n",
       "21234     0.42        0.18   1.37  \n",
       "21246     0.43        0.18   1.39  \n",
       "\n",
       "[335160 rows x 7 columns]"
      ]
     },
     "execution_count": 18,
     "metadata": {},
     "output_type": "execute_result"
    }
   ],
   "source": [
    "df.sort_values(by='delta')"
   ]
  },
  {
   "cell_type": "code",
   "execution_count": 19,
   "id": "138330ee-bbdf-4047-85a7-4fcf43e566e4",
   "metadata": {},
   "outputs": [
    {
     "data": {
      "application/json": {
       "ascii": false,
       "bar_format": null,
       "colour": null,
       "elapsed": 0.012168407440185547,
       "initial": 0,
       "n": 0,
       "ncols": null,
       "nrows": 71,
       "postfix": null,
       "prefix": "",
       "rate": null,
       "total": 15,
       "unit": "it",
       "unit_divisor": 1000,
       "unit_scale": false
      },
      "application/vnd.jupyter.widget-view+json": {
       "model_id": "84fd11745c644d278f7d78b2fe069e3c",
       "version_major": 2,
       "version_minor": 0
      },
      "text/plain": [
       "  0%|          | 0/15 [00:00<?, ?it/s]"
      ]
     },
     "metadata": {},
     "output_type": "display_data"
    }
   ],
   "source": [
    "def generate_configurations():\n",
    "    df = []\n",
    "    for wl in tqdm(config_model['workloads']):\n",
    "        z0, z1, q, w = (wl['z0'], wl['z1'], wl['q'], wl['w'])\n",
    "        learn = optimize(func=lambda x: cost_func_learned(x, wl),\n",
    "                         eps=1e-3)\n",
    "        hand = optimize(func=lambda x: cost_func_objective(x, wl),\n",
    "                        eps=1e-3)\n",
    "        df.append({\n",
    "            'id': wl['id'],\n",
    "            'wl': wl,\n",
    "            'learn': learn,\n",
    "            'hand': hand,\n",
    "            'delta': cost_func_objective(hand.x, wl) - cost_func_objective(learn.x, wl)\n",
    "        })\n",
    "    return pd.DataFrame(df)\n",
    "\n",
    "df = generate_configurations()"
   ]
  },
  {
   "cell_type": "code",
   "execution_count": 40,
   "id": "32da8abd-2cf1-409a-9a98-add2049d4d3b",
   "metadata": {},
   "outputs": [],
   "source": [
    "def sample_workload(dimensions: int=4) -> list:\n",
    "    # See stackoverflow thread for why the simple solution is not uniform\n",
    "    # https://stackoverflow.com/questions/8064629/random-numbers-that-add-to-100-matlab\n",
    "    workload = list(np.random.rand(dimensions - 1)) + [0, 1]\n",
    "    workload.sort()\n",
    "    return [b - a for a, b in zip(workload, workload[1:])]\n",
    "\n",
    "def gen_workload_heat(samples=10):\n",
    "    df = []\n",
    "    for _ in tqdm(range(samples)):\n",
    "        z0, z1, q, w = sample_workload(dimensions=4)\n",
    "        wl = {'z0': z0, 'z1': z1, 'q': q, 'w': w}\n",
    "        learn = optimize(func=lambda x: cost_func_learned(x, wl),\n",
    "                         eps=1e-2, display=False)\n",
    "        hand = optimize(func=lambda x: cost_func_objective(x, wl),\n",
    "                        eps=1e-6, display=False)\n",
    "        cost_learn = cost_func_objective(learn.x, wl)\n",
    "        cost_hand = cost_func_objective(hand.x, wl)\n",
    "        df.append({\n",
    "            'z0': wl['z0'],\n",
    "            'z1': wl['z1'],\n",
    "            'q': wl['q'],\n",
    "            'w': wl['w'],\n",
    "            'learn_status': learn['status'],\n",
    "            'learn_h': learn.x[0],\n",
    "            'learn_T': learn.x[1],\n",
    "            'learn_Q': learn.x[2],\n",
    "            'hand_status': hand['status'],\n",
    "            'hand_h': hand.x[0],\n",
    "            'hand_T': hand.x[1],\n",
    "            'hand_Q': hand.x[2],\n",
    "            'cost_learn': cost_learn,\n",
    "            'cost_hand': cost_hand,\n",
    "        })\n",
    "    return pd.DataFrame(df)"
   ]
  },
  {
   "cell_type": "code",
   "execution_count": 41,
   "id": "8a388f91-6ce9-44cd-8624-52f192d6e18d",
   "metadata": {},
   "outputs": [
    {
     "data": {
      "application/json": {
       "ascii": false,
       "bar_format": null,
       "colour": null,
       "elapsed": 0.012145757675170898,
       "initial": 0,
       "n": 0,
       "ncols": null,
       "nrows": 71,
       "postfix": null,
       "prefix": "",
       "rate": null,
       "total": 100,
       "unit": "it",
       "unit_divisor": 1000,
       "unit_scale": false
      },
      "application/vnd.jupyter.widget-view+json": {
       "model_id": "5b163efed5434658aaaecc78b2f0341d",
       "version_major": 2,
       "version_minor": 0
      },
      "text/plain": [
       "  0%|          | 0/100 [00:00<?, ?it/s]"
      ]
     },
     "metadata": {},
     "output_type": "display_data"
    }
   ],
   "source": [
    "df = gen_workload_heat(100)"
   ]
  },
  {
   "cell_type": "code",
   "execution_count": 42,
   "id": "f79b293d-2269-43a5-a0ce-7a1fbf4aded5",
   "metadata": {},
   "outputs": [
    {
     "data": {
      "text/plain": [
       "Text(0.5, 1.0, 'Frequency of Error: Positive is Better')"
      ]
     },
     "execution_count": 42,
     "metadata": {},
     "output_type": "execute_result"
    },
    {
     "data": {
      "image/png": "[encoded data removed]",
      "text/plain": [
       "<Figure size 640x480 with 1 Axes>"
      ]
     },
     "metadata": {},
     "output_type": "display_data"
    }
   ],
   "source": [
    "df['delta'] = (df['cost_hand'] - df['cost_learn'])\n",
    "n, bins, patches = plt.hist(x=df['delta'], bins='auto', density=True)\n",
    "plt.xlabel('Delta (Analytical - Learned)')\n",
    "plt.title('Frequency of Error: Positive is Better')"
   ]
  },
  {
   "cell_type": "code",
   "execution_count": 43,
   "id": "ead567cd-cc6e-450f-9358-f2da4a22976a",
   "metadata": {
    "tags": []
   },
   "outputs": [
    {
     "data": {
      "text/html": [
       "<div>\n",
       "<style scoped>\n",
       "    .dataframe tbody tr th:only-of-type {\n",
       "        vertical-align: middle;\n",
       "    }\n",
       "\n",
       "    .dataframe tbody tr th {\n",
       "        vertical-align: top;\n",
       "    }\n",
       "\n",
       "    .dataframe thead th {\n",
       "        text-align: right;\n",
       "    }\n",
       "</style>\n",
       "<table border=\"1\" class=\"dataframe\">\n",
       "  <thead>\n",
       "    <tr style=\"text-align: right;\">\n",
       "      <th></th>\n",
       "      <th>z0</th>\n",
       "      <th>z1</th>\n",
       "      <th>q</th>\n",
       "      <th>w</th>\n",
       "      <th>learn_status</th>\n",
       "      <th>learn_h</th>\n",
       "      <th>learn_T</th>\n",
       "      <th>learn_Q</th>\n",
       "      <th>hand_status</th>\n",
       "      <th>hand_h</th>\n",
       "      <th>hand_T</th>\n",
       "      <th>hand_Q</th>\n",
       "      <th>cost_learn</th>\n",
       "      <th>cost_hand</th>\n",
       "      <th>delta</th>\n",
       "    </tr>\n",
       "  </thead>\n",
       "  <tbody>\n",
       "    <tr>\n",
       "      <th>55</th>\n",
       "      <td>0.13</td>\n",
       "      <td>0.02</td>\n",
       "      <td>0.22</td>\n",
       "      <td>0.62</td>\n",
       "      <td>0</td>\n",
       "      <td>2.16</td>\n",
       "      <td>50.00</td>\n",
       "      <td>1.00</td>\n",
       "      <td>0</td>\n",
       "      <td>2.27</td>\n",
       "      <td>7.23</td>\n",
       "      <td>2.00</td>\n",
       "      <td>14.33</td>\n",
       "      <td>4.00</td>\n",
       "      <td>-10.33</td>\n",
       "    </tr>\n",
       "    <tr>\n",
       "      <th>5</th>\n",
       "      <td>0.07</td>\n",
       "      <td>0.18</td>\n",
       "      <td>0.69</td>\n",
       "      <td>0.07</td>\n",
       "      <td>0</td>\n",
       "      <td>0.00</td>\n",
       "      <td>2.00</td>\n",
       "      <td>1.00</td>\n",
       "      <td>0</td>\n",
       "      <td>0.48</td>\n",
       "      <td>21.27</td>\n",
       "      <td>1.00</td>\n",
       "      <td>7.67</td>\n",
       "      <td>2.54</td>\n",
       "      <td>-5.13</td>\n",
       "    </tr>\n",
       "    <tr>\n",
       "      <th>18</th>\n",
       "      <td>0.08</td>\n",
       "      <td>0.14</td>\n",
       "      <td>0.57</td>\n",
       "      <td>0.22</td>\n",
       "      <td>9</td>\n",
       "      <td>1.55</td>\n",
       "      <td>10.04</td>\n",
       "      <td>3.99</td>\n",
       "      <td>0</td>\n",
       "      <td>0.49</td>\n",
       "      <td>9.14</td>\n",
       "      <td>1.00</td>\n",
       "      <td>7.78</td>\n",
       "      <td>3.49</td>\n",
       "      <td>-4.29</td>\n",
       "    </tr>\n",
       "    <tr>\n",
       "      <th>48</th>\n",
       "      <td>0.19</td>\n",
       "      <td>0.22</td>\n",
       "      <td>0.56</td>\n",
       "      <td>0.02</td>\n",
       "      <td>0</td>\n",
       "      <td>3.49</td>\n",
       "      <td>8.87</td>\n",
       "      <td>2.99</td>\n",
       "      <td>0</td>\n",
       "      <td>2.67</td>\n",
       "      <td>35.89</td>\n",
       "      <td>1.00</td>\n",
       "      <td>6.02</td>\n",
       "      <td>1.83</td>\n",
       "      <td>-4.20</td>\n",
       "    </tr>\n",
       "    <tr>\n",
       "      <th>15</th>\n",
       "      <td>0.08</td>\n",
       "      <td>0.36</td>\n",
       "      <td>0.45</td>\n",
       "      <td>0.11</td>\n",
       "      <td>9</td>\n",
       "      <td>3.09</td>\n",
       "      <td>6.60</td>\n",
       "      <td>2.99</td>\n",
       "      <td>0</td>\n",
       "      <td>1.41</td>\n",
       "      <td>12.07</td>\n",
       "      <td>1.00</td>\n",
       "      <td>5.92</td>\n",
       "      <td>2.56</td>\n",
       "      <td>-3.36</td>\n",
       "    </tr>\n",
       "    <tr>\n",
       "      <th>...</th>\n",
       "      <td>...</td>\n",
       "      <td>...</td>\n",
       "      <td>...</td>\n",
       "      <td>...</td>\n",
       "      <td>...</td>\n",
       "      <td>...</td>\n",
       "      <td>...</td>\n",
       "      <td>...</td>\n",
       "      <td>...</td>\n",
       "      <td>...</td>\n",
       "      <td>...</td>\n",
       "      <td>...</td>\n",
       "      <td>...</td>\n",
       "      <td>...</td>\n",
       "      <td>...</td>\n",
       "    </tr>\n",
       "    <tr>\n",
       "      <th>59</th>\n",
       "      <td>0.16</td>\n",
       "      <td>0.20</td>\n",
       "      <td>0.10</td>\n",
       "      <td>0.54</td>\n",
       "      <td>0</td>\n",
       "      <td>4.54</td>\n",
       "      <td>7.08</td>\n",
       "      <td>3.00</td>\n",
       "      <td>0</td>\n",
       "      <td>4.36</td>\n",
       "      <td>8.02</td>\n",
       "      <td>2.94</td>\n",
       "      <td>2.93</td>\n",
       "      <td>2.92</td>\n",
       "      <td>-0.01</td>\n",
       "    </tr>\n",
       "    <tr>\n",
       "      <th>73</th>\n",
       "      <td>0.10</td>\n",
       "      <td>0.62</td>\n",
       "      <td>0.16</td>\n",
       "      <td>0.12</td>\n",
       "      <td>0</td>\n",
       "      <td>2.54</td>\n",
       "      <td>7.98</td>\n",
       "      <td>1.00</td>\n",
       "      <td>0</td>\n",
       "      <td>3.25</td>\n",
       "      <td>6.78</td>\n",
       "      <td>1.00</td>\n",
       "      <td>2.07</td>\n",
       "      <td>2.06</td>\n",
       "      <td>-0.01</td>\n",
       "    </tr>\n",
       "    <tr>\n",
       "      <th>95</th>\n",
       "      <td>0.37</td>\n",
       "      <td>0.05</td>\n",
       "      <td>0.17</td>\n",
       "      <td>0.41</td>\n",
       "      <td>0</td>\n",
       "      <td>4.77</td>\n",
       "      <td>7.92</td>\n",
       "      <td>2.00</td>\n",
       "      <td>0</td>\n",
       "      <td>4.34</td>\n",
       "      <td>7.02</td>\n",
       "      <td>1.83</td>\n",
       "      <td>2.99</td>\n",
       "      <td>2.98</td>\n",
       "      <td>-0.01</td>\n",
       "    </tr>\n",
       "    <tr>\n",
       "      <th>67</th>\n",
       "      <td>0.02</td>\n",
       "      <td>0.06</td>\n",
       "      <td>0.25</td>\n",
       "      <td>0.66</td>\n",
       "      <td>0</td>\n",
       "      <td>0.29</td>\n",
       "      <td>7.90</td>\n",
       "      <td>2.00</td>\n",
       "      <td>0</td>\n",
       "      <td>0.05</td>\n",
       "      <td>7.13</td>\n",
       "      <td>1.92</td>\n",
       "      <td>4.22</td>\n",
       "      <td>4.21</td>\n",
       "      <td>-0.01</td>\n",
       "    </tr>\n",
       "    <tr>\n",
       "      <th>34</th>\n",
       "      <td>0.21</td>\n",
       "      <td>0.68</td>\n",
       "      <td>0.02</td>\n",
       "      <td>0.08</td>\n",
       "      <td>0</td>\n",
       "      <td>7.52</td>\n",
       "      <td>7.44</td>\n",
       "      <td>2.00</td>\n",
       "      <td>0</td>\n",
       "      <td>7.11</td>\n",
       "      <td>6.99</td>\n",
       "      <td>2.06</td>\n",
       "      <td>1.25</td>\n",
       "      <td>1.25</td>\n",
       "      <td>-0.00</td>\n",
       "    </tr>\n",
       "  </tbody>\n",
       "</table>\n",
       "<p>100 rows × 15 columns</p>\n",
       "</div>"
      ],
      "text/plain": [
       "     z0   z1    q    w  learn_status  learn_h  learn_T  learn_Q  hand_status  \\\n",
       "55 0.13 0.02 0.22 0.62             0     2.16    50.00     1.00            0   \n",
       "5  0.07 0.18 0.69 0.07             0     0.00     2.00     1.00            0   \n",
       "18 0.08 0.14 0.57 0.22             9     1.55    10.04     3.99            0   \n",
       "48 0.19 0.22 0.56 0.02             0     3.49     8.87     2.99            0   \n",
       "15 0.08 0.36 0.45 0.11             9     3.09     6.60     2.99            0   \n",
       "..  ...  ...  ...  ...           ...      ...      ...      ...          ...   \n",
       "59 0.16 0.20 0.10 0.54             0     4.54     7.08     3.00            0   \n",
       "73 0.10 0.62 0.16 0.12             0     2.54     7.98     1.00            0   \n",
       "95 0.37 0.05 0.17 0.41             0     4.77     7.92     2.00            0   \n",
       "67 0.02 0.06 0.25 0.66             0     0.29     7.90     2.00            0   \n",
       "34 0.21 0.68 0.02 0.08             0     7.52     7.44     2.00            0   \n",
       "\n",
       "    hand_h  hand_T  hand_Q  cost_learn  cost_hand  delta  \n",
       "55    2.27    7.23    2.00       14.33       4.00 -10.33  \n",
       "5     0.48   21.27    1.00        7.67       2.54  -5.13  \n",
       "18    0.49    9.14    1.00        7.78       3.49  -4.29  \n",
       "48    2.67   35.89    1.00        6.02       1.83  -4.20  \n",
       "15    1.41   12.07    1.00        5.92       2.56  -3.36  \n",
       "..     ...     ...     ...         ...        ...    ...  \n",
       "59    4.36    8.02    2.94        2.93       2.92  -0.01  \n",
       "73    3.25    6.78    1.00        2.07       2.06  -0.01  \n",
       "95    4.34    7.02    1.83        2.99       2.98  -0.01  \n",
       "67    0.05    7.13    1.92        4.22       4.21  -0.01  \n",
       "34    7.11    6.99    2.06        1.25       1.25  -0.00  \n",
       "\n",
       "[100 rows x 15 columns]"
      ]
     },
     "execution_count": 43,
     "metadata": {},
     "output_type": "execute_result"
    }
   ],
   "source": [
    "df.sort_values(by='delta')"
   ]
  },
  {
   "cell_type": "code",
   "execution_count": 44,
   "id": "0971677b-5555-4483-823e-5e0268daa495",
   "metadata": {},
   "outputs": [],
   "source": [
    "# idx = 485\n",
    "# df.iloc[idx].wl"
   ]
  },
  {
   "cell_type": "code",
   "execution_count": 45,
   "id": "c783e260-af1f-477b-85ff-0c7185c6f730",
   "metadata": {
    "tags": []
   },
   "outputs": [],
   "source": [
    "# df_tmp = gen_hist_data(df.iloc[idx].wl)\n",
    "\n",
    "# df_tmp['delta'] = abs((df_tmp['analytical'] - df_tmp['learned']) / df_tmp['analytical'])\n",
    "# n, bins, patches = plt.hist(x=df_tmp['delta'], bins='auto', density=True)\n",
    "# plt.xlabel('Delta (Analytical - Learned) / Analytical')\n",
    "# plt.title('Frequency of Absolute Error ($L_1$ Error)')\n",
    "# df.iloc[idx].wl"
   ]
  },
  {
   "cell_type": "code",
   "execution_count": 46,
   "id": "f3cd99e6-229d-4f91-b1ec-0b4d61f6861b",
   "metadata": {},
   "outputs": [],
   "source": [
    "# df_tmp"
   ]
  },
  {
   "cell_type": "code",
   "execution_count": 47,
   "id": "efb480fa-04eb-47f9-85e8-57936d6b5c96",
   "metadata": {},
   "outputs": [
    {
     "data": {
      "image/png": "[encoded data removed]",
      "text/plain": [
       "<Figure size 640x480 with 1 Axes>"
      ]
     },
     "metadata": {},
     "output_type": "display_data"
    }
   ],
   "source": [
    "fig = plt.figure()\n",
    "ax = fig.add_subplot(projection='3d')\n",
    "ax.scatter(xs=df['learn_h'], ys=df['learn_T'], zs=df['learn_Q'], marker='^', label='Learned')\n",
    "ax.scatter(xs=df['hand_h'], ys=df['hand_T'], zs=df['hand_Q'], marker='o', label='Hand', alpha=0.5)\n",
    "ax.set_xlabel('Bloom Filter Bits (h)')\n",
    "ax.set_ylabel('Size Ratio (T)')\n",
    "ax.set_zlabel('Files per Level (Q)')\n",
    "ax.legend()\n",
    "plt.show()"
   ]
  }
 ],
 "metadata": {
  "kernelspec": {
   "display_name": "Python 3 (ipykernel)",
   "language": "python",
   "name": "python3"
  },
  "language_info": {
   "codemirror_mode": {
    "name": "ipython",
    "version": 3
   },
   "file_extension": ".py",
   "mimetype": "text/x-python",
   "name": "python",
   "nbconvert_exporter": "python",
   "pygments_lexer": "ipython3",
   "version": "3.11.4"
  }
 },
 "nbformat": 4,
 "nbformat_minor": 5
}
