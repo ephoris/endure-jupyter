{
 "cells": [
  {
   "cell_type": "code",
   "execution_count": 62,
   "id": "03efe705",
   "metadata": {},
   "outputs": [],
   "source": [
    "import sys\n",
    "import os\n",
    "import toml\n",
    "\n",
    "import torch\n",
    "import torcharrow\n",
    "from torch import nn\n",
    "from torch.utils.data import Dataset, DataLoader, random_split\n",
    "from torchdata import datapipes as DataPipe\n",
    "\n",
    "import pandas as pd\n",
    "import numpy as np\n",
    "import scipy.optimize as SciOpt\n",
    "import matplotlib.pyplot as plt\n",
    "from IPython.display import display, HTML\n",
    "from tqdm.notebook import tqdm\n",
    "\n",
    "sys.path.append(os.path.join(sys.path[0], '../..'))\n",
    "\n",
    "from data.io import Reader\n",
    "from data.kcost_dataset import KCostDataSet\n",
    "from model.kcost import KCostModel\n",
    "from model.tierlevelcost import TierLevelCost\n",
    "from lsm.lsmtype import Policy\n",
    "from jobs.train import TrainJob\n",
    "import lsm.cost as CostFunc"
   ]
  },
  {
   "cell_type": "code",
   "execution_count": 63,
   "id": "ac0fee0d",
   "metadata": {},
   "outputs": [],
   "source": [
    "config = Reader.read_config('../../endure.toml')"
   ]
  },
  {
   "cell_type": "code",
   "execution_count": 306,
   "id": "19a88f1e",
   "metadata": {},
   "outputs": [
    {
     "data": {
      "text/plain": [
       "{'id': 14, 'z0': 0.01, 'z1': 0.33, 'q': 0.33, 'w': 0.33}"
      ]
     },
     "execution_count": 306,
     "metadata": {},
     "output_type": "execute_result"
    }
   ],
   "source": [
    "model_path = '/data/tiercost-10-27'\n",
    "config_model = Reader.read_config(os.path.join(model_path, 'config.toml'))\n",
    "\n",
    "workload = config_model['workloads'][14]\n",
    "z0, z1, q, w = (workload['z0'], workload['z1'], workload['q'], workload['w'])\n",
    "cf = CostFunc.EndureTierLevelCost(**config_model['system'])\n",
    "analytical_cf = lambda h, T: cf.calc_cost(h, T, Policy.Tiering, z0, z1, q, w)\n",
    "\n",
    "workload"
   ]
  },
  {
   "cell_type": "code",
   "execution_count": 307,
   "id": "0df13f71",
   "metadata": {},
   "outputs": [
    {
     "data": {
      "text/plain": [
       "<All keys matched successfully>"
      ]
     },
     "execution_count": 307,
     "metadata": {},
     "output_type": "execute_result"
    }
   ],
   "source": [
    "tj = TrainJob(config_model)\n",
    "model = tj._build_model()\n",
    "model_data = torch.load(os.path.join(model_path, 'kcost_min.model'), map_location=torch.device('cpu'))\n",
    "load_status = model.load_state_dict(model_data)\n",
    "model.eval()\n",
    "load_status"
   ]
  },
  {
   "cell_type": "code",
   "execution_count": 308,
   "id": "f823242a",
   "metadata": {},
   "outputs": [],
   "source": [
    "def cost_func_objective(args):\n",
    "    h, T = args[0], args[1]\n",
    "    return analytical_cf(h, T)\n",
    "\n",
    "def cost_func_learned(args):\n",
    "    h, T = args[0], args[1]\n",
    "    fraction = T - np.floor(T)\n",
    "    row = [0, 0, 0, 0, h, z0, z1, q, w] + [np.floor(T)]\n",
    "    row_next = [0, 0, 0, 0, h, z0, z1, q, w] + [np.ceil(T)]\n",
    "    _, inputs = tj._process_row(row)\n",
    "    _, inputs_next = tj._process_row(row_next)\n",
    "    inputs = torch.from_numpy(inputs.reshape(1, -1))\n",
    "    inputs_next = torch.from_numpy(inputs_next.reshape(1, -1))\n",
    "    with torch.no_grad():\n",
    "        pred = model(inputs)\n",
    "        pred = pred.sum().item() * (1 - fraction)\n",
    "#         pred = pred.sum().item()\n",
    "        pred_next = model(inputs_next)\n",
    "        pred_next = pred_next.sum().item() * (fraction)\n",
    "        pred += pred_next\n",
    "\n",
    "    return pred"
   ]
  },
  {
   "cell_type": "code",
   "execution_count": 314,
   "id": "7d736a9d",
   "metadata": {},
   "outputs": [],
   "source": [
    "one_mib_in_bits = 1024 * 1024 * 8\n",
    "T_UPPER_LIM = config_model['lsm']['size_ratio']['max']\n",
    "T_LOWER_LIM = config_model['lsm']['size_ratio']['min']\n",
    "H_UPPER_LIM = config_model['lsm']['bits_per_elem']['max']\n",
    "max_levels = config_model['lsm']['max_levels']\n",
    "\n",
    "h_initial = 9.\n",
    "T_initial = 5.\n",
    "# K_initial = [1.] * max_levels\n",
    "\n",
    "h_bounds = (0, H_UPPER_LIM)\n",
    "T_bounds = (T_LOWER_LIM, T_UPPER_LIM)\n",
    "# K_bounds = [(T_LOWER_LIM - 1, T_UPPER_LIM - 1)] * max_levels\n",
    "\n",
    "# bounds = [h_bounds, T_bounds] + K_bounds\n",
    "bounds = [h_bounds, T_bounds]\n",
    "min_cost = np.inf\n",
    "design = {}\n",
    "minimizer_kwargs = {\n",
    "    'method' : 'SLSQP',\n",
    "    'bounds' : bounds,\n",
    "    'options': {'ftol': 1e-6, 'eps': 1e-6, 'disp': True}}\n",
    "#     'options': {'ftol': 1e-9, 'disp': True}}\n",
    "# x0 = np.array([h_initial, T_initial] + K_initial)\n",
    "x0 = np.array([h_initial, T_initial])"
   ]
  },
  {
   "cell_type": "code",
   "execution_count": 310,
   "id": "55376c69",
   "metadata": {},
   "outputs": [
    {
     "data": {
      "text/plain": [
       "(8.279741287231445, 8.658929990309973)"
      ]
     },
     "execution_count": 310,
     "metadata": {},
     "output_type": "execute_result"
    }
   ],
   "source": [
    "cost_func_learned(x0), cost_func_objective(x0)"
   ]
  },
  {
   "cell_type": "code",
   "execution_count": 325,
   "id": "9c8cc791",
   "metadata": {},
   "outputs": [
    {
     "name": "stdout",
     "output_type": "stream",
     "text": [
      "Optimization terminated successfully    (Exit mode 0)\n",
      "            Current function value: 5.455202064104395\n",
      "            Iterations: 9\n",
      "            Function evaluations: 28\n",
      "            Gradient evaluations: 9\n"
     ]
    },
    {
     "data": {
      "text/plain": [
       "     fun: 5.455202064104395\n",
       "     jac: array([ 9.86899451e-05, -3.46673801e-04])\n",
       " message: 'Optimization terminated successfully'\n",
       "    nfev: 28\n",
       "     nit: 9\n",
       "    njev: 9\n",
       "  status: 0\n",
       " success: True\n",
       "       x: array([2.06198561, 2.10020871])"
      ]
     },
     "execution_count": 325,
     "metadata": {},
     "output_type": "execute_result"
    }
   ],
   "source": [
    "analytical_sol = SciOpt.minimize(\n",
    "    fun=cost_func_objective,\n",
    "    x0=x0,\n",
    "    **minimizer_kwargs\n",
    ")\n",
    "analytical_sol"
   ]
  },
  {
   "cell_type": "code",
   "execution_count": 326,
   "id": "2b771105",
   "metadata": {},
   "outputs": [
    {
     "name": "stdout",
     "output_type": "stream",
     "text": [
      "Optimization terminated successfully    (Exit mode 0)\n",
      "            Current function value: 4.210841178894044\n",
      "            Iterations: 7\n",
      "            Function evaluations: 32\n",
      "            Gradient evaluations: 7\n"
     ]
    },
    {
     "data": {
      "text/plain": [
       "     fun: 4.210841178894044\n",
       "     jac: array([0.       , 0.8467803])\n",
       " message: 'Optimization terminated successfully'\n",
       "    nfev: 32\n",
       "     nit: 7\n",
       "    njev: 7\n",
       "  status: 0\n",
       " success: True\n",
       "       x: array([3.200162, 2.      ])"
      ]
     },
     "execution_count": 326,
     "metadata": {},
     "output_type": "execute_result"
    }
   ],
   "source": [
    "learned_sol = SciOpt.minimize(\n",
    "    fun=cost_func_learned,\n",
    "    x0=x0,\n",
    "    **minimizer_kwargs\n",
    ")\n",
    "learned_sol"
   ]
  },
  {
   "cell_type": "code",
   "execution_count": 330,
   "id": "ddfe702d",
   "metadata": {},
   "outputs": [
    {
     "name": "stdout",
     "output_type": "stream",
     "text": [
      "[2.061985605925821, 2.0]\n",
      "[2.061985605925821, 3.0]\n",
      "[3.200162 2.      ]\n"
     ]
    },
    {
     "data": {
      "text/plain": [
       "(5.49973097204468, 5.464313942222028, 5.799611114859259)"
      ]
     },
     "execution_count": 330,
     "metadata": {},
     "output_type": "execute_result"
    }
   ],
   "source": [
    "analytical_args_floor = [analytical_sol.x[0], np.floor(analytical_sol.x[1])]\n",
    "analytical_args_ceil = [analytical_sol.x[0], np.ceil(analytical_sol.x[1])]\n",
    "print(analytical_args_floor)\n",
    "print(analytical_args_ceil)\n",
    "print(learned_sol.x)\n",
    "cost_func_objective(learned_sol.x), cost_func_objective(analytical_args_floor), cost_func_objective(analytical_args_ceil)"
   ]
  },
  {
   "cell_type": "code",
   "execution_count": 331,
   "id": "77691e3d",
   "metadata": {},
   "outputs": [],
   "source": [
    "df = []\n",
    "args = np.array([3, T_initial])\n",
    "for t in np.arange(2, 49, 1):\n",
    "    args[1] = t\n",
    "    df.append({\n",
    "        'T': t,\n",
    "        'learned': cost_func_learned(args),\n",
    "        'analytical': cost_func_objective(args)\n",
    "    })\n",
    "df = pd.DataFrame(df)"
   ]
  },
  {
   "cell_type": "code",
   "execution_count": 332,
   "id": "709d3b9d",
   "metadata": {},
   "outputs": [
    {
     "data": {
      "image/png": "[encoded data removed]",
      "text/plain": [
       "<Figure size 640x480 with 1 Axes>"
      ]
     },
     "metadata": {},
     "output_type": "display_data"
    }
   ],
   "source": [
    "x = df['T']\n",
    "y_learned = df['learned']\n",
    "y_analytical = df['analytical']\n",
    "\n",
    "fig, ax = plt.subplots()\n",
    "ax.plot(x, y_learned, label='Surrogate (Learned) Function')\n",
    "ax.plot(x, y_analytical, label='Analytical Function')\n",
    "ax.set_xlabel('Size Ratio (T)')\n",
    "ax.set_ylabel('Average I/O per Query')\n",
    "ax.set_title('Single Variable Estimation')\n",
    "ax.legend()\n",
    "None"
   ]
  },
  {
   "cell_type": "code",
   "execution_count": null,
   "id": "1b9cbba8",
   "metadata": {},
   "outputs": [],
   "source": []
  },
  {
   "cell_type": "code",
   "execution_count": null,
   "id": "f550fc52",
   "metadata": {},
   "outputs": [],
   "source": []
  }
 ],
 "metadata": {
  "kernelspec": {
   "display_name": "Python 3 (ipykernel)",
   "language": "python",
   "name": "python3"
  },
  "language_info": {
   "codemirror_mode": {
    "name": "ipython",
    "version": 3
   },
   "file_extension": ".py",
   "mimetype": "text/x-python",
   "name": "python",
   "nbconvert_exporter": "python",
   "pygments_lexer": "ipython3",
   "version": "3.9.15"
  }
 },
 "nbformat": 4,
 "nbformat_minor": 5
}
