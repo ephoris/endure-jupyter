{
 "cells": [
  {
   "cell_type": "code",
   "execution_count": 1,
   "id": "03efe705",
   "metadata": {
    "tags": []
   },
   "outputs": [],
   "source": [
    "import sys\n",
    "import os\n",
    "import toml\n",
    "\n",
    "import torch\n",
    "from torch import nn\n",
    "from torch.utils.data import Dataset, DataLoader, random_split\n",
    "from torchdata import datapipes as DataPipe\n",
    "\n",
    "import pandas as pd\n",
    "import numpy as np\n",
    "import scipy.optimize as SciOpt\n",
    "import matplotlib.pyplot as plt\n",
    "from tqdm.notebook import tqdm\n",
    "\n",
    "sys.path.append(os.path.join(sys.path[0], '../..'))\n",
    "\n",
    "from data.io import Reader\n",
    "from model.kcost import KCostModel\n",
    "from data.kcost_dataset import EndureDataPipeGenerator\n",
    "from model.tierlevelcost import TierLevelCost\n",
    "from lsm.lsmtype import Policy\n",
    "from jobs.train import TrainJob\n",
    "import lsm.cost as CostFunc"
   ]
  },
  {
   "cell_type": "code",
   "execution_count": 2,
   "id": "ac0fee0d",
   "metadata": {},
   "outputs": [],
   "source": [
    "config = Reader.read_config('../../endure.toml')"
   ]
  },
  {
   "cell_type": "code",
   "execution_count": 3,
   "id": "19a88f1e",
   "metadata": {
    "tags": []
   },
   "outputs": [],
   "source": [
    "model_path = '/data/qcost-11-18'\n",
    "config_model = Reader.read_config(os.path.join(model_path, 'config.toml'))\n",
    "ONE_MIB_BITS = 1024 * 1024 * 8\n",
    "T_UPPER_LIM = config_model['lsm']['size_ratio']['max'] - 1\n",
    "T_LOWER_LIM = config_model['lsm']['size_ratio']['min']\n",
    "H_UPPER_LIM = config_model['lsm']['bits_per_elem']['max']\n",
    "MAX_LEVELS = config_model['lsm']['max_levels']\n",
    "\n",
    "dpg = EndureDataPipeGenerator(config_model)"
   ]
  },
  {
   "cell_type": "code",
   "execution_count": 31,
   "id": "1186c0be-1e6b-4771-84c4-8482e814739b",
   "metadata": {},
   "outputs": [
    {
     "data": {
      "text/plain": [
       "'MSLE'"
      ]
     },
     "execution_count": 31,
     "metadata": {},
     "output_type": "execute_result"
    }
   ],
   "source": [
    "config_model['train']['loss_fn']"
   ]
  },
  {
   "cell_type": "code",
   "execution_count": 4,
   "id": "0df13f71",
   "metadata": {},
   "outputs": [
    {
     "data": {
      "text/plain": [
       "<All keys matched successfully>"
      ]
     },
     "execution_count": 4,
     "metadata": {},
     "output_type": "execute_result"
    }
   ],
   "source": [
    "tj = TrainJob(config_model)\n",
    "model = tj._build_model()\n",
    "model_data = torch.load(os.path.join(model_path, 'kcost_min.model'), map_location=torch.device('cpu'))\n",
    "load_status = model.load_state_dict(model_data)\n",
    "model.eval()\n",
    "load_status"
   ]
  },
  {
   "cell_type": "code",
   "execution_count": 57,
   "id": "f823242a",
   "metadata": {},
   "outputs": [],
   "source": [
    "cf = CostFunc.EndureQFixedCost(**config_model['system'])\n",
    "def cost_func_objective(args, wl):\n",
    "    h, T, Q = args[0], args[1], args[2]\n",
    "    z0, z1, q, w = wl['z0'], wl['z1'], wl['q'], wl['w']\n",
    "    return cf.calc_cost(h, T, Q, z0, z1, q, w)\n",
    "\n",
    "def l2_norm(a, b):\n",
    "    return np.linalg.norm((a, b), 2)\n",
    "\n",
    "def create_pairs(T, Q):\n",
    "    t_frac = T - np.floor(T)\n",
    "    q_frac = Q - np.floor(Q)\n",
    "    norms = (l2_norm(1 - t_frac, 1 - q_frac),\n",
    "             l2_norm(1 - t_frac, q_frac),\n",
    "             l2_norm(t_frac, 1 - q_frac),\n",
    "             l2_norm(t_frac, q_frac))\n",
    "    normalizer = sum(norms)\n",
    "    pairs = [[np.floor(T), np.floor(Q), norms[0] / normalizer],\n",
    "             [np.floor(T), np.ceil(Q), norms[1] / normalizer],\n",
    "             [np.ceil(T), np.floor(Q), norms[2] / normalizer],\n",
    "             [np.ceil(T), np.ceil(Q), norms[3] / normalizer]]\n",
    "    for idx, (t, q, norm) in enumerate(pairs):\n",
    "        if t <= T_LOWER_LIM:\n",
    "            pairs[idx][0] = T_LOWER_LIM\n",
    "        if t >= T_UPPER_LIM:\n",
    "            pairs[idx][0] = T_UPPER_LIM\n",
    "        if q >= T_UPPER_LIM - 1:\n",
    "            pairs[idx][1] = T_UPPER_LIM - 1\n",
    "        if t <= T_UPPER_LIM - 1:\n",
    "            pairs[idx][1] = T_LOWER_LIM - 1\n",
    "    return pairs\n",
    "\n",
    "def cost_func_learned_eval(args, wl):\n",
    "    h, T, Q = args[0], args[1], args[2]\n",
    "    z0, z1, q, w = wl['z0'], wl['z1'], wl['q'], wl['w']\n",
    "    row = [0, 0, 0, 0, h, z0, z1, q, w, T, Q]\n",
    "    _, inputs = dpg._process_row(row)\n",
    "    inputs = torch.from_numpy(inputs.reshape(1, -1))\n",
    "    with torch.no_grad():\n",
    "        pred = model(inputs)\n",
    "        pred = pred.sum().item() \n",
    "    return pred\n",
    "\n",
    "def cost_func_learned(args, wl):\n",
    "    h, T, Q = args[0], args[1], args[2]\n",
    "    pairs = create_pairs(T, Q)\n",
    "    val = 0\n",
    "    for (t_prime, q_prime, frac) in pairs:\n",
    "        val += frac * cost_func_learned_eval([h, t_prime, q_prime], wl)\n",
    "    return val"
   ]
  },
  {
   "cell_type": "code",
   "execution_count": 45,
   "id": "4396d52d-2dba-43f0-a097-13aadd3f1cec",
   "metadata": {},
   "outputs": [],
   "source": [
    "def optimize(func=None, h_initial=9., T_initial=5., Q_initial=3., eps=1e-6, display=False):\n",
    "    h_bounds = (0, H_UPPER_LIM)\n",
    "    T_bounds = (T_LOWER_LIM, T_UPPER_LIM)\n",
    "    Q_bounds = (T_LOWER_LIM - 1, T_UPPER_LIM - 1)\n",
    "\n",
    "    bounds = [h_bounds, T_bounds, Q_bounds]\n",
    "    min_cost = np.inf\n",
    "    design = {}\n",
    "    minimizer_kwargs = {\n",
    "        'method' : 'SLSQP',\n",
    "        'bounds' : bounds,\n",
    "        'options': {'ftol': 1e-9, 'eps': eps, 'disp': display}}\n",
    "    x0 = np.array([h_initial, T_initial, Q_initial])\n",
    "    \n",
    "    sol = SciOpt.minimize(\n",
    "        fun=func,\n",
    "        x0=x0,\n",
    "        **minimizer_kwargs\n",
    "    )\n",
    "    return sol"
   ]
  },
  {
   "cell_type": "code",
   "execution_count": 46,
   "id": "9c8cc791",
   "metadata": {},
   "outputs": [
    {
     "data": {
      "text/plain": [
       "     fun: 2.827294195864879\n",
       "     jac: array([-1.32671651e-07, -1.54599622e-07,  1.07174896e-06])\n",
       " message: 'Optimization terminated successfully'\n",
       "    nfev: 72\n",
       "     nit: 18\n",
       "    njev: 18\n",
       "  status: 0\n",
       " success: True\n",
       "       x: array([3.27812567, 6.10318895, 1.05539409])"
      ]
     },
     "execution_count": 46,
     "metadata": {},
     "output_type": "execute_result"
    }
   ],
   "source": [
    "analytical_sol = optimize(func=lambda x: cost_func_objective(x, config_model['workloads'][0]), eps=1e-2)\n",
    "analytical_sol"
   ]
  },
  {
   "cell_type": "code",
   "execution_count": 47,
   "id": "2b771105",
   "metadata": {},
   "outputs": [
    {
     "data": {
      "text/plain": [
       "     fun: 2.8226296912309534\n",
       "     jac: array([-0.00514388,  0.11755601,  1.64595034])\n",
       " message: 'Iteration limit reached'\n",
       "    nfev: 1275\n",
       "     nit: 100\n",
       "    njev: 100\n",
       "  status: 9\n",
       " success: False\n",
       "       x: array([3.16346341, 5.92439062, 1.        ])"
      ]
     },
     "execution_count": 47,
     "metadata": {},
     "output_type": "execute_result"
    }
   ],
   "source": [
    "learned_sol = optimize(func=lambda x: cost_func_learned(x, config_model['workloads'][0]), eps=1e-1)\n",
    "learned_sol"
   ]
  },
  {
   "cell_type": "code",
   "execution_count": 55,
   "id": "ddfe702d",
   "metadata": {},
   "outputs": [
    {
     "name": "stdout",
     "output_type": "stream",
     "text": [
      "Analytical Output: [3.27812567 6.10318895 1.05539409]-> 2.827294195864879\n",
      "Analytical Rounded: [3.2781256701489667, 6.0, 1.0]-> 2.830272435522601\n",
      "Analytical Rounded: [3.2781256701489667, 6.0, 2.0]-> 3.3352966647852185\n",
      "Analytical Rounded: [3.2781256701489667, 7.0, 1.0]-> 2.8545970966757404\n",
      "Analytical Rounded: [3.2781256701489667, 7.0, 2.0]-> 3.208054069994117\n",
      "Learned Output: [3.16346341 6.         1.        ]-> 2.830122177107609\n",
      "Learned Rounded: [3.16346341 6.         1.        ]-> 2.830122177107609\n"
     ]
    }
   ],
   "source": [
    "p_args = [[analytical_sol.x[0], np.floor(analytical_sol.x[1]), np.floor(analytical_sol.x[2])],\n",
    "          [analytical_sol.x[0], np.floor(analytical_sol.x[1]), np.ceil(analytical_sol.x[2])],\n",
    "          [analytical_sol.x[0], np.ceil(analytical_sol.x[1]), np.floor(analytical_sol.x[2])],\n",
    "          [analytical_sol.x[0], np.ceil(analytical_sol.x[1]), np.ceil(analytical_sol.x[2])],]\n",
    "print(f'Analytical Output: {analytical_sol.x}-> {cost_func_objective(analytical_sol.x, config_model[\"workloads\"][0])}')\n",
    "for arg in p_args:\n",
    "    print(f'Analytical Rounded: {arg}-> {cost_func_objective(arg, config_model[\"workloads\"][0])}')\n",
    "print(f'Learned Output: {learned_sol.x}-> {cost_func_objective(learned_sol.x, config_model[\"workloads\"][0])}')\n",
    "lsol = learned_sol.x\n",
    "lsol[1] = np.ceil(lsol[1])\n",
    "print(f'Learned Rounded: {lsol}-> {cost_func_objective(lsol, config_model[\"workloads\"][0])}')"
   ]
  },
  {
   "cell_type": "code",
   "execution_count": 75,
   "id": "77691e3d",
   "metadata": {},
   "outputs": [
    {
     "data": {
      "application/json": {
       "ascii": false,
       "bar_format": null,
       "colour": null,
       "elapsed": 0.04209470748901367,
       "initial": 0,
       "n": 0,
       "ncols": null,
       "nrows": 96,
       "postfix": null,
       "prefix": "",
       "rate": null,
       "total": 47,
       "unit": "it",
       "unit_divisor": 1000,
       "unit_scale": false
      },
      "application/vnd.jupyter.widget-view+json": {
       "model_id": "5e77ad4c5ef14a8282161e9db773d79b",
       "version_major": 2,
       "version_minor": 0
      },
      "text/plain": [
       "  0%|          | 0/47 [00:00<?, ?it/s]"
      ]
     },
     "metadata": {},
     "output_type": "display_data"
    }
   ],
   "source": [
    "def gen_single_data(idx=0):\n",
    "    workload = config_model['workloads'][idx]\n",
    "    df = []\n",
    "    h_fixed = 2\n",
    "    t_fixed = 30\n",
    "    q_fixed = 1\n",
    "    for val in tqdm(np.arange(2, 49, 1)):\n",
    "        x = [h_fixed, val, q_fixed]\n",
    "        df.append({\n",
    "            'x': val,\n",
    "            'learned': cost_func_learned_eval(x, workload),\n",
    "            'analytical': cost_func_objective(x, workload),\n",
    "        })\n",
    "    return pd.DataFrame(df)\n",
    "\n",
    "idx = 4\n",
    "df = gen_single_data(idx)"
   ]
  },
  {
   "cell_type": "code",
   "execution_count": 76,
   "id": "709d3b9d",
   "metadata": {},
   "outputs": [
    {
     "data": {
      "text/plain": [
       "{'id': 4, 'z0': 0.01, 'z1': 0.01, 'q': 0.01, 'w': 0.97}"
      ]
     },
     "execution_count": 76,
     "metadata": {},
     "output_type": "execute_result"
    },
    {
     "data": {
      "image/png": "[encoded data removed]",
      "text/plain": [
       "<Figure size 640x480 with 1 Axes>"
      ]
     },
     "metadata": {},
     "output_type": "display_data"
    }
   ],
   "source": [
    "x = df['x']\n",
    "y_learned = df['learned']\n",
    "y_analytical = df['analytical']\n",
    "\n",
    "\n",
    "fig, ax = plt.subplots()\n",
    "ax.plot(x, y_learned, label='Surrogate (Learned) Function')\n",
    "ax.plot(x, y_analytical, label='Analytical Function')\n",
    "ax.set_xlabel('Size Ratio (T)')\n",
    "ax.set_ylabel('Average I/O per Query')\n",
    "ax.set_title('Single Variable Estimation')\n",
    "ax.legend()\n",
    "workload = config_model['workloads'][idx]\n",
    "workload"
   ]
  },
  {
   "cell_type": "code",
   "execution_count": 12,
   "id": "2cc275e7-3801-43df-9d9a-672420c50bf9",
   "metadata": {
    "tags": []
   },
   "outputs": [],
   "source": [
    "def gen_hist_data(workload):\n",
    "    df = []\n",
    "    for h_p in tqdm(np.arange(0, H_UPPER_LIM, 0.5), leave=False):\n",
    "        for T_p in np.arange(T_LOWER_LIM, T_UPPER_LIM, 1):\n",
    "            for Q_p in range(T_LOWER_LIM - 1, T_p, 1):\n",
    "                x = [h_p, T_p, Q_p]\n",
    "                df.append({\n",
    "                    'workload': workload,\n",
    "                    'h': h_p,\n",
    "                    'T': T_p,\n",
    "                    'Q': Q_p,\n",
    "                    'learned': cost_func_learned_eval(x, workload),\n",
    "                    'analytical': cost_func_objective(x, workload),\n",
    "                })\n",
    "    return pd.DataFrame(df)"
   ]
  },
  {
   "cell_type": "code",
   "execution_count": 77,
   "id": "495707dd-777a-431b-99fe-a2873ad4257b",
   "metadata": {
    "tags": []
   },
   "outputs": [
    {
     "data": {
      "application/json": {
       "ascii": false,
       "bar_format": null,
       "colour": null,
       "elapsed": 0.014197111129760742,
       "initial": 0,
       "n": 0,
       "ncols": null,
       "nrows": 96,
       "postfix": null,
       "prefix": "",
       "rate": null,
       "total": 19,
       "unit": "it",
       "unit_divisor": 1000,
       "unit_scale": false
      },
      "application/vnd.jupyter.widget-view+json": {
       "model_id": "",
       "version_major": 2,
       "version_minor": 0
      },
      "text/plain": [
       "  0%|          | 0/19 [00:00<?, ?it/s]"
      ]
     },
     "metadata": {},
     "output_type": "display_data"
    },
    {
     "data": {
      "text/plain": [
       "{'id': 0, 'z0': 0.25, 'z1': 0.25, 'q': 0.25, 'w': 0.25}"
      ]
     },
     "execution_count": 77,
     "metadata": {},
     "output_type": "execute_result"
    },
    {
     "data": {
      "image/png": "[encoded data removed]",
      "text/plain": [
       "<Figure size 640x480 with 1 Axes>"
      ]
     },
     "metadata": {},
     "output_type": "display_data"
    }
   ],
   "source": [
    "idx = 0\n",
    "df = gen_hist_data(config_model['workloads'][idx])\n",
    "\n",
    "df['delta'] = abs((df['analytical'] - df['learned']) / df['analytical'])\n",
    "n, bins, patches = plt.hist(x=df['delta'], bins='auto', density=True)\n",
    "plt.xlabel('Delta (Analytical - Learned) / Analytical')\n",
    "plt.title('Frequency of Absolute Error ($L_1$ Error)')\n",
    "config_model['workloads'][idx]"
   ]
  },
  {
   "cell_type": "code",
   "execution_count": 78,
   "id": "7479e8ee-10eb-4207-9db9-797cdfa319b3",
   "metadata": {},
   "outputs": [
    {
     "data": {
      "text/html": [
       "<div>\n",
       "<style scoped>\n",
       "    .dataframe tbody tr th:only-of-type {\n",
       "        vertical-align: middle;\n",
       "    }\n",
       "\n",
       "    .dataframe tbody tr th {\n",
       "        vertical-align: top;\n",
       "    }\n",
       "\n",
       "    .dataframe thead th {\n",
       "        text-align: right;\n",
       "    }\n",
       "</style>\n",
       "<table border=\"1\" class=\"dataframe\">\n",
       "  <thead>\n",
       "    <tr style=\"text-align: right;\">\n",
       "      <th></th>\n",
       "      <th>workload</th>\n",
       "      <th>h</th>\n",
       "      <th>T</th>\n",
       "      <th>Q</th>\n",
       "      <th>learned</th>\n",
       "      <th>analytical</th>\n",
       "      <th>delta</th>\n",
       "    </tr>\n",
       "  </thead>\n",
       "  <tbody>\n",
       "    <tr>\n",
       "      <th>0</th>\n",
       "      <td>{'id': 0, 'z0': 0.25, 'z1': 0.25, 'q': 0.25, '...</td>\n",
       "      <td>0.0</td>\n",
       "      <td>2</td>\n",
       "      <td>1</td>\n",
       "      <td>5.345865</td>\n",
       "      <td>5.211643</td>\n",
       "      <td>0.025754</td>\n",
       "    </tr>\n",
       "    <tr>\n",
       "      <th>1</th>\n",
       "      <td>{'id': 0, 'z0': 0.25, 'z1': 0.25, 'q': 0.25, '...</td>\n",
       "      <td>0.0</td>\n",
       "      <td>3</td>\n",
       "      <td>1</td>\n",
       "      <td>3.752689</td>\n",
       "      <td>3.733320</td>\n",
       "      <td>0.005188</td>\n",
       "    </tr>\n",
       "    <tr>\n",
       "      <th>2</th>\n",
       "      <td>{'id': 0, 'z0': 0.25, 'z1': 0.25, 'q': 0.25, '...</td>\n",
       "      <td>0.0</td>\n",
       "      <td>3</td>\n",
       "      <td>2</td>\n",
       "      <td>5.832992</td>\n",
       "      <td>5.852271</td>\n",
       "      <td>0.003294</td>\n",
       "    </tr>\n",
       "    <tr>\n",
       "      <th>3</th>\n",
       "      <td>{'id': 0, 'z0': 0.25, 'z1': 0.25, 'q': 0.25, '...</td>\n",
       "      <td>0.0</td>\n",
       "      <td>4</td>\n",
       "      <td>1</td>\n",
       "      <td>3.291880</td>\n",
       "      <td>3.303988</td>\n",
       "      <td>0.003665</td>\n",
       "    </tr>\n",
       "    <tr>\n",
       "      <th>4</th>\n",
       "      <td>{'id': 0, 'z0': 0.25, 'z1': 0.25, 'q': 0.25, '...</td>\n",
       "      <td>0.0</td>\n",
       "      <td>4</td>\n",
       "      <td>2</td>\n",
       "      <td>4.831085</td>\n",
       "      <td>4.853151</td>\n",
       "      <td>0.004547</td>\n",
       "    </tr>\n",
       "    <tr>\n",
       "      <th>...</th>\n",
       "      <td>...</td>\n",
       "      <td>...</td>\n",
       "      <td>...</td>\n",
       "      <td>...</td>\n",
       "      <td>...</td>\n",
       "      <td>...</td>\n",
       "      <td>...</td>\n",
       "    </tr>\n",
       "    <tr>\n",
       "      <th>21427</th>\n",
       "      <td>{'id': 0, 'z0': 0.25, 'z1': 0.25, 'q': 0.25, '...</td>\n",
       "      <td>9.0</td>\n",
       "      <td>48</td>\n",
       "      <td>43</td>\n",
       "      <td>25.962715</td>\n",
       "      <td>25.812482</td>\n",
       "      <td>0.005820</td>\n",
       "    </tr>\n",
       "    <tr>\n",
       "      <th>21428</th>\n",
       "      <td>{'id': 0, 'z0': 0.25, 'z1': 0.25, 'q': 0.25, '...</td>\n",
       "      <td>9.0</td>\n",
       "      <td>48</td>\n",
       "      <td>44</td>\n",
       "      <td>26.546806</td>\n",
       "      <td>26.396304</td>\n",
       "      <td>0.005702</td>\n",
       "    </tr>\n",
       "    <tr>\n",
       "      <th>21429</th>\n",
       "      <td>{'id': 0, 'z0': 0.25, 'z1': 0.25, 'q': 0.25, '...</td>\n",
       "      <td>9.0</td>\n",
       "      <td>48</td>\n",
       "      <td>45</td>\n",
       "      <td>27.125813</td>\n",
       "      <td>26.980286</td>\n",
       "      <td>0.005394</td>\n",
       "    </tr>\n",
       "    <tr>\n",
       "      <th>21430</th>\n",
       "      <td>{'id': 0, 'z0': 0.25, 'z1': 0.25, 'q': 0.25, '...</td>\n",
       "      <td>9.0</td>\n",
       "      <td>48</td>\n",
       "      <td>46</td>\n",
       "      <td>27.696644</td>\n",
       "      <td>27.564419</td>\n",
       "      <td>0.004797</td>\n",
       "    </tr>\n",
       "    <tr>\n",
       "      <th>21431</th>\n",
       "      <td>{'id': 0, 'z0': 0.25, 'z1': 0.25, 'q': 0.25, '...</td>\n",
       "      <td>9.0</td>\n",
       "      <td>48</td>\n",
       "      <td>47</td>\n",
       "      <td>28.313847</td>\n",
       "      <td>28.148692</td>\n",
       "      <td>0.005867</td>\n",
       "    </tr>\n",
       "  </tbody>\n",
       "</table>\n",
       "<p>21432 rows × 7 columns</p>\n",
       "</div>"
      ],
      "text/plain": [
       "                                                workload    h   T   Q  \\\n",
       "0      {'id': 0, 'z0': 0.25, 'z1': 0.25, 'q': 0.25, '...  0.0   2   1   \n",
       "1      {'id': 0, 'z0': 0.25, 'z1': 0.25, 'q': 0.25, '...  0.0   3   1   \n",
       "2      {'id': 0, 'z0': 0.25, 'z1': 0.25, 'q': 0.25, '...  0.0   3   2   \n",
       "3      {'id': 0, 'z0': 0.25, 'z1': 0.25, 'q': 0.25, '...  0.0   4   1   \n",
       "4      {'id': 0, 'z0': 0.25, 'z1': 0.25, 'q': 0.25, '...  0.0   4   2   \n",
       "...                                                  ...  ...  ..  ..   \n",
       "21427  {'id': 0, 'z0': 0.25, 'z1': 0.25, 'q': 0.25, '...  9.0  48  43   \n",
       "21428  {'id': 0, 'z0': 0.25, 'z1': 0.25, 'q': 0.25, '...  9.0  48  44   \n",
       "21429  {'id': 0, 'z0': 0.25, 'z1': 0.25, 'q': 0.25, '...  9.0  48  45   \n",
       "21430  {'id': 0, 'z0': 0.25, 'z1': 0.25, 'q': 0.25, '...  9.0  48  46   \n",
       "21431  {'id': 0, 'z0': 0.25, 'z1': 0.25, 'q': 0.25, '...  9.0  48  47   \n",
       "\n",
       "         learned  analytical     delta  \n",
       "0       5.345865    5.211643  0.025754  \n",
       "1       3.752689    3.733320  0.005188  \n",
       "2       5.832992    5.852271  0.003294  \n",
       "3       3.291880    3.303988  0.003665  \n",
       "4       4.831085    4.853151  0.004547  \n",
       "...          ...         ...       ...  \n",
       "21427  25.962715   25.812482  0.005820  \n",
       "21428  26.546806   26.396304  0.005702  \n",
       "21429  27.125813   26.980286  0.005394  \n",
       "21430  27.696644   27.564419  0.004797  \n",
       "21431  28.313847   28.148692  0.005867  \n",
       "\n",
       "[21432 rows x 7 columns]"
      ]
     },
     "execution_count": 78,
     "metadata": {},
     "output_type": "execute_result"
    }
   ],
   "source": [
    "df"
   ]
  },
  {
   "cell_type": "code",
   "execution_count": 78,
   "id": "675235d8-3488-4a1e-8f17-9656b8b25d2e",
   "metadata": {},
   "outputs": [
    {
     "data": {
      "text/html": [
       "<div>\n",
       "<style scoped>\n",
       "    .dataframe tbody tr th:only-of-type {\n",
       "        vertical-align: middle;\n",
       "    }\n",
       "\n",
       "    .dataframe tbody tr th {\n",
       "        vertical-align: top;\n",
       "    }\n",
       "\n",
       "    .dataframe thead th {\n",
       "        text-align: right;\n",
       "    }\n",
       "</style>\n",
       "<table border=\"1\" class=\"dataframe\">\n",
       "  <thead>\n",
       "    <tr style=\"text-align: right;\">\n",
       "      <th></th>\n",
       "      <th>workload</th>\n",
       "      <th>h</th>\n",
       "      <th>T</th>\n",
       "      <th>Q</th>\n",
       "      <th>learned</th>\n",
       "      <th>analytical</th>\n",
       "      <th>delta</th>\n",
       "    </tr>\n",
       "  </thead>\n",
       "  <tbody>\n",
       "    <tr>\n",
       "      <th>0</th>\n",
       "      <td>{'id': 0, 'z0': 0.25, 'z1': 0.25, 'q': 0.25, '...</td>\n",
       "      <td>0.0</td>\n",
       "      <td>2</td>\n",
       "      <td>1</td>\n",
       "      <td>5.345865</td>\n",
       "      <td>5.211643</td>\n",
       "      <td>0.025754</td>\n",
       "    </tr>\n",
       "    <tr>\n",
       "      <th>1</th>\n",
       "      <td>{'id': 0, 'z0': 0.25, 'z1': 0.25, 'q': 0.25, '...</td>\n",
       "      <td>0.0</td>\n",
       "      <td>3</td>\n",
       "      <td>1</td>\n",
       "      <td>3.752689</td>\n",
       "      <td>3.733320</td>\n",
       "      <td>0.005188</td>\n",
       "    </tr>\n",
       "    <tr>\n",
       "      <th>2</th>\n",
       "      <td>{'id': 0, 'z0': 0.25, 'z1': 0.25, 'q': 0.25, '...</td>\n",
       "      <td>0.0</td>\n",
       "      <td>3</td>\n",
       "      <td>2</td>\n",
       "      <td>5.832992</td>\n",
       "      <td>5.852271</td>\n",
       "      <td>0.003294</td>\n",
       "    </tr>\n",
       "    <tr>\n",
       "      <th>3</th>\n",
       "      <td>{'id': 0, 'z0': 0.25, 'z1': 0.25, 'q': 0.25, '...</td>\n",
       "      <td>0.0</td>\n",
       "      <td>4</td>\n",
       "      <td>1</td>\n",
       "      <td>3.291880</td>\n",
       "      <td>3.303988</td>\n",
       "      <td>0.003665</td>\n",
       "    </tr>\n",
       "    <tr>\n",
       "      <th>4</th>\n",
       "      <td>{'id': 0, 'z0': 0.25, 'z1': 0.25, 'q': 0.25, '...</td>\n",
       "      <td>0.0</td>\n",
       "      <td>4</td>\n",
       "      <td>2</td>\n",
       "      <td>4.831085</td>\n",
       "      <td>4.853151</td>\n",
       "      <td>0.004547</td>\n",
       "    </tr>\n",
       "    <tr>\n",
       "      <th>...</th>\n",
       "      <td>...</td>\n",
       "      <td>...</td>\n",
       "      <td>...</td>\n",
       "      <td>...</td>\n",
       "      <td>...</td>\n",
       "      <td>...</td>\n",
       "      <td>...</td>\n",
       "    </tr>\n",
       "    <tr>\n",
       "      <th>21427</th>\n",
       "      <td>{'id': 0, 'z0': 0.25, 'z1': 0.25, 'q': 0.25, '...</td>\n",
       "      <td>9.0</td>\n",
       "      <td>48</td>\n",
       "      <td>43</td>\n",
       "      <td>25.962715</td>\n",
       "      <td>25.812482</td>\n",
       "      <td>0.005820</td>\n",
       "    </tr>\n",
       "    <tr>\n",
       "      <th>21428</th>\n",
       "      <td>{'id': 0, 'z0': 0.25, 'z1': 0.25, 'q': 0.25, '...</td>\n",
       "      <td>9.0</td>\n",
       "      <td>48</td>\n",
       "      <td>44</td>\n",
       "      <td>26.546806</td>\n",
       "      <td>26.396304</td>\n",
       "      <td>0.005702</td>\n",
       "    </tr>\n",
       "    <tr>\n",
       "      <th>21429</th>\n",
       "      <td>{'id': 0, 'z0': 0.25, 'z1': 0.25, 'q': 0.25, '...</td>\n",
       "      <td>9.0</td>\n",
       "      <td>48</td>\n",
       "      <td>45</td>\n",
       "      <td>27.125813</td>\n",
       "      <td>26.980286</td>\n",
       "      <td>0.005394</td>\n",
       "    </tr>\n",
       "    <tr>\n",
       "      <th>21430</th>\n",
       "      <td>{'id': 0, 'z0': 0.25, 'z1': 0.25, 'q': 0.25, '...</td>\n",
       "      <td>9.0</td>\n",
       "      <td>48</td>\n",
       "      <td>46</td>\n",
       "      <td>27.696644</td>\n",
       "      <td>27.564419</td>\n",
       "      <td>0.004797</td>\n",
       "    </tr>\n",
       "    <tr>\n",
       "      <th>21431</th>\n",
       "      <td>{'id': 0, 'z0': 0.25, 'z1': 0.25, 'q': 0.25, '...</td>\n",
       "      <td>9.0</td>\n",
       "      <td>48</td>\n",
       "      <td>47</td>\n",
       "      <td>28.313847</td>\n",
       "      <td>28.148692</td>\n",
       "      <td>0.005867</td>\n",
       "    </tr>\n",
       "  </tbody>\n",
       "</table>\n",
       "<p>21432 rows × 7 columns</p>\n",
       "</div>"
      ],
      "text/plain": [
       "                                                workload    h   T   Q  \\\n",
       "0      {'id': 0, 'z0': 0.25, 'z1': 0.25, 'q': 0.25, '...  0.0   2   1   \n",
       "1      {'id': 0, 'z0': 0.25, 'z1': 0.25, 'q': 0.25, '...  0.0   3   1   \n",
       "2      {'id': 0, 'z0': 0.25, 'z1': 0.25, 'q': 0.25, '...  0.0   3   2   \n",
       "3      {'id': 0, 'z0': 0.25, 'z1': 0.25, 'q': 0.25, '...  0.0   4   1   \n",
       "4      {'id': 0, 'z0': 0.25, 'z1': 0.25, 'q': 0.25, '...  0.0   4   2   \n",
       "...                                                  ...  ...  ..  ..   \n",
       "21427  {'id': 0, 'z0': 0.25, 'z1': 0.25, 'q': 0.25, '...  9.0  48  43   \n",
       "21428  {'id': 0, 'z0': 0.25, 'z1': 0.25, 'q': 0.25, '...  9.0  48  44   \n",
       "21429  {'id': 0, 'z0': 0.25, 'z1': 0.25, 'q': 0.25, '...  9.0  48  45   \n",
       "21430  {'id': 0, 'z0': 0.25, 'z1': 0.25, 'q': 0.25, '...  9.0  48  46   \n",
       "21431  {'id': 0, 'z0': 0.25, 'z1': 0.25, 'q': 0.25, '...  9.0  48  47   \n",
       "\n",
       "         learned  analytical     delta  \n",
       "0       5.345865    5.211643  0.025754  \n",
       "1       3.752689    3.733320  0.005188  \n",
       "2       5.832992    5.852271  0.003294  \n",
       "3       3.291880    3.303988  0.003665  \n",
       "4       4.831085    4.853151  0.004547  \n",
       "...          ...         ...       ...  \n",
       "21427  25.962715   25.812482  0.005820  \n",
       "21428  26.546806   26.396304  0.005702  \n",
       "21429  27.125813   26.980286  0.005394  \n",
       "21430  27.696644   27.564419  0.004797  \n",
       "21431  28.313847   28.148692  0.005867  \n",
       "\n",
       "[21432 rows x 7 columns]"
      ]
     },
     "execution_count": 78,
     "metadata": {},
     "output_type": "execute_result"
    }
   ],
   "source": [
    "df"
   ]
  },
  {
   "cell_type": "code",
   "execution_count": 14,
   "id": "e77d6471-c5f8-44cf-aab7-569e4f2afa94",
   "metadata": {
    "collapsed": true,
    "jupyter": {
     "outputs_hidden": true
    },
    "tags": []
   },
   "outputs": [
    {
     "data": {
      "application/json": {
       "ascii": false,
       "bar_format": null,
       "colour": null,
       "elapsed": 0.013953447341918945,
       "initial": 0,
       "n": 0,
       "ncols": null,
       "nrows": 96,
       "postfix": null,
       "prefix": "",
       "rate": null,
       "total": 15,
       "unit": "it",
       "unit_divisor": 1000,
       "unit_scale": false
      },
      "application/vnd.jupyter.widget-view+json": {
       "model_id": "bf858a4b32274680a0f4613c2fe94e1b",
       "version_major": 2,
       "version_minor": 0
      },
      "text/plain": [
       "  0%|          | 0/15 [00:00<?, ?it/s]"
      ]
     },
     "metadata": {},
     "output_type": "display_data"
    },
    {
     "data": {
      "application/json": {
       "ascii": false,
       "bar_format": null,
       "colour": null,
       "elapsed": 0.01801586151123047,
       "initial": 0,
       "n": 0,
       "ncols": null,
       "nrows": 96,
       "postfix": null,
       "prefix": "",
       "rate": null,
       "total": 19,
       "unit": "it",
       "unit_divisor": 1000,
       "unit_scale": false
      },
      "application/vnd.jupyter.widget-view+json": {
       "model_id": "",
       "version_major": 2,
       "version_minor": 0
      },
      "text/plain": [
       "  0%|          | 0/19 [00:00<?, ?it/s]"
      ]
     },
     "metadata": {},
     "output_type": "display_data"
    },
    {
     "data": {
      "application/json": {
       "ascii": false,
       "bar_format": null,
       "colour": null,
       "elapsed": 0.011935234069824219,
       "initial": 0,
       "n": 0,
       "ncols": null,
       "nrows": 96,
       "postfix": null,
       "prefix": "",
       "rate": null,
       "total": 19,
       "unit": "it",
       "unit_divisor": 1000,
       "unit_scale": false
      },
      "application/vnd.jupyter.widget-view+json": {
       "model_id": "",
       "version_major": 2,
       "version_minor": 0
      },
      "text/plain": [
       "  0%|          | 0/19 [00:00<?, ?it/s]"
      ]
     },
     "metadata": {},
     "output_type": "display_data"
    },
    {
     "data": {
      "application/json": {
       "ascii": false,
       "bar_format": null,
       "colour": null,
       "elapsed": 0.044359445571899414,
       "initial": 0,
       "n": 0,
       "ncols": null,
       "nrows": 96,
       "postfix": null,
       "prefix": "",
       "rate": null,
       "total": 19,
       "unit": "it",
       "unit_divisor": 1000,
       "unit_scale": false
      },
      "application/vnd.jupyter.widget-view+json": {
       "model_id": "",
       "version_major": 2,
       "version_minor": 0
      },
      "text/plain": [
       "  0%|          | 0/19 [00:00<?, ?it/s]"
      ]
     },
     "metadata": {},
     "output_type": "display_data"
    },
    {
     "data": {
      "application/json": {
       "ascii": false,
       "bar_format": null,
       "colour": null,
       "elapsed": 0.012045860290527344,
       "initial": 0,
       "n": 0,
       "ncols": null,
       "nrows": 96,
       "postfix": null,
       "prefix": "",
       "rate": null,
       "total": 19,
       "unit": "it",
       "unit_divisor": 1000,
       "unit_scale": false
      },
      "application/vnd.jupyter.widget-view+json": {
       "model_id": "",
       "version_major": 2,
       "version_minor": 0
      },
      "text/plain": [
       "  0%|          | 0/19 [00:00<?, ?it/s]"
      ]
     },
     "metadata": {},
     "output_type": "display_data"
    },
    {
     "data": {
      "application/json": {
       "ascii": false,
       "bar_format": null,
       "colour": null,
       "elapsed": 0.01167917251586914,
       "initial": 0,
       "n": 0,
       "ncols": null,
       "nrows": 96,
       "postfix": null,
       "prefix": "",
       "rate": null,
       "total": 19,
       "unit": "it",
       "unit_divisor": 1000,
       "unit_scale": false
      },
      "application/vnd.jupyter.widget-view+json": {
       "model_id": "",
       "version_major": 2,
       "version_minor": 0
      },
      "text/plain": [
       "  0%|          | 0/19 [00:00<?, ?it/s]"
      ]
     },
     "metadata": {},
     "output_type": "display_data"
    },
    {
     "data": {
      "application/json": {
       "ascii": false,
       "bar_format": null,
       "colour": null,
       "elapsed": 0.01534581184387207,
       "initial": 0,
       "n": 0,
       "ncols": null,
       "nrows": 96,
       "postfix": null,
       "prefix": "",
       "rate": null,
       "total": 19,
       "unit": "it",
       "unit_divisor": 1000,
       "unit_scale": false
      },
      "application/vnd.jupyter.widget-view+json": {
       "model_id": "",
       "version_major": 2,
       "version_minor": 0
      },
      "text/plain": [
       "  0%|          | 0/19 [00:00<?, ?it/s]"
      ]
     },
     "metadata": {},
     "output_type": "display_data"
    },
    {
     "data": {
      "application/json": {
       "ascii": false,
       "bar_format": null,
       "colour": null,
       "elapsed": 0.011871099472045898,
       "initial": 0,
       "n": 0,
       "ncols": null,
       "nrows": 96,
       "postfix": null,
       "prefix": "",
       "rate": null,
       "total": 19,
       "unit": "it",
       "unit_divisor": 1000,
       "unit_scale": false
      },
      "application/vnd.jupyter.widget-view+json": {
       "model_id": "",
       "version_major": 2,
       "version_minor": 0
      },
      "text/plain": [
       "  0%|          | 0/19 [00:00<?, ?it/s]"
      ]
     },
     "metadata": {},
     "output_type": "display_data"
    },
    {
     "data": {
      "application/json": {
       "ascii": false,
       "bar_format": null,
       "colour": null,
       "elapsed": 0.011725425720214844,
       "initial": 0,
       "n": 0,
       "ncols": null,
       "nrows": 96,
       "postfix": null,
       "prefix": "",
       "rate": null,
       "total": 19,
       "unit": "it",
       "unit_divisor": 1000,
       "unit_scale": false
      },
      "application/vnd.jupyter.widget-view+json": {
       "model_id": "",
       "version_major": 2,
       "version_minor": 0
      },
      "text/plain": [
       "  0%|          | 0/19 [00:00<?, ?it/s]"
      ]
     },
     "metadata": {},
     "output_type": "display_data"
    },
    {
     "data": {
      "application/json": {
       "ascii": false,
       "bar_format": null,
       "colour": null,
       "elapsed": 0.013904571533203125,
       "initial": 0,
       "n": 0,
       "ncols": null,
       "nrows": 96,
       "postfix": null,
       "prefix": "",
       "rate": null,
       "total": 19,
       "unit": "it",
       "unit_divisor": 1000,
       "unit_scale": false
      },
      "application/vnd.jupyter.widget-view+json": {
       "model_id": "",
       "version_major": 2,
       "version_minor": 0
      },
      "text/plain": [
       "  0%|          | 0/19 [00:00<?, ?it/s]"
      ]
     },
     "metadata": {},
     "output_type": "display_data"
    },
    {
     "data": {
      "application/json": {
       "ascii": false,
       "bar_format": null,
       "colour": null,
       "elapsed": 0.014107465744018555,
       "initial": 0,
       "n": 0,
       "ncols": null,
       "nrows": 96,
       "postfix": null,
       "prefix": "",
       "rate": null,
       "total": 19,
       "unit": "it",
       "unit_divisor": 1000,
       "unit_scale": false
      },
      "application/vnd.jupyter.widget-view+json": {
       "model_id": "",
       "version_major": 2,
       "version_minor": 0
      },
      "text/plain": [
       "  0%|          | 0/19 [00:00<?, ?it/s]"
      ]
     },
     "metadata": {},
     "output_type": "display_data"
    },
    {
     "data": {
      "application/json": {
       "ascii": false,
       "bar_format": null,
       "colour": null,
       "elapsed": 0.022916555404663086,
       "initial": 0,
       "n": 0,
       "ncols": null,
       "nrows": 96,
       "postfix": null,
       "prefix": "",
       "rate": null,
       "total": 19,
       "unit": "it",
       "unit_divisor": 1000,
       "unit_scale": false
      },
      "application/vnd.jupyter.widget-view+json": {
       "model_id": "",
       "version_major": 2,
       "version_minor": 0
      },
      "text/plain": [
       "  0%|          | 0/19 [00:00<?, ?it/s]"
      ]
     },
     "metadata": {},
     "output_type": "display_data"
    },
    {
     "data": {
      "application/json": {
       "ascii": false,
       "bar_format": null,
       "colour": null,
       "elapsed": 0.015112638473510742,
       "initial": 0,
       "n": 0,
       "ncols": null,
       "nrows": 96,
       "postfix": null,
       "prefix": "",
       "rate": null,
       "total": 19,
       "unit": "it",
       "unit_divisor": 1000,
       "unit_scale": false
      },
      "application/vnd.jupyter.widget-view+json": {
       "model_id": "",
       "version_major": 2,
       "version_minor": 0
      },
      "text/plain": [
       "  0%|          | 0/19 [00:00<?, ?it/s]"
      ]
     },
     "metadata": {},
     "output_type": "display_data"
    },
    {
     "data": {
      "application/json": {
       "ascii": false,
       "bar_format": null,
       "colour": null,
       "elapsed": 0.014061689376831055,
       "initial": 0,
       "n": 0,
       "ncols": null,
       "nrows": 96,
       "postfix": null,
       "prefix": "",
       "rate": null,
       "total": 19,
       "unit": "it",
       "unit_divisor": 1000,
       "unit_scale": false
      },
      "application/vnd.jupyter.widget-view+json": {
       "model_id": "",
       "version_major": 2,
       "version_minor": 0
      },
      "text/plain": [
       "  0%|          | 0/19 [00:00<?, ?it/s]"
      ]
     },
     "metadata": {},
     "output_type": "display_data"
    },
    {
     "data": {
      "application/json": {
       "ascii": false,
       "bar_format": null,
       "colour": null,
       "elapsed": 0.011560201644897461,
       "initial": 0,
       "n": 0,
       "ncols": null,
       "nrows": 96,
       "postfix": null,
       "prefix": "",
       "rate": null,
       "total": 19,
       "unit": "it",
       "unit_divisor": 1000,
       "unit_scale": false
      },
      "application/vnd.jupyter.widget-view+json": {
       "model_id": "",
       "version_major": 2,
       "version_minor": 0
      },
      "text/plain": [
       "  0%|          | 0/19 [00:00<?, ?it/s]"
      ]
     },
     "metadata": {},
     "output_type": "display_data"
    },
    {
     "data": {
      "application/json": {
       "ascii": false,
       "bar_format": null,
       "colour": null,
       "elapsed": 0.012357950210571289,
       "initial": 0,
       "n": 0,
       "ncols": null,
       "nrows": 96,
       "postfix": null,
       "prefix": "",
       "rate": null,
       "total": 19,
       "unit": "it",
       "unit_divisor": 1000,
       "unit_scale": false
      },
      "application/vnd.jupyter.widget-view+json": {
       "model_id": "",
       "version_major": 2,
       "version_minor": 0
      },
      "text/plain": [
       "  0%|          | 0/19 [00:00<?, ?it/s]"
      ]
     },
     "metadata": {},
     "output_type": "display_data"
    }
   ],
   "source": [
    "dfs = []\n",
    "for wl in tqdm(config_model['workloads']):\n",
    "    dfs.append(gen_hist_data(wl))"
   ]
  },
  {
   "cell_type": "code",
   "execution_count": 15,
   "id": "a78090d0-d298-4278-a784-c08db01205fe",
   "metadata": {
    "tags": []
   },
   "outputs": [
    {
     "data": {
      "image/png": "[encoded data removed]",
      "text/plain": [
       "<Figure size 640x480 with 1 Axes>"
      ]
     },
     "metadata": {},
     "output_type": "display_data"
    }
   ],
   "source": [
    "df = pd.concat(dfs)\n",
    "\n",
    "df['delta'] = abs((df['analytical'] - df['learned']) / df['analytical'])\n",
    "n, bins, patches = plt.hist(x=df['delta'], bins='auto', density=True)\n",
    "plt.xlabel('Delta (Analytical - Learned)')\n",
    "plt.title('All $w \\in \\mathcal{B}$ of Absolute Error ($L_1$ Error)')\n",
    "None"
   ]
  },
  {
   "cell_type": "code",
   "execution_count": 16,
   "id": "68ac4151-fce2-4ffd-8610-012b80045403",
   "metadata": {
    "tags": []
   },
   "outputs": [
    {
     "data": {
      "text/html": [
       "<div>\n",
       "<style scoped>\n",
       "    .dataframe tbody tr th:only-of-type {\n",
       "        vertical-align: middle;\n",
       "    }\n",
       "\n",
       "    .dataframe tbody tr th {\n",
       "        vertical-align: top;\n",
       "    }\n",
       "\n",
       "    .dataframe thead th {\n",
       "        text-align: right;\n",
       "    }\n",
       "</style>\n",
       "<table border=\"1\" class=\"dataframe\">\n",
       "  <thead>\n",
       "    <tr style=\"text-align: right;\">\n",
       "      <th></th>\n",
       "      <th>workload</th>\n",
       "      <th>h</th>\n",
       "      <th>T</th>\n",
       "      <th>Q</th>\n",
       "      <th>learned</th>\n",
       "      <th>analytical</th>\n",
       "      <th>delta</th>\n",
       "    </tr>\n",
       "  </thead>\n",
       "  <tbody>\n",
       "    <tr>\n",
       "      <th>19369</th>\n",
       "      <td>{'id': 2, 'z0': 0.01, 'z1': 0.97, 'q': 0.01, '...</td>\n",
       "      <td>8.5</td>\n",
       "      <td>21</td>\n",
       "      <td>4</td>\n",
       "      <td>1.157151</td>\n",
       "      <td>1.157151</td>\n",
       "      <td>5.952929e-09</td>\n",
       "    </tr>\n",
       "    <tr>\n",
       "      <th>4742</th>\n",
       "      <td>{'id': 0, 'z0': 0.25, 'z1': 0.25, 'q': 0.25, '...</td>\n",
       "      <td>2.0</td>\n",
       "      <td>22</td>\n",
       "      <td>21</td>\n",
       "      <td>15.907938</td>\n",
       "      <td>15.907937</td>\n",
       "      <td>3.377446e-08</td>\n",
       "    </tr>\n",
       "    <tr>\n",
       "      <th>783</th>\n",
       "      <td>{'id': 14, 'z0': 0.01, 'z1': 0.33, 'q': 0.33, ...</td>\n",
       "      <td>0.0</td>\n",
       "      <td>41</td>\n",
       "      <td>4</td>\n",
       "      <td>4.964554</td>\n",
       "      <td>4.964554</td>\n",
       "      <td>7.237456e-08</td>\n",
       "    </tr>\n",
       "    <tr>\n",
       "      <th>13454</th>\n",
       "      <td>{'id': 11, 'z0': 0.33, 'z1': 0.33, 'q': 0.33, ...</td>\n",
       "      <td>5.5</td>\n",
       "      <td>47</td>\n",
       "      <td>12</td>\n",
       "      <td>8.532163</td>\n",
       "      <td>8.532163</td>\n",
       "      <td>8.776970e-08</td>\n",
       "    </tr>\n",
       "    <tr>\n",
       "      <th>17719</th>\n",
       "      <td>{'id': 9, 'z0': 0.01, 'z1': 0.49, 'q': 0.01, '...</td>\n",
       "      <td>7.5</td>\n",
       "      <td>41</td>\n",
       "      <td>20</td>\n",
       "      <td>1.876100</td>\n",
       "      <td>1.876099</td>\n",
       "      <td>9.776837e-08</td>\n",
       "    </tr>\n",
       "    <tr>\n",
       "      <th>...</th>\n",
       "      <td>...</td>\n",
       "      <td>...</td>\n",
       "      <td>...</td>\n",
       "      <td>...</td>\n",
       "      <td>...</td>\n",
       "      <td>...</td>\n",
       "      <td>...</td>\n",
       "    </tr>\n",
       "    <tr>\n",
       "      <th>20325</th>\n",
       "      <td>{'id': 1, 'z0': 0.97, 'z1': 0.01, 'q': 0.01, '...</td>\n",
       "      <td>9.0</td>\n",
       "      <td>8</td>\n",
       "      <td>1</td>\n",
       "      <td>0.276319</td>\n",
       "      <td>0.159787</td>\n",
       "      <td>7.292949e-01</td>\n",
       "    </tr>\n",
       "    <tr>\n",
       "      <th>20307</th>\n",
       "      <td>{'id': 1, 'z0': 0.97, 'z1': 0.01, 'q': 0.01, '...</td>\n",
       "      <td>9.0</td>\n",
       "      <td>4</td>\n",
       "      <td>1</td>\n",
       "      <td>0.295578</td>\n",
       "      <td>0.167250</td>\n",
       "      <td>7.672806e-01</td>\n",
       "    </tr>\n",
       "    <tr>\n",
       "      <th>20319</th>\n",
       "      <td>{'id': 1, 'z0': 0.97, 'z1': 0.01, 'q': 0.01, '...</td>\n",
       "      <td>9.0</td>\n",
       "      <td>7</td>\n",
       "      <td>1</td>\n",
       "      <td>0.280960</td>\n",
       "      <td>0.158103</td>\n",
       "      <td>7.770667e-01</td>\n",
       "    </tr>\n",
       "    <tr>\n",
       "      <th>20314</th>\n",
       "      <td>{'id': 1, 'z0': 0.97, 'z1': 0.01, 'q': 0.01, '...</td>\n",
       "      <td>9.0</td>\n",
       "      <td>6</td>\n",
       "      <td>1</td>\n",
       "      <td>0.286692</td>\n",
       "      <td>0.157824</td>\n",
       "      <td>8.165358e-01</td>\n",
       "    </tr>\n",
       "    <tr>\n",
       "      <th>20310</th>\n",
       "      <td>{'id': 1, 'z0': 0.97, 'z1': 0.01, 'q': 0.01, '...</td>\n",
       "      <td>9.0</td>\n",
       "      <td>5</td>\n",
       "      <td>1</td>\n",
       "      <td>0.291416</td>\n",
       "      <td>0.160030</td>\n",
       "      <td>8.210033e-01</td>\n",
       "    </tr>\n",
       "  </tbody>\n",
       "</table>\n",
       "<p>321480 rows × 7 columns</p>\n",
       "</div>"
      ],
      "text/plain": [
       "                                                workload    h   T   Q  \\\n",
       "19369  {'id': 2, 'z0': 0.01, 'z1': 0.97, 'q': 0.01, '...  8.5  21   4   \n",
       "4742   {'id': 0, 'z0': 0.25, 'z1': 0.25, 'q': 0.25, '...  2.0  22  21   \n",
       "783    {'id': 14, 'z0': 0.01, 'z1': 0.33, 'q': 0.33, ...  0.0  41   4   \n",
       "13454  {'id': 11, 'z0': 0.33, 'z1': 0.33, 'q': 0.33, ...  5.5  47  12   \n",
       "17719  {'id': 9, 'z0': 0.01, 'z1': 0.49, 'q': 0.01, '...  7.5  41  20   \n",
       "...                                                  ...  ...  ..  ..   \n",
       "20325  {'id': 1, 'z0': 0.97, 'z1': 0.01, 'q': 0.01, '...  9.0   8   1   \n",
       "20307  {'id': 1, 'z0': 0.97, 'z1': 0.01, 'q': 0.01, '...  9.0   4   1   \n",
       "20319  {'id': 1, 'z0': 0.97, 'z1': 0.01, 'q': 0.01, '...  9.0   7   1   \n",
       "20314  {'id': 1, 'z0': 0.97, 'z1': 0.01, 'q': 0.01, '...  9.0   6   1   \n",
       "20310  {'id': 1, 'z0': 0.97, 'z1': 0.01, 'q': 0.01, '...  9.0   5   1   \n",
       "\n",
       "         learned  analytical         delta  \n",
       "19369   1.157151    1.157151  5.952929e-09  \n",
       "4742   15.907938   15.907937  3.377446e-08  \n",
       "783     4.964554    4.964554  7.237456e-08  \n",
       "13454   8.532163    8.532163  8.776970e-08  \n",
       "17719   1.876100    1.876099  9.776837e-08  \n",
       "...          ...         ...           ...  \n",
       "20325   0.276319    0.159787  7.292949e-01  \n",
       "20307   0.295578    0.167250  7.672806e-01  \n",
       "20319   0.280960    0.158103  7.770667e-01  \n",
       "20314   0.286692    0.157824  8.165358e-01  \n",
       "20310   0.291416    0.160030  8.210033e-01  \n",
       "\n",
       "[321480 rows x 7 columns]"
      ]
     },
     "execution_count": 16,
     "metadata": {},
     "output_type": "execute_result"
    }
   ],
   "source": [
    "df.sort_values(by='delta')"
   ]
  },
  {
   "cell_type": "code",
   "execution_count": 58,
   "id": "138330ee-bbdf-4047-85a7-4fcf43e566e4",
   "metadata": {},
   "outputs": [
    {
     "data": {
      "application/json": {
       "ascii": false,
       "bar_format": null,
       "colour": null,
       "elapsed": 0.013188600540161133,
       "initial": 0,
       "n": 0,
       "ncols": null,
       "nrows": 96,
       "postfix": null,
       "prefix": "",
       "rate": null,
       "total": 15,
       "unit": "it",
       "unit_divisor": 1000,
       "unit_scale": false
      },
      "application/vnd.jupyter.widget-view+json": {
       "model_id": "c77cbe5c75e040249c64cfebd08ef60e",
       "version_major": 2,
       "version_minor": 0
      },
      "text/plain": [
       "  0%|          | 0/15 [00:00<?, ?it/s]"
      ]
     },
     "metadata": {},
     "output_type": "display_data"
    }
   ],
   "source": [
    "def generate_configurations():\n",
    "    df = []\n",
    "    for wl in tqdm(config_model['workloads']):\n",
    "        z0, z1, q, w = (wl['z0'], wl['z1'], wl['q'], wl['w'])\n",
    "        learn = optimize(func=lambda x: cost_func_learned(x, wl), eps=1e-3)\n",
    "        hand = optimize(func=lambda x: cost_func_objective(x, wl), eps=1e-3)\n",
    "        df.append({\n",
    "            'id': wl['id'],\n",
    "            'wl': wl,\n",
    "            'learn': learn,\n",
    "            'hand': hand,\n",
    "            'delta': cost_func_objective(hand.x, wl) - cost_func_objective(learn.x, wl)\n",
    "        })\n",
    "    return pd.DataFrame(df)\n",
    "\n",
    "df = generate_configurations()"
   ]
  },
  {
   "cell_type": "code",
   "execution_count": 88,
   "id": "32da8abd-2cf1-409a-9a98-add2049d4d3b",
   "metadata": {},
   "outputs": [],
   "source": [
    "def sample_workload(dimensions: int=4) -> list:\n",
    "    # See stackoverflow thread for why the simple solution is not uniform\n",
    "    # https://stackoverflow.com/questions/8064629/random-numbers-that-add-to-100-matlab\n",
    "    workload = list(np.random.rand(dimensions - 1)) + [0, 1]\n",
    "    workload.sort()\n",
    "    return [b - a for a, b in zip(workload, workload[1:])]\n",
    "\n",
    "def gen_workload_heat(samples=10):\n",
    "    df = []\n",
    "    for _ in tqdm(range(samples)):\n",
    "        z0, z1, q, w = sample_workload(dimensions=4)\n",
    "        wl = {'z0': z0, 'z1': z1, 'q': q, 'w': w}\n",
    "        learn = optimize(func=lambda x: cost_func_learned(x, wl), eps=1e-3, display=False)\n",
    "        hand = optimize(func=lambda x: cost_func_objective(x, wl), eps=1e-3, display=False)\n",
    "        cost_learn = cost_func_objective(learn.x, wl)\n",
    "        cost_hand = cost_func_objective(hand.x, wl)\n",
    "        df.append({\n",
    "            'wl': wl,\n",
    "            'learn': learn,\n",
    "            'hand': hand,\n",
    "            'cost_learn': cost_learn,\n",
    "            'cost_hand': cost_hand,\n",
    "        })\n",
    "    return pd.DataFrame(df)"
   ]
  },
  {
   "cell_type": "code",
   "execution_count": 89,
   "id": "8a388f91-6ce9-44cd-8624-52f192d6e18d",
   "metadata": {},
   "outputs": [
    {
     "data": {
      "application/json": {
       "ascii": false,
       "bar_format": null,
       "colour": null,
       "elapsed": 0.01214909553527832,
       "initial": 0,
       "n": 0,
       "ncols": null,
       "nrows": 96,
       "postfix": null,
       "prefix": "",
       "rate": null,
       "total": 500,
       "unit": "it",
       "unit_divisor": 1000,
       "unit_scale": false
      },
      "application/vnd.jupyter.widget-view+json": {
       "model_id": "97907838bb6a4d77871d70208086dbd2",
       "version_major": 2,
       "version_minor": 0
      },
      "text/plain": [
       "  0%|          | 0/500 [00:00<?, ?it/s]"
      ]
     },
     "metadata": {},
     "output_type": "display_data"
    }
   ],
   "source": [
    "df = gen_workload_heat(500)"
   ]
  },
  {
   "cell_type": "code",
   "execution_count": 90,
   "id": "f79b293d-2269-43a5-a0ce-7a1fbf4aded5",
   "metadata": {},
   "outputs": [
    {
     "data": {
      "text/plain": [
       "Text(0.5, 1.0, 'Frequency of Error: Positive is Better')"
      ]
     },
     "execution_count": 90,
     "metadata": {},
     "output_type": "execute_result"
    },
    {
     "data": {
      "image/png": "[encoded data removed]",
      "text/plain": [
       "<Figure size 640x480 with 1 Axes>"
      ]
     },
     "metadata": {},
     "output_type": "display_data"
    }
   ],
   "source": [
    "df['delta'] = (df['cost_hand'] - df['cost_learn'])\n",
    "n, bins, patches = plt.hist(x=df['delta'], bins='auto', density=True)\n",
    "plt.xlabel('Delta (Analytical - Learned)')\n",
    "plt.title('Frequency of Error: Positive is Better')"
   ]
  },
  {
   "cell_type": "code",
   "execution_count": 91,
   "id": "ead567cd-cc6e-450f-9358-f2da4a22976a",
   "metadata": {
    "tags": []
   },
   "outputs": [
    {
     "data": {
      "text/html": [
       "<div>\n",
       "<style scoped>\n",
       "    .dataframe tbody tr th:only-of-type {\n",
       "        vertical-align: middle;\n",
       "    }\n",
       "\n",
       "    .dataframe tbody tr th {\n",
       "        vertical-align: top;\n",
       "    }\n",
       "\n",
       "    .dataframe thead th {\n",
       "        text-align: right;\n",
       "    }\n",
       "</style>\n",
       "<table border=\"1\" class=\"dataframe\">\n",
       "  <thead>\n",
       "    <tr style=\"text-align: right;\">\n",
       "      <th></th>\n",
       "      <th>wl</th>\n",
       "      <th>learn</th>\n",
       "      <th>hand</th>\n",
       "      <th>cost_learn</th>\n",
       "      <th>cost_hand</th>\n",
       "      <th>delta</th>\n",
       "    </tr>\n",
       "  </thead>\n",
       "  <tbody>\n",
       "    <tr>\n",
       "      <th>23</th>\n",
       "      <td>{'z0': 0.065159264592063, 'z1': 0.030590208889...</td>\n",
       "      <td>{'x': [3.1533840151004045e-20, 18.000013967731...</td>\n",
       "      <td>{'x': [0.0, 20.242686283525952, 1.000000000000...</td>\n",
       "      <td>95.298786</td>\n",
       "      <td>2.880002</td>\n",
       "      <td>-92.418784</td>\n",
       "    </tr>\n",
       "    <tr>\n",
       "      <th>318</th>\n",
       "      <td>{'z0': 0.06961860605087167, 'z1': 0.0184948045...</td>\n",
       "      <td>{'x': [4.7460617346032216e-20, 30.000010289659...</td>\n",
       "      <td>{'x': [0.29694349127146263, 45.18573169495333,...</td>\n",
       "      <td>88.074502</td>\n",
       "      <td>2.213376</td>\n",
       "      <td>-85.861126</td>\n",
       "    </tr>\n",
       "    <tr>\n",
       "      <th>192</th>\n",
       "      <td>{'z0': 0.10669564206854032, 'z1': 0.2100202183...</td>\n",
       "      <td>{'x': [1.0642044873745353, 11.000166032790219,...</td>\n",
       "      <td>{'x': [1.2803144211194006, 11.698417508546834,...</td>\n",
       "      <td>83.456352</td>\n",
       "      <td>2.928912</td>\n",
       "      <td>-80.527441</td>\n",
       "    </tr>\n",
       "    <tr>\n",
       "      <th>197</th>\n",
       "      <td>{'z0': 0.0020563078645614574, 'z1': 0.10371656...</td>\n",
       "      <td>{'x': [3.24804858744593e-16, 33.00003275021991...</td>\n",
       "      <td>{'x': [0.0, 30.9875556328532, 1.00000000000000...</td>\n",
       "      <td>75.052817</td>\n",
       "      <td>2.455765</td>\n",
       "      <td>-72.597052</td>\n",
       "    </tr>\n",
       "    <tr>\n",
       "      <th>496</th>\n",
       "      <td>{'z0': 0.11701555094633542, 'z1': 0.1489487360...</td>\n",
       "      <td>{'x': [1.022985152469965, 11.996750375560092, ...</td>\n",
       "      <td>{'x': [1.2389168243054336, 12.173275149582466,...</td>\n",
       "      <td>65.245959</td>\n",
       "      <td>3.021224</td>\n",
       "      <td>-62.224734</td>\n",
       "    </tr>\n",
       "    <tr>\n",
       "      <th>...</th>\n",
       "      <td>...</td>\n",
       "      <td>...</td>\n",
       "      <td>...</td>\n",
       "      <td>...</td>\n",
       "      <td>...</td>\n",
       "      <td>...</td>\n",
       "    </tr>\n",
       "    <tr>\n",
       "      <th>134</th>\n",
       "      <td>{'z0': 0.8169785194081594, 'z1': 0.07644841977...</td>\n",
       "      <td>{'x': [8.277644889888421, 3.9996913765288755, ...</td>\n",
       "      <td>{'x': [8.154131418678949, 7.428032290330224, 2...</td>\n",
       "      <td>0.682308</td>\n",
       "      <td>0.648029</td>\n",
       "      <td>-0.034279</td>\n",
       "    </tr>\n",
       "    <tr>\n",
       "      <th>63</th>\n",
       "      <td>{'z0': 0.6624210003590694, 'z1': 0.28533896658...</td>\n",
       "      <td>{'x': [8.366104694848557, 4.99377971786652, 3....</td>\n",
       "      <td>{'x': [9.434784352364312, 8.520948103554247, 5...</td>\n",
       "      <td>0.536699</td>\n",
       "      <td>0.513368</td>\n",
       "      <td>-0.023331</td>\n",
       "    </tr>\n",
       "    <tr>\n",
       "      <th>73</th>\n",
       "      <td>{'z0': 0.6065233384440194, 'z1': 0.04290012011...</td>\n",
       "      <td>{'x': [5.484386555503383, 10.242924036560431, ...</td>\n",
       "      <td>{'x': [4.896939416937829, 12.438992877393686, ...</td>\n",
       "      <td>1.559232</td>\n",
       "      <td>1.543780</td>\n",
       "      <td>-0.015451</td>\n",
       "    </tr>\n",
       "    <tr>\n",
       "      <th>166</th>\n",
       "      <td>{'z0': 0.20855294948590586, 'z1': 0.2921772267...</td>\n",
       "      <td>{'x': [2.7322448121766123, 7.000000037092987, ...</td>\n",
       "      <td>{'x': [2.8837505503246965, 7.560601351706164, ...</td>\n",
       "      <td>2.689916</td>\n",
       "      <td>2.682950</td>\n",
       "      <td>-0.006966</td>\n",
       "    </tr>\n",
       "    <tr>\n",
       "      <th>298</th>\n",
       "      <td>{'z0': 0.030965099663936346, 'z1': 0.210550706...</td>\n",
       "      <td>{'x': [0.4684606465406445, 48.313794360620115,...</td>\n",
       "      <td>{'x': [0.0, 48.99999999999996, 1.0], 'fun': 1....</td>\n",
       "      <td>1.631446</td>\n",
       "      <td>1.625372</td>\n",
       "      <td>-0.006074</td>\n",
       "    </tr>\n",
       "  </tbody>\n",
       "</table>\n",
       "<p>500 rows × 6 columns</p>\n",
       "</div>"
      ],
      "text/plain": [
       "                                                    wl  \\\n",
       "23   {'z0': 0.065159264592063, 'z1': 0.030590208889...   \n",
       "318  {'z0': 0.06961860605087167, 'z1': 0.0184948045...   \n",
       "192  {'z0': 0.10669564206854032, 'z1': 0.2100202183...   \n",
       "197  {'z0': 0.0020563078645614574, 'z1': 0.10371656...   \n",
       "496  {'z0': 0.11701555094633542, 'z1': 0.1489487360...   \n",
       "..                                                 ...   \n",
       "134  {'z0': 0.8169785194081594, 'z1': 0.07644841977...   \n",
       "63   {'z0': 0.6624210003590694, 'z1': 0.28533896658...   \n",
       "73   {'z0': 0.6065233384440194, 'z1': 0.04290012011...   \n",
       "166  {'z0': 0.20855294948590586, 'z1': 0.2921772267...   \n",
       "298  {'z0': 0.030965099663936346, 'z1': 0.210550706...   \n",
       "\n",
       "                                                 learn  \\\n",
       "23   {'x': [3.1533840151004045e-20, 18.000013967731...   \n",
       "318  {'x': [4.7460617346032216e-20, 30.000010289659...   \n",
       "192  {'x': [1.0642044873745353, 11.000166032790219,...   \n",
       "197  {'x': [3.24804858744593e-16, 33.00003275021991...   \n",
       "496  {'x': [1.022985152469965, 11.996750375560092, ...   \n",
       "..                                                 ...   \n",
       "134  {'x': [8.277644889888421, 3.9996913765288755, ...   \n",
       "63   {'x': [8.366104694848557, 4.99377971786652, 3....   \n",
       "73   {'x': [5.484386555503383, 10.242924036560431, ...   \n",
       "166  {'x': [2.7322448121766123, 7.000000037092987, ...   \n",
       "298  {'x': [0.4684606465406445, 48.313794360620115,...   \n",
       "\n",
       "                                                  hand  cost_learn  cost_hand  \\\n",
       "23   {'x': [0.0, 20.242686283525952, 1.000000000000...   95.298786   2.880002   \n",
       "318  {'x': [0.29694349127146263, 45.18573169495333,...   88.074502   2.213376   \n",
       "192  {'x': [1.2803144211194006, 11.698417508546834,...   83.456352   2.928912   \n",
       "197  {'x': [0.0, 30.9875556328532, 1.00000000000000...   75.052817   2.455765   \n",
       "496  {'x': [1.2389168243054336, 12.173275149582466,...   65.245959   3.021224   \n",
       "..                                                 ...         ...        ...   \n",
       "134  {'x': [8.154131418678949, 7.428032290330224, 2...    0.682308   0.648029   \n",
       "63   {'x': [9.434784352364312, 8.520948103554247, 5...    0.536699   0.513368   \n",
       "73   {'x': [4.896939416937829, 12.438992877393686, ...    1.559232   1.543780   \n",
       "166  {'x': [2.8837505503246965, 7.560601351706164, ...    2.689916   2.682950   \n",
       "298  {'x': [0.0, 48.99999999999996, 1.0], 'fun': 1....    1.631446   1.625372   \n",
       "\n",
       "         delta  \n",
       "23  -92.418784  \n",
       "318 -85.861126  \n",
       "192 -80.527441  \n",
       "197 -72.597052  \n",
       "496 -62.224734  \n",
       "..         ...  \n",
       "134  -0.034279  \n",
       "63   -0.023331  \n",
       "73   -0.015451  \n",
       "166  -0.006966  \n",
       "298  -0.006074  \n",
       "\n",
       "[500 rows x 6 columns]"
      ]
     },
     "execution_count": 91,
     "metadata": {},
     "output_type": "execute_result"
    }
   ],
   "source": [
    "df.sort_values(by='delta')"
   ]
  },
  {
   "cell_type": "code",
   "execution_count": 84,
   "id": "0971677b-5555-4483-823e-5e0268daa495",
   "metadata": {},
   "outputs": [
    {
     "data": {
      "text/plain": [
       "{'z0': 0.025308808050431453,\n",
       " 'z1': 0.1805680163959026,\n",
       " 'q': 0.7675773956762405,\n",
       " 'w': 0.026545779877425457}"
      ]
     },
     "execution_count": 84,
     "metadata": {},
     "output_type": "execute_result"
    }
   ],
   "source": [
    "df.iloc[320].wl"
   ]
  },
  {
   "cell_type": "code",
   "execution_count": 85,
   "id": "c783e260-af1f-477b-85ff-0c7185c6f730",
   "metadata": {
    "tags": []
   },
   "outputs": [
    {
     "data": {
      "application/json": {
       "ascii": false,
       "bar_format": null,
       "colour": null,
       "elapsed": 0.015367746353149414,
       "initial": 0,
       "n": 0,
       "ncols": null,
       "nrows": 96,
       "postfix": null,
       "prefix": "",
       "rate": null,
       "total": 19,
       "unit": "it",
       "unit_divisor": 1000,
       "unit_scale": false
      },
      "application/vnd.jupyter.widget-view+json": {
       "model_id": "",
       "version_major": 2,
       "version_minor": 0
      },
      "text/plain": [
       "  0%|          | 0/19 [00:00<?, ?it/s]"
      ]
     },
     "metadata": {},
     "output_type": "display_data"
    },
    {
     "data": {
      "text/plain": [
       "{'z0': 0.025308808050431453,\n",
       " 'z1': 0.1805680163959026,\n",
       " 'q': 0.7675773956762405,\n",
       " 'w': 0.026545779877425457}"
      ]
     },
     "execution_count": 85,
     "metadata": {},
     "output_type": "execute_result"
    },
    {
     "data": {
      "image/png": "[encoded data removed]",
      "text/plain": [
       "<Figure size 640x480 with 1 Axes>"
      ]
     },
     "metadata": {},
     "output_type": "display_data"
    }
   ],
   "source": [
    "df_tmp = gen_hist_data(df.iloc[320].wl)\n",
    "\n",
    "df_tmp['delta'] = abs((df_tmp['analytical'] - df_tmp['learned']) / df_tmp['analytical'])\n",
    "n, bins, patches = plt.hist(x=df_tmp['delta'], bins='auto', density=True)\n",
    "plt.xlabel('Delta (Analytical - Learned) / Analytical')\n",
    "plt.title('Frequency of Absolute Error ($L_1$ Error)')\n",
    "df.iloc[320].wl"
   ]
  },
  {
   "cell_type": "code",
   "execution_count": 87,
   "id": "f3cd99e6-229d-4f91-b1ec-0b4d61f6861b",
   "metadata": {},
   "outputs": [
    {
     "data": {
      "text/html": [
       "<div>\n",
       "<style scoped>\n",
       "    .dataframe tbody tr th:only-of-type {\n",
       "        vertical-align: middle;\n",
       "    }\n",
       "\n",
       "    .dataframe tbody tr th {\n",
       "        vertical-align: top;\n",
       "    }\n",
       "\n",
       "    .dataframe thead th {\n",
       "        text-align: right;\n",
       "    }\n",
       "</style>\n",
       "<table border=\"1\" class=\"dataframe\">\n",
       "  <thead>\n",
       "    <tr style=\"text-align: right;\">\n",
       "      <th></th>\n",
       "      <th>workload</th>\n",
       "      <th>h</th>\n",
       "      <th>T</th>\n",
       "      <th>Q</th>\n",
       "      <th>learned</th>\n",
       "      <th>analytical</th>\n",
       "      <th>delta</th>\n",
       "    </tr>\n",
       "  </thead>\n",
       "  <tbody>\n",
       "    <tr>\n",
       "      <th>0</th>\n",
       "      <td>{'z0': 0.025308808050431453, 'z1': 0.180568016...</td>\n",
       "      <td>0.0</td>\n",
       "      <td>2</td>\n",
       "      <td>1</td>\n",
       "      <td>8.116503</td>\n",
       "      <td>8.080491</td>\n",
       "      <td>0.004457</td>\n",
       "    </tr>\n",
       "    <tr>\n",
       "      <th>1</th>\n",
       "      <td>{'z0': 0.025308808050431453, 'z1': 0.180568016...</td>\n",
       "      <td>0.0</td>\n",
       "      <td>3</td>\n",
       "      <td>1</td>\n",
       "      <td>5.273952</td>\n",
       "      <td>5.172827</td>\n",
       "      <td>0.019549</td>\n",
       "    </tr>\n",
       "    <tr>\n",
       "      <th>2</th>\n",
       "      <td>{'z0': 0.025308808050431453, 'z1': 0.180568016...</td>\n",
       "      <td>0.0</td>\n",
       "      <td>3</td>\n",
       "      <td>2</td>\n",
       "      <td>10.107157</td>\n",
       "      <td>10.120298</td>\n",
       "      <td>0.001299</td>\n",
       "    </tr>\n",
       "    <tr>\n",
       "      <th>3</th>\n",
       "      <td>{'z0': 0.025308808050431453, 'z1': 0.180568016...</td>\n",
       "      <td>0.0</td>\n",
       "      <td>4</td>\n",
       "      <td>1</td>\n",
       "      <td>4.251655</td>\n",
       "      <td>4.153709</td>\n",
       "      <td>0.023580</td>\n",
       "    </tr>\n",
       "    <tr>\n",
       "      <th>4</th>\n",
       "      <td>{'z0': 0.025308808050431453, 'z1': 0.180568016...</td>\n",
       "      <td>0.0</td>\n",
       "      <td>4</td>\n",
       "      <td>2</td>\n",
       "      <td>7.972219</td>\n",
       "      <td>8.064957</td>\n",
       "      <td>0.011499</td>\n",
       "    </tr>\n",
       "    <tr>\n",
       "      <th>...</th>\n",
       "      <td>...</td>\n",
       "      <td>...</td>\n",
       "      <td>...</td>\n",
       "      <td>...</td>\n",
       "      <td>...</td>\n",
       "      <td>...</td>\n",
       "      <td>...</td>\n",
       "    </tr>\n",
       "    <tr>\n",
       "      <th>21427</th>\n",
       "      <td>{'z0': 0.025308808050431453, 'z1': 0.180568016...</td>\n",
       "      <td>9.0</td>\n",
       "      <td>48</td>\n",
       "      <td>43</td>\n",
       "      <td>77.821976</td>\n",
       "      <td>77.112653</td>\n",
       "      <td>0.009199</td>\n",
       "    </tr>\n",
       "    <tr>\n",
       "      <th>21428</th>\n",
       "      <td>{'z0': 0.025308808050431453, 'z1': 0.180568016...</td>\n",
       "      <td>9.0</td>\n",
       "      <td>48</td>\n",
       "      <td>44</td>\n",
       "      <td>79.732193</td>\n",
       "      <td>78.900665</td>\n",
       "      <td>0.010539</td>\n",
       "    </tr>\n",
       "    <tr>\n",
       "      <th>21429</th>\n",
       "      <td>{'z0': 0.025308808050431453, 'z1': 0.180568016...</td>\n",
       "      <td>9.0</td>\n",
       "      <td>48</td>\n",
       "      <td>45</td>\n",
       "      <td>81.575905</td>\n",
       "      <td>80.688694</td>\n",
       "      <td>0.010995</td>\n",
       "    </tr>\n",
       "    <tr>\n",
       "      <th>21430</th>\n",
       "      <td>{'z0': 0.025308808050431453, 'z1': 0.180568016...</td>\n",
       "      <td>9.0</td>\n",
       "      <td>48</td>\n",
       "      <td>46</td>\n",
       "      <td>83.377571</td>\n",
       "      <td>82.476740</td>\n",
       "      <td>0.010922</td>\n",
       "    </tr>\n",
       "    <tr>\n",
       "      <th>21431</th>\n",
       "      <td>{'z0': 0.025308808050431453, 'z1': 0.180568016...</td>\n",
       "      <td>9.0</td>\n",
       "      <td>48</td>\n",
       "      <td>47</td>\n",
       "      <td>84.942688</td>\n",
       "      <td>84.264800</td>\n",
       "      <td>0.008045</td>\n",
       "    </tr>\n",
       "  </tbody>\n",
       "</table>\n",
       "<p>21432 rows × 7 columns</p>\n",
       "</div>"
      ],
      "text/plain": [
       "                                                workload    h   T   Q  \\\n",
       "0      {'z0': 0.025308808050431453, 'z1': 0.180568016...  0.0   2   1   \n",
       "1      {'z0': 0.025308808050431453, 'z1': 0.180568016...  0.0   3   1   \n",
       "2      {'z0': 0.025308808050431453, 'z1': 0.180568016...  0.0   3   2   \n",
       "3      {'z0': 0.025308808050431453, 'z1': 0.180568016...  0.0   4   1   \n",
       "4      {'z0': 0.025308808050431453, 'z1': 0.180568016...  0.0   4   2   \n",
       "...                                                  ...  ...  ..  ..   \n",
       "21427  {'z0': 0.025308808050431453, 'z1': 0.180568016...  9.0  48  43   \n",
       "21428  {'z0': 0.025308808050431453, 'z1': 0.180568016...  9.0  48  44   \n",
       "21429  {'z0': 0.025308808050431453, 'z1': 0.180568016...  9.0  48  45   \n",
       "21430  {'z0': 0.025308808050431453, 'z1': 0.180568016...  9.0  48  46   \n",
       "21431  {'z0': 0.025308808050431453, 'z1': 0.180568016...  9.0  48  47   \n",
       "\n",
       "         learned  analytical     delta  \n",
       "0       8.116503    8.080491  0.004457  \n",
       "1       5.273952    5.172827  0.019549  \n",
       "2      10.107157   10.120298  0.001299  \n",
       "3       4.251655    4.153709  0.023580  \n",
       "4       7.972219    8.064957  0.011499  \n",
       "...          ...         ...       ...  \n",
       "21427  77.821976   77.112653  0.009199  \n",
       "21428  79.732193   78.900665  0.010539  \n",
       "21429  81.575905   80.688694  0.010995  \n",
       "21430  83.377571   82.476740  0.010922  \n",
       "21431  84.942688   84.264800  0.008045  \n",
       "\n",
       "[21432 rows x 7 columns]"
      ]
     },
     "execution_count": 87,
     "metadata": {},
     "output_type": "execute_result"
    }
   ],
   "source": [
    "df_tmp"
   ]
  },
  {
   "cell_type": "code",
   "execution_count": null,
   "id": "bcbff03c-8ca1-4f84-b1ee-e874331c7053",
   "metadata": {},
   "outputs": [],
   "source": []
  }
 ],
 "metadata": {
  "kernelspec": {
   "display_name": "Python 3 (ipykernel)",
   "language": "python",
   "name": "python3"
  },
  "language_info": {
   "codemirror_mode": {
    "name": "ipython",
    "version": 3
   },
   "file_extension": ".py",
   "mimetype": "text/x-python",
   "name": "python",
   "nbconvert_exporter": "python",
   "pygments_lexer": "ipython3",
   "version": "3.9.13"
  }
 },
 "nbformat": 4,
 "nbformat_minor": 5
}
