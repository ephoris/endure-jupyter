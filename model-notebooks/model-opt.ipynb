{
 "cells": [
  {
   "cell_type": "code",
   "execution_count": 1,
   "id": "03efe705",
   "metadata": {},
   "outputs": [],
   "source": [
    "import sys\n",
    "import os\n",
    "import toml\n",
    "\n",
    "import torch\n",
    "from torch import nn\n",
    "from torch.utils.data import Dataset, DataLoader, random_split\n",
    "\n",
    "import pandas as pd\n",
    "import numpy as np\n",
    "import scipy.optimize as SciOpt\n",
    "from tqdm.notebook import tqdm\n",
    "\n",
    "sys.path.append(os.path.join(sys.path[0], '../..'))\n",
    "\n",
    "from data.io import Reader\n",
    "from data.kcost_dataset import KCostDataSetSplit, KCostDataSet\n",
    "from model.kcost import KCostModel, KCostModelAlpha\n",
    "import lsm.cost as CostFunc"
   ]
  },
  {
   "cell_type": "code",
   "execution_count": 2,
   "id": "ac0fee0d",
   "metadata": {},
   "outputs": [
    {
     "data": {
      "text/plain": [
       "({'model': 'KCostModel',\n",
       "  'log': {'level': 'INFO', 'name': 'endure'},\n",
       "  'io': {'data_dir': '/data',\n",
       "   'train_dir': 'train_data',\n",
       "   'test_dir': 'test_data',\n",
       "   'model_dir': 'models'},\n",
       "  'static_params': {'max_levels': 16,\n",
       "   'max_size_ratio': 50,\n",
       "   'mean_bias': [4.75, 0.5, 0.5, 0.5, 0.5],\n",
       "   'std_bias': [2.74, 0.3, 0.3, 0.3, 0.3],\n",
       "   'out_dims': 4},\n",
       "  'hyper_params': {'num_cont_vars': 5,\n",
       "   'num_cate_vars': 17,\n",
       "   'hidden_layers': 2,\n",
       "   'embedding_size': 17},\n",
       "  'train': {'max_epochs': 128,\n",
       "   'batch_size': 1024,\n",
       "   'learning_rate': 0.001,\n",
       "   'learning_rate_decay': 0.9,\n",
       "   'early_stop_num': 2,\n",
       "   'shuffle': True},\n",
       "  'validate': {'batch_size': 16384, 'percent': 0.1, 'shuffle': False}},\n",
       " {'project': {'name': 'ENDURE',\n",
       "   'log_level': 'INFO',\n",
       "   'experiments': ['CostSurfaceEp']},\n",
       "  'io': {'data_dir': '/data',\n",
       "   'cold_data_dir': '/data',\n",
       "   'train_dir_name': 'train_data',\n",
       "   'test_dir_name': 'test_data'},\n",
       "  'system': {'B': 4, 'phi': 1, 's': 0.0, 'E': 1024, 'H': 10, 'N': 100000000},\n",
       "  'exp_config': {'Exp01': {'wl_ids': [0,\n",
       "     1,\n",
       "     2,\n",
       "     3,\n",
       "     4,\n",
       "     5,\n",
       "     6,\n",
       "     7,\n",
       "     8,\n",
       "     9,\n",
       "     10,\n",
       "     11,\n",
       "     12,\n",
       "     13,\n",
       "     14]}},\n",
       "  'workloads': [{'id': 0, 'z0': 0.25, 'z1': 0.25, 'q': 0.25, 'w': 0.25},\n",
       "   {'id': 1, 'z0': 0.97, 'z1': 0.01, 'q': 0.01, 'w': 0.01},\n",
       "   {'id': 2, 'z0': 0.01, 'z1': 0.97, 'q': 0.01, 'w': 0.01},\n",
       "   {'id': 3, 'z0': 0.01, 'z1': 0.01, 'q': 0.97, 'w': 0.01},\n",
       "   {'id': 4, 'z0': 0.01, 'z1': 0.01, 'q': 0.01, 'w': 0.97},\n",
       "   {'id': 5, 'z0': 0.49, 'z1': 0.49, 'q': 0.01, 'w': 0.01},\n",
       "   {'id': 6, 'z0': 0.49, 'z1': 0.01, 'q': 0.49, 'w': 0.01},\n",
       "   {'id': 7, 'z0': 0.49, 'z1': 0.01, 'q': 0.01, 'w': 0.49},\n",
       "   {'id': 8, 'z0': 0.01, 'z1': 0.49, 'q': 0.49, 'w': 0.01},\n",
       "   {'id': 9, 'z0': 0.01, 'z1': 0.49, 'q': 0.01, 'w': 0.49},\n",
       "   {'id': 10, 'z0': 0.01, 'z1': 0.01, 'q': 0.49, 'w': 0.49},\n",
       "   {'id': 11, 'z0': 0.33, 'z1': 0.33, 'q': 0.33, 'w': 0.01},\n",
       "   {'id': 12, 'z0': 0.33, 'z1': 0.33, 'q': 0.01, 'w': 0.33},\n",
       "   {'id': 13, 'z0': 0.33, 'z1': 0.01, 'q': 0.33, 'w': 0.33},\n",
       "   {'id': 14, 'z0': 0.01, 'z1': 0.33, 'q': 0.33, 'w': 0.33}]})"
      ]
     },
     "execution_count": 2,
     "metadata": {},
     "output_type": "execute_result"
    }
   ],
   "source": [
    "cfg = toml.load('../../config/training.toml')\n",
    "env = Reader.read_config('../../config/endure.toml')\n",
    "cf = CostFunc.EndureKHybridCost(**env['system'])\n",
    "cfg, env"
   ]
  },
  {
   "cell_type": "code",
   "execution_count": 3,
   "id": "0df13f71",
   "metadata": {},
   "outputs": [
    {
     "data": {
      "text/plain": [
       "<All keys matched successfully>"
      ]
     },
     "execution_count": 3,
     "metadata": {},
     "output_type": "execute_result"
    }
   ],
   "source": [
    "model = KCostModelAlpha(cfg, device='cpu')\n",
    "model.state_dict()\n",
    "model_data = torch.load('/data/models/kcost_min.model') \n",
    "model.eval()\n",
    "model.load_state_dict(model_data)"
   ]
  },
  {
   "cell_type": "code",
   "execution_count": 4,
   "id": "d2050d16",
   "metadata": {
    "scrolled": true
   },
   "outputs": [
    {
     "name": "stdout",
     "output_type": "stream",
     "text": [
      "CPU times: user 67.7 ms, sys: 31.7 ms, total: 99.4 ms\n",
      "Wall time: 48.8 ms\n"
     ]
    }
   ],
   "source": [
    "%%time\n",
    "test_path = '/data/test_data'\n",
    "test_files = [os.path.join(test_path, f'test_{idx:03}.feather') for idx in range(2)]\n",
    "test_data = KCostDataSet(cfg, test_files)\n",
    "test = DataLoader(test_data, batch_size=1)"
   ]
  },
  {
   "cell_type": "code",
   "execution_count": 82,
   "id": "f823242a",
   "metadata": {},
   "outputs": [],
   "source": [
    "z0, z1, q, w = (0.33, 0.33, 0.33, 0.01)\n",
    "analytical_cf = lambda h, T, K: cf.calc_cost(h, T, K, z0, z1, q, w)\n",
    "def cost_func_objective(args):\n",
    "    h, T, K = args[0], args[1], args[2:-4]\n",
    "    return analytical_cf(h, T, K)\n",
    "\n",
    "def one_hot_encode(vec):\n",
    "    categories = torch.flatten(nn.functional.one_hot(torch.tensor(vec).to(torch.int64), num_classes=cfg['static_params']['max_size_ratio']))\n",
    "    return categories\n",
    "\n",
    "def cost_func_learned(args):\n",
    "    h = args[0]\n",
    "    cate_inputs = one_hot_encode(args[1:])\n",
    "    cont_inputs = torch.tensor([h, z0, z1, q, w]).float()\n",
    "    inputs = torch.cat((cont_inputs, cate_inputs), dim=-1).reshape(1, -1)\n",
    "    with torch.no_grad():\n",
    "        pred = model(inputs)\n",
    "        pred = pred.sum().item()\n",
    "    \n",
    "    return pred"
   ]
  },
  {
   "cell_type": "code",
   "execution_count": 83,
   "id": "7d736a9d",
   "metadata": {},
   "outputs": [],
   "source": [
    "T_UPPER_LIM, T_LOWER_LIM = (50, 2)\n",
    "one_mib_in_bits = 1024 * 1024 * 8\n",
    "H_UPPER_LIM = 9.5\n",
    "\n",
    "h_initial = 5.\n",
    "T_initial = 20.\n",
    "K_initial = [3.] * cfg['static_params']['max_levels']\n",
    "\n",
    "bounds = [(0, H_UPPER_LIM), (T_LOWER_LIM, T_UPPER_LIM)] + [(T_LOWER_LIM - 1, T_UPPER_LIM - 1)] * cfg['static_params']['max_levels']\n",
    "min_cost = np.inf\n",
    "design = {}\n",
    "minimizer_kwargs = {\n",
    "    'method' : 'SLSQP',\n",
    "    'bounds' : bounds,\n",
    "    'options': {'ftol': 1e-9, 'disp': True}}\n",
    "# minimizer_kwargs = {\n",
    "#     'method' : 'trust-constr',\n",
    "#     'bounds' : bounds,\n",
    "#     'options': {'disp': True}}\n",
    "x0 = np.array([h_initial, T_initial] + K_initial)"
   ]
  },
  {
   "cell_type": "code",
   "execution_count": 84,
   "id": "9c8cc791",
   "metadata": {},
   "outputs": [
    {
     "name": "stdout",
     "output_type": "stream",
     "text": [
      "Optimization terminated successfully    (Exit mode 0)\n",
      "            Current function value: 1.464589868464822\n",
      "            Iterations: 46\n",
      "            Function evaluations: 1013\n",
      "            Gradient evaluations: 46\n"
     ]
    }
   ],
   "source": [
    "analytical_sol = SciOpt.minimize(\n",
    "    fun=cost_func_objective,\n",
    "    x0=x0,\n",
    "    **minimizer_kwargs\n",
    ")"
   ]
  },
  {
   "cell_type": "code",
   "execution_count": 85,
   "id": "2b771105",
   "metadata": {},
   "outputs": [
    {
     "name": "stdout",
     "output_type": "stream",
     "text": [
      "Optimization terminated successfully    (Exit mode 0)\n",
      "            Current function value: 5.282756805419922\n",
      "            Iterations: 1\n",
      "            Function evaluations: 19\n",
      "            Gradient evaluations: 1\n"
     ]
    }
   ],
   "source": [
    "learned_sol = SciOpt.minimize(\n",
    "    fun=cost_func_learned,\n",
    "    x0=x0,\n",
    "    **minimizer_kwargs\n",
    ")"
   ]
  },
  {
   "cell_type": "code",
   "execution_count": 80,
   "id": "f969784d",
   "metadata": {},
   "outputs": [
    {
     "data": {
      "text/plain": [
       "     fun: 5.282756805419922\n",
       "     jac: array([0., 0., 0., 0., 0., 0., 0., 0., 0., 0., 0., 0., 0., 0., 0., 0., 0.,\n",
       "       0.])\n",
       " message: 'Optimization terminated successfully'\n",
       "    nfev: 19\n",
       "     nit: 1\n",
       "    njev: 1\n",
       "  status: 0\n",
       " success: True\n",
       "       x: array([ 5., 20.,  3.,  3.,  3.,  3.,  3.,  3.,  3.,  3.,  3.,  3.,  3.,\n",
       "        3.,  3.,  3.,  3.,  3.])"
      ]
     },
     "execution_count": 80,
     "metadata": {},
     "output_type": "execute_result"
    }
   ],
   "source": [
    "learned_sol"
   ]
  },
  {
   "cell_type": "code",
   "execution_count": 81,
   "id": "82fc5139",
   "metadata": {},
   "outputs": [
    {
     "data": {
      "text/plain": [
       "     fun: 1.464589868464822\n",
       "     jac: array([-0.00321648,  0.00741889,  0.28657053,  0.28718063,  0.29540431,\n",
       "        0.        ,  0.        ,  0.        ,  0.        ,  0.        ,\n",
       "        0.        ,  0.        ,  0.        ,  0.        ,  0.        ,\n",
       "        0.        ,  0.        ,  0.        ])\n",
       " message: 'Optimization terminated successfully'\n",
       "    nfev: 1013\n",
       "     nit: 46\n",
       "    njev: 46\n",
       "  status: 0\n",
       " success: True\n",
       "       x: array([ 8.68175508, 18.38603005,  1.        ,  1.        ,  1.        ,\n",
       "        3.        ,  3.        ,  3.        ,  3.        ,  3.        ,\n",
       "        3.        ,  3.        ,  3.        ,  3.        ,  3.        ,\n",
       "        3.        ,  3.        ,  3.        ])"
      ]
     },
     "execution_count": 81,
     "metadata": {},
     "output_type": "execute_result"
    }
   ],
   "source": [
    "analytical_sol"
   ]
  },
  {
   "cell_type": "code",
   "execution_count": null,
   "id": "ddfe702d",
   "metadata": {},
   "outputs": [],
   "source": []
  }
 ],
 "metadata": {
  "kernelspec": {
   "display_name": "Python 3 (ipykernel)",
   "language": "python",
   "name": "python3"
  },
  "language_info": {
   "codemirror_mode": {
    "name": "ipython",
    "version": 3
   },
   "file_extension": ".py",
   "mimetype": "text/x-python",
   "name": "python",
   "nbconvert_exporter": "python",
   "pygments_lexer": "ipython3",
   "version": "3.9.13"
  }
 },
 "nbformat": 4,
 "nbformat_minor": 5
}
