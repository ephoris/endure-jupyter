{
 "cells": [
  {
   "cell_type": "code",
   "execution_count": 1,
   "id": "dfb165fa",
   "metadata": {},
   "outputs": [],
   "source": [
    "import torch\n",
    "import logging\n",
    "from torch import nn\n",
    "from torch.utils.data import Dataset, DataLoader, random_split\n",
    "\n",
    "import pandas as pd\n",
    "logging.basicConfig(\n",
    "    level=logging.INFO,\n",
    "    format='[%(asctime)s]: %(message)s',\n",
    "    datefmt='%H:%M:%S'\n",
    ")\n",
    "\n",
    "log = logging.getLogger()"
   ]
  },
  {
   "cell_type": "code",
   "execution_count": 2,
   "id": "1f8634fc",
   "metadata": {},
   "outputs": [],
   "source": [
    "class KCostDataSet(Dataset):\n",
    "    def __init__(self, transform=None, target_transform=None):\n",
    "        self.df = pd.read_csv('/Users/ndhuynh/sandbox/data/cost_surface_k_sample.csv')\n",
    "        data = self.df['K'].map(lambda x: list(map(int, x[1:-1].split())))\n",
    "        Ks = pd.DataFrame(data.to_list()).add_prefix('K_').fillna(0)\n",
    "        self.df = pd.concat([self.df, Ks], axis=1)\n",
    "        \n",
    "        max_levels = self.df.query('T == 2')['K'].apply(lambda x: len(x[1:-1].split())).max()\n",
    "        self.input_cols = ['h', 'T', 'z0', 'z1', 'q', 'w'] + [f'K_{i}' for i in range(max_levels)]\n",
    "        self.output_cols = ['new_cost']\n",
    "        \n",
    "        mean = self.df[self.input_cols].mean()\n",
    "        std = self.df[self.input_cols].std()\n",
    "        std[std == 0] = 1\n",
    "        self.df[self.input_cols] = (self.df[self.input_cols] - mean) / std\n",
    "\n",
    "    def __len__(self):\n",
    "        return len(self.df)\n",
    "\n",
    "    def __getitem__(self, idx):\n",
    "        inputs = torch.from_numpy(self.df[self.input_cols].loc[idx].values).float()\n",
    "        label = torch.from_numpy(self.df[self.output_cols].loc[idx].values).float()\n",
    "\n",
    "        return inputs, label"
   ]
  },
  {
   "cell_type": "code",
   "execution_count": 3,
   "id": "f20a169b",
   "metadata": {},
   "outputs": [],
   "source": [
    "class KCostNeuralNet(nn.Module):\n",
    "    def __init__(self):\n",
    "        super(KCostNeuralNet, self).__init__()\n",
    "        self.linear_relu_stack = nn.Sequential(\n",
    "            nn.Linear(21, 21),\n",
    "            nn.ReLU(),\n",
    "            nn.Linear(21, 1),\n",
    "            nn.ReLU(),\n",
    "        )\n",
    "\n",
    "    def forward(self, x):\n",
    "        out = self.linear_relu_stack(x)\n",
    "        return out"
   ]
  },
  {
   "cell_type": "code",
   "execution_count": 4,
   "id": "a5870604",
   "metadata": {},
   "outputs": [],
   "source": [
    "data = KCostDataSet()\n",
    "train_len = int(len(data) * 0.9)\n",
    "val_len = int(len(data) * 0.1)\n",
    "train, val = torch.utils.data.random_split(data, [train_len, val_len])\n",
    "train = DataLoader(train, batch_size=500, shuffle=True)\n",
    "val = DataLoader(val, batch_size=500, shuffle=False)"
   ]
  },
  {
   "cell_type": "code",
   "execution_count": 5,
   "id": "a54d517a",
   "metadata": {},
   "outputs": [],
   "source": [
    "loss_fn = nn.MSELoss()\n",
    "model = KCostNeuralNet()\n",
    "optimizer = torch.optim.Adam(model.parameters())"
   ]
  },
  {
   "cell_type": "code",
   "execution_count": 6,
   "id": "03a8ff35",
   "metadata": {},
   "outputs": [],
   "source": [
    "def train_loop(dataloader, model, loss_fn, optimizer):\n",
    "    size = len(dataloader.dataset)\n",
    "    for batch, (X, y) in enumerate(dataloader):\n",
    "        pred = model(X)\n",
    "        loss = loss_fn(pred, y)\n",
    "\n",
    "        optimizer.zero_grad()\n",
    "        loss.backward()\n",
    "        optimizer.step()\n",
    "\n",
    "        if batch % 1000 == 0:\n",
    "            loss, current = loss.item(), batch * len(X)\n",
    "            log.info(f\"loss: {loss:>7f}  [{current:>5d}/{size:>5d}]\")\n",
    "            \n",
    "def test_loop(dataloader, model, loss_fn):\n",
    "    size = len(dataloader.dataset)\n",
    "    num_batches = len(dataloader)\n",
    "    test_loss, correct = 0, 0\n",
    "\n",
    "    with torch.no_grad():\n",
    "        for X, y in dataloader:\n",
    "            pred = model(X)\n",
    "            test_loss += loss_fn(pred, y).item()\n",
    "            correct += (pred.argmax(1) == y).type(torch.float).sum().item()\n",
    "\n",
    "    test_loss /= num_batches\n",
    "    correct /= size\n",
    "    log.info(f\"Test Error: \\n Accuracy: {(100*correct):>0.1f}%, Avg loss: {test_loss:>8f} \\n\")"
   ]
  },
  {
   "cell_type": "code",
   "execution_count": null,
   "id": "7e6bf455",
   "metadata": {
    "scrolled": true
   },
   "outputs": [
    {
     "name": "stderr",
     "output_type": "stream",
     "text": [
      "[15:43:34]: Epoch 1\n",
      "-------------------------------\n"
     ]
    }
   ],
   "source": [
    "epochs = 1\n",
    "for t in range(epochs):\n",
    "    log.info(f\"Epoch {t+1}\\n-------------------------------\")\n",
    "    train_loop(train, model, loss_fn, optimizer)\n",
    "    test_loop(val, model, loss_fn)\n",
    "log.info(\"Done!\")"
   ]
  },
  {
   "cell_type": "code",
   "execution_count": null,
   "id": "1cf7cd1a",
   "metadata": {},
   "outputs": [],
   "source": []
  }
 ],
 "metadata": {
  "kernelspec": {
   "display_name": "Python 3 (ipykernel)",
   "language": "python",
   "name": "python3"
  },
  "language_info": {
   "codemirror_mode": {
    "name": "ipython",
    "version": 3
   },
   "file_extension": ".py",
   "mimetype": "text/x-python",
   "name": "python",
   "nbconvert_exporter": "python",
   "pygments_lexer": "ipython3",
   "version": "3.9.12"
  }
 },
 "nbformat": 4,
 "nbformat_minor": 5
}
