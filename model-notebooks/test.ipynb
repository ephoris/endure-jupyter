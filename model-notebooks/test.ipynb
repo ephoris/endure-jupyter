{
 "cells": [
  {
   "cell_type": "code",
   "execution_count": 1,
   "id": "9c4feb0f",
   "metadata": {},
   "outputs": [],
   "source": [
    "import sys\n",
    "import os\n",
    "import toml\n",
    "\n",
    "import torch\n",
    "from torch import nn\n",
    "from torch.utils.data import Dataset, DataLoader, random_split\n",
    "\n",
    "import pandas as pd\n",
    "import numpy as np\n",
    "import pyarrow.feather as feather\n",
    "\n",
    "import matplotlib.pyplot as plt\n",
    "from IPython.display import display\n",
    "from tqdm.notebook import tqdm\n",
    "\n",
    "sys.path.append(os.path.join(sys.path[0], '../..'))\n",
    "\n",
    "from data.io import Reader\n",
    "from data.kcost_dataset import KCostDataSet\n",
    "from model.kcost import KCostModel\n",
    "from gen_data import DataGenerator\n",
    "import lsm.cost as CostFunc"
   ]
  },
  {
   "cell_type": "code",
   "execution_count": 2,
   "id": "b653ac7e",
   "metadata": {
    "scrolled": true
   },
   "outputs": [
    {
     "data": {
      "text/plain": [
       "{'project': {'name': 'ENDURE',\n",
       "  'log_level': 'INFO',\n",
       "  'experiments': ['CostSurfaceEp']},\n",
       " 'log': {'name': 'endure-logger',\n",
       "  'format': '[%(levelname)s][%(asctime)-15s][%(filename)s] %(message)s',\n",
       "  'datefmt': '%d-%m-%y:%H:%M:%S',\n",
       "  'level': 'INFO'},\n",
       " 'io': {'data_dir': '/data', 'cold_data_dir': '/data'},\n",
       " 'lsm': {'max_levels': 16,\n",
       "  'size_ratio': {'max': 50, 'min': 2},\n",
       "  'bits_per_elem': {'max': 9.5, 'min': 0}},\n",
       " 'data_gen': {'cost_function': 'EndureKHybridCost',\n",
       "  'dir': 'test_data',\n",
       "  'file_prefix': 'test-k',\n",
       "  'num_workers': -1,\n",
       "  'num_files': 4,\n",
       "  'precision': 3,\n",
       "  'samples': 1048576},\n",
       " 'model': {'arch': 'KCostModel',\n",
       "  'dir': 'kcostmodel-10-20',\n",
       "  'out_dims': 4,\n",
       "  'num_cont_vars': 5,\n",
       "  'num_cate_vars': 17,\n",
       "  'hidden_layers': 2,\n",
       "  'embedding_size': 2},\n",
       " 'train': {'dir': 'train_data',\n",
       "  'mean_bias': [4.75, 0.5, 0.5, 0.5, 0.5],\n",
       "  'std_bias': [2.74, 0.3, 0.3, 0.3, 0.3],\n",
       "  'early_stop_num': 2,\n",
       "  'max_epochs': 128,\n",
       "  'learning_rate_decay': 0.9,\n",
       "  'learning_rate': 0.01,\n",
       "  'batch_size': 1024,\n",
       "  'drop_last': True,\n",
       "  'shuffle': True},\n",
       " 'test': {'dir': 'test_data',\n",
       "  'batch_size': 16384,\n",
       "  'drop_last': True,\n",
       "  'shuffle': False},\n",
       " 'system': {'B': 4, 'phi': 1, 's': 0.0, 'E': 1024, 'H': 10, 'N': 100000000},\n",
       " 'workloads': [{'id': 0, 'z0': 0.25, 'z1': 0.25, 'q': 0.25, 'w': 0.25},\n",
       "  {'id': 1, 'z0': 0.97, 'z1': 0.01, 'q': 0.01, 'w': 0.01},\n",
       "  {'id': 2, 'z0': 0.01, 'z1': 0.97, 'q': 0.01, 'w': 0.01},\n",
       "  {'id': 3, 'z0': 0.01, 'z1': 0.01, 'q': 0.97, 'w': 0.01},\n",
       "  {'id': 4, 'z0': 0.01, 'z1': 0.01, 'q': 0.01, 'w': 0.97},\n",
       "  {'id': 5, 'z0': 0.49, 'z1': 0.49, 'q': 0.01, 'w': 0.01},\n",
       "  {'id': 6, 'z0': 0.49, 'z1': 0.01, 'q': 0.49, 'w': 0.01},\n",
       "  {'id': 7, 'z0': 0.49, 'z1': 0.01, 'q': 0.01, 'w': 0.49},\n",
       "  {'id': 8, 'z0': 0.01, 'z1': 0.49, 'q': 0.49, 'w': 0.01},\n",
       "  {'id': 9, 'z0': 0.01, 'z1': 0.49, 'q': 0.01, 'w': 0.49},\n",
       "  {'id': 10, 'z0': 0.01, 'z1': 0.01, 'q': 0.49, 'w': 0.49},\n",
       "  {'id': 11, 'z0': 0.33, 'z1': 0.33, 'q': 0.33, 'w': 0.01},\n",
       "  {'id': 12, 'z0': 0.33, 'z1': 0.33, 'q': 0.01, 'w': 0.33},\n",
       "  {'id': 13, 'z0': 0.33, 'z1': 0.01, 'q': 0.33, 'w': 0.33},\n",
       "  {'id': 14, 'z0': 0.01, 'z1': 0.33, 'q': 0.33, 'w': 0.33}]}"
      ]
     },
     "execution_count": 2,
     "metadata": {},
     "output_type": "execute_result"
    }
   ],
   "source": [
    "config = Reader.read_config('../../endure.toml')\n",
    "cf = CostFunc.EndureKHybridCost(**config['system'])\n",
    "\n",
    "config"
   ]
  },
  {
   "cell_type": "code",
   "execution_count": 3,
   "id": "4c51f879",
   "metadata": {},
   "outputs": [],
   "source": [
    "dg = DataGenerator(config)"
   ]
  },
  {
   "cell_type": "code",
   "execution_count": 4,
   "id": "43089434",
   "metadata": {},
   "outputs": [
    {
     "name": "stderr",
     "output_type": "stream",
     "text": [
      "test-k-1024.csv: 100%|██████████████| 1048576/1048576 [07:12<00:00, 2423.52it/s]\n"
     ]
    },
    {
     "data": {
      "text/plain": [
       "1024"
      ]
     },
     "execution_count": 4,
     "metadata": {},
     "output_type": "execute_result"
    }
   ],
   "source": [
    "dg.gen_file(1024)"
   ]
  },
  {
   "cell_type": "code",
   "execution_count": null,
   "id": "6e011161",
   "metadata": {},
   "outputs": [],
   "source": []
  }
 ],
 "metadata": {
  "kernelspec": {
   "display_name": "Python 3 (ipykernel)",
   "language": "python",
   "name": "python3"
  },
  "language_info": {
   "codemirror_mode": {
    "name": "ipython",
    "version": 3
   },
   "file_extension": ".py",
   "mimetype": "text/x-python",
   "name": "python",
   "nbconvert_exporter": "python",
   "pygments_lexer": "ipython3",
   "version": "3.9.13"
  }
 },
 "nbformat": 4,
 "nbformat_minor": 5
}
