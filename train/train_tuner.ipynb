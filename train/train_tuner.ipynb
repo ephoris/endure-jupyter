{
 "cells": [
  {
   "cell_type": "code",
   "execution_count": 1,
   "id": "9879ffeb-202e-430c-9cbb-3d5dd0a0f2e2",
   "metadata": {},
   "outputs": [],
   "source": [
    "import sys\n",
    "import os\n",
    "import toml\n",
    "\n",
    "import torch\n",
    "import torch.nn as nn\n",
    "import pandas as pd\n",
    "import numpy as np"
   ]
  },
  {
   "cell_type": "code",
   "execution_count": 2,
   "id": "eec7c3c0-3d34-4a53-9d6d-42d3277de05e",
   "metadata": {},
   "outputs": [],
   "source": [
    "import matplotlib.pyplot as plt\n",
    "from tqdm.notebook import tqdm\n",
    "from IPython.display import display, HTML\n",
    "from itertools import combinations_with_replacement\n",
    "from torch.utils.data import Dataset, DataLoader"
   ]
  },
  {
   "cell_type": "code",
   "execution_count": 3,
   "id": "eb24d5d0-ca7c-4079-9af1-62d7ad7bd860",
   "metadata": {},
   "outputs": [],
   "source": [
    "sys.path.append(os.path.join(sys.path[0], '../..'))\n",
    "\n",
    "import data.kcost_dataset as Data\n",
    "import lsm.cost as CostFunc\n",
    "from jobs.train import TrainJob\n",
    "from data.io import Writer, Reader\n",
    "from model.kcost import KCostModel\n",
    "from lsm.lsmtype import LSMTree, LSMSystem, Policy\n",
    "from model.model_builder import LearnedCostModelBuilder"
   ]
  },
  {
   "cell_type": "code",
   "execution_count": 4,
   "id": "a9889b78-8541-46c6-ab91-c3c7f643c3e5",
   "metadata": {
    "tags": []
   },
   "outputs": [],
   "source": [
    "config = Reader.read_config('../../endure.toml')\n",
    "model_dir = '/data/models/qcost-02-13'\n",
    "model_config = Reader.read_config(os.path.join(model_dir, 'config.toml'))"
   ]
  },
  {
   "cell_type": "code",
   "execution_count": 5,
   "id": "a30541ed-1c05-4aaa-9d05-48ac240bf5c7",
   "metadata": {},
   "outputs": [],
   "source": [
    "model_builder = LearnedCostModelBuilder(model_config)"
   ]
  },
  {
   "cell_type": "code",
   "execution_count": 6,
   "id": "a7b29960-3238-4b82-be6b-c9289a6cd923",
   "metadata": {},
   "outputs": [
    {
     "data": {
      "text/plain": [
       "KCostModel(\n",
       "  (embedding): Embedding(49, 16, max_norm=True)\n",
       "  (cost_layer): Sequential(\n",
       "    (0): Linear(in_features=37, out_features=37, bias=True)\n",
       "    (1): ReLU()\n",
       "    (2): Linear(in_features=37, out_features=37, bias=True)\n",
       "    (3): ReLU()\n",
       "    (4): Linear(in_features=37, out_features=37, bias=True)\n",
       "    (5): ReLU()\n",
       "    (6): Linear(in_features=37, out_features=37, bias=True)\n",
       "    (7): ReLU()\n",
       "    (8): Linear(in_features=37, out_features=37, bias=True)\n",
       "    (9): ReLU()\n",
       "    (10): Linear(in_features=37, out_features=37, bias=True)\n",
       "    (11): ReLU()\n",
       "    (12): Linear(in_features=37, out_features=37, bias=True)\n",
       "    (13): ReLU()\n",
       "    (14): Linear(in_features=37, out_features=37, bias=True)\n",
       "    (15): ReLU()\n",
       "    (16): Linear(in_features=37, out_features=37, bias=True)\n",
       "    (17): ReLU()\n",
       "    (18): Linear(in_features=37, out_features=37, bias=True)\n",
       "    (19): ReLU()\n",
       "    (20): Linear(in_features=37, out_features=37, bias=True)\n",
       "    (21): ReLU()\n",
       "    (22): Linear(in_features=37, out_features=37, bias=True)\n",
       "    (23): ReLU()\n",
       "    (24): Linear(in_features=37, out_features=37, bias=True)\n",
       "    (25): ReLU()\n",
       "    (26): Linear(in_features=37, out_features=37, bias=True)\n",
       "    (27): ReLU()\n",
       "    (28): Linear(in_features=37, out_features=37, bias=True)\n",
       "    (29): ReLU()\n",
       "    (30): Linear(in_features=37, out_features=37, bias=True)\n",
       "    (31): ReLU()\n",
       "    (32): Linear(in_features=37, out_features=4, bias=True)\n",
       "    (33): ReLU()\n",
       "  )\n",
       ")"
      ]
     },
     "execution_count": 6,
     "metadata": {},
     "output_type": "execute_result"
    }
   ],
   "source": [
    "model_builder.build_model()"
   ]
  },
  {
   "cell_type": "code",
   "execution_count": null,
   "id": "91699a84-8105-4d9c-9c0f-814e31234fe0",
   "metadata": {},
   "outputs": [],
   "source": []
  }
 ],
 "metadata": {
  "kernelspec": {
   "display_name": "Python 3 (ipykernel)",
   "language": "python",
   "name": "python3"
  },
  "language_info": {
   "codemirror_mode": {
    "name": "ipython",
    "version": 3
   },
   "file_extension": ".py",
   "mimetype": "text/x-python",
   "name": "python",
   "nbconvert_exporter": "python",
   "pygments_lexer": "ipython3",
   "version": "3.9.13"
  }
 },
 "nbformat": 4,
 "nbformat_minor": 5
}
